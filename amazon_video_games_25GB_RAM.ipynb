{
  "nbformat": 4,
  "nbformat_minor": 0,
  "metadata": {
    "colab": {
      "provenance": [],
      "collapsed_sections": [],
      "machine_shape": "hm"
    },
    "kernelspec": {
      "name": "python3",
      "display_name": "Python 3"
    },
    "accelerator": "TPU"
  },
  "cells": [
    {
      "cell_type": "markdown",
      "metadata": {
        "id": "4cbgwZWWfWpp"
      },
      "source": [
        "# New Section"
      ]
    },
    {
      "cell_type": "code",
      "metadata": {
        "id": "tAb77yZ9fzMG",
        "colab": {
          "base_uri": "https://localhost:8080/"
        },
        "outputId": "757d2a90-bdf8-4ef7-f501-716201848a1f"
      },
      "source": [
        "# data source: http://deepyeti.ucsd.edu/jianmo/amazon/index.html\n",
        "import pandas as pd\n",
        "import json\n",
        "import numpy as np\n",
        "from matplotlib import pyplot as plt\n",
        "import seaborn as sns\n",
        "import datetime\n",
        "import time\n",
        "import re\n",
        "import nltk\n",
        "from nltk.sentiment import SentimentIntensityAnalyzer\n",
        "nltk.downloader.download('vader_lexicon')"
      ],
      "execution_count": 1,
      "outputs": [
        {
          "output_type": "stream",
          "name": "stderr",
          "text": [
            "[nltk_data] Downloading package vader_lexicon to /root/nltk_data...\n"
          ]
        },
        {
          "output_type": "execute_result",
          "data": {
            "text/plain": [
              "True"
            ]
          },
          "metadata": {},
          "execution_count": 1
        }
      ]
    },
    {
      "cell_type": "code",
      "metadata": {
        "id": "pafL7Li0jyXW",
        "colab": {
          "base_uri": "https://localhost:8080/"
        },
        "outputId": "52fe7dd2-c9fe-44a6-e17a-d7df328395a8"
      },
      "source": [
        "from google.colab import drive\n",
        "drive.mount('/content/gdrive')"
      ],
      "execution_count": 2,
      "outputs": [
        {
          "output_type": "stream",
          "name": "stdout",
          "text": [
            "Mounted at /content/gdrive\n"
          ]
        }
      ]
    },
    {
      "cell_type": "code",
      "source": [
        "#########################\n",
        "# 1. CLEAN REVIEWS DATA #\n",
        "#########################\n",
        "reviewsPath = \"gdrive/MyDrive/amazon_data/Video_Games.json\"\n",
        "dfReviews = pd.read_json(reviewsPath, lines=True)"
      ],
      "metadata": {
        "id": "sUg0nm1BUpPQ"
      },
      "execution_count": 3,
      "outputs": []
    },
    {
      "cell_type": "code",
      "source": [
        "print(dfReviews.dtypes)"
      ],
      "metadata": {
        "colab": {
          "base_uri": "https://localhost:8080/"
        },
        "id": "yeN1k8A7VAJ4",
        "outputId": "256c4047-4a3e-4ea8-8b06-44a66a874b96"
      },
      "execution_count": 6,
      "outputs": [
        {
          "output_type": "stream",
          "name": "stdout",
          "text": [
            "overall            int64\n",
            "verified            bool\n",
            "reviewTime        object\n",
            "reviewerID        object\n",
            "asin              object\n",
            "reviewerName      object\n",
            "reviewText        object\n",
            "summary           object\n",
            "unixReviewTime     int64\n",
            "vote              object\n",
            "style             object\n",
            "image             object\n",
            "dtype: object\n"
          ]
        }
      ]
    },
    {
      "cell_type": "code",
      "source": [
        "# deal with reviewTime\n",
        "dfReviews['reviewTime'] = pd.to_datetime(dfReviews['reviewTime'])\n",
        "print(dfReviews['reviewTime'].min(), dfReviews['reviewTime'].max())\n",
        "dfReviews['timeDiff'] = ((dfReviews['reviewTime'].max() + datetime.timedelta(days=1)) - dfReviews['reviewTime']).dt.days\n",
        "print(dfReviews['timeDiff'].min(), dfReviews['timeDiff'].max())\n",
        "# dfReviews['timeDiff'].plot.hist(bins=30)\n",
        "dfReviews['recentness'] = (dfReviews['timeDiff'] / 90).astype(np.uint8) # 90 days = 3 months\n",
        "dfRecentness = dfReviews['recentness'].value_counts(sort=False).reset_index()\n",
        "dfRecentness = dfRecentness.rename(columns={'index': 'Recentness', 'recentness': 'Frequency'})\n",
        "dfRecentness['Recentness'] = dfRecentness['Recentness'] + 1 # start from 1 instead of 0"
      ],
      "metadata": {
        "colab": {
          "base_uri": "https://localhost:8080/"
        },
        "id": "tpDKtV3eVUiD",
        "outputId": "07fe4d30-fb2a-4024-f353-6936600d9f66"
      },
      "execution_count": 7,
      "outputs": [
        {
          "output_type": "stream",
          "name": "stdout",
          "text": [
            "1997-11-08 00:00:00 2018-10-02 00:00:00\n",
            "1 7634\n"
          ]
        }
      ]
    },
    {
      "cell_type": "code",
      "source": [
        "# deal with images\n",
        "dfReviews['numImages'] = dfReviews['image'].str.len()\n",
        "dfReviews['numImages'] = dfReviews['numImages'].fillna(0)"
      ],
      "metadata": {
        "id": "FDlfwcExWacm"
      },
      "execution_count": 8,
      "outputs": []
    },
    {
      "cell_type": "code",
      "source": [
        "# deal with vote\n",
        "dfReviews['vote'] = dfReviews['vote'].replace({',': ''}, regex=True)\n",
        "dfReviews['vote'] = dfReviews['vote'].fillna(0)\n",
        "dfReviews['vote'] = dfReviews['vote'].astype('float32').astype('Int32')"
      ],
      "metadata": {
        "id": "76cgl8FOWbpw"
      },
      "execution_count": 9,
      "outputs": []
    },
    {
      "cell_type": "code",
      "source": [
        "# deal with other variables\n",
        "dfReviews['numStyles'] = dfReviews['style'].str.len()\n",
        "dfReviews['numStyles'] = dfReviews['numStyles'].fillna(0)\n",
        "\n",
        "dfReviews['reviewTextLength'] = dfReviews['reviewText'].str.len()\n",
        "dfReviews['summaryLength'] = dfReviews['summary'].str.len()"
      ],
      "metadata": {
        "id": "jqrXcAigWfmB"
      },
      "execution_count": 10,
      "outputs": []
    },
    {
      "cell_type": "code",
      "source": [
        "# final touch-up\n",
        "dfReviews = dfReviews.astype({'overall': np.uint8, 'numImages': np.uint8, 'reviewTextLength': 'Int32',\n",
        "                              'summaryLength': 'Int32', 'numStyles': np.uint8})\n",
        "dfReviews = dfReviews.rename(columns={'overall': 'rating'})\n",
        "dfReviews = dfReviews[['asin', 'rating', 'verified', 'timeDiff', 'recentness', 'reviewTime', 'reviewerID',\n",
        "                       'reviewText', 'reviewTextLength', 'summary', 'summaryLength', 'vote', 'numStyles', 'numImages']]\n",
        "print(dfReviews.dtypes)"
      ],
      "metadata": {
        "colab": {
          "base_uri": "https://localhost:8080/"
        },
        "id": "6-2bYApSWkOV",
        "outputId": "2187080b-50f0-4ef6-97fe-225815f01f47"
      },
      "execution_count": 11,
      "outputs": [
        {
          "output_type": "stream",
          "name": "stdout",
          "text": [
            "asin                        object\n",
            "rating                       uint8\n",
            "verified                      bool\n",
            "timeDiff                     int64\n",
            "recentness                   uint8\n",
            "reviewTime          datetime64[ns]\n",
            "reviewerID                  object\n",
            "reviewText                  object\n",
            "reviewTextLength             Int32\n",
            "summary                     object\n",
            "summaryLength                Int32\n",
            "vote                         Int32\n",
            "numStyles                    uint8\n",
            "numImages                    uint8\n",
            "dtype: object\n"
          ]
        }
      ]
    },
    {
      "cell_type": "code",
      "source": [
        "dfReviews.to_json('gdrive/MyDrive/amazon_data/clean_Video_Games.json', orient='split')"
      ],
      "metadata": {
        "id": "OgWjK839XJVU"
      },
      "execution_count": 12,
      "outputs": []
    },
    {
      "cell_type": "code",
      "source": [],
      "metadata": {
        "id": "kfGZQY6lYL4R"
      },
      "execution_count": null,
      "outputs": []
    },
    {
      "cell_type": "code",
      "source": [
        "##################\n",
        "# 1.1 SOME PLOTS #\n",
        "##################\n",
        "# plot dfRecentness\n",
        "dfRecentness.plot.bar(x='Recentness', y='Frequency')"
      ],
      "metadata": {
        "colab": {
          "base_uri": "https://localhost:8080/",
          "height": 302
        },
        "id": "mlxQ3bxkYQK5",
        "outputId": "af41dad4-8c36-47bb-8477-63835993848c"
      },
      "execution_count": 13,
      "outputs": [
        {
          "output_type": "execute_result",
          "data": {
            "text/plain": [
              "<matplotlib.axes._subplots.AxesSubplot at 0x7fd93fb569d0>"
            ]
          },
          "metadata": {},
          "execution_count": 13
        },
        {
          "output_type": "display_data",
          "data": {
            "text/plain": [
              "<Figure size 432x288 with 1 Axes>"
            ],
            "image/png": "[encoded data removed]"
          },
          "metadata": {
            "needs_background": "light"
          }
        }
      ]
    },
    {
      "cell_type": "code",
      "source": [
        "# plot rating distribution\n",
        "dfReviews['rating'].value_counts().sort_index().plot(kind='bar', title='Rating Distribution',\n",
        "                                                     xlabel='Rating', ylabel='Count')"
      ],
      "metadata": {
        "colab": {
          "base_uri": "https://localhost:8080/",
          "height": 310
        },
        "id": "zYSJJ7GjYTXA",
        "outputId": "ed4b42d7-19cc-4994-e81d-ab48c6de4919"
      },
      "execution_count": 14,
      "outputs": [
        {
          "output_type": "execute_result",
          "data": {
            "text/plain": [
              "<matplotlib.axes._subplots.AxesSubplot at 0x7fd93faa2210>"
            ]
          },
          "metadata": {},
          "execution_count": 14
        },
        {
          "output_type": "display_data",
          "data": {
            "text/plain": [
              "<Figure size 432x288 with 1 Axes>"
            ],
            "image/png": "[encoded data removed]"
          },
          "metadata": {
            "needs_background": "light"
          }
        }
      ]
    },
    {
      "cell_type": "code",
      "source": [],
      "metadata": {
        "id": "0bOMBdV4YamF"
      },
      "execution_count": null,
      "outputs": []
    },
    {
      "cell_type": "code",
      "source": [
        "#####################################\n",
        "# TODO 1.2 SENTIMENT ANALYSIS ON REVIEWS #\n",
        "#####################################\n",
        "# code help: https://www.kaggle.com/code/robikscube/sentiment-analysis-python-youtube-tutorial/notebook\n",
        "sia = SentimentIntensityAnalyzer()\n",
        "\n",
        "# get polarity score on dfReviews\n",
        "t0 = time.time()\n",
        "summaryPolarity = {}\n",
        "for i, row in dfReviews.iterrows():\n",
        "    text = str(row['reviewText'])\n",
        "    ps = sia.polarity_scores(text)\n",
        "    ps['text'] = text\n",
        "    summaryPolarity[i] = ps\n",
        "t1 = time.time()\n",
        "print(t1-t0)\n",
        "dfSummaryPolarity = pd.DataFrame(summaryPolarity).T\n",
        "# dfSummaryPolarity = dfSummaryPolarity.reset_index().rename(columns={'index': 'Id'})\n",
        "# dfSummaryPolarity = dfSummaryPolarity.merge(dfReviews, how='left')"
      ],
      "metadata": {
        "id": "F5Z9JvN3Ybj9"
      },
      "execution_count": null,
      "outputs": []
    },
    {
      "cell_type": "code",
      "source": [],
      "metadata": {
        "id": "5k3NewLxYchC"
      },
      "execution_count": null,
      "outputs": []
    },
    {
      "cell_type": "code",
      "source": [
        "##################################\n",
        "# 1.3 GET AGGREGATE REVIEWS DATA #\n",
        "##################################\n",
        "# get mean rating and total counts per asin per verified\n",
        "gc = dfReviews.groupby(['asin', 'verified'], as_index=False).agg({'rating': 'mean',\n",
        "                                                                  'reviewerID': 'count'\n",
        "                                                                  })\n",
        "gc = gc.rename(columns={'rating': 'avgRating', 'reviewerID': 'numReviews'})\n",
        "gc = gc.sort_values(by=['numReviews', 'asin', 'verified'], ascending=[False, True, True], ignore_index=True)"
      ],
      "metadata": {
        "id": "Iskz-yaoYc5b"
      },
      "execution_count": 15,
      "outputs": []
    },
    {
      "cell_type": "code",
      "source": [
        "# plot scatterplot of ratings vs. number of reviews per product for verified and unverified reviews respectively\n",
        "gcVerified = gc.loc[gc['verified'] == True]\n",
        "gcUnverified = gc.loc[gc['verified'] == False]\n",
        "\n",
        "plt.figure()\n",
        "plt.plot(gcVerified['numReviews'], gcVerified['avgRating'], '.', markersize=3, label='Verified')\n",
        "plt.plot(gcUnverified['numReviews'], gcUnverified['avgRating'], '.', markersize=3, label='Unverified')\n",
        "plt.title('Product Average Rating vs. Number of Reviews')\n",
        "plt.xlabel('Number of Reviews')\n",
        "plt.ylabel('Product Average Rating')\n",
        "plt.legend()\n",
        "plt.show()"
      ],
      "metadata": {
        "colab": {
          "base_uri": "https://localhost:8080/",
          "height": 295
        },
        "id": "-14N7qUhYiOg",
        "outputId": "299455e7-bd11-4870-f97b-57da0d2e9bfa"
      },
      "execution_count": 19,
      "outputs": [
        {
          "output_type": "display_data",
          "data": {
            "text/plain": [
              "<Figure size 432x288 with 1 Axes>"
            ],
            "image/png": "[encoded data removed]"
          },
          "metadata": {
            "needs_background": "light"
          }
        }
      ]
    },
    {
      "cell_type": "code",
      "source": [],
      "metadata": {
        "id": "TQFraH1oY3pe"
      },
      "execution_count": null,
      "outputs": []
    },
    {
      "cell_type": "code",
      "source": [
        "#####################\n",
        "# 2. CLEAN METADATA #\n",
        "#####################\n",
        "dfMeta = pd.read_json('gdrive/MyDrive/amazon_data/meta_Video_Games.json', lines=True)"
      ],
      "metadata": {
        "id": "WSfhqrxyY6nh"
      },
      "execution_count": 20,
      "outputs": []
    },
    {
      "cell_type": "code",
      "source": [
        "print(dfMeta.info())"
      ],
      "metadata": {
        "colab": {
          "base_uri": "https://localhost:8080/"
        },
        "id": "lVJNlCmmZGnu",
        "outputId": "6be8cb3e-ee53-48a7-e075-e2e332d8f323"
      },
      "execution_count": 23,
      "outputs": [
        {
          "output_type": "stream",
          "name": "stdout",
          "text": [
            "<class 'pandas.core.frame.DataFrame'>\n",
            "RangeIndex: 84819 entries, 0 to 84818\n",
            "Data columns (total 19 columns):\n",
            " #   Column           Non-Null Count  Dtype \n",
            "---  ------           --------------  ----- \n",
            " 0   category         84819 non-null  object\n",
            " 1   tech1            84819 non-null  object\n",
            " 2   description      84819 non-null  object\n",
            " 3   fit              84819 non-null  object\n",
            " 4   title            84819 non-null  object\n",
            " 5   also_buy         84819 non-null  object\n",
            " 6   tech2            84819 non-null  object\n",
            " 7   brand            84819 non-null  object\n",
            " 8   feature          84819 non-null  object\n",
            " 9   rank             84819 non-null  object\n",
            " 10  also_view        84819 non-null  object\n",
            " 11  main_cat         84819 non-null  object\n",
            " 12  similar_item     84819 non-null  object\n",
            " 13  date             84819 non-null  object\n",
            " 14  price            84819 non-null  object\n",
            " 15  asin             84819 non-null  object\n",
            " 16  imageURL         84819 non-null  object\n",
            " 17  imageURLHighRes  84819 non-null  object\n",
            " 18  details          84712 non-null  object\n",
            "dtypes: object(19)\n",
            "memory usage: 12.3+ MB\n",
            "None\n"
          ]
        }
      ]
    },
    {
      "cell_type": "code",
      "source": [
        "# add variable: contains image or not\n",
        "dfMeta['numImages'] = dfMeta['imageURL'].str.len()\n",
        "dfMeta['numHighResImages'] = dfMeta['imageURLHighRes'].str.len()"
      ],
      "metadata": {
        "id": "ALJn8OTwZWhi"
      },
      "execution_count": 24,
      "outputs": []
    },
    {
      "cell_type": "code",
      "source": [
        "# deal with price\n",
        "def convert_float(x):\n",
        "    try:\n",
        "        x = x.replace('$', '').replace(',', '')\n",
        "        return float(x)\n",
        "    except:\n",
        "        return np.nan\n",
        "dfMeta['price'] = dfMeta['price'].replace({'': np.nan})\n",
        "# dfMeta['price'] = dfMeta['price'].str.replace('$', '', regex=True)\n",
        "# dfMeta['price'] = dfMeta['price'].str.replace(',', '', regex=True)\n",
        "dfMeta['price'] = dfMeta['price'].apply(lambda p: convert_float(p))\n",
        "dfMeta['price'].plot.hist(bins=150)"
      ],
      "metadata": {
        "colab": {
          "base_uri": "https://localhost:8080/",
          "height": 287
        },
        "id": "MDbltqxPZZkI",
        "outputId": "d87956e2-827b-48d1-aa96-1b3114ae2a6e"
      },
      "execution_count": 25,
      "outputs": [
        {
          "output_type": "execute_result",
          "data": {
            "text/plain": [
              "<matplotlib.axes._subplots.AxesSubplot at 0x7fd93f981f90>"
            ]
          },
          "metadata": {},
          "execution_count": 25
        },
        {
          "output_type": "display_data",
          "data": {
            "text/plain": [
              "<Figure size 432x288 with 1 Axes>"
            ],
            "image/png": "[encoded data removed]"
          },
          "metadata": {
            "needs_background": "light"
          }
        }
      ]
    },
    {
      "cell_type": "code",
      "source": [
        "# clean rank column by splitting into rank categories and rank numbers\n",
        "dfMetaRank = dfMeta['rank'].str.split('in', n=1, expand=True)\n",
        "dfMetaRank = dfMetaRank.rename(columns={0: 'nums', 1: 'categories'})"
      ],
      "metadata": {
        "id": "4Jf846a5ZfPk"
      },
      "execution_count": 30,
      "outputs": []
    },
    {
      "cell_type": "code",
      "source": [
        "# clean rank categories\n",
        "dfMetaRank['categories'] = dfMetaRank['categories'].str.rstrip('(')\n",
        "dfMetaRank['categories'] = dfMetaRank['categories'].replace({'amp;': ''}, regex=True) # ',': ''\n",
        "dfMetaRank['categories'] = dfMetaRank['categories'].str.strip()\n",
        "print(dfMetaRank['categories'].value_counts())\n",
        "# take out irrelevant rows\n",
        "# dfMetaRank = dfMetaRank.loc[(dfMetaRank['categories'].str.contains('Video Games')) |\n",
        "#                             dfMetaRank['categories'].isna()]"
      ],
      "metadata": {
        "colab": {
          "base_uri": "https://localhost:8080/"
        },
        "id": "2t7EWTKMZjGv",
        "outputId": "d3454ad7-34d9-40f3-d647-f282087270c8"
      },
      "execution_count": 31,
      "outputs": [
        {
          "output_type": "stream",
          "name": "stdout",
          "text": [
            "Video Games                                                                                                                                                                                                                                                                                                                                                                                                                                                                                                                                                                                                                                   118\n",
            "Sports & Outdoors                                                                                                                                                                                                                                                                                                                                                                                                                                                                                                                                                                                                                             117\n",
            "Books                                                                                                                                                                                                                                                                                                                                                                                                                                                                                                                                                                                                                                          71\n",
            "Industrial & Scientific                                                                                                                                                                                                                                                                                                                                                                                                                                                                                                                                                                                                                        50\n",
            "Beauty & Personal Care                                                                                                                                                                                                                                                                                                                                                                                                                                                                                                                                                                                                                         40\n",
            "Movies & TV                                                                                                                                                                                                                                                                                                                                                                                                                                                                                                                                                                                                                                    35\n",
            "Health & Household                                                                                                                                                                                                                                                                                                                                                                                                                                                                                                                                                                                                                             34\n",
            "Clothing, Shoes & Jewelry                                                                                                                                                                                                                                                                                                                                                                                                                                                                                                                                                                                                                      21\n",
            "CDs & Vinyl                                                                                                                                                                                                                                                                                                                                                                                                                                                                                                                                                                                                                                    11\n",
            "Electronics                                                                                                                                                                                                                                                                                                                                                                                                                                                                                                                                                                                                                                     8\n",
            "Pet Supplies                                                                                                                                                                                                                                                                                                                                                                                                                                                                                                                                                                                                                                    5\n",
            "Software                                                                                                                                                                                                                                                                                                                                                                                                                                                                                                                                                                                                                                        4\n",
            "Computers & Accessories                                                                                                                                                                                                                                                                                                                                                                                                                                                                                                                                                                                                                         4\n",
            "Video Games \\n\\nAmazon.com Product Description:\\nSorry!, the classic game of slide and pursuit, has been supercharged for the PC! Animated game pieces have individual personalities, and the whole game is conveyed in exciting, 3-D graphics. Best of all, you can play others via the Internet. Sorry! includes the classic version of the game as well as a team variant, strategic Sorry, and the new Way Sorry!\\nProduct Description\\n\\nIt's Sorry for the computer and it's supercharged! The classic game of slide and pursuit comes alive. Features animated game pieces with real personalities, 3D graphics, and Internet play.      2\n",
            "Entertainment Collectibles                                                                                                                                                                                                                                                                                                                                                                                                                                                                                                                                                                                                                      2\n",
            "Electronic                                                                                                                                                                                                                                                                                                                                                                                                                                                                                                                                                                                                                                      2\n",
            "Cell Phones & Accessories                                                                                                                                                                                                                                                                                                                                                                                                                                                                                                                                                                                                                       1\n",
            "Video Games (See Top 100 in Video Games)\\n\\nGames: Spider, Klondike, Free Cell, Pyramid plus hundreds of variations!\\n\\nCustomize your game play experience by selecting from 80+ colorful backgrounds.\\n\\nChoose from over 60 card decks or create your own!\\n\\nWindows 98/Me/XP CD-ROM                                                                                                                                                                                                                                                                                                                                                        1\n",
            "Collectible Coins                                                                                                                                                                                                                                                                                                                                                                                                                                                                                                                                                                                                                               1\n",
            "Gift Cards                                                                                                                                                                                                                                                                                                                                                                                                                                                                                                                                                                                                                                      1\n",
            "Toys & Games                                                                                                                                                                                                                                                                                                                                                                                                                                                                                                                                                                                                                                    1\n",
            "Name: categories, dtype: int64\n"
          ]
        }
      ]
    },
    {
      "cell_type": "code",
      "source": [
        "# turn rank numbers into Int64\n",
        "dfMetaRank['nums'] = dfMetaRank['nums'].replace({',': '', ' ': '', '\\n': '', '\\t': ''}, regex=True)\n",
        "\n",
        "# deal with special case\n",
        "dfMetaRank['nums'].loc[dfMetaRank['nums']=='productDescription{color:'] = np.nan\n",
        "\n",
        "dfMetaRank['nums'] = dfMetaRank['nums'].astype('float').astype('Int64')"
      ],
      "metadata": {
        "id": "G-uXq2XeaKNL"
      },
      "execution_count": 40,
      "outputs": []
    },
    {
      "cell_type": "code",
      "source": [
        "# merge rank info into original metadata\n",
        "dfMeta = dfMeta.merge(dfMetaRank, left_index=True, right_index=True)"
      ],
      "metadata": {
        "id": "giMyZ2qKax1_"
      },
      "execution_count": 42,
      "outputs": []
    },
    {
      "cell_type": "code",
      "source": [
        "# drop rows with duplicate asin\n",
        "dfMetaDup = dfMeta.loc[dfMeta.duplicated(['asin'])]\n",
        "dfMetaDup = dfMeta.loc[dfMeta['asin'].isin(list(dfMetaDup['asin']))]\n",
        "dfMetaDup = dfMetaDup.sort_values(by='asin')\n",
        "dfMeta = dfMeta.drop_duplicates(['asin'], ignore_index=True)"
      ],
      "metadata": {
        "id": "PgM6eGt5bh95"
      },
      "execution_count": 44,
      "outputs": []
    },
    {
      "cell_type": "code",
      "source": [
        "# final touch-up\n",
        "dfMeta = dfMeta.astype({'numImages': np.uint8, 'numHighResImages': np.uint8})\n",
        "dfMeta = dfMeta[['asin', 'title', 'brand', 'price', 'nums',\n",
        "                 'numImages', 'numHighResImages',\n",
        "                 'description', 'fit', 'also_buy',  #\n",
        "                 'feature', 'also_view', 'details', 'similar_item'  #\n",
        "                 ]]\n",
        "dfMeta = dfMeta.rename(columns={'nums': 'rank'})"
      ],
      "metadata": {
        "id": "WcSjtOJYb0-R"
      },
      "execution_count": 54,
      "outputs": []
    },
    {
      "cell_type": "code",
      "source": [
        "print(dfMeta.info())"
      ],
      "metadata": {
        "colab": {
          "base_uri": "https://localhost:8080/"
        },
        "id": "ffrFIj98b5Jt",
        "outputId": "4e318e8b-9865-4201-d82b-afdc2d6d6db7"
      },
      "execution_count": 55,
      "outputs": [
        {
          "output_type": "stream",
          "name": "stdout",
          "text": [
            "<class 'pandas.core.frame.DataFrame'>\n",
            "RangeIndex: 71911 entries, 0 to 71910\n",
            "Data columns (total 14 columns):\n",
            " #   Column            Non-Null Count  Dtype  \n",
            "---  ------            --------------  -----  \n",
            " 0   asin              71911 non-null  object \n",
            " 1   title             71911 non-null  object \n",
            " 2   brand             71911 non-null  object \n",
            " 3   price             11908 non-null  float64\n",
            " 4   rank              499 non-null    Int64  \n",
            " 5   numImages         71911 non-null  uint8  \n",
            " 6   numHighResImages  71911 non-null  uint8  \n",
            " 7   description       71911 non-null  object \n",
            " 8   fit               71911 non-null  object \n",
            " 9   also_buy          71911 non-null  object \n",
            " 10  feature           71911 non-null  object \n",
            " 11  also_view         71911 non-null  object \n",
            " 12  details           71804 non-null  object \n",
            " 13  similar_item      71911 non-null  object \n",
            "dtypes: Int64(1), float64(1), object(10), uint8(2)\n",
            "memory usage: 6.8+ MB\n",
            "None\n"
          ]
        }
      ]
    },
    {
      "cell_type": "code",
      "source": [],
      "metadata": {
        "id": "vIGehPc0cj_D"
      },
      "execution_count": null,
      "outputs": []
    },
    {
      "cell_type": "code",
      "source": [
        "########################################\n",
        "# 3. COMBINE REVIEWS DATA AND METADATA #\n",
        "########################################\n",
        "dfAll = dfReviews.merge(dfMeta, how='inner', on='asin')\n",
        "dfAll = dfAll.sort_values(by=['asin', 'timeDiff'])"
      ],
      "metadata": {
        "id": "tMneL2tFckXN"
      },
      "execution_count": 56,
      "outputs": []
    },
    {
      "cell_type": "code",
      "source": [
        "print(dfAll.info())"
      ],
      "metadata": {
        "colab": {
          "base_uri": "https://localhost:8080/"
        },
        "id": "GihhKNi5cpLf",
        "outputId": "288c821b-4c80-47bc-a57c-b6efd4035a62"
      },
      "execution_count": 58,
      "outputs": [
        {
          "output_type": "stream",
          "name": "stdout",
          "text": [
            "<class 'pandas.core.frame.DataFrame'>\n",
            "Int64Index: 2561673 entries, 2483082 to 2413278\n",
            "Data columns (total 27 columns):\n",
            " #   Column            Dtype         \n",
            "---  ------            -----         \n",
            " 0   asin              object        \n",
            " 1   rating            uint8         \n",
            " 2   verified          bool          \n",
            " 3   timeDiff          int64         \n",
            " 4   recentness        uint8         \n",
            " 5   reviewTime        datetime64[ns]\n",
            " 6   reviewerID        object        \n",
            " 7   reviewText        object        \n",
            " 8   reviewTextLength  Int32         \n",
            " 9   summary           object        \n",
            " 10  summaryLength     Int32         \n",
            " 11  vote              Int32         \n",
            " 12  numStyles         uint8         \n",
            " 13  numImages_x       uint8         \n",
            " 14  title             object        \n",
            " 15  brand             object        \n",
            " 16  price             float64       \n",
            " 17  rank              Int64         \n",
            " 18  numImages_y       uint8         \n",
            " 19  numHighResImages  uint8         \n",
            " 20  description       object        \n",
            " 21  fit               object        \n",
            " 22  also_buy          object        \n",
            " 23  feature           object        \n",
            " 24  also_view         object        \n",
            " 25  details           object        \n",
            " 26  similar_item      object        \n",
            "dtypes: Int32(3), Int64(1), bool(1), datetime64[ns](1), float64(1), int64(1), object(13), uint8(6)\n",
            "memory usage: 408.0+ MB\n",
            "None\n"
          ]
        }
      ]
    }
  ]
}