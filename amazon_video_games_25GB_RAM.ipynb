{
  "nbformat": 4,
  "nbformat_minor": 0,
  "metadata": {
    "colab": {
      "provenance": [],
      "collapsed_sections": [],
      "machine_shape": "hm"
    },
    "kernelspec": {
      "name": "python3",
      "display_name": "Python 3"
    }
  },
  "cells": [
    {
      "cell_type": "markdown",
      "source": [
        "# Consumer Reviews Data Analysis"
      ],
      "metadata": {
        "id": "eIHRC7jrHy5G"
      }
    },
    {
      "cell_type": "markdown",
      "source": [
        "## Notebook Setup"
      ],
      "metadata": {
        "id": "n3EsQGHqIARN"
      }
    },
    {
      "cell_type": "code",
      "source": [
        "# check available RAM\n",
        "!free -h"
      ],
      "metadata": {
        "colab": {
          "base_uri": "https://localhost:8080/"
        },
        "id": "8y5jVIQG8B1k",
        "outputId": "afbe5e68-6d68-47fc-bcb1-247773026871"
      },
      "execution_count": 1,
      "outputs": [
        {
          "output_type": "stream",
          "name": "stdout",
          "text": [
            "              total        used        free      shared  buff/cache   available\n",
            "Mem:            25G        865M         22G        1.2M        2.5G         24G\n",
            "Swap:            0B          0B          0B\n"
          ]
        }
      ]
    },
    {
      "cell_type": "code",
      "metadata": {
        "id": "tAb77yZ9fzMG",
        "colab": {
          "base_uri": "https://localhost:8080/"
        },
        "outputId": "0e0b723e-7896-4474-dd0b-d8e0007f0fc8"
      },
      "source": [
        "# data source: http://deepyeti.ucsd.edu/jianmo/amazon/index.html\n",
        "import pandas as pd\n",
        "import json\n",
        "import numpy as np\n",
        "from matplotlib import pyplot as plt\n",
        "import seaborn as sns\n",
        "import datetime\n",
        "import time\n",
        "import re\n",
        "import nltk\n",
        "from nltk.sentiment import SentimentIntensityAnalyzer\n",
        "nltk.download(['vader_lexicon','stopwords'])"
      ],
      "execution_count": 2,
      "outputs": [
        {
          "output_type": "stream",
          "name": "stderr",
          "text": [
            "[nltk_data] Downloading package vader_lexicon to /root/nltk_data...\n",
            "[nltk_data] Downloading package stopwords to /root/nltk_data...\n",
            "[nltk_data]   Unzipping corpora/stopwords.zip.\n"
          ]
        },
        {
          "output_type": "execute_result",
          "data": {
            "text/plain": [
              "True"
            ]
          },
          "metadata": {},
          "execution_count": 2
        }
      ]
    },
    {
      "cell_type": "code",
      "metadata": {
        "id": "pafL7Li0jyXW",
        "colab": {
          "base_uri": "https://localhost:8080/"
        },
        "outputId": "5c6e1382-3cf9-4bcc-b3cc-7089a23a027c"
      },
      "source": [
        "from google.colab import drive\n",
        "drive.mount('/content/gdrive')"
      ],
      "execution_count": 3,
      "outputs": [
        {
          "output_type": "stream",
          "name": "stdout",
          "text": [
            "Mounted at /content/gdrive\n"
          ]
        }
      ]
    },
    {
      "cell_type": "markdown",
      "source": [
        "## Product Data"
      ],
      "metadata": {
        "id": "NOHrBPO6yQEI"
      }
    },
    {
      "cell_type": "markdown",
      "source": [
        "### Data Initialization"
      ],
      "metadata": {
        "id": "g_wYGAc28EsL"
      }
    },
    {
      "cell_type": "code",
      "source": [
        "# get products data\n",
        "dfProd = pd.read_json('gdrive/MyDrive/amazon_data/meta_Video_Games.json', lines=True)"
      ],
      "metadata": {
        "id": "WSfhqrxyY6nh"
      },
      "execution_count": 73,
      "outputs": []
    },
    {
      "cell_type": "code",
      "source": [
        "print(dfProd.info(show_counts=True))"
      ],
      "metadata": {
        "colab": {
          "base_uri": "https://localhost:8080/"
        },
        "id": "lVJNlCmmZGnu",
        "outputId": "17aa2534-b028-4ad0-bc57-26fa9a0b2450"
      },
      "execution_count": 50,
      "outputs": [
        {
          "output_type": "stream",
          "name": "stdout",
          "text": [
            "<class 'pandas.core.frame.DataFrame'>\n",
            "RangeIndex: 84819 entries, 0 to 84818\n",
            "Data columns (total 19 columns):\n",
            " #   Column           Non-Null Count  Dtype \n",
            "---  ------           --------------  ----- \n",
            " 0   category         84819 non-null  object\n",
            " 1   tech1            84819 non-null  object\n",
            " 2   description      84819 non-null  object\n",
            " 3   fit              84819 non-null  object\n",
            " 4   title            84819 non-null  object\n",
            " 5   also_buy         84819 non-null  object\n",
            " 6   tech2            84819 non-null  object\n",
            " 7   brand            84819 non-null  object\n",
            " 8   feature          84819 non-null  object\n",
            " 9   rank             84819 non-null  object\n",
            " 10  also_view        84819 non-null  object\n",
            " 11  main_cat         84819 non-null  object\n",
            " 12  similar_item     84819 non-null  object\n",
            " 13  date             84819 non-null  object\n",
            " 14  price            84819 non-null  object\n",
            " 15  asin             84819 non-null  object\n",
            " 16  imageURL         84819 non-null  object\n",
            " 17  imageURLHighRes  84819 non-null  object\n",
            " 18  details          84712 non-null  object\n",
            "dtypes: object(19)\n",
            "memory usage: 12.3+ MB\n",
            "None\n"
          ]
        }
      ]
    },
    {
      "cell_type": "code",
      "source": [
        "print(dfProd.head())"
      ],
      "metadata": {
        "colab": {
          "base_uri": "https://localhost:8080/"
        },
        "id": "XxXoRDQlJMak",
        "outputId": "9575ddb9-04ed-4b74-fa8d-b50c08b5d1a0"
      },
      "execution_count": 51,
      "outputs": [
        {
          "output_type": "stream",
          "name": "stdout",
          "text": [
            "                                            category tech1  \\\n",
            "0                           [Video Games, PC, Games]         \n",
            "1  [Video Games, Xbox 360, Games, </span></span><...         \n",
            "2  [Video Games, Retro Gaming & Microconsoles, Su...         \n",
            "3  [Video Games, Xbox 360, Accessories, Controlle...         \n",
            "4  [Video Games, PC, Games, </span></span></span>...         \n",
            "\n",
            "                                         description fit  \\\n",
            "0                                                 []       \n",
            "1                                [Brand new sealed!]       \n",
            "2                                                 []       \n",
            "3  [MAS's Pro Xbox 360 Stick (Perfect 360 Stick) ...       \n",
            "4  [Phonics Alive! 3, The Speller teaches student...       \n",
            "\n",
            "                                               title      also_buy tech2  \\\n",
            "0                         Reversi Sensory Challenger            []         \n",
            "1  Medal of Honor: Warfighter - Includes Battlefi...  [B00PADROYW]         \n",
            "2  street fighter 2 II turbo super nintendo snes ...            []         \n",
            "3                                 Xbox 360 MAS STICK            []         \n",
            "4                      Phonics Alive! 3: The Speller            []         \n",
            "\n",
            "                                       brand  \\\n",
            "0                       Fidelity Electronics   \n",
            "1                     by\\n    \\n    EA Games   \n",
            "2                                   Nintendo   \n",
            "3                  by\\n    \\n    MAS SYSTEMS   \n",
            "4  by\\n    \\n    Advanced Software Pty. Ltd.   \n",
            "\n",
            "                                             feature  \\\n",
            "0                                                 []   \n",
            "1                                                 []   \n",
            "2                                                 []   \n",
            "3  [Original PCB used from Xbox 360 Control Pad (...   \n",
            "4  [Grades 2-12, Spelling Program, Teaches Spelli...   \n",
            "\n",
            "                                                rank  \\\n",
            "0  [>#2,623,937 in Toys &amp; Games (See Top 100 ...   \n",
            "1  [>#67,231 in Video Games (See Top 100 in Video...   \n",
            "2  [>#134,433 in Video Games (See Top 100 in Vide...   \n",
            "3  [>#105,263 in Video Games (See Top 100 in Vide...   \n",
            "4  [>#92,397 in Video Games (See Top 100 in Video...   \n",
            "\n",
            "                                           also_view          main_cat  \\\n",
            "0                                                 []  Toys &amp; Games   \n",
            "1  [B0050SY5BM, B072NQJCW5, B000TI836G, B002SRSQ7...       Video Games   \n",
            "2                                                 []       Video Games   \n",
            "3                                                 []       Video Games   \n",
            "4                                       [B000BCZ7U0]       Video Games   \n",
            "\n",
            "  similar_item date                                              price  \\\n",
            "0                                                                        \n",
            "1                    \\n\\t\\t\\t\\t\\t\\t\\t\\t\\t\\t\\t\\t<span class=\"vertica...   \n",
            "2                                                                $0.72   \n",
            "3                                                                        \n",
            "4                                                                        \n",
            "\n",
            "         asin                                           imageURL  \\\n",
            "0  0042000742  [https://images-na.ssl-images-amazon.com/image...   \n",
            "1  0078764343  [https://images-na.ssl-images-amazon.com/image...   \n",
            "2  0276425316                                                 []   \n",
            "3  0324411812  [https://images-na.ssl-images-amazon.com/image...   \n",
            "4  0439335310  [https://images-na.ssl-images-amazon.com/image...   \n",
            "\n",
            "                                     imageURLHighRes details  \n",
            "0  [https://images-na.ssl-images-amazon.com/image...     NaN  \n",
            "1  [https://images-na.ssl-images-amazon.com/image...     NaN  \n",
            "2                                                 []     NaN  \n",
            "3  [https://images-na.ssl-images-amazon.com/image...     NaN  \n",
            "4  [https://images-na.ssl-images-amazon.com/image...     NaN  \n"
          ]
        }
      ]
    },
    {
      "cell_type": "markdown",
      "source": [
        "### Data Cleaning"
      ],
      "metadata": {
        "id": "SEuU0wkLyfhJ"
      }
    },
    {
      "cell_type": "code",
      "source": [
        "# drop duplicates\n",
        "dfProdDup = dfProd.loc[dfProd.duplicated(['asin'])]\n",
        "dfProdDup = dfProd.loc[dfProd['asin'].isin(list(dfProdDup['asin']))]\n",
        "dfProdDup = dfProdDup.sort_values(by='asin')\n",
        "\n",
        "dfProd = dfProd.drop_duplicates(['asin'], ignore_index=True)"
      ],
      "metadata": {
        "id": "D-5z3ACfeAdV"
      },
      "execution_count": 74,
      "outputs": []
    },
    {
      "cell_type": "markdown",
      "source": [
        "#### Rank"
      ],
      "metadata": {
        "id": "hmXhly68c4Br"
      }
    },
    {
      "cell_type": "code",
      "source": [
        "dfProd['rank'] = dfProd['rank'].apply(lambda x: [x] if len(x) > 4 else x)\n",
        "\n",
        "def rank_mod(s):\n",
        "  res = [ss.replace(',', '').replace('&amp;', '&').replace('\\n', '').replace('\\t', '').replace('\\\\', '').replace('#',\n",
        "             '').replace('&gt;', '>').lstrip('>').rstrip(' (') for ss in s]\n",
        "  res = [re.sub(\" ([\\(\\[]).*?([\\)\\]])\", \"\", r) for r in res]\n",
        "  res = sorted(res, key=lambda x: x.count('>'))\n",
        "\n",
        "  res = [item.split(' in ', 1) for item in res]\n",
        "  res = [item for l in res for item in l]\n",
        "\n",
        "  return res\n",
        "\n",
        "dfProd['rank'] = dfProd['rank'].apply(lambda x: rank_mod(x))\n"
      ],
      "metadata": {
        "id": "4Jf846a5ZfPk"
      },
      "execution_count": 75,
      "outputs": []
    },
    {
      "cell_type": "code",
      "source": [
        "dfProdRank = pd.DataFrame(dfProd['rank'].to_list(), columns=['rank1', 'category1', 'rank2', 'category2',\n",
        "                                                              'rank3', 'category3', 'rank4', 'category4'])"
      ],
      "metadata": {
        "id": "H93mQ74nRZYK"
      },
      "execution_count": 76,
      "outputs": []
    },
    {
      "cell_type": "code",
      "source": [
        "dfProdRank = dfProdRank.merge(dfProd, left_index=True, right_index=True)\n",
        "dfProdRank = dfProdRank[['rank1', 'category1', 'rank2', 'category2', 'rank3', 'category3', 'rank4', 'category4',\n",
        "                         'asin', 'title', 'main_cat', 'category']]"
      ],
      "metadata": {
        "id": "egWCiAIplDYa"
      },
      "execution_count": 77,
      "outputs": []
    },
    {
      "cell_type": "code",
      "source": [
        "dfProdRank = dfProdRank.loc[dfProdRank['category1'].notna()]\n",
        "dfProdRank['category1'] = dfProdRank.category1.str.replace(r'^Video Games.*', 'Video Games', regex=True)\n",
        "dfProdRank['category'] = [','.join(map(str, l)) for l in dfProdRank['category']]\n",
        "\n",
        "# only use the products that have a BSR in category Video Games, for easier comparison amongst video game products\n",
        "dfProdRank = dfProdRank.loc[dfProdRank['category1'] == 'Video Games']\n",
        "\n",
        "# remove irrelevant products like accessories\n",
        "dfProdRank = dfProdRank.loc[(dfProdRank['main_cat'].isin(['Video Games', 'Sports & Outdoors', ''])) & \n",
        "                              (~dfProdRank['category'].str.contains('accessories', case=False))]"
      ],
      "metadata": {
        "colab": {
          "base_uri": "https://localhost:8080/"
        },
        "id": "Wm3OrmoqcQFX",
        "outputId": "19698f99-902d-43f2-b611-ec1ddd84e5fd"
      },
      "execution_count": 78,
      "outputs": [
        {
          "output_type": "stream",
          "name": "stderr",
          "text": [
            "/usr/local/lib/python3.7/dist-packages/ipykernel_launcher.py:2: SettingWithCopyWarning: \n",
            "A value is trying to be set on a copy of a slice from a DataFrame.\n",
            "Try using .loc[row_indexer,col_indexer] = value instead\n",
            "\n",
            "See the caveats in the documentation: https://pandas.pydata.org/pandas-docs/stable/user_guide/indexing.html#returning-a-view-versus-a-copy\n",
            "  \n"
          ]
        }
      ]
    },
    {
      "cell_type": "code",
      "source": [
        "# merge rank info into original product data\n",
        "dfProd = dfProd.merge(dfProdRank, how='inner', on='asin', suffixes=('', '_y'))"
      ],
      "metadata": {
        "id": "giMyZ2qKax1_"
      },
      "execution_count": 79,
      "outputs": []
    },
    {
      "cell_type": "markdown",
      "source": [
        "#### Brand"
      ],
      "metadata": {
        "id": "32yN3642hky1"
      }
    },
    {
      "cell_type": "code",
      "source": [
        "dfProd['brand'] = dfProd['brand'].str.replace('by\\n', '', regex=True)\n",
        "dfProd['brand'] = dfProd['brand'].str.replace('\\n', '', regex=True)\n",
        "dfProd['brand'] = dfProd['brand'].str.replace('by ', '', regex=True)\n",
        "dfProd['brand'] = dfProd['brand'].str.lstrip()"
      ],
      "metadata": {
        "id": "V4chRc87G4MJ"
      },
      "execution_count": 80,
      "outputs": []
    },
    {
      "cell_type": "code",
      "source": [
        "dfProd = dfProd.replace({'EA': 'Electronic Arts', 'EA Games': 'Electronic Arts', 'At Electronic Arts': 'Electronic Arts',\n",
        "                         'Electronic Arts Sports': 'EA Sports', 'Electronic Arts, Inc.': 'Electronic Arts',\n",
        "                         'Electronic Arts Inc.': 'Electronic Arts', 'Electronic Arts 1001573': 'EA Sports',\n",
        "                         'EA Active': 'EA Sports', 'Electronic Arts UK IMPORT': 'EA Sports'})\n",
        "dfProd = dfProd.replace({'HPS Simulation': 'HPS Simulations'})\n",
        "dfProd = dfProd.replace({'PS1': 'Playstation', 'PS2': 'Playstation', 'PS3': 'Playstation', 'PS4': 'Playstation'})\n",
        "dfProd['brand'] = dfProd.brand.str.replace(r'(^.*PS2.*$)', 'Playstation', regex=True)\n",
        "dfProd['brand'] = dfProd.brand.str.replace(r'(^.*PS 2.*$)', 'Playstation', regex=True)\n",
        "dfProd['brand'] = dfProd.brand.str.replace(r'(^.*PS3.*$)', 'Playstation', regex=True)\n",
        "dfProd['brand'] = dfProd.brand.str.replace(r'(^.*PS 3.*$)', 'Playstation', regex=True)\n",
        "dfProd['brand'] = dfProd.brand.str.replace(r'(^.*PS4.*$)', 'Playstation', regex=True)\n",
        "\n",
        "# dfProd = dfProd.replace({'': None, 'Unknown': None})"
      ],
      "metadata": {
        "id": "hz8N-SId5tS4"
      },
      "execution_count": 81,
      "outputs": []
    },
    {
      "cell_type": "code",
      "source": [
        "dfProd[['brand', 'title']].loc[dfProd['brand'].str.contains('xbox', case=False)].sort_values(by='brand')"
      ],
      "metadata": {
        "id": "Ru0eTkGa_1Cx"
      },
      "execution_count": null,
      "outputs": []
    },
    {
      "cell_type": "code",
      "source": [
        "dfProdBrand = dfProd['brand'].value_counts(dropna=False).reset_index()\n",
        "dfProdBrand"
      ],
      "metadata": {
        "id": "8AQIYxvN5xWe"
      },
      "execution_count": 9,
      "outputs": []
    },
    {
      "cell_type": "markdown",
      "source": [
        "#### Others"
      ],
      "metadata": {
        "id": "SuO-2M7CiXca"
      }
    },
    {
      "cell_type": "code",
      "source": [
        "# clean date\n",
        "# dfProd['date'] = dfProd['date'].replace({'.*div.*': np.nan, '83001177': np.nan, 'Creazydog': np.nan}, regex=True)\n",
        "# dfProd['date'] = pd.to_datetime(dfProd['date'])"
      ],
      "metadata": {
        "id": "gnfOQPKavwSo"
      },
      "execution_count": 180,
      "outputs": []
    },
    {
      "cell_type": "code",
      "source": [
        "# convert price to float dtype\n",
        "def convert_float(x):\n",
        "    try:\n",
        "        return float(x)\n",
        "    except:\n",
        "        return np.nan\n",
        "dfProd['price'] = dfProd['price'].str.replace('$', '', regex=True)\n",
        "dfProd['price'] = dfProd['price'].str.replace(',', '', regex=True)\n",
        "dfProd['price'] = dfProd['price'].replace({'': np.nan})\n",
        "dfProd['price'] = dfProd['price'].apply(lambda p: convert_float(p))"
      ],
      "metadata": {
        "id": "MDbltqxPZZkI"
      },
      "execution_count": 82,
      "outputs": []
    },
    {
      "cell_type": "markdown",
      "source": [
        "### Data Manipulation"
      ],
      "metadata": {
        "id": "tAg7Ab6vLpb_"
      }
    },
    {
      "cell_type": "code",
      "source": [
        "# count number of images & high resolution images\n",
        "dfProd['numImages'] = dfProd['imageURL'].str.len()\n",
        "dfProd['numHighResImages'] = dfProd['imageURLHighRes'].str.len()"
      ],
      "metadata": {
        "id": "ALJn8OTwZWhi"
      },
      "execution_count": 83,
      "outputs": []
    },
    {
      "cell_type": "code",
      "source": [
        "dfProd['feature'] = [','.join(map(str, l)) for l in dfProd['feature']]"
      ],
      "metadata": {
        "id": "c7hpdBY1PVjA"
      },
      "execution_count": null,
      "outputs": []
    },
    {
      "cell_type": "code",
      "source": [
        "dfProd['description'] = [','.join(map(str, l)) for l in dfProd['description']]"
      ],
      "metadata": {
        "id": "SrJr3Cr_PzWE"
      },
      "execution_count": 89,
      "outputs": []
    },
    {
      "cell_type": "code",
      "source": [
        "# dfProd['details'] = dfProd['details'].fillna({})\n",
        "# dfProd['details'] = [list(d.keys()) for d in dfProd['details']]\n",
        "# dfProd['details'] = [','.join(map(str, l)) for l in dfProd['details']]\n",
        "# dfProd['details'].unique()"
      ],
      "metadata": {
        "id": "-KqnXdb5P77-"
      },
      "execution_count": null,
      "outputs": []
    },
    {
      "cell_type": "code",
      "source": [
        "# final touch-up\n",
        "dfProd = dfProd.astype({'numImages': np.uint8, 'numHighResImages': np.uint8})\n",
        "dfProd = dfProd[['asin', 'title', 'brand', 'category_y', 'price', #'category', \n",
        "                 'rank1', 'rank2', 'category2', 'rank3', 'category3', 'rank4', 'category4',\n",
        "                 'numImages', 'numHighResImages',\n",
        "                 'main_cat', 'details', 'feature'#, 'also_buy', 'also_view', 'similar_item' #'description'\n",
        "                 ]]"
      ],
      "metadata": {
        "id": "WcSjtOJYb0-R"
      },
      "execution_count": 97,
      "outputs": []
    },
    {
      "cell_type": "code",
      "source": [
        "dfProd.info()"
      ],
      "metadata": {
        "colab": {
          "base_uri": "https://localhost:8080/"
        },
        "id": "ffrFIj98b5Jt",
        "outputId": "687a5d85-caba-4d5a-8460-377bdf6fee98"
      },
      "execution_count": 98,
      "outputs": [
        {
          "output_type": "stream",
          "name": "stdout",
          "text": [
            "<class 'pandas.core.frame.DataFrame'>\n",
            "Int64Index: 40943 entries, 0 to 40942\n",
            "Data columns (total 17 columns):\n",
            " #   Column            Non-Null Count  Dtype  \n",
            "---  ------            --------------  -----  \n",
            " 0   asin              40943 non-null  object \n",
            " 1   title             40943 non-null  object \n",
            " 2   brand             40943 non-null  object \n",
            " 3   category_y        40943 non-null  object \n",
            " 4   price             6856 non-null   float64\n",
            " 5   rank1             40943 non-null  object \n",
            " 6   rank2             38639 non-null  object \n",
            " 7   category2         38639 non-null  object \n",
            " 8   rank3             8388 non-null   object \n",
            " 9   category3         8388 non-null   object \n",
            " 10  rank4             5375 non-null   object \n",
            " 11  category4         5375 non-null   object \n",
            " 12  numImages         40943 non-null  uint8  \n",
            " 13  numHighResImages  40943 non-null  uint8  \n",
            " 14  main_cat          40943 non-null  object \n",
            " 15  details           40867 non-null  object \n",
            " 16  feature           40943 non-null  object \n",
            "dtypes: float64(1), object(14), uint8(2)\n",
            "memory usage: 5.1+ MB\n"
          ]
        }
      ]
    },
    {
      "cell_type": "code",
      "source": [
        "dfProd.describe(include='all')"
      ],
      "metadata": {
        "colab": {
          "base_uri": "https://localhost:8080/",
          "height": 545
        },
        "id": "ym8Sp1RIWHSO",
        "outputId": "d26b74f8-d7fb-45a9-f3aa-d539afb5c0bb"
      },
      "execution_count": 100,
      "outputs": [
        {
          "output_type": "execute_result",
          "data": {
            "text/plain": [
              "              asin                     title            brand  \\\n",
              "count        40943                     40943            40943   \n",
              "unique       40943                     38860             3742   \n",
              "top     0078764343  NBA 2K15 - PlayStation 4  Electronic Arts   \n",
              "freq             1                         9             2422   \n",
              "mean           NaN                       NaN              NaN   \n",
              "std            NaN                       NaN              NaN   \n",
              "min            NaN                       NaN              NaN   \n",
              "25%            NaN                       NaN              NaN   \n",
              "50%            NaN                       NaN              NaN   \n",
              "75%            NaN                       NaN              NaN   \n",
              "max            NaN                       NaN              NaN   \n",
              "\n",
              "                                        category_y        price  rank1  rank2  \\\n",
              "count                                        40943  6856.000000  40943  38639   \n",
              "unique                                        8069          NaN  35611  12237   \n",
              "top     Video Games,PC,Games,</span></span></span>          NaN   3422      1   \n",
              "freq                                          6704          NaN      8     55   \n",
              "mean                                           NaN    51.385702    NaN    NaN   \n",
              "std                                            NaN    81.081829    NaN    NaN   \n",
              "min                                            NaN     0.010000    NaN    NaN   \n",
              "25%                                            NaN    13.987500    NaN    NaN   \n",
              "50%                                            NaN    27.285000    NaN    NaN   \n",
              "75%                                            NaN    55.802500    NaN    NaN   \n",
              "max                                            NaN  1500.000000    NaN    NaN   \n",
              "\n",
              "                                category2 rank3  \\\n",
              "count                               38639  8388   \n",
              "unique                                168  4812   \n",
              "top     Video Games > PC Games > PC Games     7   \n",
              "freq                                 7933    16   \n",
              "mean                                  NaN   NaN   \n",
              "std                                   NaN   NaN   \n",
              "min                                   NaN   NaN   \n",
              "25%                                   NaN   NaN   \n",
              "50%                                   NaN   NaN   \n",
              "75%                                   NaN   NaN   \n",
              "max                                   NaN   NaN   \n",
              "\n",
              "                                           category3 rank4  \\\n",
              "count                                           8388  5375   \n",
              "unique                                           150  4155   \n",
              "top     Video Games > PC Games > Digital Games & DLC    27   \n",
              "freq                                            3620     8   \n",
              "mean                                             NaN   NaN   \n",
              "std                                              NaN   NaN   \n",
              "min                                              NaN   NaN   \n",
              "25%                                              NaN   NaN   \n",
              "50%                                              NaN   NaN   \n",
              "75%                                              NaN   NaN   \n",
              "max                                              NaN   NaN   \n",
              "\n",
              "                                category4     numImages  numHighResImages  \\\n",
              "count                                5375  40943.000000      40943.000000   \n",
              "unique                                 79           NaN               NaN   \n",
              "top     Video Games > PC Games > PC Games           NaN               NaN   \n",
              "freq                                 3588           NaN               NaN   \n",
              "mean                                  NaN      3.020492          3.020492   \n",
              "std                                   NaN      3.076086          3.076086   \n",
              "min                                   NaN      0.000000          0.000000   \n",
              "25%                                   NaN      1.000000          1.000000   \n",
              "50%                                   NaN      2.000000          2.000000   \n",
              "75%                                   NaN      6.000000          6.000000   \n",
              "max                                   NaN     14.000000         14.000000   \n",
              "\n",
              "           main_cat details feature  \n",
              "count         40943   40867   40943  \n",
              "unique            3      61   23917  \n",
              "top     Video Games      {}          \n",
              "freq          40897   40804   11541  \n",
              "mean            NaN     NaN     NaN  \n",
              "std             NaN     NaN     NaN  \n",
              "min             NaN     NaN     NaN  \n",
              "25%             NaN     NaN     NaN  \n",
              "50%             NaN     NaN     NaN  \n",
              "75%             NaN     NaN     NaN  \n",
              "max             NaN     NaN     NaN  "
            ],
            "text/html": [
              "\n",
              "  <div id=\"df-77294676-e89f-4098-80da-68455d7162be\">\n",
              "    <div class=\"colab-df-container\">\n",
              "      <div>\n",
              "<style scoped>\n",
              "    .dataframe tbody tr th:only-of-type {\n",
              "        vertical-align: middle;\n",
              "    }\n",
              "\n",
              "    .dataframe tbody tr th {\n",
              "        vertical-align: top;\n",
              "    }\n",
              "\n",
              "    .dataframe thead th {\n",
              "        text-align: right;\n",
              "    }\n",
              "</style>\n",
              "<table border=\"1\" class=\"dataframe\">\n",
              "  <thead>\n",
              "    <tr style=\"text-align: right;\">\n",
              "      <th></th>\n",
              "      <th>asin</th>\n",
              "      <th>title</th>\n",
              "      <th>brand</th>\n",
              "      <th>category_y</th>\n",
              "      <th>price</th>\n",
              "      <th>rank1</th>\n",
              "      <th>rank2</th>\n",
              "      <th>category2</th>\n",
              "      <th>rank3</th>\n",
              "      <th>category3</th>\n",
              "      <th>rank4</th>\n",
              "      <th>category4</th>\n",
              "      <th>numImages</th>\n",
              "      <th>numHighResImages</th>\n",
              "      <th>main_cat</th>\n",
              "      <th>details</th>\n",
              "      <th>feature</th>\n",
              "    </tr>\n",
              "  </thead>\n",
              "  <tbody>\n",
              "    <tr>\n",
              "      <th>count</th>\n",
              "      <td>40943</td>\n",
              "      <td>40943</td>\n",
              "      <td>40943</td>\n",
              "      <td>40943</td>\n",
              "      <td>6856.000000</td>\n",
              "      <td>40943</td>\n",
              "      <td>38639</td>\n",
              "      <td>38639</td>\n",
              "      <td>8388</td>\n",
              "      <td>8388</td>\n",
              "      <td>5375</td>\n",
              "      <td>5375</td>\n",
              "      <td>40943.000000</td>\n",
              "      <td>40943.000000</td>\n",
              "      <td>40943</td>\n",
              "      <td>40867</td>\n",
              "      <td>40943</td>\n",
              "    </tr>\n",
              "    <tr>\n",
              "      <th>unique</th>\n",
              "      <td>40943</td>\n",
              "      <td>38860</td>\n",
              "      <td>3742</td>\n",
              "      <td>8069</td>\n",
              "      <td>NaN</td>\n",
              "      <td>35611</td>\n",
              "      <td>12237</td>\n",
              "      <td>168</td>\n",
              "      <td>4812</td>\n",
              "      <td>150</td>\n",
              "      <td>4155</td>\n",
              "      <td>79</td>\n",
              "      <td>NaN</td>\n",
              "      <td>NaN</td>\n",
              "      <td>3</td>\n",
              "      <td>61</td>\n",
              "      <td>23917</td>\n",
              "    </tr>\n",
              "    <tr>\n",
              "      <th>top</th>\n",
              "      <td>0078764343</td>\n",
              "      <td>NBA 2K15 - PlayStation 4</td>\n",
              "      <td>Electronic Arts</td>\n",
              "      <td>Video Games,PC,Games,&lt;/span&gt;&lt;/span&gt;&lt;/span&gt;</td>\n",
              "      <td>NaN</td>\n",
              "      <td>3422</td>\n",
              "      <td>1</td>\n",
              "      <td>Video Games &gt; PC Games &gt; PC Games</td>\n",
              "      <td>7</td>\n",
              "      <td>Video Games &gt; PC Games &gt; Digital Games &amp; DLC</td>\n",
              "      <td>27</td>\n",
              "      <td>Video Games &gt; PC Games &gt; PC Games</td>\n",
              "      <td>NaN</td>\n",
              "      <td>NaN</td>\n",
              "      <td>Video Games</td>\n",
              "      <td>{}</td>\n",
              "      <td></td>\n",
              "    </tr>\n",
              "    <tr>\n",
              "      <th>freq</th>\n",
              "      <td>1</td>\n",
              "      <td>9</td>\n",
              "      <td>2422</td>\n",
              "      <td>6704</td>\n",
              "      <td>NaN</td>\n",
              "      <td>8</td>\n",
              "      <td>55</td>\n",
              "      <td>7933</td>\n",
              "      <td>16</td>\n",
              "      <td>3620</td>\n",
              "      <td>8</td>\n",
              "      <td>3588</td>\n",
              "      <td>NaN</td>\n",
              "      <td>NaN</td>\n",
              "      <td>40897</td>\n",
              "      <td>40804</td>\n",
              "      <td>11541</td>\n",
              "    </tr>\n",
              "    <tr>\n",
              "      <th>mean</th>\n",
              "      <td>NaN</td>\n",
              "      <td>NaN</td>\n",
              "      <td>NaN</td>\n",
              "      <td>NaN</td>\n",
              "      <td>51.385702</td>\n",
              "      <td>NaN</td>\n",
              "      <td>NaN</td>\n",
              "      <td>NaN</td>\n",
              "      <td>NaN</td>\n",
              "      <td>NaN</td>\n",
              "      <td>NaN</td>\n",
              "      <td>NaN</td>\n",
              "      <td>3.020492</td>\n",
              "      <td>3.020492</td>\n",
              "      <td>NaN</td>\n",
              "      <td>NaN</td>\n",
              "      <td>NaN</td>\n",
              "    </tr>\n",
              "    <tr>\n",
              "      <th>std</th>\n",
              "      <td>NaN</td>\n",
              "      <td>NaN</td>\n",
              "      <td>NaN</td>\n",
              "      <td>NaN</td>\n",
              "      <td>81.081829</td>\n",
              "      <td>NaN</td>\n",
              "      <td>NaN</td>\n",
              "      <td>NaN</td>\n",
              "      <td>NaN</td>\n",
              "      <td>NaN</td>\n",
              "      <td>NaN</td>\n",
              "      <td>NaN</td>\n",
              "      <td>3.076086</td>\n",
              "      <td>3.076086</td>\n",
              "      <td>NaN</td>\n",
              "      <td>NaN</td>\n",
              "      <td>NaN</td>\n",
              "    </tr>\n",
              "    <tr>\n",
              "      <th>min</th>\n",
              "      <td>NaN</td>\n",
              "      <td>NaN</td>\n",
              "      <td>NaN</td>\n",
              "      <td>NaN</td>\n",
              "      <td>0.010000</td>\n",
              "      <td>NaN</td>\n",
              "      <td>NaN</td>\n",
              "      <td>NaN</td>\n",
              "      <td>NaN</td>\n",
              "      <td>NaN</td>\n",
              "      <td>NaN</td>\n",
              "      <td>NaN</td>\n",
              "      <td>0.000000</td>\n",
              "      <td>0.000000</td>\n",
              "      <td>NaN</td>\n",
              "      <td>NaN</td>\n",
              "      <td>NaN</td>\n",
              "    </tr>\n",
              "    <tr>\n",
              "      <th>25%</th>\n",
              "      <td>NaN</td>\n",
              "      <td>NaN</td>\n",
              "      <td>NaN</td>\n",
              "      <td>NaN</td>\n",
              "      <td>13.987500</td>\n",
              "      <td>NaN</td>\n",
              "      <td>NaN</td>\n",
              "      <td>NaN</td>\n",
              "      <td>NaN</td>\n",
              "      <td>NaN</td>\n",
              "      <td>NaN</td>\n",
              "      <td>NaN</td>\n",
              "      <td>1.000000</td>\n",
              "      <td>1.000000</td>\n",
              "      <td>NaN</td>\n",
              "      <td>NaN</td>\n",
              "      <td>NaN</td>\n",
              "    </tr>\n",
              "    <tr>\n",
              "      <th>50%</th>\n",
              "      <td>NaN</td>\n",
              "      <td>NaN</td>\n",
              "      <td>NaN</td>\n",
              "      <td>NaN</td>\n",
              "      <td>27.285000</td>\n",
              "      <td>NaN</td>\n",
              "      <td>NaN</td>\n",
              "      <td>NaN</td>\n",
              "      <td>NaN</td>\n",
              "      <td>NaN</td>\n",
              "      <td>NaN</td>\n",
              "      <td>NaN</td>\n",
              "      <td>2.000000</td>\n",
              "      <td>2.000000</td>\n",
              "      <td>NaN</td>\n",
              "      <td>NaN</td>\n",
              "      <td>NaN</td>\n",
              "    </tr>\n",
              "    <tr>\n",
              "      <th>75%</th>\n",
              "      <td>NaN</td>\n",
              "      <td>NaN</td>\n",
              "      <td>NaN</td>\n",
              "      <td>NaN</td>\n",
              "      <td>55.802500</td>\n",
              "      <td>NaN</td>\n",
              "      <td>NaN</td>\n",
              "      <td>NaN</td>\n",
              "      <td>NaN</td>\n",
              "      <td>NaN</td>\n",
              "      <td>NaN</td>\n",
              "      <td>NaN</td>\n",
              "      <td>6.000000</td>\n",
              "      <td>6.000000</td>\n",
              "      <td>NaN</td>\n",
              "      <td>NaN</td>\n",
              "      <td>NaN</td>\n",
              "    </tr>\n",
              "    <tr>\n",
              "      <th>max</th>\n",
              "      <td>NaN</td>\n",
              "      <td>NaN</td>\n",
              "      <td>NaN</td>\n",
              "      <td>NaN</td>\n",
              "      <td>1500.000000</td>\n",
              "      <td>NaN</td>\n",
              "      <td>NaN</td>\n",
              "      <td>NaN</td>\n",
              "      <td>NaN</td>\n",
              "      <td>NaN</td>\n",
              "      <td>NaN</td>\n",
              "      <td>NaN</td>\n",
              "      <td>14.000000</td>\n",
              "      <td>14.000000</td>\n",
              "      <td>NaN</td>\n",
              "      <td>NaN</td>\n",
              "      <td>NaN</td>\n",
              "    </tr>\n",
              "  </tbody>\n",
              "</table>\n",
              "</div>\n",
              "      <button class=\"colab-df-convert\" onclick=\"convertToInteractive('df-77294676-e89f-4098-80da-68455d7162be')\"\n",
              "              title=\"Convert this dataframe to an interactive table.\"\n",
              "              style=\"display:none;\">\n",
              "        \n",
              "  <svg xmlns=\"http://www.w3.org/2000/svg\" height=\"24px\"viewBox=\"0 0 24 24\"\n",
              "       width=\"24px\">\n",
              "    <path d=\"M0 0h24v24H0V0z\" fill=\"none\"/>\n",
              "    <path d=\"M18.56 5.44l.94 2.06.94-2.06 2.06-.94-2.06-.94-.94-2.06-.94 2.06-2.06.94zm-11 1L8.5 8.5l.94-2.06 2.06-.94-2.06-.94L8.5 2.5l-.94 2.06-2.06.94zm10 10l.94 2.06.94-2.06 2.06-.94-2.06-.94-.94-2.06-.94 2.06-2.06.94z\"/><path d=\"M17.41 7.96l-1.37-1.37c-.4-.4-.92-.59-1.43-.59-.52 0-1.04.2-1.43.59L10.3 9.45l-7.72 7.72c-.78.78-.78 2.05 0 2.83L4 21.41c.39.39.9.59 1.41.59.51 0 1.02-.2 1.41-.59l7.78-7.78 2.81-2.81c.8-.78.8-2.07 0-2.86zM5.41 20L4 18.59l7.72-7.72 1.47 1.35L5.41 20z\"/>\n",
              "  </svg>\n",
              "      </button>\n",
              "      \n",
              "  <style>\n",
              "    .colab-df-container {\n",
              "      display:flex;\n",
              "      flex-wrap:wrap;\n",
              "      gap: 12px;\n",
              "    }\n",
              "\n",
              "    .colab-df-convert {\n",
              "      background-color: #E8F0FE;\n",
              "      border: none;\n",
              "      border-radius: 50%;\n",
              "      cursor: pointer;\n",
              "      display: none;\n",
              "      fill: #1967D2;\n",
              "      height: 32px;\n",
              "      padding: 0 0 0 0;\n",
              "      width: 32px;\n",
              "    }\n",
              "\n",
              "    .colab-df-convert:hover {\n",
              "      background-color: #E2EBFA;\n",
              "      box-shadow: 0px 1px 2px rgba(60, 64, 67, 0.3), 0px 1px 3px 1px rgba(60, 64, 67, 0.15);\n",
              "      fill: #174EA6;\n",
              "    }\n",
              "\n",
              "    [theme=dark] .colab-df-convert {\n",
              "      background-color: #3B4455;\n",
              "      fill: #D2E3FC;\n",
              "    }\n",
              "\n",
              "    [theme=dark] .colab-df-convert:hover {\n",
              "      background-color: #434B5C;\n",
              "      box-shadow: 0px 1px 3px 1px rgba(0, 0, 0, 0.15);\n",
              "      filter: drop-shadow(0px 1px 2px rgba(0, 0, 0, 0.3));\n",
              "      fill: #FFFFFF;\n",
              "    }\n",
              "  </style>\n",
              "\n",
              "      <script>\n",
              "        const buttonEl =\n",
              "          document.querySelector('#df-77294676-e89f-4098-80da-68455d7162be button.colab-df-convert');\n",
              "        buttonEl.style.display =\n",
              "          google.colab.kernel.accessAllowed ? 'block' : 'none';\n",
              "\n",
              "        async function convertToInteractive(key) {\n",
              "          const element = document.querySelector('#df-77294676-e89f-4098-80da-68455d7162be');\n",
              "          const dataTable =\n",
              "            await google.colab.kernel.invokeFunction('convertToInteractive',\n",
              "                                                     [key], {});\n",
              "          if (!dataTable) return;\n",
              "\n",
              "          const docLinkHtml = 'Like what you see? Visit the ' +\n",
              "            '<a target=\"_blank\" href=https://colab.research.google.com/notebooks/data_table.ipynb>data table notebook</a>'\n",
              "            + ' to learn more about interactive tables.';\n",
              "          element.innerHTML = '';\n",
              "          dataTable['output_type'] = 'display_data';\n",
              "          await google.colab.output.renderOutput(dataTable, element);\n",
              "          const docLink = document.createElement('div');\n",
              "          docLink.innerHTML = docLinkHtml;\n",
              "          element.appendChild(docLink);\n",
              "        }\n",
              "      </script>\n",
              "    </div>\n",
              "  </div>\n",
              "  "
            ]
          },
          "metadata": {},
          "execution_count": 100
        }
      ]
    },
    {
      "cell_type": "markdown",
      "source": [
        "### Plots"
      ],
      "metadata": {
        "id": "mE8QbcyxLt5N"
      }
    },
    {
      "cell_type": "code",
      "source": [
        "dfProd['price'].plot.hist(bins=160, figsize=(14,6))"
      ],
      "metadata": {
        "colab": {
          "base_uri": "https://localhost:8080/",
          "height": 392
        },
        "id": "pi1dKC5VkYgu",
        "outputId": "9bd9ee59-7e5a-4a5b-e614-b87c02f2dacc"
      },
      "execution_count": 101,
      "outputs": [
        {
          "output_type": "execute_result",
          "data": {
            "text/plain": [
              "<matplotlib.axes._subplots.AxesSubplot at 0x7ff530b37890>"
            ]
          },
          "metadata": {},
          "execution_count": 101
        },
        {
          "output_type": "display_data",
          "data": {
            "text/plain": [
              "<Figure size 1008x432 with 1 Axes>"
            ],
            "image/png": "[encoded data removed]"
          },
          "metadata": {
            "needs_background": "light"
          }
        }
      ]
    },
    {
      "cell_type": "code",
      "source": [
        "dfProd['price'].plot.box()"
      ],
      "metadata": {
        "colab": {
          "base_uri": "https://localhost:8080/",
          "height": 283
        },
        "id": "bkpPCh52Doon",
        "outputId": "e90369fd-8567-4457-8056-1995e4c90c92"
      },
      "execution_count": 102,
      "outputs": [
        {
          "output_type": "execute_result",
          "data": {
            "text/plain": [
              "<matplotlib.axes._subplots.AxesSubplot at 0x7ff529987d90>"
            ]
          },
          "metadata": {},
          "execution_count": 102
        },
        {
          "output_type": "display_data",
          "data": {
            "text/plain": [
              "<Figure size 432x288 with 1 Axes>"
            ],
            "image/png": "[encoded data removed]"
          },
          "metadata": {
            "needs_background": "light"
          }
        }
      ]
    },
    {
      "cell_type": "markdown",
      "source": [
        "## Reviews Data"
      ],
      "metadata": {
        "id": "52GEeLPAISuw"
      }
    },
    {
      "cell_type": "markdown",
      "source": [
        "### Initial Data"
      ],
      "metadata": {
        "id": "dhx14sbwXEBL"
      }
    },
    {
      "cell_type": "code",
      "source": [
        "# get reviews data\n",
        "dfReviews = pd.read_json(\"gdrive/MyDrive/amazon_data/Video_Games.json\", lines=True)"
      ],
      "metadata": {
        "id": "sUg0nm1BUpPQ"
      },
      "execution_count": 4,
      "outputs": []
    },
    {
      "cell_type": "code",
      "source": [
        "print(dfReviews.info(show_counts=True))"
      ],
      "metadata": {
        "colab": {
          "base_uri": "https://localhost:8080/"
        },
        "id": "yeN1k8A7VAJ4",
        "outputId": "5992ba4c-407b-455f-d55e-cc6c540a57cc"
      },
      "execution_count": 5,
      "outputs": [
        {
          "output_type": "stream",
          "name": "stdout",
          "text": [
            "<class 'pandas.core.frame.DataFrame'>\n",
            "RangeIndex: 2565349 entries, 0 to 2565348\n",
            "Data columns (total 12 columns):\n",
            " #   Column          Non-Null Count    Dtype \n",
            "---  ------          --------------    ----- \n",
            " 0   overall         2565349 non-null  int64 \n",
            " 1   verified        2565349 non-null  bool  \n",
            " 2   reviewTime      2565349 non-null  object\n",
            " 3   reviewerID      2565349 non-null  object\n",
            " 4   asin            2565349 non-null  object\n",
            " 5   reviewerName    2565096 non-null  object\n",
            " 6   reviewText      2563634 non-null  object\n",
            " 7   summary         2564538 non-null  object\n",
            " 8   unixReviewTime  2565349 non-null  int64 \n",
            " 9   vote            442716 non-null   object\n",
            " 10  style           1319972 non-null  object\n",
            " 11  image           28305 non-null    object\n",
            "dtypes: bool(1), int64(2), object(9)\n",
            "memory usage: 217.7+ MB\n",
            "None\n"
          ]
        }
      ]
    },
    {
      "cell_type": "code",
      "source": [
        "print(dfReviews.describe())"
      ],
      "metadata": {
        "colab": {
          "base_uri": "https://localhost:8080/"
        },
        "id": "qYMrOEliVUoB",
        "outputId": "636cf64d-29f2-4eac-adb1-d42fa7421479"
      },
      "execution_count": 6,
      "outputs": [
        {
          "output_type": "stream",
          "name": "stdout",
          "text": [
            "            overall  unixReviewTime\n",
            "count  2.565349e+06    2.565349e+06\n",
            "mean   4.022095e+00    1.388666e+09\n",
            "std    1.405936e+00    1.159381e+08\n",
            "min    1.000000e+00    8.789472e+08\n",
            "25%    3.000000e+00    1.356653e+09\n",
            "50%    5.000000e+00    1.421885e+09\n",
            "75%    5.000000e+00    1.465430e+09\n",
            "max    5.000000e+00    1.538438e+09\n"
          ]
        }
      ]
    },
    {
      "cell_type": "code",
      "source": [
        "print(dfReviews.head())"
      ],
      "metadata": {
        "colab": {
          "base_uri": "https://localhost:8080/"
        },
        "id": "DRpUYgrryeSg",
        "outputId": "f1fcc8c7-e195-4ed0-efb3-e8ee0c8bb1bb"
      },
      "execution_count": 7,
      "outputs": [
        {
          "output_type": "stream",
          "name": "stdout",
          "text": [
            "   overall  verified   reviewTime      reviewerID        asin  \\\n",
            "0        1      True   06 9, 2014  A21ROB4YDOZA5P  0439381673   \n",
            "1        3      True  05 10, 2014  A3TNZ2Q5E7HTHD  0439381673   \n",
            "2        4      True   02 7, 2014  A1OKRM3QFEATQO  0439381673   \n",
            "3        1      True   02 7, 2014  A2XO1JFCNEYV3T  0439381673   \n",
            "4        4      True  01 16, 2014  A19WLPIRHD15TH  0439381673   \n",
            "\n",
            "       reviewerName                                         reviewText  \\\n",
            "0     Mary M. Clark  I used to play this game years ago and loved i...   \n",
            "1         Sarabatya  The game itself worked great but the story lin...   \n",
            "2   Amazon Customer  I had to learn the hard way after ordering thi...   \n",
            "3  ColoradoPartyof5  The product description should state this clea...   \n",
            "4    Karen Robinson  I would recommend this learning game for anyon...   \n",
            "\n",
            "                                             summary  unixReviewTime vote  \\\n",
            "0                                  Did not like this      1402272000  NaN   \n",
            "1                                     Almost Perfect      1399680000  NaN   \n",
            "2  DOES NOT WORK WITH MAC OS unless it is 10.3 or...      1391731200   15   \n",
            "3                           does not work on Mac OSX      1391731200   11   \n",
            "4                                        Roughing it      1389830400  NaN   \n",
            "\n",
            "  style image  \n",
            "0   NaN   NaN  \n",
            "1   NaN   NaN  \n",
            "2   NaN   NaN  \n",
            "3   NaN   NaN  \n",
            "4   NaN   NaN  \n"
          ]
        }
      ]
    },
    {
      "cell_type": "markdown",
      "source": [
        "Some columns that are supposed to be of more useful data types (eg: int, date) are being recoginized as object upon data initialization. We need to clean the dataset to get a better summary statistics."
      ],
      "metadata": {
        "id": "8HxxtTg5YuK9"
      }
    },
    {
      "cell_type": "markdown",
      "source": [
        "### Data Cleaning"
      ],
      "metadata": {
        "id": "TK1qpsmYIlrP"
      }
    },
    {
      "cell_type": "code",
      "source": [
        "dfReviews['reviewTime'] = pd.to_datetime(dfReviews['reviewTime'])"
      ],
      "metadata": {
        "id": "f9qW3mPFYMgf"
      },
      "execution_count": 8,
      "outputs": []
    },
    {
      "cell_type": "code",
      "source": [
        "# convert vote to int\n",
        "dfReviews['vote'] = dfReviews['vote'].replace({',': ''}, regex=True)\n",
        "dfReviews['vote'] = dfReviews['vote'].fillna(0)\n",
        "dfReviews['vote'] = dfReviews['vote'].astype('float32').astype('Int32')"
      ],
      "metadata": {
        "id": "3YVXb84ab5JF"
      },
      "execution_count": 9,
      "outputs": []
    },
    {
      "cell_type": "code",
      "source": [
        "# rename overall to rating as it makes more sense and change data type to uint8 to save memory\n",
        "dfReviews = dfReviews.astype({'overall': np.uint8})\n",
        "dfReviews = dfReviews.rename(columns={'overall': 'rating'})"
      ],
      "metadata": {
        "id": "XoG3Cw3gcVGI"
      },
      "execution_count": 10,
      "outputs": []
    },
    {
      "cell_type": "code",
      "source": [
        "print(dfReviews.info(show_counts=True))"
      ],
      "metadata": {
        "colab": {
          "base_uri": "https://localhost:8080/"
        },
        "id": "5ZX_625ecnYR",
        "outputId": "ff7246e9-ae31-45f7-fdb0-83c592e88bc7"
      },
      "execution_count": 11,
      "outputs": [
        {
          "output_type": "stream",
          "name": "stdout",
          "text": [
            "<class 'pandas.core.frame.DataFrame'>\n",
            "RangeIndex: 2565349 entries, 0 to 2565348\n",
            "Data columns (total 12 columns):\n",
            " #   Column          Non-Null Count    Dtype         \n",
            "---  ------          --------------    -----         \n",
            " 0   rating          2565349 non-null  uint8         \n",
            " 1   verified        2565349 non-null  bool          \n",
            " 2   reviewTime      2565349 non-null  datetime64[ns]\n",
            " 3   reviewerID      2565349 non-null  object        \n",
            " 4   asin            2565349 non-null  object        \n",
            " 5   reviewerName    2565096 non-null  object        \n",
            " 6   reviewText      2563634 non-null  object        \n",
            " 7   summary         2564538 non-null  object        \n",
            " 8   unixReviewTime  2565349 non-null  int64         \n",
            " 9   vote            2565349 non-null  Int32         \n",
            " 10  style           1319972 non-null  object        \n",
            " 11  image           28305 non-null    object        \n",
            "dtypes: Int32(1), bool(1), datetime64[ns](1), int64(1), object(7), uint8(1)\n",
            "memory usage: 193.3+ MB\n",
            "None\n"
          ]
        }
      ]
    },
    {
      "cell_type": "code",
      "source": [
        "print(dfReviews.describe())"
      ],
      "metadata": {
        "colab": {
          "base_uri": "https://localhost:8080/"
        },
        "id": "wxiBOWLlcoek",
        "outputId": "00822e57-43b1-43a0-8df9-b89816df7408"
      },
      "execution_count": 12,
      "outputs": [
        {
          "output_type": "stream",
          "name": "stdout",
          "text": [
            "             rating  unixReviewTime          vote\n",
            "count  2.565349e+06    2.565349e+06  2.565349e+06\n",
            "mean   4.022095e+00    1.388666e+09  1.449120e+00\n",
            "std    1.405936e+00    1.159381e+08  1.289650e+01\n",
            "min    1.000000e+00    8.789472e+08  0.000000e+00\n",
            "25%    3.000000e+00    1.356653e+09  0.000000e+00\n",
            "50%    5.000000e+00    1.421885e+09  0.000000e+00\n",
            "75%    5.000000e+00    1.465430e+09  0.000000e+00\n",
            "max    5.000000e+00    1.538438e+09  5.154000e+03\n"
          ]
        }
      ]
    },
    {
      "cell_type": "markdown",
      "source": [
        "### Data Manipulation"
      ],
      "metadata": {
        "id": "-E5L3TzrbUHp"
      }
    },
    {
      "cell_type": "markdown",
      "source": [
        "#### Time"
      ],
      "metadata": {
        "id": "oDNhcxlTFjSG"
      }
    },
    {
      "cell_type": "code",
      "source": [
        "# separate reviewTime by every 90 days to illustrate review recentness\n",
        "dfReviews['timeDiff'] = ((dfReviews['reviewTime'].max() + datetime.timedelta(days=1)) - dfReviews['reviewTime']).dt.days\n",
        "dfReviews['recentness'] = (dfReviews['timeDiff'] / 90).astype(np.uint8) # 90 days = 3 months\n",
        "\n",
        "dfRecentness = dfReviews['recentness'].value_counts(sort=False).reset_index()\n",
        "dfRecentness = dfRecentness.rename(columns={'index': 'Recentness', 'recentness': 'Frequency'})\n",
        "dfRecentness['Recentness'] = dfRecentness['Recentness'] + 1 # start from 1 instead of 0\n",
        "dfRecentness = dfRecentness.sort_values(by='Recentness')"
      ],
      "metadata": {
        "id": "tpDKtV3eVUiD"
      },
      "execution_count": 13,
      "outputs": []
    },
    {
      "cell_type": "markdown",
      "source": [
        "#### Style"
      ],
      "metadata": {
        "id": "Z1jjJdeIFpeh"
      }
    },
    {
      "cell_type": "code",
      "source": [
        "dfReviewsStyle = dfReviews.loc[(~dfReviews['style'].isna())]\n",
        "\n",
        "dfReviewsStyle['styleStr'] = [list(d.keys()) for d in dfReviewsStyle['style']]\n",
        "dfReviewsStyle['styleStr'] = [','.join(map(str, l)) for l in dfReviewsStyle['styleStr']]\n",
        "dfReviewsStyle['styleStr'] = dfReviewsStyle['styleStr'].replace({':': ''}, regex=True)\n",
        "dfReviewsStyle = dfReviewsStyle[['styleStr']]"
      ],
      "metadata": {
        "colab": {
          "base_uri": "https://localhost:8080/"
        },
        "id": "VywJwsVk7gBH",
        "outputId": "cc1eafb8-3473-438b-9676-44c548658d18"
      },
      "execution_count": 14,
      "outputs": [
        {
          "output_type": "stream",
          "name": "stderr",
          "text": [
            "/usr/local/lib/python3.7/dist-packages/ipykernel_launcher.py:3: SettingWithCopyWarning: \n",
            "A value is trying to be set on a copy of a slice from a DataFrame.\n",
            "Try using .loc[row_indexer,col_indexer] = value instead\n",
            "\n",
            "See the caveats in the documentation: https://pandas.pydata.org/pandas-docs/stable/user_guide/indexing.html#returning-a-view-versus-a-copy\n",
            "  This is separate from the ipykernel package so we can avoid doing imports until\n",
            "/usr/local/lib/python3.7/dist-packages/ipykernel_launcher.py:4: SettingWithCopyWarning: \n",
            "A value is trying to be set on a copy of a slice from a DataFrame.\n",
            "Try using .loc[row_indexer,col_indexer] = value instead\n",
            "\n",
            "See the caveats in the documentation: https://pandas.pydata.org/pandas-docs/stable/user_guide/indexing.html#returning-a-view-versus-a-copy\n",
            "  after removing the cwd from sys.path.\n",
            "/usr/local/lib/python3.7/dist-packages/ipykernel_launcher.py:5: SettingWithCopyWarning: \n",
            "A value is trying to be set on a copy of a slice from a DataFrame.\n",
            "Try using .loc[row_indexer,col_indexer] = value instead\n",
            "\n",
            "See the caveats in the documentation: https://pandas.pydata.org/pandas-docs/stable/user_guide/indexing.html#returning-a-view-versus-a-copy\n",
            "  \"\"\"\n"
          ]
        }
      ]
    },
    {
      "cell_type": "code",
      "source": [
        "dfReviews = dfReviews.merge(dfReviewsStyle, how='left', left_index=True, right_index=True)\n",
        "dfReviews['styleStr'] = dfReviews['styleStr'].fillna('')"
      ],
      "metadata": {
        "id": "6xeKZEDM-Par"
      },
      "execution_count": 15,
      "outputs": []
    },
    {
      "cell_type": "code",
      "source": [
        "# count number of styles\n",
        "dfReviews['numStyles'] = dfReviews['style'].str.len()\n",
        "dfReviews['numStyles'] = dfReviews['numStyles'].fillna(0)"
      ],
      "metadata": {
        "id": "8W4xzeVfF5No"
      },
      "execution_count": 17,
      "outputs": []
    },
    {
      "cell_type": "markdown",
      "source": [
        "#### Others"
      ],
      "metadata": {
        "id": "OF3u1BM6F9I4"
      }
    },
    {
      "cell_type": "code",
      "source": [
        "# count number of images\n",
        "dfReviews['numImages'] = dfReviews['image'].str.len()\n",
        "dfReviews['numImages'] = dfReviews['numImages'].fillna(0)\n",
        "\n",
        "# count review summary and review text lengths\n",
        "dfReviews['reviewTextLength'] = dfReviews['reviewText'].str.len()\n",
        "dfReviews['summaryLength'] = dfReviews['summary'].str.len()"
      ],
      "metadata": {
        "id": "FDlfwcExWacm"
      },
      "execution_count": 18,
      "outputs": []
    },
    {
      "cell_type": "code",
      "source": [
        "# change data types of some columns and select only the useful columns before proceeding to the next step\n",
        "dfReviews = dfReviews.astype({'numImages': np.uint8, 'reviewTextLength': 'Int32',\n",
        "                              'summaryLength': 'Int32', 'numStyles': np.uint8})\n",
        "dfReviews = dfReviews[['asin', 'rating', 'verified', 'reviewTime', 'timeDiff', 'recentness', \n",
        "                       'reviewerID', 'reviewText', 'reviewTextLength', 'summary', 'summaryLength', 'vote', \n",
        "                       'styleStr', 'numStyles', 'numImages']]"
      ],
      "metadata": {
        "id": "reyhLR9UccHa"
      },
      "execution_count": 19,
      "outputs": []
    },
    {
      "cell_type": "code",
      "source": [
        "print(dfReviews.info(show_counts=True))"
      ],
      "metadata": {
        "colab": {
          "base_uri": "https://localhost:8080/"
        },
        "id": "XGsod91ndzko",
        "outputId": "52bf7799-2a63-47db-e98f-120f2ad585b3"
      },
      "execution_count": 20,
      "outputs": [
        {
          "output_type": "stream",
          "name": "stdout",
          "text": [
            "<class 'pandas.core.frame.DataFrame'>\n",
            "RangeIndex: 2565349 entries, 0 to 2565348\n",
            "Data columns (total 15 columns):\n",
            " #   Column            Non-Null Count    Dtype         \n",
            "---  ------            --------------    -----         \n",
            " 0   asin              2565349 non-null  object        \n",
            " 1   rating            2565349 non-null  uint8         \n",
            " 2   verified          2565349 non-null  bool          \n",
            " 3   reviewTime        2565349 non-null  datetime64[ns]\n",
            " 4   timeDiff          2565349 non-null  int64         \n",
            " 5   recentness        2565349 non-null  uint8         \n",
            " 6   reviewerID        2565349 non-null  object        \n",
            " 7   reviewText        2563634 non-null  object        \n",
            " 8   reviewTextLength  2563634 non-null  Int32         \n",
            " 9   summary           2564538 non-null  object        \n",
            " 10  summaryLength     2564538 non-null  Int32         \n",
            " 11  vote              2565349 non-null  Int32         \n",
            " 12  styleStr          2565349 non-null  object        \n",
            " 13  numStyles         2565349 non-null  uint8         \n",
            " 14  numImages         2565349 non-null  uint8         \n",
            "dtypes: Int32(3), bool(1), datetime64[ns](1), int64(1), object(5), uint8(4)\n",
            "memory usage: 185.9+ MB\n",
            "None\n"
          ]
        }
      ]
    },
    {
      "cell_type": "code",
      "source": [
        "print(dfReviews.describe(include='all', datetime_is_numeric=True))"
      ],
      "metadata": {
        "colab": {
          "base_uri": "https://localhost:8080/"
        },
        "id": "RxXXgre_d2GP",
        "outputId": "2761f94f-eed1-4c15-ca6b-a96b09f7be04"
      },
      "execution_count": 22,
      "outputs": [
        {
          "output_type": "stream",
          "name": "stdout",
          "text": [
            "              asin        rating verified                     reviewTime  \\\n",
            "count      2565349  2.565349e+06  2565349                        2565349   \n",
            "unique       71982           NaN        2                            NaN   \n",
            "top     B00178630A           NaN     True                            NaN   \n",
            "freq          7630           NaN  1948309                            NaN   \n",
            "mean           NaN  4.022095e+00      NaN  2014-01-02 12:36:22.928249600   \n",
            "min            NaN  1.000000e+00      NaN            1997-11-08 00:00:00   \n",
            "25%            NaN  3.000000e+00      NaN            2012-12-28 00:00:00   \n",
            "50%            NaN  5.000000e+00      NaN            2015-01-22 00:00:00   \n",
            "75%            NaN  5.000000e+00      NaN            2016-06-09 00:00:00   \n",
            "max            NaN  5.000000e+00      NaN            2018-10-02 00:00:00   \n",
            "std            NaN  1.405936e+00      NaN                            NaN   \n",
            "\n",
            "            timeDiff    recentness     reviewerID reviewText  \\\n",
            "count   2.565349e+06  2.565349e+06        2565349    2563634   \n",
            "unique           NaN           NaN        1540618    2196727   \n",
            "top              NaN           NaN  AJKWF4W7QD4NS       Good   \n",
            "freq             NaN           NaN            888       6862   \n",
            "mean    1.734475e+03  1.877930e+01            NaN        NaN   \n",
            "min     1.000000e+00  0.000000e+00            NaN        NaN   \n",
            "25%     8.460000e+02  9.000000e+00            NaN        NaN   \n",
            "50%     1.350000e+03  1.500000e+01            NaN        NaN   \n",
            "75%     2.105000e+03  2.300000e+01            NaN        NaN   \n",
            "max     7.634000e+03  8.400000e+01            NaN        NaN   \n",
            "std     1.341876e+03  1.491227e+01            NaN        NaN   \n",
            "\n",
            "        reviewTextLength     summary  summaryLength          vote styleStr  \\\n",
            "count       2.563634e+06     2564538   2.564538e+06  2.565349e+06  2565349   \n",
            "unique               NaN     1301602            NaN           NaN       38   \n",
            "top                  NaN  Five Stars            NaN           NaN            \n",
            "freq                 NaN      433693            NaN           NaN  1245377   \n",
            "mean        4.010472e+02         NaN   2.342733e+01  1.449120e+00      NaN   \n",
            "min         1.000000e+00         NaN   1.000000e+00  0.000000e+00      NaN   \n",
            "25%         5.500000e+01         NaN   1.000000e+01  0.000000e+00      NaN   \n",
            "50%         1.510000e+02         NaN   1.600000e+01  0.000000e+00      NaN   \n",
            "75%         3.980000e+02         NaN   3.100000e+01  0.000000e+00      NaN   \n",
            "max         3.272100e+04         NaN   3.000000e+02  5.154000e+03      NaN   \n",
            "std         8.113025e+02         NaN   1.876871e+01  1.289650e+01      NaN   \n",
            "\n",
            "           numStyles     numImages  \n",
            "count   2.565349e+06  2.565349e+06  \n",
            "unique           NaN           NaN  \n",
            "top              NaN           NaN  \n",
            "freq             NaN           NaN  \n",
            "mean    6.347105e-01  2.274817e-02  \n",
            "min     0.000000e+00  0.000000e+00  \n",
            "25%     0.000000e+00  0.000000e+00  \n",
            "50%     1.000000e+00  0.000000e+00  \n",
            "75%     1.000000e+00  0.000000e+00  \n",
            "max     3.000000e+00  5.400000e+01  \n",
            "std     6.902011e-01  3.077533e-01  \n"
          ]
        }
      ]
    },
    {
      "cell_type": "code",
      "source": [
        "dfReviewsTest = dfReviews.merge(dfProd)"
      ],
      "metadata": {
        "id": "qC2FtQoSMdcn"
      },
      "execution_count": null,
      "outputs": []
    },
    {
      "cell_type": "code",
      "source": [
        "# dfReviews.to_json('gdrive/MyDrive/amazon_data/clean_Video_Games.json', orient='split')"
      ],
      "metadata": {
        "id": "OgWjK839XJVU"
      },
      "execution_count": null,
      "outputs": []
    },
    {
      "cell_type": "markdown",
      "source": [
        "#### Sentiment Analysis"
      ],
      "metadata": {
        "id": "YIdzT0ZlI4Hx"
      }
    },
    {
      "cell_type": "code",
      "source": [
        "# code help: https://www.kaggle.com/code/robikscube/sentiment-analysis-python-youtube-tutorial/notebook\n",
        "sia = SentimentIntensityAnalyzer()\n",
        "\n",
        "# get polarity score on dfReviews\n",
        "summaryPolarity = {}\n",
        "for i, row in dfReviews.iterrows():\n",
        "    text = str(row['reviewText'])\n",
        "    ps = sia.polarity_scores(text)\n",
        "    ps['text'] = text\n",
        "    summaryPolarity[i] = ps\n",
        "dfSummaryPolarity = pd.DataFrame(summaryPolarity).T\n",
        "# dfSummaryPolarity = dfSummaryPolarity.reset_index().rename(columns={'index': 'Id'})\n",
        "# dfSummaryPolarity = dfSummaryPolarity.merge(dfReviews, how='left')"
      ],
      "metadata": {
        "id": "F5Z9JvN3Ybj9"
      },
      "execution_count": 23,
      "outputs": []
    },
    {
      "cell_type": "code",
      "source": [
        "# merge into dfReviews\n",
        "dfReviews = dfReviews.merge(dfSummaryPolarity, left_index=True, right_index=True)"
      ],
      "metadata": {
        "id": "7_1f209j7t-T"
      },
      "execution_count": 40,
      "outputs": []
    },
    {
      "cell_type": "markdown",
      "source": [
        "### Plots"
      ],
      "metadata": {
        "id": "KKtOX83NIuMR"
      }
    },
    {
      "cell_type": "code",
      "source": [
        "# review recentness\n",
        "dfRecentness.plot.bar(x='Recentness', y='Frequency', figsize=(15,6), title='Recentness Count', ylabel='Count')"
      ],
      "metadata": {
        "colab": {
          "base_uri": "https://localhost:8080/",
          "height": 425
        },
        "id": "mlxQ3bxkYQK5",
        "outputId": "31be46a1-8ca0-4d8e-f8b8-50c64d028048"
      },
      "execution_count": 24,
      "outputs": [
        {
          "output_type": "execute_result",
          "data": {
            "text/plain": [
              "<matplotlib.axes._subplots.AxesSubplot at 0x7feab1a44c90>"
            ]
          },
          "metadata": {},
          "execution_count": 24
        },
        {
          "output_type": "display_data",
          "data": {
            "text/plain": [
              "<Figure size 1080x432 with 1 Axes>"
            ],
            "image/png": "[encoded data removed]"
          },
          "metadata": {
            "needs_background": "light"
          }
        }
      ]
    },
    {
      "cell_type": "code",
      "source": [
        "# rating distribution\n",
        "# dfReviews['rating'].value_counts().sort_index().plot(kind='bar', title='Rating Distribution',\n",
        "#                                                      xlabel='Rating', ylabel='Count')\n",
        "\n",
        "dfRatingsByVerified = dfReviews.groupby('verified', sort=False).rating.value_counts(normalize=False).unstack(0)\n",
        "dfRatingsByVerified.plot.bar(xlabel='Rating', ylabel='Count', title='Overall Rating Counts by Verification Status')\n",
        "\n",
        "dfRatingsByVerified = dfReviews.groupby('verified', sort=False).rating.value_counts(normalize=True).unstack(0)\n",
        "dfRatingsByVerified.plot.bar(xlabel='Rating', ylabel='Percentage', \n",
        "                            title='Overall Rating Distribution Percentage Conditioned on Verification Status')"
      ],
      "metadata": {
        "colab": {
          "base_uri": "https://localhost:8080/",
          "height": 585
        },
        "id": "zYSJJ7GjYTXA",
        "outputId": "977a82f0-78d1-4c8f-9a91-088753a2d575"
      },
      "execution_count": 105,
      "outputs": [
        {
          "output_type": "execute_result",
          "data": {
            "text/plain": [
              "<matplotlib.axes._subplots.AxesSubplot at 0x7f70134d7690>"
            ]
          },
          "metadata": {},
          "execution_count": 105
        },
        {
          "output_type": "display_data",
          "data": {
            "text/plain": [
              "<Figure size 432x288 with 1 Axes>"
            ],
            "image/png": "[encoded data removed]"
          },
          "metadata": {
            "needs_background": "light"
          }
        },
        {
          "output_type": "display_data",
          "data": {
            "text/plain": [
              "<Figure size 432x288 with 1 Axes>"
            ],
            "image/png": "[encoded data removed]"
          },
          "metadata": {
            "needs_background": "light"
          }
        }
      ]
    },
    {
      "cell_type": "code",
      "source": [
        "dfReviews.boxplot(column='compound', by='rating')"
      ],
      "metadata": {
        "colab": {
          "base_uri": "https://localhost:8080/",
          "height": 375
        },
        "id": "1XU5TcFn_DiZ",
        "outputId": "85ccc31f-c22d-4422-dfc7-9f65130812f1"
      },
      "execution_count": 44,
      "outputs": [
        {
          "output_type": "stream",
          "name": "stderr",
          "text": [
            "/usr/local/lib/python3.7/dist-packages/matplotlib/cbook/__init__.py:1376: VisibleDeprecationWarning: Creating an ndarray from ragged nested sequences (which is a list-or-tuple of lists-or-tuples-or ndarrays with different lengths or shapes) is deprecated. If you meant to do this, you must specify 'dtype=object' when creating the ndarray.\n",
            "  X = np.atleast_1d(X.T if isinstance(X, np.ndarray) else np.asarray(X))\n"
          ]
        },
        {
          "output_type": "execute_result",
          "data": {
            "text/plain": [
              "<matplotlib.axes._subplots.AxesSubplot at 0x7ff5462bb610>"
            ]
          },
          "metadata": {},
          "execution_count": 44
        },
        {
          "output_type": "display_data",
          "data": {
            "text/plain": [
              "<Figure size 432x288 with 1 Axes>"
            ],
            "image/png": "[encoded data removed]"
          },
          "metadata": {
            "needs_background": "light"
          }
        }
      ]
    },
    {
      "cell_type": "markdown",
      "source": [
        "#### Aggregate Reviews"
      ],
      "metadata": {
        "id": "aJZBQ32hGqVK"
      }
    },
    {
      "cell_type": "code",
      "source": [
        "# get mean rating, total numbers of reviews, and verified reviews per asin\n",
        "gcAsin = dfReviews.groupby(['asin'], as_index=False).agg({'rating': 'mean', 'reviewerID': 'count', 'verified': 'sum'})\n",
        "gcAsin = gcAsin.rename(columns={'rating': 'meanRating', 'reviewerID': 'numReviews', 'verified': 'numVerifiedReviews'})\n",
        "\n",
        "gcAsin['percentageVerifiedReviews'] = gcAsin['numVerifiedReviews'] / gcAsin['numReviews']\n",
        "# gcAsin = gcAsin.sort_values(by=['numReviews', 'asin'], ascending=[False, True], ignore_index=True)"
      ],
      "metadata": {
        "id": "d5rD7RegDJZY"
      },
      "execution_count": 45,
      "outputs": []
    },
    {
      "cell_type": "code",
      "source": [
        "gcAsin['percentageVerifiedReviews'].plot.hist(bins=10)"
      ],
      "metadata": {
        "colab": {
          "base_uri": "https://localhost:8080/",
          "height": 283
        },
        "id": "cBWlF1nnCCii",
        "outputId": "ca779584-b6fe-43b2-a2be-e01d9e7147d7"
      },
      "execution_count": 46,
      "outputs": [
        {
          "output_type": "execute_result",
          "data": {
            "text/plain": [
              "<matplotlib.axes._subplots.AxesSubplot at 0x7ff54743f1d0>"
            ]
          },
          "metadata": {},
          "execution_count": 46
        },
        {
          "output_type": "display_data",
          "data": {
            "text/plain": [
              "<Figure size 432x288 with 1 Axes>"
            ],
            "image/png": "[encoded data removed]"
          },
          "metadata": {
            "needs_background": "light"
          }
        }
      ]
    },
    {
      "cell_type": "code",
      "source": [
        "# get mean rating and total counts per asin per verified\n",
        "gcAsinVer = dfReviews.groupby(['asin', 'verified'], as_index=False).agg({'rating': 'mean', 'reviewerID': 'count'})\n",
        "gcAsinVer = gcAsinVer.rename(columns={'rating': 'avgRating', 'reviewerID': 'numReviews'})\n",
        "gcAsinVer = gcAsinVer.sort_values(by=['numReviews', 'asin', 'verified'], ascending=[False, True, True], ignore_index=True)"
      ],
      "metadata": {
        "id": "Iskz-yaoYc5b"
      },
      "execution_count": 47,
      "outputs": []
    },
    {
      "cell_type": "code",
      "source": [
        "# plot scatterplot of ratings vs. number of reviews per product for verified and unverified reviews respectively\n",
        "gcVerified = gcAsinVer.loc[gcAsinVer['verified'] == True]\n",
        "gcUnverified = gcAsinVer.loc[gcAsinVer['verified'] == False]\n",
        "\n",
        "plt.figure()\n",
        "plt.plot(gcVerified['numReviews'], gcVerified['avgRating'], '.', markersize=3, label='Verified')\n",
        "plt.plot(gcUnverified['numReviews'], gcUnverified['avgRating'], '.', markersize=3, label='Unverified')\n",
        "plt.title('Mean Product Rating vs. Number of Reviews')\n",
        "plt.xlabel('Number of Reviews')\n",
        "plt.ylabel('Mean Product Rating')\n",
        "plt.legend()\n",
        "plt.show()"
      ],
      "metadata": {
        "colab": {
          "base_uri": "https://localhost:8080/",
          "height": 295
        },
        "id": "-14N7qUhYiOg",
        "outputId": "0c4511bc-befe-46f9-cc30-02fdf5bc4070"
      },
      "execution_count": 48,
      "outputs": [
        {
          "output_type": "display_data",
          "data": {
            "text/plain": [
              "<Figure size 432x288 with 1 Axes>"
            ],
            "image/png": "[encoded data removed]"
          },
          "metadata": {
            "needs_background": "light"
          }
        }
      ]
    },
    {
      "cell_type": "markdown",
      "source": [
        "## Aggregate Data"
      ],
      "metadata": {
        "id": "eiQ7-fk-yoaN"
      }
    },
    {
      "cell_type": "code",
      "source": [
        "# merge reviews data and metadata together\n",
        "dfAggr = dfReviews.merge(dfProd, how='inner', on='asin')"
      ],
      "metadata": {
        "id": "tMneL2tFckXN"
      },
      "execution_count": 105,
      "outputs": []
    },
    {
      "cell_type": "code",
      "source": [
        "dfAggr.info()"
      ],
      "metadata": {
        "colab": {
          "base_uri": "https://localhost:8080/"
        },
        "id": "GihhKNi5cpLf",
        "outputId": "a8098a9f-bb13-4098-e049-832ec1023792"
      },
      "execution_count": 106,
      "outputs": [
        {
          "output_type": "stream",
          "name": "stdout",
          "text": [
            "<class 'pandas.core.frame.DataFrame'>\n",
            "Int64Index: 1587441 entries, 0 to 1587440\n",
            "Data columns (total 36 columns):\n",
            " #   Column            Non-Null Count    Dtype         \n",
            "---  ------            --------------    -----         \n",
            " 0   asin              1587441 non-null  object        \n",
            " 1   rating            1587441 non-null  uint8         \n",
            " 2   verified          1587441 non-null  bool          \n",
            " 3   reviewTime        1587441 non-null  datetime64[ns]\n",
            " 4   timeDiff          1587441 non-null  int64         \n",
            " 5   recentness        1587441 non-null  uint8         \n",
            " 6   reviewerID        1587441 non-null  object        \n",
            " 7   reviewText        1586391 non-null  object        \n",
            " 8   reviewTextLength  1586391 non-null  Int32         \n",
            " 9   summary           1586978 non-null  object        \n",
            " 10  summaryLength     1586978 non-null  Int32         \n",
            " 11  vote              1587441 non-null  Int32         \n",
            " 12  styleStr          1587441 non-null  object        \n",
            " 13  numStyles         1587441 non-null  uint8         \n",
            " 14  numImages_x       1587441 non-null  uint8         \n",
            " 15  neg               1587441 non-null  object        \n",
            " 16  neu               1587441 non-null  object        \n",
            " 17  pos               1587441 non-null  object        \n",
            " 18  compound          1587441 non-null  object        \n",
            " 19  text              1587441 non-null  object        \n",
            " 20  title             1587441 non-null  object        \n",
            " 21  brand             1587441 non-null  object        \n",
            " 22  category_y        1587441 non-null  object        \n",
            " 23  price             160547 non-null   float64       \n",
            " 24  rank1             1587441 non-null  object        \n",
            " 25  rank2             1558948 non-null  object        \n",
            " 26  category2         1558948 non-null  object        \n",
            " 27  rank3             246100 non-null   object        \n",
            " 28  category3         246100 non-null   object        \n",
            " 29  rank4             127426 non-null   object        \n",
            " 30  category4         127426 non-null   object        \n",
            " 31  numImages_y       1587441 non-null  uint8         \n",
            " 32  numHighResImages  1587441 non-null  uint8         \n",
            " 33  main_cat          1587441 non-null  object        \n",
            " 34  details           1586711 non-null  object        \n",
            " 35  feature           1587441 non-null  object        \n",
            "dtypes: Int32(3), bool(1), datetime64[ns](1), float64(1), int64(1), object(23), uint8(6)\n",
            "memory usage: 360.3+ MB\n"
          ]
        }
      ]
    }
  ]
}