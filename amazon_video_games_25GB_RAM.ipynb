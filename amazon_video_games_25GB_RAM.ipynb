{
  "nbformat": 4,
  "nbformat_minor": 0,
  "metadata": {
    "colab": {
      "provenance": [],
      "collapsed_sections": [],
      "machine_shape": "hm",
      "toc_visible": true,
      "include_colab_link": true
    },
    "kernelspec": {
      "name": "python3",
      "display_name": "Python 3"
    }
  },
  "cells": [
    {
      "cell_type": "markdown",
      "metadata": {
        "id": "view-in-github",
        "colab_type": "text"
      },
      "source": [
        "<a href=\"https://colab.research.google.com/github/ting486/Consumer-Reviews-And-Purchasing-Decisions/blob/main/amazon_video_games_25GB_RAM.ipynb\" target=\"_parent\"><img src=\"https://colab.research.google.com/assets/colab-badge.svg\" alt=\"Open In Colab\"/></a>"
      ]
    },
    {
      "cell_type": "markdown",
      "source": [
        "# Consumer Reviews Data Analysis"
      ],
      "metadata": {
        "id": "eIHRC7jrHy5G"
      }
    },
    {
      "cell_type": "markdown",
      "source": [
        "## Notebook Setup"
      ],
      "metadata": {
        "id": "n3EsQGHqIARN"
      }
    },
    {
      "cell_type": "code",
      "source": [
        "# check available RAM\n",
        "!free -h"
      ],
      "metadata": {
        "colab": {
          "base_uri": "https://localhost:8080/"
        },
        "id": "8y5jVIQG8B1k",
        "outputId": "830e59d4-a02a-408a-92ec-9a8363a1b106"
      },
      "execution_count": 163,
      "outputs": [
        {
          "output_type": "stream",
          "name": "stdout",
          "text": [
            "              total        used        free      shared  buff/cache   available\n",
            "Mem:            25G         10G         13G        1.2M        1.5G         17G\n",
            "Swap:            0B          0B          0B\n"
          ]
        }
      ]
    },
    {
      "cell_type": "code",
      "metadata": {
        "id": "tAb77yZ9fzMG",
        "colab": {
          "base_uri": "https://localhost:8080/"
        },
        "outputId": "983b6624-26f1-40ef-9660-2629ae6a7b07"
      },
      "source": [
        "# data source: http://deepyeti.ucsd.edu/jianmo/amazon/index.html\n",
        "import pandas as pd\n",
        "import json\n",
        "import numpy as np\n",
        "from matplotlib import pyplot as plt\n",
        "import seaborn as sns\n",
        "import datetime\n",
        "import time\n",
        "import re\n",
        "import nltk\n",
        "from nltk.sentiment import SentimentIntensityAnalyzer\n",
        "nltk.download(['vader_lexicon','stopwords'])"
      ],
      "execution_count": 2,
      "outputs": [
        {
          "output_type": "stream",
          "name": "stderr",
          "text": [
            "[nltk_data] Downloading package vader_lexicon to /root/nltk_data...\n",
            "[nltk_data]   Package vader_lexicon is already up-to-date!\n",
            "[nltk_data] Downloading package stopwords to /root/nltk_data...\n",
            "[nltk_data]   Package stopwords is already up-to-date!\n"
          ]
        },
        {
          "output_type": "execute_result",
          "data": {
            "text/plain": [
              "True"
            ]
          },
          "metadata": {},
          "execution_count": 2
        }
      ]
    },
    {
      "cell_type": "code",
      "metadata": {
        "id": "pafL7Li0jyXW",
        "colab": {
          "base_uri": "https://localhost:8080/"
        },
        "outputId": "02b41885-44a5-49a5-a173-67474529fae7"
      },
      "source": [
        "from google.colab import drive\n",
        "drive.mount('/content/gdrive')"
      ],
      "execution_count": 3,
      "outputs": [
        {
          "output_type": "stream",
          "name": "stdout",
          "text": [
            "Drive already mounted at /content/gdrive; to attempt to forcibly remount, call drive.mount(\"/content/gdrive\", force_remount=True).\n"
          ]
        }
      ]
    },
    {
      "cell_type": "markdown",
      "source": [
        "## Product Data"
      ],
      "metadata": {
        "id": "NOHrBPO6yQEI"
      }
    },
    {
      "cell_type": "markdown",
      "source": [
        "### Data Initialization"
      ],
      "metadata": {
        "id": "g_wYGAc28EsL"
      }
    },
    {
      "cell_type": "code",
      "source": [
        "# get products data\n",
        "dfProd = pd.read_json('gdrive/MyDrive/amazon_data/meta_Video_Games.json', lines=True)"
      ],
      "metadata": {
        "id": "WSfhqrxyY6nh"
      },
      "execution_count": 4,
      "outputs": []
    },
    {
      "cell_type": "code",
      "source": [
        "print(dfProd.info(show_counts=True))"
      ],
      "metadata": {
        "colab": {
          "base_uri": "https://localhost:8080/"
        },
        "id": "lVJNlCmmZGnu",
        "outputId": "3b601052-0b18-42e9-e923-6f656785750c"
      },
      "execution_count": 5,
      "outputs": [
        {
          "output_type": "stream",
          "name": "stdout",
          "text": [
            "<class 'pandas.core.frame.DataFrame'>\n",
            "RangeIndex: 84819 entries, 0 to 84818\n",
            "Data columns (total 19 columns):\n",
            " #   Column           Non-Null Count  Dtype \n",
            "---  ------           --------------  ----- \n",
            " 0   category         84819 non-null  object\n",
            " 1   tech1            84819 non-null  object\n",
            " 2   description      84819 non-null  object\n",
            " 3   fit              84819 non-null  object\n",
            " 4   title            84819 non-null  object\n",
            " 5   also_buy         84819 non-null  object\n",
            " 6   tech2            84819 non-null  object\n",
            " 7   brand            84819 non-null  object\n",
            " 8   feature          84819 non-null  object\n",
            " 9   rank             84819 non-null  object\n",
            " 10  also_view        84819 non-null  object\n",
            " 11  main_cat         84819 non-null  object\n",
            " 12  similar_item     84819 non-null  object\n",
            " 13  date             84819 non-null  object\n",
            " 14  price            84819 non-null  object\n",
            " 15  asin             84819 non-null  object\n",
            " 16  imageURL         84819 non-null  object\n",
            " 17  imageURLHighRes  84819 non-null  object\n",
            " 18  details          84712 non-null  object\n",
            "dtypes: object(19)\n",
            "memory usage: 12.3+ MB\n",
            "None\n"
          ]
        }
      ]
    },
    {
      "cell_type": "code",
      "source": [
        "print(dfProd.head())"
      ],
      "metadata": {
        "colab": {
          "base_uri": "https://localhost:8080/"
        },
        "id": "XxXoRDQlJMak",
        "outputId": "43beb638-cacc-4d24-fbaf-f01d201d2c18"
      },
      "execution_count": 6,
      "outputs": [
        {
          "output_type": "stream",
          "name": "stdout",
          "text": [
            "                                            category tech1  \\\n",
            "0                           [Video Games, PC, Games]         \n",
            "1  [Video Games, Xbox 360, Games, </span></span><...         \n",
            "2  [Video Games, Retro Gaming & Microconsoles, Su...         \n",
            "3  [Video Games, Xbox 360, Accessories, Controlle...         \n",
            "4  [Video Games, PC, Games, </span></span></span>...         \n",
            "\n",
            "                                         description fit  \\\n",
            "0                                                 []       \n",
            "1                                [Brand new sealed!]       \n",
            "2                                                 []       \n",
            "3  [MAS's Pro Xbox 360 Stick (Perfect 360 Stick) ...       \n",
            "4  [Phonics Alive! 3, The Speller teaches student...       \n",
            "\n",
            "                                               title      also_buy tech2  \\\n",
            "0                         Reversi Sensory Challenger            []         \n",
            "1  Medal of Honor: Warfighter - Includes Battlefi...  [B00PADROYW]         \n",
            "2  street fighter 2 II turbo super nintendo snes ...            []         \n",
            "3                                 Xbox 360 MAS STICK            []         \n",
            "4                      Phonics Alive! 3: The Speller            []         \n",
            "\n",
            "                                       brand  \\\n",
            "0                       Fidelity Electronics   \n",
            "1                     by\\n    \\n    EA Games   \n",
            "2                                   Nintendo   \n",
            "3                  by\\n    \\n    MAS SYSTEMS   \n",
            "4  by\\n    \\n    Advanced Software Pty. Ltd.   \n",
            "\n",
            "                                             feature  \\\n",
            "0                                                 []   \n",
            "1                                                 []   \n",
            "2                                                 []   \n",
            "3  [Original PCB used from Xbox 360 Control Pad (...   \n",
            "4  [Grades 2-12, Spelling Program, Teaches Spelli...   \n",
            "\n",
            "                                                rank  \\\n",
            "0  [>#2,623,937 in Toys &amp; Games (See Top 100 ...   \n",
            "1  [>#67,231 in Video Games (See Top 100 in Video...   \n",
            "2  [>#134,433 in Video Games (See Top 100 in Vide...   \n",
            "3  [>#105,263 in Video Games (See Top 100 in Vide...   \n",
            "4  [>#92,397 in Video Games (See Top 100 in Video...   \n",
            "\n",
            "                                           also_view          main_cat  \\\n",
            "0                                                 []  Toys &amp; Games   \n",
            "1  [B0050SY5BM, B072NQJCW5, B000TI836G, B002SRSQ7...       Video Games   \n",
            "2                                                 []       Video Games   \n",
            "3                                                 []       Video Games   \n",
            "4                                       [B000BCZ7U0]       Video Games   \n",
            "\n",
            "  similar_item date                                              price  \\\n",
            "0                                                                        \n",
            "1                    \\n\\t\\t\\t\\t\\t\\t\\t\\t\\t\\t\\t\\t<span class=\"vertica...   \n",
            "2                                                                $0.72   \n",
            "3                                                                        \n",
            "4                                                                        \n",
            "\n",
            "         asin                                           imageURL  \\\n",
            "0  0042000742  [https://images-na.ssl-images-amazon.com/image...   \n",
            "1  0078764343  [https://images-na.ssl-images-amazon.com/image...   \n",
            "2  0276425316                                                 []   \n",
            "3  0324411812  [https://images-na.ssl-images-amazon.com/image...   \n",
            "4  0439335310  [https://images-na.ssl-images-amazon.com/image...   \n",
            "\n",
            "                                     imageURLHighRes details  \n",
            "0  [https://images-na.ssl-images-amazon.com/image...     NaN  \n",
            "1  [https://images-na.ssl-images-amazon.com/image...     NaN  \n",
            "2                                                 []     NaN  \n",
            "3  [https://images-na.ssl-images-amazon.com/image...     NaN  \n",
            "4  [https://images-na.ssl-images-amazon.com/image...     NaN  \n"
          ]
        }
      ]
    },
    {
      "cell_type": "markdown",
      "source": [
        "### Data Cleaning"
      ],
      "metadata": {
        "id": "SEuU0wkLyfhJ"
      }
    },
    {
      "cell_type": "code",
      "source": [
        "# drop duplicates\n",
        "dfProdDup = dfProd.loc[dfProd.duplicated(['asin'])]\n",
        "dfProdDup = dfProd.loc[dfProd['asin'].isin(list(dfProdDup['asin']))]\n",
        "dfProdDup = dfProdDup.sort_values(by='asin')\n",
        "\n",
        "dfProd = dfProd.drop_duplicates(['asin'], ignore_index=True)"
      ],
      "metadata": {
        "id": "D-5z3ACfeAdV"
      },
      "execution_count": 7,
      "outputs": []
    },
    {
      "cell_type": "markdown",
      "source": [
        "#### Rank"
      ],
      "metadata": {
        "id": "hmXhly68c4Br"
      }
    },
    {
      "cell_type": "code",
      "source": [
        "dfProd['rank'] = dfProd['rank'].apply(lambda x: [x] if len(x) > 4 else x)\n",
        "\n",
        "def rank_mod(s):\n",
        "  res = [ss.replace(',', '').replace('&amp;', '&').replace('\\n', '').replace('\\t', '').replace('\\\\', '').replace('#',\n",
        "             '').replace('&gt;', '>').lstrip('>').rstrip(' (') for ss in s]\n",
        "  res = [re.sub(\" ([\\(\\[]).*?([\\)\\]])\", \"\", r) for r in res]\n",
        "  res = sorted(res, key=lambda x: x.count('>'))\n",
        "\n",
        "  res = [item.split(' in ', 1) for item in res]\n",
        "  res = [item for l in res for item in l]\n",
        "\n",
        "  return res\n",
        "\n",
        "dfProd['rank'] = dfProd['rank'].apply(lambda x: rank_mod(x))"
      ],
      "metadata": {
        "id": "4Jf846a5ZfPk"
      },
      "execution_count": 8,
      "outputs": []
    },
    {
      "cell_type": "code",
      "source": [
        "dfProdRank = pd.DataFrame(dfProd['rank'].to_list(), columns=['rank1', 'category1', 'rank2', 'category2',\n",
        "                                                              'rank3', 'category3', 'rank4', 'category4'])"
      ],
      "metadata": {
        "id": "H93mQ74nRZYK"
      },
      "execution_count": 9,
      "outputs": []
    },
    {
      "cell_type": "code",
      "source": [
        "dfProdRank = dfProdRank.merge(dfProd, left_index=True, right_index=True)\n",
        "dfProdRank = dfProdRank[['rank1', 'category1', 'rank2', 'category2', 'rank3', 'category3', 'rank4', 'category4',\n",
        "                         'asin', 'title', 'main_cat', 'category']]"
      ],
      "metadata": {
        "id": "egWCiAIplDYa"
      },
      "execution_count": 10,
      "outputs": []
    },
    {
      "cell_type": "code",
      "source": [
        "dfProdRank = dfProdRank.loc[dfProdRank['category1'].notna()]\n",
        "dfProdRank['category1'] = dfProdRank.category1.str.replace(r'^Video Games.*', 'Video Games', regex=True)\n",
        "dfProdRank['category'] = [','.join(map(str, l)) for l in dfProdRank['category']]\n",
        "\n",
        "# only use the products that have a BSR in category Video Games, for easier comparison amongst video game products\n",
        "dfProdRank = dfProdRank.loc[dfProdRank['category1'] == 'Video Games']\n",
        "\n",
        "# remove irrelevant products like accessories\n",
        "dfProdRank = dfProdRank.loc[(dfProdRank['main_cat'].isin(['Video Games', 'Sports & Outdoors', ''])) & \n",
        "                              (~dfProdRank['category'].str.contains('accessories', case=False))]"
      ],
      "metadata": {
        "colab": {
          "base_uri": "https://localhost:8080/"
        },
        "id": "Wm3OrmoqcQFX",
        "outputId": "32a3ad06-5538-4acc-e801-4c4dff422a5b"
      },
      "execution_count": 11,
      "outputs": [
        {
          "output_type": "stream",
          "name": "stderr",
          "text": [
            "/usr/local/lib/python3.7/dist-packages/ipykernel_launcher.py:2: SettingWithCopyWarning: \n",
            "A value is trying to be set on a copy of a slice from a DataFrame.\n",
            "Try using .loc[row_indexer,col_indexer] = value instead\n",
            "\n",
            "See the caveats in the documentation: https://pandas.pydata.org/pandas-docs/stable/user_guide/indexing.html#returning-a-view-versus-a-copy\n",
            "  \n"
          ]
        }
      ]
    },
    {
      "cell_type": "code",
      "source": [
        "# merge rank info into original product data\n",
        "dfProd = dfProd.merge(dfProdRank, how='inner', on='asin', suffixes=('', '_y'))"
      ],
      "metadata": {
        "id": "giMyZ2qKax1_"
      },
      "execution_count": 12,
      "outputs": []
    },
    {
      "cell_type": "code",
      "source": [
        "dfProd = dfProd.astype({'rank1': 'float64', 'rank2': 'float64', 'rank3': 'float64', 'rank4': 'float64'})\n",
        "dfProd = dfProd.astype({'rank1': 'Int64', 'rank2': 'Int64', 'rank3': 'Int64', 'rank4': 'Int64'})"
      ],
      "metadata": {
        "id": "RDIsK-0GDzO1"
      },
      "execution_count": 13,
      "outputs": []
    },
    {
      "cell_type": "markdown",
      "source": [
        "#### Brand"
      ],
      "metadata": {
        "id": "32yN3642hky1"
      }
    },
    {
      "cell_type": "code",
      "source": [
        "dfProd['brand'] = dfProd['brand'].str.replace('by\\n', '', regex=True)\n",
        "dfProd['brand'] = dfProd['brand'].str.replace('\\n', '', regex=True)\n",
        "dfProd['brand'] = dfProd['brand'].str.replace('by ', '', regex=True)\n",
        "dfProd['brand'] = dfProd['brand'].str.lstrip()"
      ],
      "metadata": {
        "id": "V4chRc87G4MJ"
      },
      "execution_count": 14,
      "outputs": []
    },
    {
      "cell_type": "code",
      "source": [
        "dfProd = dfProd.replace({'EA': 'Electronic Arts', 'EA Games': 'Electronic Arts', 'At Electronic Arts': 'Electronic Arts',\n",
        "                         'Electronic Arts Sports': 'EA Sports', 'Electronic Arts, Inc.': 'Electronic Arts',\n",
        "                         'Electronic Arts Inc.': 'Electronic Arts', 'Electronic Arts 1001573': 'EA Sports',\n",
        "                         'EA Active': 'EA Sports', 'Electronic Arts UK IMPORT': 'EA Sports'})\n",
        "dfProd = dfProd.replace({'HPS Simulation': 'HPS Simulations'})\n",
        "dfProd = dfProd.replace({'PS1': 'Playstation', 'PS2': 'Playstation', 'PS3': 'Playstation', 'PS4': 'Playstation'})\n",
        "dfProd['brand'] = dfProd.brand.str.replace(r'(^.*PS2.*$)', 'Playstation', regex=True)\n",
        "dfProd['brand'] = dfProd.brand.str.replace(r'(^.*PS 2.*$)', 'Playstation', regex=True)\n",
        "dfProd['brand'] = dfProd.brand.str.replace(r'(^.*PS3.*$)', 'Playstation', regex=True)\n",
        "dfProd['brand'] = dfProd.brand.str.replace(r'(^.*PS 3.*$)', 'Playstation', regex=True)\n",
        "dfProd['brand'] = dfProd.brand.str.replace(r'(^.*PS4.*$)', 'Playstation', regex=True)\n",
        "\n",
        "# dfProd = dfProd.replace({'': None, 'Unknown': None})"
      ],
      "metadata": {
        "id": "hz8N-SId5tS4"
      },
      "execution_count": 15,
      "outputs": []
    },
    {
      "cell_type": "code",
      "source": [
        "# dfProd[['brand', 'title']].loc[dfProd['brand'].str.contains('xbox', case=False)].sort_values(by='brand')"
      ],
      "metadata": {
        "id": "Ru0eTkGa_1Cx"
      },
      "execution_count": null,
      "outputs": []
    },
    {
      "cell_type": "code",
      "source": [
        "# dfProdBrand = dfProd['brand'].value_counts(dropna=False).reset_index()\n",
        "# dfProdBrand"
      ],
      "metadata": {
        "id": "8AQIYxvN5xWe"
      },
      "execution_count": 9,
      "outputs": []
    },
    {
      "cell_type": "markdown",
      "source": [
        "#### Others"
      ],
      "metadata": {
        "id": "SuO-2M7CiXca"
      }
    },
    {
      "cell_type": "code",
      "source": [
        "# clean date\n",
        "# dfProd['date'] = dfProd['date'].replace({'.*div.*': np.nan, '83001177': np.nan, 'Creazydog': np.nan}, regex=True)\n",
        "# dfProd['date'] = pd.to_datetime(dfProd['date'])"
      ],
      "metadata": {
        "id": "gnfOQPKavwSo"
      },
      "execution_count": 180,
      "outputs": []
    },
    {
      "cell_type": "code",
      "source": [
        "# convert price to float dtype\n",
        "def convert_float(x):\n",
        "    try:\n",
        "        return float(x)\n",
        "    except:\n",
        "        return np.nan\n",
        "dfProd['price'] = dfProd['price'].str.replace('$', '', regex=True)\n",
        "dfProd['price'] = dfProd['price'].str.replace(',', '', regex=True)\n",
        "dfProd['price'] = dfProd['price'].replace({'': np.nan})\n",
        "dfProd['price'] = dfProd['price'].apply(lambda p: convert_float(p))"
      ],
      "metadata": {
        "id": "MDbltqxPZZkI"
      },
      "execution_count": 16,
      "outputs": []
    },
    {
      "cell_type": "code",
      "source": [
        "dfProd.info(show_counts=True)"
      ],
      "metadata": {
        "colab": {
          "base_uri": "https://localhost:8080/"
        },
        "id": "STQzSbMnFFvV",
        "outputId": "c62893b3-070b-41a1-e8b1-5c9472fdc8d3"
      },
      "execution_count": 17,
      "outputs": [
        {
          "output_type": "stream",
          "name": "stdout",
          "text": [
            "<class 'pandas.core.frame.DataFrame'>\n",
            "Int64Index: 40943 entries, 0 to 40942\n",
            "Data columns (total 30 columns):\n",
            " #   Column           Non-Null Count  Dtype  \n",
            "---  ------           --------------  -----  \n",
            " 0   category         40943 non-null  object \n",
            " 1   tech1            40943 non-null  object \n",
            " 2   description      40943 non-null  object \n",
            " 3   fit              40943 non-null  object \n",
            " 4   title            40943 non-null  object \n",
            " 5   also_buy         40943 non-null  object \n",
            " 6   tech2            40943 non-null  object \n",
            " 7   brand            40943 non-null  object \n",
            " 8   feature          40943 non-null  object \n",
            " 9   rank             40943 non-null  object \n",
            " 10  also_view        40943 non-null  object \n",
            " 11  main_cat         40943 non-null  object \n",
            " 12  similar_item     40943 non-null  object \n",
            " 13  date             40943 non-null  object \n",
            " 14  price            6856 non-null   float64\n",
            " 15  asin             40943 non-null  object \n",
            " 16  imageURL         40943 non-null  object \n",
            " 17  imageURLHighRes  40943 non-null  object \n",
            " 18  details          40867 non-null  object \n",
            " 19  rank1            40943 non-null  Int64  \n",
            " 20  category1        40943 non-null  object \n",
            " 21  rank2            38639 non-null  Int64  \n",
            " 22  category2        38639 non-null  object \n",
            " 23  rank3            8388 non-null   Int64  \n",
            " 24  category3        8388 non-null   object \n",
            " 25  rank4            5375 non-null   Int64  \n",
            " 26  category4        5375 non-null   object \n",
            " 27  title_y          40943 non-null  object \n",
            " 28  main_cat_y       40943 non-null  object \n",
            " 29  category_y       40943 non-null  object \n",
            "dtypes: Int64(4), float64(1), object(25)\n",
            "memory usage: 9.8+ MB\n"
          ]
        }
      ]
    },
    {
      "cell_type": "markdown",
      "source": [
        "### Data Manipulation"
      ],
      "metadata": {
        "id": "tAg7Ab6vLpb_"
      }
    },
    {
      "cell_type": "code",
      "source": [
        "# count number of images & high resolution images\n",
        "dfProd['numImages'] = dfProd['imageURL'].str.len()\n",
        "dfProd['numHighResImages'] = dfProd['imageURLHighRes'].str.len()"
      ],
      "metadata": {
        "id": "ALJn8OTwZWhi"
      },
      "execution_count": 18,
      "outputs": []
    },
    {
      "cell_type": "code",
      "source": [
        "dfProd['feature'] = [','.join(map(str, l)) for l in dfProd['feature']]"
      ],
      "metadata": {
        "id": "c7hpdBY1PVjA"
      },
      "execution_count": 19,
      "outputs": []
    },
    {
      "cell_type": "code",
      "source": [
        "dfProd['description'] = [','.join(map(str, l)) for l in dfProd['description']]"
      ],
      "metadata": {
        "id": "SrJr3Cr_PzWE"
      },
      "execution_count": 20,
      "outputs": []
    },
    {
      "cell_type": "code",
      "source": [
        "dfProdDetails = dfProd.loc[(~dfProd['details'].isna()) & (dfProd['details'].str.len() > 0)]\n",
        "dfProdDetails = dfProdDetails[['details']]\n",
        "\n",
        "dfProdDetails['details'] = [list(d.keys()) for d in dfProdDetails['details']]\n",
        "dfProdDetails['details'] = [','.join(map(str, l)) for l in dfProdDetails['details']]\n",
        "dfProdDetails['details'] = dfProdDetails['details'].replace({':': '', '\\n': ''}, regex=True)\n",
        "dfProdDetails['details'] = dfProdDetails['details'].replace({' ': ''}, regex=True)\n",
        "\n",
        "dfProd = dfProd.merge(dfProdDetails, how='left', left_index=True, right_index=True)"
      ],
      "metadata": {
        "id": "PP-QL57dFVnz"
      },
      "execution_count": 21,
      "outputs": []
    },
    {
      "cell_type": "code",
      "source": [
        "dfProd['numDetails'] = dfProd['details_x'].str.len()\n",
        "dfProd['numDetails'] = dfProd['numDetails'].fillna(0)"
      ],
      "metadata": {
        "id": "-KqnXdb5P77-"
      },
      "execution_count": 22,
      "outputs": []
    },
    {
      "cell_type": "code",
      "source": [
        "# final touch-up\n",
        "dfProd = dfProd.astype({'numImages': np.uint8, 'numHighResImages': np.uint8, 'numDetails': np.uint8})\n",
        "dfProd = dfProd[['asin', 'title', 'brand', 'category_y', 'price', #'category', \n",
        "                 'rank1', 'rank2', 'category2', 'rank3', 'category3', 'rank4', 'category4',\n",
        "                 'numImages', 'numHighResImages', 'numDetails',\n",
        "                 'main_cat', 'details_y', 'feature'#, 'also_buy', 'also_view', 'similar_item' #'description'\n",
        "                 ]]\n",
        "dfProd = dfProd.rename(columns={'category_y': 'categories', 'details_y': 'details', 'rank1': 'rankVideoGames'})"
      ],
      "metadata": {
        "id": "WcSjtOJYb0-R"
      },
      "execution_count": 23,
      "outputs": []
    },
    {
      "cell_type": "code",
      "source": [
        "dfProd.info(show_counts=True)"
      ],
      "metadata": {
        "colab": {
          "base_uri": "https://localhost:8080/"
        },
        "id": "ffrFIj98b5Jt",
        "outputId": "cca88ddc-ed64-4bf3-931c-3da3fce29415"
      },
      "execution_count": 24,
      "outputs": [
        {
          "output_type": "stream",
          "name": "stdout",
          "text": [
            "<class 'pandas.core.frame.DataFrame'>\n",
            "Int64Index: 40943 entries, 0 to 40942\n",
            "Data columns (total 18 columns):\n",
            " #   Column            Non-Null Count  Dtype  \n",
            "---  ------            --------------  -----  \n",
            " 0   asin              40943 non-null  object \n",
            " 1   title             40943 non-null  object \n",
            " 2   brand             40943 non-null  object \n",
            " 3   categories        40943 non-null  object \n",
            " 4   price             6856 non-null   float64\n",
            " 5   rankVideoGames    40943 non-null  Int64  \n",
            " 6   rank2             38639 non-null  Int64  \n",
            " 7   category2         38639 non-null  object \n",
            " 8   rank3             8388 non-null   Int64  \n",
            " 9   category3         8388 non-null   object \n",
            " 10  rank4             5375 non-null   Int64  \n",
            " 11  category4         5375 non-null   object \n",
            " 12  numImages         40943 non-null  uint8  \n",
            " 13  numHighResImages  40943 non-null  uint8  \n",
            " 14  numDetails        40943 non-null  uint8  \n",
            " 15  main_cat          40943 non-null  object \n",
            " 16  details           63 non-null     object \n",
            " 17  feature           40943 non-null  object \n",
            "dtypes: Int64(4), float64(1), object(10), uint8(3)\n",
            "memory usage: 6.3+ MB\n"
          ]
        }
      ]
    },
    {
      "cell_type": "code",
      "source": [
        "dfProd.describe(include='all')"
      ],
      "metadata": {
        "colab": {
          "base_uri": "https://localhost:8080/",
          "height": 443
        },
        "id": "ym8Sp1RIWHSO",
        "outputId": "c6dc8e70-3733-4c0d-e95e-fbcb2912ad8b"
      },
      "execution_count": 25,
      "outputs": [
        {
          "output_type": "execute_result",
          "data": {
            "text/plain": [
              "              asin                     title            brand  \\\n",
              "count        40943                     40943            40943   \n",
              "unique       40943                     38860             3742   \n",
              "top     0078764343  NBA 2K15 - PlayStation 4  Electronic Arts   \n",
              "freq             1                         9             2422   \n",
              "mean           NaN                       NaN              NaN   \n",
              "std            NaN                       NaN              NaN   \n",
              "min            NaN                       NaN              NaN   \n",
              "25%            NaN                       NaN              NaN   \n",
              "50%            NaN                       NaN              NaN   \n",
              "75%            NaN                       NaN              NaN   \n",
              "max            NaN                       NaN              NaN   \n",
              "\n",
              "                                        categories        price  \\\n",
              "count                                        40943  6856.000000   \n",
              "unique                                        8069          NaN   \n",
              "top     Video Games,PC,Games,</span></span></span>          NaN   \n",
              "freq                                          6704          NaN   \n",
              "mean                                           NaN    51.385702   \n",
              "std                                            NaN    81.081829   \n",
              "min                                            NaN     0.010000   \n",
              "25%                                            NaN    13.987500   \n",
              "50%                                            NaN    27.285000   \n",
              "75%                                            NaN    55.802500   \n",
              "max                                            NaN  1500.000000   \n",
              "\n",
              "        rankVideoGames          rank2                          category2  \\\n",
              "count     40943.000000   38639.000000                              38639   \n",
              "unique             NaN            NaN                                168   \n",
              "top                NaN            NaN  Video Games > PC Games > PC Games   \n",
              "freq               NaN            NaN                               7933   \n",
              "mean      65891.790538    4559.875385                                NaN   \n",
              "std       49863.193910   10739.535219                                NaN   \n",
              "min           2.000000       1.000000                                NaN   \n",
              "25%       26592.500000     416.000000                                NaN   \n",
              "50%       54945.000000    1285.000000                                NaN   \n",
              "75%       93294.000000    5410.000000                                NaN   \n",
              "max      241788.000000  525170.000000                                NaN   \n",
              "\n",
              "               rank3                                     category3  \\\n",
              "count   8.388000e+03                                          8388   \n",
              "unique           NaN                                           150   \n",
              "top              NaN  Video Games > PC Games > Digital Games & DLC   \n",
              "freq             NaN                                          3620   \n",
              "mean    3.996635e+03                                           NaN   \n",
              "std     2.546347e+04                                           NaN   \n",
              "min     1.000000e+00                                           NaN   \n",
              "25%     5.000000e+02                                           NaN   \n",
              "50%     1.868500e+03                                           NaN   \n",
              "75%     4.353250e+03                                           NaN   \n",
              "max     1.510561e+06                                           NaN   \n",
              "\n",
              "               rank4                          category4     numImages  \\\n",
              "count   5.375000e+03                               5375  40943.000000   \n",
              "unique           NaN                                 79           NaN   \n",
              "top              NaN  Video Games > PC Games > PC Games           NaN   \n",
              "freq             NaN                               3588           NaN   \n",
              "mean    7.479761e+03                                NaN      3.020492   \n",
              "std     2.548324e+04                                NaN      3.076086   \n",
              "min     1.000000e+00                                NaN      0.000000   \n",
              "25%     6.965000e+02                                NaN      1.000000   \n",
              "50%     4.586000e+03                                NaN      2.000000   \n",
              "75%     1.083100e+04                                NaN      6.000000   \n",
              "max     1.274165e+06                                NaN     14.000000   \n",
              "\n",
              "        numHighResImages    numDetails     main_cat  \\\n",
              "count       40943.000000  40943.000000        40943   \n",
              "unique               NaN           NaN            3   \n",
              "top                  NaN           NaN  Video Games   \n",
              "freq                 NaN           NaN        40897   \n",
              "mean            3.020492      0.007889          NaN   \n",
              "std             3.076086      0.209820          NaN   \n",
              "min             0.000000      0.000000          NaN   \n",
              "25%             1.000000      0.000000          NaN   \n",
              "50%             2.000000      0.000000          NaN   \n",
              "75%             6.000000      0.000000          NaN   \n",
              "max            14.000000      7.000000          NaN   \n",
              "\n",
              "                                                  details feature  \n",
              "count                                                  63   40943  \n",
              "unique                                                 18   23917  \n",
              "top     ProductDimensions,ShippingWeight,DomesticShipp...          \n",
              "freq                                                   12   11541  \n",
              "mean                                                  NaN     NaN  \n",
              "std                                                   NaN     NaN  \n",
              "min                                                   NaN     NaN  \n",
              "25%                                                   NaN     NaN  \n",
              "50%                                                   NaN     NaN  \n",
              "75%                                                   NaN     NaN  \n",
              "max                                                   NaN     NaN  "
            ],
            "text/html": [
              "\n",
              "  <div id=\"df-031f94ab-efdd-4bbf-87dc-f4222c6a7ee2\">\n",
              "    <div class=\"colab-df-container\">\n",
              "      <div>\n",
              "<style scoped>\n",
              "    .dataframe tbody tr th:only-of-type {\n",
              "        vertical-align: middle;\n",
              "    }\n",
              "\n",
              "    .dataframe tbody tr th {\n",
              "        vertical-align: top;\n",
              "    }\n",
              "\n",
              "    .dataframe thead th {\n",
              "        text-align: right;\n",
              "    }\n",
              "</style>\n",
              "<table border=\"1\" class=\"dataframe\">\n",
              "  <thead>\n",
              "    <tr style=\"text-align: right;\">\n",
              "      <th></th>\n",
              "      <th>asin</th>\n",
              "      <th>title</th>\n",
              "      <th>brand</th>\n",
              "      <th>categories</th>\n",
              "      <th>price</th>\n",
              "      <th>rankVideoGames</th>\n",
              "      <th>rank2</th>\n",
              "      <th>category2</th>\n",
              "      <th>rank3</th>\n",
              "      <th>category3</th>\n",
              "      <th>rank4</th>\n",
              "      <th>category4</th>\n",
              "      <th>numImages</th>\n",
              "      <th>numHighResImages</th>\n",
              "      <th>numDetails</th>\n",
              "      <th>main_cat</th>\n",
              "      <th>details</th>\n",
              "      <th>feature</th>\n",
              "    </tr>\n",
              "  </thead>\n",
              "  <tbody>\n",
              "    <tr>\n",
              "      <th>count</th>\n",
              "      <td>40943</td>\n",
              "      <td>40943</td>\n",
              "      <td>40943</td>\n",
              "      <td>40943</td>\n",
              "      <td>6856.000000</td>\n",
              "      <td>40943.000000</td>\n",
              "      <td>38639.000000</td>\n",
              "      <td>38639</td>\n",
              "      <td>8.388000e+03</td>\n",
              "      <td>8388</td>\n",
              "      <td>5.375000e+03</td>\n",
              "      <td>5375</td>\n",
              "      <td>40943.000000</td>\n",
              "      <td>40943.000000</td>\n",
              "      <td>40943.000000</td>\n",
              "      <td>40943</td>\n",
              "      <td>63</td>\n",
              "      <td>40943</td>\n",
              "    </tr>\n",
              "    <tr>\n",
              "      <th>unique</th>\n",
              "      <td>40943</td>\n",
              "      <td>38860</td>\n",
              "      <td>3742</td>\n",
              "      <td>8069</td>\n",
              "      <td>NaN</td>\n",
              "      <td>NaN</td>\n",
              "      <td>NaN</td>\n",
              "      <td>168</td>\n",
              "      <td>NaN</td>\n",
              "      <td>150</td>\n",
              "      <td>NaN</td>\n",
              "      <td>79</td>\n",
              "      <td>NaN</td>\n",
              "      <td>NaN</td>\n",
              "      <td>NaN</td>\n",
              "      <td>3</td>\n",
              "      <td>18</td>\n",
              "      <td>23917</td>\n",
              "    </tr>\n",
              "    <tr>\n",
              "      <th>top</th>\n",
              "      <td>0078764343</td>\n",
              "      <td>NBA 2K15 - PlayStation 4</td>\n",
              "      <td>Electronic Arts</td>\n",
              "      <td>Video Games,PC,Games,&lt;/span&gt;&lt;/span&gt;&lt;/span&gt;</td>\n",
              "      <td>NaN</td>\n",
              "      <td>NaN</td>\n",
              "      <td>NaN</td>\n",
              "      <td>Video Games &gt; PC Games &gt; PC Games</td>\n",
              "      <td>NaN</td>\n",
              "      <td>Video Games &gt; PC Games &gt; Digital Games &amp; DLC</td>\n",
              "      <td>NaN</td>\n",
              "      <td>Video Games &gt; PC Games &gt; PC Games</td>\n",
              "      <td>NaN</td>\n",
              "      <td>NaN</td>\n",
              "      <td>NaN</td>\n",
              "      <td>Video Games</td>\n",
              "      <td>ProductDimensions,ShippingWeight,DomesticShipp...</td>\n",
              "      <td></td>\n",
              "    </tr>\n",
              "    <tr>\n",
              "      <th>freq</th>\n",
              "      <td>1</td>\n",
              "      <td>9</td>\n",
              "      <td>2422</td>\n",
              "      <td>6704</td>\n",
              "      <td>NaN</td>\n",
              "      <td>NaN</td>\n",
              "      <td>NaN</td>\n",
              "      <td>7933</td>\n",
              "      <td>NaN</td>\n",
              "      <td>3620</td>\n",
              "      <td>NaN</td>\n",
              "      <td>3588</td>\n",
              "      <td>NaN</td>\n",
              "      <td>NaN</td>\n",
              "      <td>NaN</td>\n",
              "      <td>40897</td>\n",
              "      <td>12</td>\n",
              "      <td>11541</td>\n",
              "    </tr>\n",
              "    <tr>\n",
              "      <th>mean</th>\n",
              "      <td>NaN</td>\n",
              "      <td>NaN</td>\n",
              "      <td>NaN</td>\n",
              "      <td>NaN</td>\n",
              "      <td>51.385702</td>\n",
              "      <td>65891.790538</td>\n",
              "      <td>4559.875385</td>\n",
              "      <td>NaN</td>\n",
              "      <td>3.996635e+03</td>\n",
              "      <td>NaN</td>\n",
              "      <td>7.479761e+03</td>\n",
              "      <td>NaN</td>\n",
              "      <td>3.020492</td>\n",
              "      <td>3.020492</td>\n",
              "      <td>0.007889</td>\n",
              "      <td>NaN</td>\n",
              "      <td>NaN</td>\n",
              "      <td>NaN</td>\n",
              "    </tr>\n",
              "    <tr>\n",
              "      <th>std</th>\n",
              "      <td>NaN</td>\n",
              "      <td>NaN</td>\n",
              "      <td>NaN</td>\n",
              "      <td>NaN</td>\n",
              "      <td>81.081829</td>\n",
              "      <td>49863.193910</td>\n",
              "      <td>10739.535219</td>\n",
              "      <td>NaN</td>\n",
              "      <td>2.546347e+04</td>\n",
              "      <td>NaN</td>\n",
              "      <td>2.548324e+04</td>\n",
              "      <td>NaN</td>\n",
              "      <td>3.076086</td>\n",
              "      <td>3.076086</td>\n",
              "      <td>0.209820</td>\n",
              "      <td>NaN</td>\n",
              "      <td>NaN</td>\n",
              "      <td>NaN</td>\n",
              "    </tr>\n",
              "    <tr>\n",
              "      <th>min</th>\n",
              "      <td>NaN</td>\n",
              "      <td>NaN</td>\n",
              "      <td>NaN</td>\n",
              "      <td>NaN</td>\n",
              "      <td>0.010000</td>\n",
              "      <td>2.000000</td>\n",
              "      <td>1.000000</td>\n",
              "      <td>NaN</td>\n",
              "      <td>1.000000e+00</td>\n",
              "      <td>NaN</td>\n",
              "      <td>1.000000e+00</td>\n",
              "      <td>NaN</td>\n",
              "      <td>0.000000</td>\n",
              "      <td>0.000000</td>\n",
              "      <td>0.000000</td>\n",
              "      <td>NaN</td>\n",
              "      <td>NaN</td>\n",
              "      <td>NaN</td>\n",
              "    </tr>\n",
              "    <tr>\n",
              "      <th>25%</th>\n",
              "      <td>NaN</td>\n",
              "      <td>NaN</td>\n",
              "      <td>NaN</td>\n",
              "      <td>NaN</td>\n",
              "      <td>13.987500</td>\n",
              "      <td>26592.500000</td>\n",
              "      <td>416.000000</td>\n",
              "      <td>NaN</td>\n",
              "      <td>5.000000e+02</td>\n",
              "      <td>NaN</td>\n",
              "      <td>6.965000e+02</td>\n",
              "      <td>NaN</td>\n",
              "      <td>1.000000</td>\n",
              "      <td>1.000000</td>\n",
              "      <td>0.000000</td>\n",
              "      <td>NaN</td>\n",
              "      <td>NaN</td>\n",
              "      <td>NaN</td>\n",
              "    </tr>\n",
              "    <tr>\n",
              "      <th>50%</th>\n",
              "      <td>NaN</td>\n",
              "      <td>NaN</td>\n",
              "      <td>NaN</td>\n",
              "      <td>NaN</td>\n",
              "      <td>27.285000</td>\n",
              "      <td>54945.000000</td>\n",
              "      <td>1285.000000</td>\n",
              "      <td>NaN</td>\n",
              "      <td>1.868500e+03</td>\n",
              "      <td>NaN</td>\n",
              "      <td>4.586000e+03</td>\n",
              "      <td>NaN</td>\n",
              "      <td>2.000000</td>\n",
              "      <td>2.000000</td>\n",
              "      <td>0.000000</td>\n",
              "      <td>NaN</td>\n",
              "      <td>NaN</td>\n",
              "      <td>NaN</td>\n",
              "    </tr>\n",
              "    <tr>\n",
              "      <th>75%</th>\n",
              "      <td>NaN</td>\n",
              "      <td>NaN</td>\n",
              "      <td>NaN</td>\n",
              "      <td>NaN</td>\n",
              "      <td>55.802500</td>\n",
              "      <td>93294.000000</td>\n",
              "      <td>5410.000000</td>\n",
              "      <td>NaN</td>\n",
              "      <td>4.353250e+03</td>\n",
              "      <td>NaN</td>\n",
              "      <td>1.083100e+04</td>\n",
              "      <td>NaN</td>\n",
              "      <td>6.000000</td>\n",
              "      <td>6.000000</td>\n",
              "      <td>0.000000</td>\n",
              "      <td>NaN</td>\n",
              "      <td>NaN</td>\n",
              "      <td>NaN</td>\n",
              "    </tr>\n",
              "    <tr>\n",
              "      <th>max</th>\n",
              "      <td>NaN</td>\n",
              "      <td>NaN</td>\n",
              "      <td>NaN</td>\n",
              "      <td>NaN</td>\n",
              "      <td>1500.000000</td>\n",
              "      <td>241788.000000</td>\n",
              "      <td>525170.000000</td>\n",
              "      <td>NaN</td>\n",
              "      <td>1.510561e+06</td>\n",
              "      <td>NaN</td>\n",
              "      <td>1.274165e+06</td>\n",
              "      <td>NaN</td>\n",
              "      <td>14.000000</td>\n",
              "      <td>14.000000</td>\n",
              "      <td>7.000000</td>\n",
              "      <td>NaN</td>\n",
              "      <td>NaN</td>\n",
              "      <td>NaN</td>\n",
              "    </tr>\n",
              "  </tbody>\n",
              "</table>\n",
              "</div>\n",
              "      <button class=\"colab-df-convert\" onclick=\"convertToInteractive('df-031f94ab-efdd-4bbf-87dc-f4222c6a7ee2')\"\n",
              "              title=\"Convert this dataframe to an interactive table.\"\n",
              "              style=\"display:none;\">\n",
              "        \n",
              "  <svg xmlns=\"http://www.w3.org/2000/svg\" height=\"24px\"viewBox=\"0 0 24 24\"\n",
              "       width=\"24px\">\n",
              "    <path d=\"M0 0h24v24H0V0z\" fill=\"none\"/>\n",
              "    <path d=\"M18.56 5.44l.94 2.06.94-2.06 2.06-.94-2.06-.94-.94-2.06-.94 2.06-2.06.94zm-11 1L8.5 8.5l.94-2.06 2.06-.94-2.06-.94L8.5 2.5l-.94 2.06-2.06.94zm10 10l.94 2.06.94-2.06 2.06-.94-2.06-.94-.94-2.06-.94 2.06-2.06.94z\"/><path d=\"M17.41 7.96l-1.37-1.37c-.4-.4-.92-.59-1.43-.59-.52 0-1.04.2-1.43.59L10.3 9.45l-7.72 7.72c-.78.78-.78 2.05 0 2.83L4 21.41c.39.39.9.59 1.41.59.51 0 1.02-.2 1.41-.59l7.78-7.78 2.81-2.81c.8-.78.8-2.07 0-2.86zM5.41 20L4 18.59l7.72-7.72 1.47 1.35L5.41 20z\"/>\n",
              "  </svg>\n",
              "      </button>\n",
              "      \n",
              "  <style>\n",
              "    .colab-df-container {\n",
              "      display:flex;\n",
              "      flex-wrap:wrap;\n",
              "      gap: 12px;\n",
              "    }\n",
              "\n",
              "    .colab-df-convert {\n",
              "      background-color: #E8F0FE;\n",
              "      border: none;\n",
              "      border-radius: 50%;\n",
              "      cursor: pointer;\n",
              "      display: none;\n",
              "      fill: #1967D2;\n",
              "      height: 32px;\n",
              "      padding: 0 0 0 0;\n",
              "      width: 32px;\n",
              "    }\n",
              "\n",
              "    .colab-df-convert:hover {\n",
              "      background-color: #E2EBFA;\n",
              "      box-shadow: 0px 1px 2px rgba(60, 64, 67, 0.3), 0px 1px 3px 1px rgba(60, 64, 67, 0.15);\n",
              "      fill: #174EA6;\n",
              "    }\n",
              "\n",
              "    [theme=dark] .colab-df-convert {\n",
              "      background-color: #3B4455;\n",
              "      fill: #D2E3FC;\n",
              "    }\n",
              "\n",
              "    [theme=dark] .colab-df-convert:hover {\n",
              "      background-color: #434B5C;\n",
              "      box-shadow: 0px 1px 3px 1px rgba(0, 0, 0, 0.15);\n",
              "      filter: drop-shadow(0px 1px 2px rgba(0, 0, 0, 0.3));\n",
              "      fill: #FFFFFF;\n",
              "    }\n",
              "  </style>\n",
              "\n",
              "      <script>\n",
              "        const buttonEl =\n",
              "          document.querySelector('#df-031f94ab-efdd-4bbf-87dc-f4222c6a7ee2 button.colab-df-convert');\n",
              "        buttonEl.style.display =\n",
              "          google.colab.kernel.accessAllowed ? 'block' : 'none';\n",
              "\n",
              "        async function convertToInteractive(key) {\n",
              "          const element = document.querySelector('#df-031f94ab-efdd-4bbf-87dc-f4222c6a7ee2');\n",
              "          const dataTable =\n",
              "            await google.colab.kernel.invokeFunction('convertToInteractive',\n",
              "                                                     [key], {});\n",
              "          if (!dataTable) return;\n",
              "\n",
              "          const docLinkHtml = 'Like what you see? Visit the ' +\n",
              "            '<a target=\"_blank\" href=https://colab.research.google.com/notebooks/data_table.ipynb>data table notebook</a>'\n",
              "            + ' to learn more about interactive tables.';\n",
              "          element.innerHTML = '';\n",
              "          dataTable['output_type'] = 'display_data';\n",
              "          await google.colab.output.renderOutput(dataTable, element);\n",
              "          const docLink = document.createElement('div');\n",
              "          docLink.innerHTML = docLinkHtml;\n",
              "          element.appendChild(docLink);\n",
              "        }\n",
              "      </script>\n",
              "    </div>\n",
              "  </div>\n",
              "  "
            ]
          },
          "metadata": {},
          "execution_count": 25
        }
      ]
    },
    {
      "cell_type": "markdown",
      "source": [
        "### Plots"
      ],
      "metadata": {
        "id": "mE8QbcyxLt5N"
      }
    },
    {
      "cell_type": "code",
      "source": [
        "dfProd['price'].plot.hist(bins=160, figsize=(14,6))"
      ],
      "metadata": {
        "colab": {
          "base_uri": "https://localhost:8080/",
          "height": 392
        },
        "id": "pi1dKC5VkYgu",
        "outputId": "f1b95bd4-5d71-420b-ff68-69a40ca9e0c0"
      },
      "execution_count": 26,
      "outputs": [
        {
          "output_type": "execute_result",
          "data": {
            "text/plain": [
              "<matplotlib.axes._subplots.AxesSubplot at 0x7f8039222850>"
            ]
          },
          "metadata": {},
          "execution_count": 26
        },
        {
          "output_type": "display_data",
          "data": {
            "text/plain": [
              "<Figure size 1008x432 with 1 Axes>"
            ],
            "image/png": "[encoded data removed]"
          },
          "metadata": {
            "needs_background": "light"
          }
        }
      ]
    },
    {
      "cell_type": "code",
      "source": [
        "dfProd['price'].plot.box()"
      ],
      "metadata": {
        "colab": {
          "base_uri": "https://localhost:8080/",
          "height": 283
        },
        "id": "bkpPCh52Doon",
        "outputId": "9d6d4242-0f1b-4a15-e967-a963b4fe480c"
      },
      "execution_count": 27,
      "outputs": [
        {
          "output_type": "execute_result",
          "data": {
            "text/plain": [
              "<matplotlib.axes._subplots.AxesSubplot at 0x7f8039afc210>"
            ]
          },
          "metadata": {},
          "execution_count": 27
        },
        {
          "output_type": "display_data",
          "data": {
            "text/plain": [
              "<Figure size 432x288 with 1 Axes>"
            ],
            "image/png": "[encoded data removed]"
          },
          "metadata": {
            "needs_background": "light"
          }
        }
      ]
    },
    {
      "cell_type": "markdown",
      "source": [
        "## Reviews Data"
      ],
      "metadata": {
        "id": "52GEeLPAISuw"
      }
    },
    {
      "cell_type": "markdown",
      "source": [
        "### Initial Data"
      ],
      "metadata": {
        "id": "dhx14sbwXEBL"
      }
    },
    {
      "cell_type": "code",
      "source": [
        "# get reviews data\n",
        "dfReviews = pd.read_json(\"gdrive/MyDrive/amazon_data/Video_Games.json\", lines=True)"
      ],
      "metadata": {
        "id": "sUg0nm1BUpPQ"
      },
      "execution_count": 28,
      "outputs": []
    },
    {
      "cell_type": "code",
      "source": [
        "print(dfReviews.info(show_counts=True))"
      ],
      "metadata": {
        "colab": {
          "base_uri": "https://localhost:8080/"
        },
        "id": "yeN1k8A7VAJ4",
        "outputId": "8d51a337-bcab-4e08-83c3-e0329ec584e0"
      },
      "execution_count": 29,
      "outputs": [
        {
          "output_type": "stream",
          "name": "stdout",
          "text": [
            "<class 'pandas.core.frame.DataFrame'>\n",
            "RangeIndex: 2565349 entries, 0 to 2565348\n",
            "Data columns (total 12 columns):\n",
            " #   Column          Non-Null Count    Dtype \n",
            "---  ------          --------------    ----- \n",
            " 0   overall         2565349 non-null  int64 \n",
            " 1   verified        2565349 non-null  bool  \n",
            " 2   reviewTime      2565349 non-null  object\n",
            " 3   reviewerID      2565349 non-null  object\n",
            " 4   asin            2565349 non-null  object\n",
            " 5   reviewerName    2565096 non-null  object\n",
            " 6   reviewText      2563634 non-null  object\n",
            " 7   summary         2564538 non-null  object\n",
            " 8   unixReviewTime  2565349 non-null  int64 \n",
            " 9   vote            442716 non-null   object\n",
            " 10  style           1319972 non-null  object\n",
            " 11  image           28305 non-null    object\n",
            "dtypes: bool(1), int64(2), object(9)\n",
            "memory usage: 217.7+ MB\n",
            "None\n"
          ]
        }
      ]
    },
    {
      "cell_type": "code",
      "source": [
        "print(dfReviews.describe())"
      ],
      "metadata": {
        "colab": {
          "base_uri": "https://localhost:8080/"
        },
        "id": "qYMrOEliVUoB",
        "outputId": "a613db17-025a-4272-ddb9-848daf406777"
      },
      "execution_count": 30,
      "outputs": [
        {
          "output_type": "stream",
          "name": "stdout",
          "text": [
            "            overall  unixReviewTime\n",
            "count  2.565349e+06    2.565349e+06\n",
            "mean   4.022095e+00    1.388666e+09\n",
            "std    1.405936e+00    1.159381e+08\n",
            "min    1.000000e+00    8.789472e+08\n",
            "25%    3.000000e+00    1.356653e+09\n",
            "50%    5.000000e+00    1.421885e+09\n",
            "75%    5.000000e+00    1.465430e+09\n",
            "max    5.000000e+00    1.538438e+09\n"
          ]
        }
      ]
    },
    {
      "cell_type": "code",
      "source": [
        "print(dfReviews.head())"
      ],
      "metadata": {
        "colab": {
          "base_uri": "https://localhost:8080/"
        },
        "id": "DRpUYgrryeSg",
        "outputId": "32324998-4293-4f35-d745-f6e1fd932e33"
      },
      "execution_count": 31,
      "outputs": [
        {
          "output_type": "stream",
          "name": "stdout",
          "text": [
            "   overall  verified   reviewTime      reviewerID        asin  \\\n",
            "0        1      True   06 9, 2014  A21ROB4YDOZA5P  0439381673   \n",
            "1        3      True  05 10, 2014  A3TNZ2Q5E7HTHD  0439381673   \n",
            "2        4      True   02 7, 2014  A1OKRM3QFEATQO  0439381673   \n",
            "3        1      True   02 7, 2014  A2XO1JFCNEYV3T  0439381673   \n",
            "4        4      True  01 16, 2014  A19WLPIRHD15TH  0439381673   \n",
            "\n",
            "       reviewerName                                         reviewText  \\\n",
            "0     Mary M. Clark  I used to play this game years ago and loved i...   \n",
            "1         Sarabatya  The game itself worked great but the story lin...   \n",
            "2   Amazon Customer  I had to learn the hard way after ordering thi...   \n",
            "3  ColoradoPartyof5  The product description should state this clea...   \n",
            "4    Karen Robinson  I would recommend this learning game for anyon...   \n",
            "\n",
            "                                             summary  unixReviewTime vote  \\\n",
            "0                                  Did not like this      1402272000  NaN   \n",
            "1                                     Almost Perfect      1399680000  NaN   \n",
            "2  DOES NOT WORK WITH MAC OS unless it is 10.3 or...      1391731200   15   \n",
            "3                           does not work on Mac OSX      1391731200   11   \n",
            "4                                        Roughing it      1389830400  NaN   \n",
            "\n",
            "  style image  \n",
            "0   NaN   NaN  \n",
            "1   NaN   NaN  \n",
            "2   NaN   NaN  \n",
            "3   NaN   NaN  \n",
            "4   NaN   NaN  \n"
          ]
        }
      ]
    },
    {
      "cell_type": "markdown",
      "source": [
        "### Data Cleaning"
      ],
      "metadata": {
        "id": "TK1qpsmYIlrP"
      }
    },
    {
      "cell_type": "code",
      "source": [
        "dfReviews['reviewTime'] = pd.to_datetime(dfReviews['reviewTime'])"
      ],
      "metadata": {
        "id": "f9qW3mPFYMgf"
      },
      "execution_count": 32,
      "outputs": []
    },
    {
      "cell_type": "code",
      "source": [
        "# convert vote to int\n",
        "dfReviews['vote'] = dfReviews['vote'].replace({',': ''}, regex=True)\n",
        "dfReviews['vote'] = dfReviews['vote'].fillna(0)\n",
        "dfReviews['vote'] = dfReviews['vote'].astype('float32').astype('Int32')"
      ],
      "metadata": {
        "id": "3YVXb84ab5JF"
      },
      "execution_count": 33,
      "outputs": []
    },
    {
      "cell_type": "code",
      "source": [
        "# rename overall to rating as it makes more sense and change data type to uint8 to save memory\n",
        "dfReviews = dfReviews.astype({'overall': np.uint8})\n",
        "dfReviews = dfReviews.rename(columns={'overall': 'rating'})"
      ],
      "metadata": {
        "id": "XoG3Cw3gcVGI"
      },
      "execution_count": 34,
      "outputs": []
    },
    {
      "cell_type": "code",
      "source": [
        "print(dfReviews.info(show_counts=True))"
      ],
      "metadata": {
        "colab": {
          "base_uri": "https://localhost:8080/"
        },
        "id": "5ZX_625ecnYR",
        "outputId": "5a8b457a-f5a7-401e-86f1-0519c202e180"
      },
      "execution_count": 35,
      "outputs": [
        {
          "output_type": "stream",
          "name": "stdout",
          "text": [
            "<class 'pandas.core.frame.DataFrame'>\n",
            "RangeIndex: 2565349 entries, 0 to 2565348\n",
            "Data columns (total 12 columns):\n",
            " #   Column          Non-Null Count    Dtype         \n",
            "---  ------          --------------    -----         \n",
            " 0   rating          2565349 non-null  uint8         \n",
            " 1   verified        2565349 non-null  bool          \n",
            " 2   reviewTime      2565349 non-null  datetime64[ns]\n",
            " 3   reviewerID      2565349 non-null  object        \n",
            " 4   asin            2565349 non-null  object        \n",
            " 5   reviewerName    2565096 non-null  object        \n",
            " 6   reviewText      2563634 non-null  object        \n",
            " 7   summary         2564538 non-null  object        \n",
            " 8   unixReviewTime  2565349 non-null  int64         \n",
            " 9   vote            2565349 non-null  Int32         \n",
            " 10  style           1319972 non-null  object        \n",
            " 11  image           28305 non-null    object        \n",
            "dtypes: Int32(1), bool(1), datetime64[ns](1), int64(1), object(7), uint8(1)\n",
            "memory usage: 193.3+ MB\n",
            "None\n"
          ]
        }
      ]
    },
    {
      "cell_type": "code",
      "source": [
        "print(dfReviews.describe())"
      ],
      "metadata": {
        "colab": {
          "base_uri": "https://localhost:8080/"
        },
        "id": "wxiBOWLlcoek",
        "outputId": "3c1b032f-ac1c-4667-93b2-dda9d3990673"
      },
      "execution_count": 36,
      "outputs": [
        {
          "output_type": "stream",
          "name": "stdout",
          "text": [
            "             rating  unixReviewTime          vote\n",
            "count  2.565349e+06    2.565349e+06  2.565349e+06\n",
            "mean   4.022095e+00    1.388666e+09  1.449120e+00\n",
            "std    1.405936e+00    1.159381e+08  1.289650e+01\n",
            "min    1.000000e+00    8.789472e+08  0.000000e+00\n",
            "25%    3.000000e+00    1.356653e+09  0.000000e+00\n",
            "50%    5.000000e+00    1.421885e+09  0.000000e+00\n",
            "75%    5.000000e+00    1.465430e+09  0.000000e+00\n",
            "max    5.000000e+00    1.538438e+09  5.154000e+03\n"
          ]
        }
      ]
    },
    {
      "cell_type": "markdown",
      "source": [
        "### Data Manipulation"
      ],
      "metadata": {
        "id": "-E5L3TzrbUHp"
      }
    },
    {
      "cell_type": "markdown",
      "source": [
        "#### Time"
      ],
      "metadata": {
        "id": "oDNhcxlTFjSG"
      }
    },
    {
      "cell_type": "code",
      "source": [
        "# separate reviewTime by every 90 days to illustrate review recentness\n",
        "dfReviews['timeDiff'] = ((dfReviews['reviewTime'].max() + datetime.timedelta(days=1)) - dfReviews['reviewTime']).dt.days\n",
        "dfReviews['recentness'] = (dfReviews['timeDiff'] / 90).astype(np.uint8) # 90 days = 3 months"
      ],
      "metadata": {
        "id": "tpDKtV3eVUiD"
      },
      "execution_count": 37,
      "outputs": []
    },
    {
      "cell_type": "markdown",
      "source": [
        "#### Style"
      ],
      "metadata": {
        "id": "Z1jjJdeIFpeh"
      }
    },
    {
      "cell_type": "code",
      "source": [
        "# get style keys\n",
        "dfReviewsStyle = dfReviews.loc[(~dfReviews['style'].isna())]\n",
        "\n",
        "dfReviewsStyle['styleStr'] = [list(d.keys()) for d in dfReviewsStyle['style']]\n",
        "dfReviewsStyle['styleStr'] = [','.join(map(str, l)) for l in dfReviewsStyle['styleStr']]\n",
        "dfReviewsStyle['styleStr'] = dfReviewsStyle['styleStr'].replace({':': ''}, regex=True)\n",
        "dfReviewsStyle = dfReviewsStyle[['styleStr']]"
      ],
      "metadata": {
        "colab": {
          "base_uri": "https://localhost:8080/"
        },
        "id": "VywJwsVk7gBH",
        "outputId": "5189febc-a98b-4818-8ea4-ba6cb38830bb"
      },
      "execution_count": 38,
      "outputs": [
        {
          "output_type": "stream",
          "name": "stderr",
          "text": [
            "/usr/local/lib/python3.7/dist-packages/ipykernel_launcher.py:4: SettingWithCopyWarning: \n",
            "A value is trying to be set on a copy of a slice from a DataFrame.\n",
            "Try using .loc[row_indexer,col_indexer] = value instead\n",
            "\n",
            "See the caveats in the documentation: https://pandas.pydata.org/pandas-docs/stable/user_guide/indexing.html#returning-a-view-versus-a-copy\n",
            "  after removing the cwd from sys.path.\n",
            "/usr/local/lib/python3.7/dist-packages/ipykernel_launcher.py:5: SettingWithCopyWarning: \n",
            "A value is trying to be set on a copy of a slice from a DataFrame.\n",
            "Try using .loc[row_indexer,col_indexer] = value instead\n",
            "\n",
            "See the caveats in the documentation: https://pandas.pydata.org/pandas-docs/stable/user_guide/indexing.html#returning-a-view-versus-a-copy\n",
            "  \"\"\"\n",
            "/usr/local/lib/python3.7/dist-packages/ipykernel_launcher.py:6: SettingWithCopyWarning: \n",
            "A value is trying to be set on a copy of a slice from a DataFrame.\n",
            "Try using .loc[row_indexer,col_indexer] = value instead\n",
            "\n",
            "See the caveats in the documentation: https://pandas.pydata.org/pandas-docs/stable/user_guide/indexing.html#returning-a-view-versus-a-copy\n",
            "  \n"
          ]
        }
      ]
    },
    {
      "cell_type": "code",
      "source": [
        "# merge with dfReviews\n",
        "dfReviews = dfReviews.merge(dfReviewsStyle, how='left', left_index=True, right_index=True)\n",
        "dfReviews['styleStr'] = dfReviews['styleStr'].fillna('')"
      ],
      "metadata": {
        "id": "6xeKZEDM-Par"
      },
      "execution_count": 39,
      "outputs": []
    },
    {
      "cell_type": "code",
      "source": [
        "# count number of styles\n",
        "dfReviews['numStyles'] = dfReviews['style'].str.len()\n",
        "dfReviews['numStyles'] = dfReviews['numStyles'].fillna(0)"
      ],
      "metadata": {
        "id": "8W4xzeVfF5No"
      },
      "execution_count": 40,
      "outputs": []
    },
    {
      "cell_type": "markdown",
      "source": [
        "#### Others"
      ],
      "metadata": {
        "id": "OF3u1BM6F9I4"
      }
    },
    {
      "cell_type": "code",
      "source": [
        "# count number of images\n",
        "dfReviews['numImages'] = dfReviews['image'].str.len()\n",
        "dfReviews['numImages'] = dfReviews['numImages'].fillna(0)\n",
        "\n",
        "# count review summary and review text lengths\n",
        "dfReviews['reviewTextLength'] = dfReviews['reviewText'].str.len()\n",
        "dfReviews['summaryLength'] = dfReviews['summary'].str.len()"
      ],
      "metadata": {
        "id": "FDlfwcExWacm"
      },
      "execution_count": 41,
      "outputs": []
    },
    {
      "cell_type": "code",
      "source": [
        "# change data types of some columns and select only the useful columns before proceeding to the next step\n",
        "dfReviews = dfReviews.astype({'numImages': np.uint8, 'reviewTextLength': 'Int32',\n",
        "                              'summaryLength': 'Int32', 'numStyles': np.uint8})\n",
        "dfReviews = dfReviews[['asin', 'rating', 'verified', 'reviewTime', 'timeDiff', 'recentness', \n",
        "                       'reviewerID', 'reviewText', 'reviewTextLength', 'summary', 'summaryLength', 'vote', \n",
        "                       'styleStr', 'numStyles', 'numImages']]"
      ],
      "metadata": {
        "id": "reyhLR9UccHa"
      },
      "execution_count": 42,
      "outputs": []
    },
    {
      "cell_type": "code",
      "source": [
        "print(dfReviews.info(show_counts=True))"
      ],
      "metadata": {
        "colab": {
          "base_uri": "https://localhost:8080/"
        },
        "id": "XGsod91ndzko",
        "outputId": "cef317ce-25bd-44f3-c52b-caefc4a6eba5"
      },
      "execution_count": 43,
      "outputs": [
        {
          "output_type": "stream",
          "name": "stdout",
          "text": [
            "<class 'pandas.core.frame.DataFrame'>\n",
            "RangeIndex: 2565349 entries, 0 to 2565348\n",
            "Data columns (total 15 columns):\n",
            " #   Column            Non-Null Count    Dtype         \n",
            "---  ------            --------------    -----         \n",
            " 0   asin              2565349 non-null  object        \n",
            " 1   rating            2565349 non-null  uint8         \n",
            " 2   verified          2565349 non-null  bool          \n",
            " 3   reviewTime        2565349 non-null  datetime64[ns]\n",
            " 4   timeDiff          2565349 non-null  int64         \n",
            " 5   recentness        2565349 non-null  uint8         \n",
            " 6   reviewerID        2565349 non-null  object        \n",
            " 7   reviewText        2563634 non-null  object        \n",
            " 8   reviewTextLength  2563634 non-null  Int32         \n",
            " 9   summary           2564538 non-null  object        \n",
            " 10  summaryLength     2564538 non-null  Int32         \n",
            " 11  vote              2565349 non-null  Int32         \n",
            " 12  styleStr          2565349 non-null  object        \n",
            " 13  numStyles         2565349 non-null  uint8         \n",
            " 14  numImages         2565349 non-null  uint8         \n",
            "dtypes: Int32(3), bool(1), datetime64[ns](1), int64(1), object(5), uint8(4)\n",
            "memory usage: 185.9+ MB\n",
            "None\n"
          ]
        }
      ]
    },
    {
      "cell_type": "code",
      "source": [
        "dfReviews.describe(exclude='object', datetime_is_numeric=True)"
      ],
      "metadata": {
        "colab": {
          "base_uri": "https://localhost:8080/",
          "height": 562
        },
        "id": "RxXXgre_d2GP",
        "outputId": "02940962-2b92-46af-fbe4-2bea1e8b2808"
      },
      "execution_count": 46,
      "outputs": [
        {
          "output_type": "execute_result",
          "data": {
            "text/plain": [
              "              rating verified                     reviewTime      timeDiff  \\\n",
              "count   2.565349e+06  2565349                        2565349  2.565349e+06   \n",
              "unique           NaN        2                            NaN           NaN   \n",
              "top              NaN     True                            NaN           NaN   \n",
              "freq             NaN  1948309                            NaN           NaN   \n",
              "mean    4.022095e+00      NaN  2014-01-02 12:36:22.928249600  1.734475e+03   \n",
              "min     1.000000e+00      NaN            1997-11-08 00:00:00  1.000000e+00   \n",
              "25%     3.000000e+00      NaN            2012-12-28 00:00:00  8.460000e+02   \n",
              "50%     5.000000e+00      NaN            2015-01-22 00:00:00  1.350000e+03   \n",
              "75%     5.000000e+00      NaN            2016-06-09 00:00:00  2.105000e+03   \n",
              "max     5.000000e+00      NaN            2018-10-02 00:00:00  7.634000e+03   \n",
              "std     1.405936e+00      NaN                            NaN  1.341876e+03   \n",
              "\n",
              "          recentness  reviewTextLength  summaryLength          vote  \\\n",
              "count   2.565349e+06      2.563634e+06   2.564538e+06  2.565349e+06   \n",
              "unique           NaN               NaN            NaN           NaN   \n",
              "top              NaN               NaN            NaN           NaN   \n",
              "freq             NaN               NaN            NaN           NaN   \n",
              "mean    1.877930e+01      4.010472e+02   2.342733e+01  1.449120e+00   \n",
              "min     0.000000e+00      1.000000e+00   1.000000e+00  0.000000e+00   \n",
              "25%     9.000000e+00      5.500000e+01   1.000000e+01  0.000000e+00   \n",
              "50%     1.500000e+01      1.510000e+02   1.600000e+01  0.000000e+00   \n",
              "75%     2.300000e+01      3.980000e+02   3.100000e+01  0.000000e+00   \n",
              "max     8.400000e+01      3.272100e+04   3.000000e+02  5.154000e+03   \n",
              "std     1.491227e+01      8.113025e+02   1.876871e+01  1.289650e+01   \n",
              "\n",
              "           numStyles     numImages  \n",
              "count   2.565349e+06  2.565349e+06  \n",
              "unique           NaN           NaN  \n",
              "top              NaN           NaN  \n",
              "freq             NaN           NaN  \n",
              "mean    6.347105e-01  2.274817e-02  \n",
              "min     0.000000e+00  0.000000e+00  \n",
              "25%     0.000000e+00  0.000000e+00  \n",
              "50%     1.000000e+00  0.000000e+00  \n",
              "75%     1.000000e+00  0.000000e+00  \n",
              "max     3.000000e+00  5.400000e+01  \n",
              "std     6.902011e-01  3.077533e-01  "
            ],
            "text/html": [
              "\n",
              "  <div id=\"df-b956a281-2c6f-4f7b-988a-2a41b24a8575\">\n",
              "    <div class=\"colab-df-container\">\n",
              "      <div>\n",
              "<style scoped>\n",
              "    .dataframe tbody tr th:only-of-type {\n",
              "        vertical-align: middle;\n",
              "    }\n",
              "\n",
              "    .dataframe tbody tr th {\n",
              "        vertical-align: top;\n",
              "    }\n",
              "\n",
              "    .dataframe thead th {\n",
              "        text-align: right;\n",
              "    }\n",
              "</style>\n",
              "<table border=\"1\" class=\"dataframe\">\n",
              "  <thead>\n",
              "    <tr style=\"text-align: right;\">\n",
              "      <th></th>\n",
              "      <th>rating</th>\n",
              "      <th>verified</th>\n",
              "      <th>reviewTime</th>\n",
              "      <th>timeDiff</th>\n",
              "      <th>recentness</th>\n",
              "      <th>reviewTextLength</th>\n",
              "      <th>summaryLength</th>\n",
              "      <th>vote</th>\n",
              "      <th>numStyles</th>\n",
              "      <th>numImages</th>\n",
              "    </tr>\n",
              "  </thead>\n",
              "  <tbody>\n",
              "    <tr>\n",
              "      <th>count</th>\n",
              "      <td>2.565349e+06</td>\n",
              "      <td>2565349</td>\n",
              "      <td>2565349</td>\n",
              "      <td>2.565349e+06</td>\n",
              "      <td>2.565349e+06</td>\n",
              "      <td>2.563634e+06</td>\n",
              "      <td>2.564538e+06</td>\n",
              "      <td>2.565349e+06</td>\n",
              "      <td>2.565349e+06</td>\n",
              "      <td>2.565349e+06</td>\n",
              "    </tr>\n",
              "    <tr>\n",
              "      <th>unique</th>\n",
              "      <td>NaN</td>\n",
              "      <td>2</td>\n",
              "      <td>NaN</td>\n",
              "      <td>NaN</td>\n",
              "      <td>NaN</td>\n",
              "      <td>NaN</td>\n",
              "      <td>NaN</td>\n",
              "      <td>NaN</td>\n",
              "      <td>NaN</td>\n",
              "      <td>NaN</td>\n",
              "    </tr>\n",
              "    <tr>\n",
              "      <th>top</th>\n",
              "      <td>NaN</td>\n",
              "      <td>True</td>\n",
              "      <td>NaN</td>\n",
              "      <td>NaN</td>\n",
              "      <td>NaN</td>\n",
              "      <td>NaN</td>\n",
              "      <td>NaN</td>\n",
              "      <td>NaN</td>\n",
              "      <td>NaN</td>\n",
              "      <td>NaN</td>\n",
              "    </tr>\n",
              "    <tr>\n",
              "      <th>freq</th>\n",
              "      <td>NaN</td>\n",
              "      <td>1948309</td>\n",
              "      <td>NaN</td>\n",
              "      <td>NaN</td>\n",
              "      <td>NaN</td>\n",
              "      <td>NaN</td>\n",
              "      <td>NaN</td>\n",
              "      <td>NaN</td>\n",
              "      <td>NaN</td>\n",
              "      <td>NaN</td>\n",
              "    </tr>\n",
              "    <tr>\n",
              "      <th>mean</th>\n",
              "      <td>4.022095e+00</td>\n",
              "      <td>NaN</td>\n",
              "      <td>2014-01-02 12:36:22.928249600</td>\n",
              "      <td>1.734475e+03</td>\n",
              "      <td>1.877930e+01</td>\n",
              "      <td>4.010472e+02</td>\n",
              "      <td>2.342733e+01</td>\n",
              "      <td>1.449120e+00</td>\n",
              "      <td>6.347105e-01</td>\n",
              "      <td>2.274817e-02</td>\n",
              "    </tr>\n",
              "    <tr>\n",
              "      <th>min</th>\n",
              "      <td>1.000000e+00</td>\n",
              "      <td>NaN</td>\n",
              "      <td>1997-11-08 00:00:00</td>\n",
              "      <td>1.000000e+00</td>\n",
              "      <td>0.000000e+00</td>\n",
              "      <td>1.000000e+00</td>\n",
              "      <td>1.000000e+00</td>\n",
              "      <td>0.000000e+00</td>\n",
              "      <td>0.000000e+00</td>\n",
              "      <td>0.000000e+00</td>\n",
              "    </tr>\n",
              "    <tr>\n",
              "      <th>25%</th>\n",
              "      <td>3.000000e+00</td>\n",
              "      <td>NaN</td>\n",
              "      <td>2012-12-28 00:00:00</td>\n",
              "      <td>8.460000e+02</td>\n",
              "      <td>9.000000e+00</td>\n",
              "      <td>5.500000e+01</td>\n",
              "      <td>1.000000e+01</td>\n",
              "      <td>0.000000e+00</td>\n",
              "      <td>0.000000e+00</td>\n",
              "      <td>0.000000e+00</td>\n",
              "    </tr>\n",
              "    <tr>\n",
              "      <th>50%</th>\n",
              "      <td>5.000000e+00</td>\n",
              "      <td>NaN</td>\n",
              "      <td>2015-01-22 00:00:00</td>\n",
              "      <td>1.350000e+03</td>\n",
              "      <td>1.500000e+01</td>\n",
              "      <td>1.510000e+02</td>\n",
              "      <td>1.600000e+01</td>\n",
              "      <td>0.000000e+00</td>\n",
              "      <td>1.000000e+00</td>\n",
              "      <td>0.000000e+00</td>\n",
              "    </tr>\n",
              "    <tr>\n",
              "      <th>75%</th>\n",
              "      <td>5.000000e+00</td>\n",
              "      <td>NaN</td>\n",
              "      <td>2016-06-09 00:00:00</td>\n",
              "      <td>2.105000e+03</td>\n",
              "      <td>2.300000e+01</td>\n",
              "      <td>3.980000e+02</td>\n",
              "      <td>3.100000e+01</td>\n",
              "      <td>0.000000e+00</td>\n",
              "      <td>1.000000e+00</td>\n",
              "      <td>0.000000e+00</td>\n",
              "    </tr>\n",
              "    <tr>\n",
              "      <th>max</th>\n",
              "      <td>5.000000e+00</td>\n",
              "      <td>NaN</td>\n",
              "      <td>2018-10-02 00:00:00</td>\n",
              "      <td>7.634000e+03</td>\n",
              "      <td>8.400000e+01</td>\n",
              "      <td>3.272100e+04</td>\n",
              "      <td>3.000000e+02</td>\n",
              "      <td>5.154000e+03</td>\n",
              "      <td>3.000000e+00</td>\n",
              "      <td>5.400000e+01</td>\n",
              "    </tr>\n",
              "    <tr>\n",
              "      <th>std</th>\n",
              "      <td>1.405936e+00</td>\n",
              "      <td>NaN</td>\n",
              "      <td>NaN</td>\n",
              "      <td>1.341876e+03</td>\n",
              "      <td>1.491227e+01</td>\n",
              "      <td>8.113025e+02</td>\n",
              "      <td>1.876871e+01</td>\n",
              "      <td>1.289650e+01</td>\n",
              "      <td>6.902011e-01</td>\n",
              "      <td>3.077533e-01</td>\n",
              "    </tr>\n",
              "  </tbody>\n",
              "</table>\n",
              "</div>\n",
              "      <button class=\"colab-df-convert\" onclick=\"convertToInteractive('df-b956a281-2c6f-4f7b-988a-2a41b24a8575')\"\n",
              "              title=\"Convert this dataframe to an interactive table.\"\n",
              "              style=\"display:none;\">\n",
              "        \n",
              "  <svg xmlns=\"http://www.w3.org/2000/svg\" height=\"24px\"viewBox=\"0 0 24 24\"\n",
              "       width=\"24px\">\n",
              "    <path d=\"M0 0h24v24H0V0z\" fill=\"none\"/>\n",
              "    <path d=\"M18.56 5.44l.94 2.06.94-2.06 2.06-.94-2.06-.94-.94-2.06-.94 2.06-2.06.94zm-11 1L8.5 8.5l.94-2.06 2.06-.94-2.06-.94L8.5 2.5l-.94 2.06-2.06.94zm10 10l.94 2.06.94-2.06 2.06-.94-2.06-.94-.94-2.06-.94 2.06-2.06.94z\"/><path d=\"M17.41 7.96l-1.37-1.37c-.4-.4-.92-.59-1.43-.59-.52 0-1.04.2-1.43.59L10.3 9.45l-7.72 7.72c-.78.78-.78 2.05 0 2.83L4 21.41c.39.39.9.59 1.41.59.51 0 1.02-.2 1.41-.59l7.78-7.78 2.81-2.81c.8-.78.8-2.07 0-2.86zM5.41 20L4 18.59l7.72-7.72 1.47 1.35L5.41 20z\"/>\n",
              "  </svg>\n",
              "      </button>\n",
              "      \n",
              "  <style>\n",
              "    .colab-df-container {\n",
              "      display:flex;\n",
              "      flex-wrap:wrap;\n",
              "      gap: 12px;\n",
              "    }\n",
              "\n",
              "    .colab-df-convert {\n",
              "      background-color: #E8F0FE;\n",
              "      border: none;\n",
              "      border-radius: 50%;\n",
              "      cursor: pointer;\n",
              "      display: none;\n",
              "      fill: #1967D2;\n",
              "      height: 32px;\n",
              "      padding: 0 0 0 0;\n",
              "      width: 32px;\n",
              "    }\n",
              "\n",
              "    .colab-df-convert:hover {\n",
              "      background-color: #E2EBFA;\n",
              "      box-shadow: 0px 1px 2px rgba(60, 64, 67, 0.3), 0px 1px 3px 1px rgba(60, 64, 67, 0.15);\n",
              "      fill: #174EA6;\n",
              "    }\n",
              "\n",
              "    [theme=dark] .colab-df-convert {\n",
              "      background-color: #3B4455;\n",
              "      fill: #D2E3FC;\n",
              "    }\n",
              "\n",
              "    [theme=dark] .colab-df-convert:hover {\n",
              "      background-color: #434B5C;\n",
              "      box-shadow: 0px 1px 3px 1px rgba(0, 0, 0, 0.15);\n",
              "      filter: drop-shadow(0px 1px 2px rgba(0, 0, 0, 0.3));\n",
              "      fill: #FFFFFF;\n",
              "    }\n",
              "  </style>\n",
              "\n",
              "      <script>\n",
              "        const buttonEl =\n",
              "          document.querySelector('#df-b956a281-2c6f-4f7b-988a-2a41b24a8575 button.colab-df-convert');\n",
              "        buttonEl.style.display =\n",
              "          google.colab.kernel.accessAllowed ? 'block' : 'none';\n",
              "\n",
              "        async function convertToInteractive(key) {\n",
              "          const element = document.querySelector('#df-b956a281-2c6f-4f7b-988a-2a41b24a8575');\n",
              "          const dataTable =\n",
              "            await google.colab.kernel.invokeFunction('convertToInteractive',\n",
              "                                                     [key], {});\n",
              "          if (!dataTable) return;\n",
              "\n",
              "          const docLinkHtml = 'Like what you see? Visit the ' +\n",
              "            '<a target=\"_blank\" href=https://colab.research.google.com/notebooks/data_table.ipynb>data table notebook</a>'\n",
              "            + ' to learn more about interactive tables.';\n",
              "          element.innerHTML = '';\n",
              "          dataTable['output_type'] = 'display_data';\n",
              "          await google.colab.output.renderOutput(dataTable, element);\n",
              "          const docLink = document.createElement('div');\n",
              "          docLink.innerHTML = docLinkHtml;\n",
              "          element.appendChild(docLink);\n",
              "        }\n",
              "      </script>\n",
              "    </div>\n",
              "  </div>\n",
              "  "
            ]
          },
          "metadata": {},
          "execution_count": 46
        }
      ]
    },
    {
      "cell_type": "code",
      "source": [
        "dfReviews.head()"
      ],
      "metadata": {
        "colab": {
          "base_uri": "https://localhost:8080/",
          "height": 617
        },
        "id": "Yy9-6xfTS1qB",
        "outputId": "2fced9e6-851f-4159-847c-65a6c773727b"
      },
      "execution_count": 44,
      "outputs": [
        {
          "output_type": "execute_result",
          "data": {
            "text/plain": [
              "         asin  rating  verified reviewTime  timeDiff  recentness  \\\n",
              "0  0439381673       1      True 2014-06-09      1577          17   \n",
              "1  0439381673       3      True 2014-05-10      1607          17   \n",
              "2  0439381673       4      True 2014-02-07      1699          18   \n",
              "3  0439381673       1      True 2014-02-07      1699          18   \n",
              "4  0439381673       4      True 2014-01-16      1721          19   \n",
              "\n",
              "       reviewerID                                         reviewText  \\\n",
              "0  A21ROB4YDOZA5P  I used to play this game years ago and loved i...   \n",
              "1  A3TNZ2Q5E7HTHD  The game itself worked great but the story lin...   \n",
              "2  A1OKRM3QFEATQO  I had to learn the hard way after ordering thi...   \n",
              "3  A2XO1JFCNEYV3T  The product description should state this clea...   \n",
              "4  A19WLPIRHD15TH  I would recommend this learning game for anyon...   \n",
              "\n",
              "   reviewTextLength                                            summary  \\\n",
              "0               139                                  Did not like this   \n",
              "1               145                                     Almost Perfect   \n",
              "2               447  DOES NOT WORK WITH MAC OS unless it is 10.3 or...   \n",
              "3               157                           does not work on Mac OSX   \n",
              "4               120                                        Roughing it   \n",
              "\n",
              "   summaryLength  vote styleStr  numStyles  numImages  \n",
              "0             17     0                   0          0  \n",
              "1             14     0                   0          0  \n",
              "2             59    15                   0          0  \n",
              "3             24    11                   0          0  \n",
              "4             11     0                   0          0  "
            ],
            "text/html": [
              "\n",
              "  <div id=\"df-12c7951b-2402-49fe-b22e-3231a8c01cca\">\n",
              "    <div class=\"colab-df-container\">\n",
              "      <div>\n",
              "<style scoped>\n",
              "    .dataframe tbody tr th:only-of-type {\n",
              "        vertical-align: middle;\n",
              "    }\n",
              "\n",
              "    .dataframe tbody tr th {\n",
              "        vertical-align: top;\n",
              "    }\n",
              "\n",
              "    .dataframe thead th {\n",
              "        text-align: right;\n",
              "    }\n",
              "</style>\n",
              "<table border=\"1\" class=\"dataframe\">\n",
              "  <thead>\n",
              "    <tr style=\"text-align: right;\">\n",
              "      <th></th>\n",
              "      <th>asin</th>\n",
              "      <th>rating</th>\n",
              "      <th>verified</th>\n",
              "      <th>reviewTime</th>\n",
              "      <th>timeDiff</th>\n",
              "      <th>recentness</th>\n",
              "      <th>reviewerID</th>\n",
              "      <th>reviewText</th>\n",
              "      <th>reviewTextLength</th>\n",
              "      <th>summary</th>\n",
              "      <th>summaryLength</th>\n",
              "      <th>vote</th>\n",
              "      <th>styleStr</th>\n",
              "      <th>numStyles</th>\n",
              "      <th>numImages</th>\n",
              "    </tr>\n",
              "  </thead>\n",
              "  <tbody>\n",
              "    <tr>\n",
              "      <th>0</th>\n",
              "      <td>0439381673</td>\n",
              "      <td>1</td>\n",
              "      <td>True</td>\n",
              "      <td>2014-06-09</td>\n",
              "      <td>1577</td>\n",
              "      <td>17</td>\n",
              "      <td>A21ROB4YDOZA5P</td>\n",
              "      <td>I used to play this game years ago and loved i...</td>\n",
              "      <td>139</td>\n",
              "      <td>Did not like this</td>\n",
              "      <td>17</td>\n",
              "      <td>0</td>\n",
              "      <td></td>\n",
              "      <td>0</td>\n",
              "      <td>0</td>\n",
              "    </tr>\n",
              "    <tr>\n",
              "      <th>1</th>\n",
              "      <td>0439381673</td>\n",
              "      <td>3</td>\n",
              "      <td>True</td>\n",
              "      <td>2014-05-10</td>\n",
              "      <td>1607</td>\n",
              "      <td>17</td>\n",
              "      <td>A3TNZ2Q5E7HTHD</td>\n",
              "      <td>The game itself worked great but the story lin...</td>\n",
              "      <td>145</td>\n",
              "      <td>Almost Perfect</td>\n",
              "      <td>14</td>\n",
              "      <td>0</td>\n",
              "      <td></td>\n",
              "      <td>0</td>\n",
              "      <td>0</td>\n",
              "    </tr>\n",
              "    <tr>\n",
              "      <th>2</th>\n",
              "      <td>0439381673</td>\n",
              "      <td>4</td>\n",
              "      <td>True</td>\n",
              "      <td>2014-02-07</td>\n",
              "      <td>1699</td>\n",
              "      <td>18</td>\n",
              "      <td>A1OKRM3QFEATQO</td>\n",
              "      <td>I had to learn the hard way after ordering thi...</td>\n",
              "      <td>447</td>\n",
              "      <td>DOES NOT WORK WITH MAC OS unless it is 10.3 or...</td>\n",
              "      <td>59</td>\n",
              "      <td>15</td>\n",
              "      <td></td>\n",
              "      <td>0</td>\n",
              "      <td>0</td>\n",
              "    </tr>\n",
              "    <tr>\n",
              "      <th>3</th>\n",
              "      <td>0439381673</td>\n",
              "      <td>1</td>\n",
              "      <td>True</td>\n",
              "      <td>2014-02-07</td>\n",
              "      <td>1699</td>\n",
              "      <td>18</td>\n",
              "      <td>A2XO1JFCNEYV3T</td>\n",
              "      <td>The product description should state this clea...</td>\n",
              "      <td>157</td>\n",
              "      <td>does not work on Mac OSX</td>\n",
              "      <td>24</td>\n",
              "      <td>11</td>\n",
              "      <td></td>\n",
              "      <td>0</td>\n",
              "      <td>0</td>\n",
              "    </tr>\n",
              "    <tr>\n",
              "      <th>4</th>\n",
              "      <td>0439381673</td>\n",
              "      <td>4</td>\n",
              "      <td>True</td>\n",
              "      <td>2014-01-16</td>\n",
              "      <td>1721</td>\n",
              "      <td>19</td>\n",
              "      <td>A19WLPIRHD15TH</td>\n",
              "      <td>I would recommend this learning game for anyon...</td>\n",
              "      <td>120</td>\n",
              "      <td>Roughing it</td>\n",
              "      <td>11</td>\n",
              "      <td>0</td>\n",
              "      <td></td>\n",
              "      <td>0</td>\n",
              "      <td>0</td>\n",
              "    </tr>\n",
              "  </tbody>\n",
              "</table>\n",
              "</div>\n",
              "      <button class=\"colab-df-convert\" onclick=\"convertToInteractive('df-12c7951b-2402-49fe-b22e-3231a8c01cca')\"\n",
              "              title=\"Convert this dataframe to an interactive table.\"\n",
              "              style=\"display:none;\">\n",
              "        \n",
              "  <svg xmlns=\"http://www.w3.org/2000/svg\" height=\"24px\"viewBox=\"0 0 24 24\"\n",
              "       width=\"24px\">\n",
              "    <path d=\"M0 0h24v24H0V0z\" fill=\"none\"/>\n",
              "    <path d=\"M18.56 5.44l.94 2.06.94-2.06 2.06-.94-2.06-.94-.94-2.06-.94 2.06-2.06.94zm-11 1L8.5 8.5l.94-2.06 2.06-.94-2.06-.94L8.5 2.5l-.94 2.06-2.06.94zm10 10l.94 2.06.94-2.06 2.06-.94-2.06-.94-.94-2.06-.94 2.06-2.06.94z\"/><path d=\"M17.41 7.96l-1.37-1.37c-.4-.4-.92-.59-1.43-.59-.52 0-1.04.2-1.43.59L10.3 9.45l-7.72 7.72c-.78.78-.78 2.05 0 2.83L4 21.41c.39.39.9.59 1.41.59.51 0 1.02-.2 1.41-.59l7.78-7.78 2.81-2.81c.8-.78.8-2.07 0-2.86zM5.41 20L4 18.59l7.72-7.72 1.47 1.35L5.41 20z\"/>\n",
              "  </svg>\n",
              "      </button>\n",
              "      \n",
              "  <style>\n",
              "    .colab-df-container {\n",
              "      display:flex;\n",
              "      flex-wrap:wrap;\n",
              "      gap: 12px;\n",
              "    }\n",
              "\n",
              "    .colab-df-convert {\n",
              "      background-color: #E8F0FE;\n",
              "      border: none;\n",
              "      border-radius: 50%;\n",
              "      cursor: pointer;\n",
              "      display: none;\n",
              "      fill: #1967D2;\n",
              "      height: 32px;\n",
              "      padding: 0 0 0 0;\n",
              "      width: 32px;\n",
              "    }\n",
              "\n",
              "    .colab-df-convert:hover {\n",
              "      background-color: #E2EBFA;\n",
              "      box-shadow: 0px 1px 2px rgba(60, 64, 67, 0.3), 0px 1px 3px 1px rgba(60, 64, 67, 0.15);\n",
              "      fill: #174EA6;\n",
              "    }\n",
              "\n",
              "    [theme=dark] .colab-df-convert {\n",
              "      background-color: #3B4455;\n",
              "      fill: #D2E3FC;\n",
              "    }\n",
              "\n",
              "    [theme=dark] .colab-df-convert:hover {\n",
              "      background-color: #434B5C;\n",
              "      box-shadow: 0px 1px 3px 1px rgba(0, 0, 0, 0.15);\n",
              "      filter: drop-shadow(0px 1px 2px rgba(0, 0, 0, 0.3));\n",
              "      fill: #FFFFFF;\n",
              "    }\n",
              "  </style>\n",
              "\n",
              "      <script>\n",
              "        const buttonEl =\n",
              "          document.querySelector('#df-12c7951b-2402-49fe-b22e-3231a8c01cca button.colab-df-convert');\n",
              "        buttonEl.style.display =\n",
              "          google.colab.kernel.accessAllowed ? 'block' : 'none';\n",
              "\n",
              "        async function convertToInteractive(key) {\n",
              "          const element = document.querySelector('#df-12c7951b-2402-49fe-b22e-3231a8c01cca');\n",
              "          const dataTable =\n",
              "            await google.colab.kernel.invokeFunction('convertToInteractive',\n",
              "                                                     [key], {});\n",
              "          if (!dataTable) return;\n",
              "\n",
              "          const docLinkHtml = 'Like what you see? Visit the ' +\n",
              "            '<a target=\"_blank\" href=https://colab.research.google.com/notebooks/data_table.ipynb>data table notebook</a>'\n",
              "            + ' to learn more about interactive tables.';\n",
              "          element.innerHTML = '';\n",
              "          dataTable['output_type'] = 'display_data';\n",
              "          await google.colab.output.renderOutput(dataTable, element);\n",
              "          const docLink = document.createElement('div');\n",
              "          docLink.innerHTML = docLinkHtml;\n",
              "          element.appendChild(docLink);\n",
              "        }\n",
              "      </script>\n",
              "    </div>\n",
              "  </div>\n",
              "  "
            ]
          },
          "metadata": {},
          "execution_count": 44
        }
      ]
    },
    {
      "cell_type": "code",
      "source": [
        "# dfReviews.to_json('gdrive/MyDrive/amazon_data/clean_Video_Games.json', orient='split')"
      ],
      "metadata": {
        "id": "OgWjK839XJVU"
      },
      "execution_count": null,
      "outputs": []
    },
    {
      "cell_type": "markdown",
      "source": [
        "## Merged Data"
      ],
      "metadata": {
        "id": "eiQ7-fk-yoaN"
      }
    },
    {
      "cell_type": "code",
      "source": [
        "# merge reviews data and metadata together\n",
        "dfMerged = dfReviews.merge(dfProd, how='inner', on='asin')"
      ],
      "metadata": {
        "id": "tMneL2tFckXN"
      },
      "execution_count": 47,
      "outputs": []
    },
    {
      "cell_type": "code",
      "source": [
        "dfMerged = dfMerged.drop(columns=['numImages_y'])\n",
        "dfMerged = dfMerged.rename(columns={'numImages_x': 'numImages'})"
      ],
      "metadata": {
        "id": "w5SVCFKPpdcF"
      },
      "execution_count": 64,
      "outputs": []
    },
    {
      "cell_type": "code",
      "source": [
        "dfMerged.info(show_counts=True)"
      ],
      "metadata": {
        "colab": {
          "base_uri": "https://localhost:8080/"
        },
        "id": "GihhKNi5cpLf",
        "outputId": "2717da79-b786-4b53-e01f-e34586b95115"
      },
      "execution_count": 65,
      "outputs": [
        {
          "output_type": "stream",
          "name": "stdout",
          "text": [
            "<class 'pandas.core.frame.DataFrame'>\n",
            "Int64Index: 1587441 entries, 0 to 1587440\n",
            "Data columns (total 36 columns):\n",
            " #   Column            Non-Null Count    Dtype         \n",
            "---  ------            --------------    -----         \n",
            " 0   asin              1587441 non-null  object        \n",
            " 1   rating            1587441 non-null  uint8         \n",
            " 2   verified          1587441 non-null  bool          \n",
            " 3   reviewTime        1587441 non-null  datetime64[ns]\n",
            " 4   timeDiff          1587441 non-null  int64         \n",
            " 5   recentness        1587441 non-null  uint8         \n",
            " 6   reviewerID        1587441 non-null  object        \n",
            " 7   reviewText        1586391 non-null  object        \n",
            " 8   reviewTextLength  1586391 non-null  Int32         \n",
            " 9   summary           1586978 non-null  object        \n",
            " 10  summaryLength     1586978 non-null  Int32         \n",
            " 11  vote              1587441 non-null  Int32         \n",
            " 12  styleStr          1587441 non-null  object        \n",
            " 13  numStyles         1587441 non-null  uint8         \n",
            " 14  numImages         1587441 non-null  uint8         \n",
            " 15  title             1587441 non-null  object        \n",
            " 16  brand             1587441 non-null  object        \n",
            " 17  categories        1587441 non-null  object        \n",
            " 18  price             160547 non-null   float64       \n",
            " 19  rankVideoGames    1587441 non-null  Int64         \n",
            " 20  rank2             1558948 non-null  Int64         \n",
            " 21  category2         1558948 non-null  object        \n",
            " 22  rank3             246100 non-null   Int64         \n",
            " 23  category3         246100 non-null   object        \n",
            " 24  rank4             127426 non-null   Int64         \n",
            " 25  category4         127426 non-null   object        \n",
            " 26  numHighResImages  1587441 non-null  uint8         \n",
            " 27  numDetails        1587441 non-null  uint8         \n",
            " 28  main_cat          1587441 non-null  object        \n",
            " 29  details           2929 non-null     object        \n",
            " 30  feature           1587441 non-null  object        \n",
            " 31  neg               1587441 non-null  object        \n",
            " 32  neu               1587441 non-null  object        \n",
            " 33  pos               1587441 non-null  object        \n",
            " 34  compound          1587441 non-null  object        \n",
            " 35  text              1587441 non-null  object        \n",
            "dtypes: Int32(3), Int64(4), bool(1), datetime64[ns](1), float64(1), int64(1), object(19), uint8(6)\n",
            "memory usage: 398.6+ MB\n"
          ]
        }
      ]
    },
    {
      "cell_type": "code",
      "source": [
        "dfMerged.describe(exclude='object', datetime_is_numeric=True)"
      ],
      "metadata": {
        "colab": {
          "base_uri": "https://localhost:8080/",
          "height": 562
        },
        "id": "-okiu7sNCB_A",
        "outputId": "b682440d-1653-49f5-bc8d-c219bee8c7ff"
      },
      "execution_count": 49,
      "outputs": [
        {
          "output_type": "execute_result",
          "data": {
            "text/plain": [
              "              rating verified                     reviewTime      timeDiff  \\\n",
              "count   1.587441e+06  1587441                        1587441  1.587441e+06   \n",
              "unique           NaN        2                            NaN           NaN   \n",
              "top              NaN     True                            NaN           NaN   \n",
              "freq             NaN  1097588                            NaN           NaN   \n",
              "mean    4.077125e+00      NaN  2013-04-06 17:08:42.045481216  2.005286e+03   \n",
              "min     1.000000e+00      NaN            1997-11-08 00:00:00  1.000000e+00   \n",
              "25%     4.000000e+00      NaN            2011-09-01 00:00:00  9.840000e+02   \n",
              "50%     5.000000e+00      NaN            2014-08-12 00:00:00  1.513000e+03   \n",
              "75%     5.000000e+00      NaN            2016-01-23 00:00:00  2.589000e+03   \n",
              "max     5.000000e+00      NaN            2018-10-02 00:00:00  7.634000e+03   \n",
              "std     1.366016e+00      NaN                            NaN  1.475751e+03   \n",
              "\n",
              "          recentness  reviewTextLength  summaryLength          vote  \\\n",
              "count   1.587441e+06      1.586391e+06   1.586978e+06  1.587441e+06   \n",
              "unique           NaN               NaN            NaN           NaN   \n",
              "top              NaN               NaN            NaN           NaN   \n",
              "freq             NaN               NaN            NaN           NaN   \n",
              "mean    2.178896e+01      4.662238e+02   2.273844e+01  1.797877e+00   \n",
              "min     0.000000e+00      1.000000e+00   1.000000e+00  0.000000e+00   \n",
              "25%     1.000000e+01      5.500000e+01   1.000000e+01  0.000000e+00   \n",
              "50%     1.600000e+01      1.610000e+02   1.600000e+01  0.000000e+00   \n",
              "75%     2.800000e+01      4.640000e+02   3.100000e+01  0.000000e+00   \n",
              "max     8.400000e+01      3.272100e+04   3.000000e+02  5.154000e+03   \n",
              "std     1.639829e+01      9.401949e+02   1.785210e+01  1.497211e+01   \n",
              "\n",
              "           numStyles   numImages_x          price  rankVideoGames  \\\n",
              "count   1.587441e+06  1.587441e+06  160547.000000    1.587441e+06   \n",
              "unique           NaN           NaN            NaN             NaN   \n",
              "top              NaN           NaN            NaN             NaN   \n",
              "freq             NaN           NaN            NaN             NaN   \n",
              "mean    7.615225e-01  1.131129e-02      73.029528    1.880155e+04   \n",
              "min     0.000000e+00  0.000000e+00       0.010000    2.000000e+00   \n",
              "25%     0.000000e+00  0.000000e+00      17.850000    3.933000e+03   \n",
              "50%     1.000000e+00  0.000000e+00      31.650000    1.067900e+04   \n",
              "75%     1.000000e+00  0.000000e+00      64.990000    2.442700e+04   \n",
              "max     3.000000e+00  4.800000e+01    1500.000000    2.417880e+05   \n",
              "std     6.967198e-01  2.329275e-01     125.281682    2.359868e+04   \n",
              "\n",
              "               rank2         rank3         rank4   numImages_y  \\\n",
              "count   1.558948e+06  2.461000e+05  1.274260e+05  1.587441e+06   \n",
              "unique           NaN           NaN           NaN           NaN   \n",
              "top              NaN           NaN           NaN           NaN   \n",
              "freq             NaN           NaN           NaN           NaN   \n",
              "mean    1.236080e+03  1.377488e+03  1.919565e+03  4.742212e+00   \n",
              "min     1.000000e+00  1.000000e+00  1.000000e+00  0.000000e+00   \n",
              "25%     8.400000e+01  6.400000e+01  6.000000e+01  1.000000e+00   \n",
              "50%     3.500000e+02  4.320000e+02  3.900000e+02  5.000000e+00   \n",
              "75%     1.016000e+03  1.423000e+03  2.220000e+03  8.000000e+00   \n",
              "max     5.251700e+05  1.510561e+06  1.274165e+06  1.400000e+01   \n",
              "std     5.708929e+03  1.015399e+04  1.002449e+04  3.233182e+00   \n",
              "\n",
              "        numHighResImages    numDetails  \n",
              "count       1.587441e+06  1.587441e+06  \n",
              "unique               NaN           NaN  \n",
              "top                  NaN           NaN  \n",
              "freq                 NaN           NaN  \n",
              "mean        4.742212e+00  1.105238e-02  \n",
              "min         0.000000e+00  0.000000e+00  \n",
              "25%         1.000000e+00  0.000000e+00  \n",
              "50%         5.000000e+00  0.000000e+00  \n",
              "75%         8.000000e+00  0.000000e+00  \n",
              "max         1.400000e+01  7.000000e+00  \n",
              "std         3.233182e+00  2.617099e-01  "
            ],
            "text/html": [
              "\n",
              "  <div id=\"df-4ae0e151-4e3e-4042-a9de-039560f452d9\">\n",
              "    <div class=\"colab-df-container\">\n",
              "      <div>\n",
              "<style scoped>\n",
              "    .dataframe tbody tr th:only-of-type {\n",
              "        vertical-align: middle;\n",
              "    }\n",
              "\n",
              "    .dataframe tbody tr th {\n",
              "        vertical-align: top;\n",
              "    }\n",
              "\n",
              "    .dataframe thead th {\n",
              "        text-align: right;\n",
              "    }\n",
              "</style>\n",
              "<table border=\"1\" class=\"dataframe\">\n",
              "  <thead>\n",
              "    <tr style=\"text-align: right;\">\n",
              "      <th></th>\n",
              "      <th>rating</th>\n",
              "      <th>verified</th>\n",
              "      <th>reviewTime</th>\n",
              "      <th>timeDiff</th>\n",
              "      <th>recentness</th>\n",
              "      <th>reviewTextLength</th>\n",
              "      <th>summaryLength</th>\n",
              "      <th>vote</th>\n",
              "      <th>numStyles</th>\n",
              "      <th>numImages_x</th>\n",
              "      <th>price</th>\n",
              "      <th>rankVideoGames</th>\n",
              "      <th>rank2</th>\n",
              "      <th>rank3</th>\n",
              "      <th>rank4</th>\n",
              "      <th>numImages_y</th>\n",
              "      <th>numHighResImages</th>\n",
              "      <th>numDetails</th>\n",
              "    </tr>\n",
              "  </thead>\n",
              "  <tbody>\n",
              "    <tr>\n",
              "      <th>count</th>\n",
              "      <td>1.587441e+06</td>\n",
              "      <td>1587441</td>\n",
              "      <td>1587441</td>\n",
              "      <td>1.587441e+06</td>\n",
              "      <td>1.587441e+06</td>\n",
              "      <td>1.586391e+06</td>\n",
              "      <td>1.586978e+06</td>\n",
              "      <td>1.587441e+06</td>\n",
              "      <td>1.587441e+06</td>\n",
              "      <td>1.587441e+06</td>\n",
              "      <td>160547.000000</td>\n",
              "      <td>1.587441e+06</td>\n",
              "      <td>1.558948e+06</td>\n",
              "      <td>2.461000e+05</td>\n",
              "      <td>1.274260e+05</td>\n",
              "      <td>1.587441e+06</td>\n",
              "      <td>1.587441e+06</td>\n",
              "      <td>1.587441e+06</td>\n",
              "    </tr>\n",
              "    <tr>\n",
              "      <th>unique</th>\n",
              "      <td>NaN</td>\n",
              "      <td>2</td>\n",
              "      <td>NaN</td>\n",
              "      <td>NaN</td>\n",
              "      <td>NaN</td>\n",
              "      <td>NaN</td>\n",
              "      <td>NaN</td>\n",
              "      <td>NaN</td>\n",
              "      <td>NaN</td>\n",
              "      <td>NaN</td>\n",
              "      <td>NaN</td>\n",
              "      <td>NaN</td>\n",
              "      <td>NaN</td>\n",
              "      <td>NaN</td>\n",
              "      <td>NaN</td>\n",
              "      <td>NaN</td>\n",
              "      <td>NaN</td>\n",
              "      <td>NaN</td>\n",
              "    </tr>\n",
              "    <tr>\n",
              "      <th>top</th>\n",
              "      <td>NaN</td>\n",
              "      <td>True</td>\n",
              "      <td>NaN</td>\n",
              "      <td>NaN</td>\n",
              "      <td>NaN</td>\n",
              "      <td>NaN</td>\n",
              "      <td>NaN</td>\n",
              "      <td>NaN</td>\n",
              "      <td>NaN</td>\n",
              "      <td>NaN</td>\n",
              "      <td>NaN</td>\n",
              "      <td>NaN</td>\n",
              "      <td>NaN</td>\n",
              "      <td>NaN</td>\n",
              "      <td>NaN</td>\n",
              "      <td>NaN</td>\n",
              "      <td>NaN</td>\n",
              "      <td>NaN</td>\n",
              "    </tr>\n",
              "    <tr>\n",
              "      <th>freq</th>\n",
              "      <td>NaN</td>\n",
              "      <td>1097588</td>\n",
              "      <td>NaN</td>\n",
              "      <td>NaN</td>\n",
              "      <td>NaN</td>\n",
              "      <td>NaN</td>\n",
              "      <td>NaN</td>\n",
              "      <td>NaN</td>\n",
              "      <td>NaN</td>\n",
              "      <td>NaN</td>\n",
              "      <td>NaN</td>\n",
              "      <td>NaN</td>\n",
              "      <td>NaN</td>\n",
              "      <td>NaN</td>\n",
              "      <td>NaN</td>\n",
              "      <td>NaN</td>\n",
              "      <td>NaN</td>\n",
              "      <td>NaN</td>\n",
              "    </tr>\n",
              "    <tr>\n",
              "      <th>mean</th>\n",
              "      <td>4.077125e+00</td>\n",
              "      <td>NaN</td>\n",
              "      <td>2013-04-06 17:08:42.045481216</td>\n",
              "      <td>2.005286e+03</td>\n",
              "      <td>2.178896e+01</td>\n",
              "      <td>4.662238e+02</td>\n",
              "      <td>2.273844e+01</td>\n",
              "      <td>1.797877e+00</td>\n",
              "      <td>7.615225e-01</td>\n",
              "      <td>1.131129e-02</td>\n",
              "      <td>73.029528</td>\n",
              "      <td>1.880155e+04</td>\n",
              "      <td>1.236080e+03</td>\n",
              "      <td>1.377488e+03</td>\n",
              "      <td>1.919565e+03</td>\n",
              "      <td>4.742212e+00</td>\n",
              "      <td>4.742212e+00</td>\n",
              "      <td>1.105238e-02</td>\n",
              "    </tr>\n",
              "    <tr>\n",
              "      <th>min</th>\n",
              "      <td>1.000000e+00</td>\n",
              "      <td>NaN</td>\n",
              "      <td>1997-11-08 00:00:00</td>\n",
              "      <td>1.000000e+00</td>\n",
              "      <td>0.000000e+00</td>\n",
              "      <td>1.000000e+00</td>\n",
              "      <td>1.000000e+00</td>\n",
              "      <td>0.000000e+00</td>\n",
              "      <td>0.000000e+00</td>\n",
              "      <td>0.000000e+00</td>\n",
              "      <td>0.010000</td>\n",
              "      <td>2.000000e+00</td>\n",
              "      <td>1.000000e+00</td>\n",
              "      <td>1.000000e+00</td>\n",
              "      <td>1.000000e+00</td>\n",
              "      <td>0.000000e+00</td>\n",
              "      <td>0.000000e+00</td>\n",
              "      <td>0.000000e+00</td>\n",
              "    </tr>\n",
              "    <tr>\n",
              "      <th>25%</th>\n",
              "      <td>4.000000e+00</td>\n",
              "      <td>NaN</td>\n",
              "      <td>2011-09-01 00:00:00</td>\n",
              "      <td>9.840000e+02</td>\n",
              "      <td>1.000000e+01</td>\n",
              "      <td>5.500000e+01</td>\n",
              "      <td>1.000000e+01</td>\n",
              "      <td>0.000000e+00</td>\n",
              "      <td>0.000000e+00</td>\n",
              "      <td>0.000000e+00</td>\n",
              "      <td>17.850000</td>\n",
              "      <td>3.933000e+03</td>\n",
              "      <td>8.400000e+01</td>\n",
              "      <td>6.400000e+01</td>\n",
              "      <td>6.000000e+01</td>\n",
              "      <td>1.000000e+00</td>\n",
              "      <td>1.000000e+00</td>\n",
              "      <td>0.000000e+00</td>\n",
              "    </tr>\n",
              "    <tr>\n",
              "      <th>50%</th>\n",
              "      <td>5.000000e+00</td>\n",
              "      <td>NaN</td>\n",
              "      <td>2014-08-12 00:00:00</td>\n",
              "      <td>1.513000e+03</td>\n",
              "      <td>1.600000e+01</td>\n",
              "      <td>1.610000e+02</td>\n",
              "      <td>1.600000e+01</td>\n",
              "      <td>0.000000e+00</td>\n",
              "      <td>1.000000e+00</td>\n",
              "      <td>0.000000e+00</td>\n",
              "      <td>31.650000</td>\n",
              "      <td>1.067900e+04</td>\n",
              "      <td>3.500000e+02</td>\n",
              "      <td>4.320000e+02</td>\n",
              "      <td>3.900000e+02</td>\n",
              "      <td>5.000000e+00</td>\n",
              "      <td>5.000000e+00</td>\n",
              "      <td>0.000000e+00</td>\n",
              "    </tr>\n",
              "    <tr>\n",
              "      <th>75%</th>\n",
              "      <td>5.000000e+00</td>\n",
              "      <td>NaN</td>\n",
              "      <td>2016-01-23 00:00:00</td>\n",
              "      <td>2.589000e+03</td>\n",
              "      <td>2.800000e+01</td>\n",
              "      <td>4.640000e+02</td>\n",
              "      <td>3.100000e+01</td>\n",
              "      <td>0.000000e+00</td>\n",
              "      <td>1.000000e+00</td>\n",
              "      <td>0.000000e+00</td>\n",
              "      <td>64.990000</td>\n",
              "      <td>2.442700e+04</td>\n",
              "      <td>1.016000e+03</td>\n",
              "      <td>1.423000e+03</td>\n",
              "      <td>2.220000e+03</td>\n",
              "      <td>8.000000e+00</td>\n",
              "      <td>8.000000e+00</td>\n",
              "      <td>0.000000e+00</td>\n",
              "    </tr>\n",
              "    <tr>\n",
              "      <th>max</th>\n",
              "      <td>5.000000e+00</td>\n",
              "      <td>NaN</td>\n",
              "      <td>2018-10-02 00:00:00</td>\n",
              "      <td>7.634000e+03</td>\n",
              "      <td>8.400000e+01</td>\n",
              "      <td>3.272100e+04</td>\n",
              "      <td>3.000000e+02</td>\n",
              "      <td>5.154000e+03</td>\n",
              "      <td>3.000000e+00</td>\n",
              "      <td>4.800000e+01</td>\n",
              "      <td>1500.000000</td>\n",
              "      <td>2.417880e+05</td>\n",
              "      <td>5.251700e+05</td>\n",
              "      <td>1.510561e+06</td>\n",
              "      <td>1.274165e+06</td>\n",
              "      <td>1.400000e+01</td>\n",
              "      <td>1.400000e+01</td>\n",
              "      <td>7.000000e+00</td>\n",
              "    </tr>\n",
              "    <tr>\n",
              "      <th>std</th>\n",
              "      <td>1.366016e+00</td>\n",
              "      <td>NaN</td>\n",
              "      <td>NaN</td>\n",
              "      <td>1.475751e+03</td>\n",
              "      <td>1.639829e+01</td>\n",
              "      <td>9.401949e+02</td>\n",
              "      <td>1.785210e+01</td>\n",
              "      <td>1.497211e+01</td>\n",
              "      <td>6.967198e-01</td>\n",
              "      <td>2.329275e-01</td>\n",
              "      <td>125.281682</td>\n",
              "      <td>2.359868e+04</td>\n",
              "      <td>5.708929e+03</td>\n",
              "      <td>1.015399e+04</td>\n",
              "      <td>1.002449e+04</td>\n",
              "      <td>3.233182e+00</td>\n",
              "      <td>3.233182e+00</td>\n",
              "      <td>2.617099e-01</td>\n",
              "    </tr>\n",
              "  </tbody>\n",
              "</table>\n",
              "</div>\n",
              "      <button class=\"colab-df-convert\" onclick=\"convertToInteractive('df-4ae0e151-4e3e-4042-a9de-039560f452d9')\"\n",
              "              title=\"Convert this dataframe to an interactive table.\"\n",
              "              style=\"display:none;\">\n",
              "        \n",
              "  <svg xmlns=\"http://www.w3.org/2000/svg\" height=\"24px\"viewBox=\"0 0 24 24\"\n",
              "       width=\"24px\">\n",
              "    <path d=\"M0 0h24v24H0V0z\" fill=\"none\"/>\n",
              "    <path d=\"M18.56 5.44l.94 2.06.94-2.06 2.06-.94-2.06-.94-.94-2.06-.94 2.06-2.06.94zm-11 1L8.5 8.5l.94-2.06 2.06-.94-2.06-.94L8.5 2.5l-.94 2.06-2.06.94zm10 10l.94 2.06.94-2.06 2.06-.94-2.06-.94-.94-2.06-.94 2.06-2.06.94z\"/><path d=\"M17.41 7.96l-1.37-1.37c-.4-.4-.92-.59-1.43-.59-.52 0-1.04.2-1.43.59L10.3 9.45l-7.72 7.72c-.78.78-.78 2.05 0 2.83L4 21.41c.39.39.9.59 1.41.59.51 0 1.02-.2 1.41-.59l7.78-7.78 2.81-2.81c.8-.78.8-2.07 0-2.86zM5.41 20L4 18.59l7.72-7.72 1.47 1.35L5.41 20z\"/>\n",
              "  </svg>\n",
              "      </button>\n",
              "      \n",
              "  <style>\n",
              "    .colab-df-container {\n",
              "      display:flex;\n",
              "      flex-wrap:wrap;\n",
              "      gap: 12px;\n",
              "    }\n",
              "\n",
              "    .colab-df-convert {\n",
              "      background-color: #E8F0FE;\n",
              "      border: none;\n",
              "      border-radius: 50%;\n",
              "      cursor: pointer;\n",
              "      display: none;\n",
              "      fill: #1967D2;\n",
              "      height: 32px;\n",
              "      padding: 0 0 0 0;\n",
              "      width: 32px;\n",
              "    }\n",
              "\n",
              "    .colab-df-convert:hover {\n",
              "      background-color: #E2EBFA;\n",
              "      box-shadow: 0px 1px 2px rgba(60, 64, 67, 0.3), 0px 1px 3px 1px rgba(60, 64, 67, 0.15);\n",
              "      fill: #174EA6;\n",
              "    }\n",
              "\n",
              "    [theme=dark] .colab-df-convert {\n",
              "      background-color: #3B4455;\n",
              "      fill: #D2E3FC;\n",
              "    }\n",
              "\n",
              "    [theme=dark] .colab-df-convert:hover {\n",
              "      background-color: #434B5C;\n",
              "      box-shadow: 0px 1px 3px 1px rgba(0, 0, 0, 0.15);\n",
              "      filter: drop-shadow(0px 1px 2px rgba(0, 0, 0, 0.3));\n",
              "      fill: #FFFFFF;\n",
              "    }\n",
              "  </style>\n",
              "\n",
              "      <script>\n",
              "        const buttonEl =\n",
              "          document.querySelector('#df-4ae0e151-4e3e-4042-a9de-039560f452d9 button.colab-df-convert');\n",
              "        buttonEl.style.display =\n",
              "          google.colab.kernel.accessAllowed ? 'block' : 'none';\n",
              "\n",
              "        async function convertToInteractive(key) {\n",
              "          const element = document.querySelector('#df-4ae0e151-4e3e-4042-a9de-039560f452d9');\n",
              "          const dataTable =\n",
              "            await google.colab.kernel.invokeFunction('convertToInteractive',\n",
              "                                                     [key], {});\n",
              "          if (!dataTable) return;\n",
              "\n",
              "          const docLinkHtml = 'Like what you see? Visit the ' +\n",
              "            '<a target=\"_blank\" href=https://colab.research.google.com/notebooks/data_table.ipynb>data table notebook</a>'\n",
              "            + ' to learn more about interactive tables.';\n",
              "          element.innerHTML = '';\n",
              "          dataTable['output_type'] = 'display_data';\n",
              "          await google.colab.output.renderOutput(dataTable, element);\n",
              "          const docLink = document.createElement('div');\n",
              "          docLink.innerHTML = docLinkHtml;\n",
              "          element.appendChild(docLink);\n",
              "        }\n",
              "      </script>\n",
              "    </div>\n",
              "  </div>\n",
              "  "
            ]
          },
          "metadata": {},
          "execution_count": 49
        }
      ]
    },
    {
      "cell_type": "code",
      "source": [
        "dfMerged.head()"
      ],
      "metadata": {
        "colab": {
          "base_uri": "https://localhost:8080/",
          "height": 768
        },
        "id": "DArD7-3ACFAm",
        "outputId": "5d17645e-6e05-4a61-a5a3-fa47e989f05c"
      },
      "execution_count": 50,
      "outputs": [
        {
          "output_type": "execute_result",
          "data": {
            "text/plain": [
              "         asin  rating  verified reviewTime  timeDiff  recentness  \\\n",
              "0  0439381673       1      True 2014-06-09      1577          17   \n",
              "1  0439381673       3      True 2014-05-10      1607          17   \n",
              "2  0439381673       4      True 2014-02-07      1699          18   \n",
              "3  0439381673       1      True 2014-02-07      1699          18   \n",
              "4  0439381673       4      True 2014-01-16      1721          19   \n",
              "\n",
              "       reviewerID                                         reviewText  \\\n",
              "0  A21ROB4YDOZA5P  I used to play this game years ago and loved i...   \n",
              "1  A3TNZ2Q5E7HTHD  The game itself worked great but the story lin...   \n",
              "2  A1OKRM3QFEATQO  I had to learn the hard way after ordering thi...   \n",
              "3  A2XO1JFCNEYV3T  The product description should state this clea...   \n",
              "4  A19WLPIRHD15TH  I would recommend this learning game for anyon...   \n",
              "\n",
              "   reviewTextLength                                            summary  ...  \\\n",
              "0               139                                  Did not like this  ...   \n",
              "1               145                                     Almost Perfect  ...   \n",
              "2               447  DOES NOT WORK WITH MAC OS unless it is 10.3 or...  ...   \n",
              "3               157                           does not work on Mac OSX  ...   \n",
              "4               120                                        Roughing it  ...   \n",
              "\n",
              "   rank3                          category3 rank4  category4  numImages_y  \\\n",
              "0    127  Video Games > PC Games > PC Games  <NA>       None            1   \n",
              "1    127  Video Games > PC Games > PC Games  <NA>       None            1   \n",
              "2    127  Video Games > PC Games > PC Games  <NA>       None            1   \n",
              "3    127  Video Games > PC Games > PC Games  <NA>       None            1   \n",
              "4    127  Video Games > PC Games > PC Games  <NA>       None            1   \n",
              "\n",
              "  numHighResImages numDetails     main_cat  details  \\\n",
              "0                1          0  Video Games      NaN   \n",
              "1                1          0  Video Games      NaN   \n",
              "2                1          0  Video Games      NaN   \n",
              "3                1          0  Video Games      NaN   \n",
              "4                1          0  Video Games      NaN   \n",
              "\n",
              "                                             feature  \n",
              "0  If you have not opened the item, you can retur...  \n",
              "1  If you have not opened the item, you can retur...  \n",
              "2  If you have not opened the item, you can retur...  \n",
              "3  If you have not opened the item, you can retur...  \n",
              "4  If you have not opened the item, you can retur...  \n",
              "\n",
              "[5 rows x 32 columns]"
            ],
            "text/html": [
              "\n",
              "  <div id=\"df-fcd0dc23-3ffd-4b36-a830-c5fc9898f044\">\n",
              "    <div class=\"colab-df-container\">\n",
              "      <div>\n",
              "<style scoped>\n",
              "    .dataframe tbody tr th:only-of-type {\n",
              "        vertical-align: middle;\n",
              "    }\n",
              "\n",
              "    .dataframe tbody tr th {\n",
              "        vertical-align: top;\n",
              "    }\n",
              "\n",
              "    .dataframe thead th {\n",
              "        text-align: right;\n",
              "    }\n",
              "</style>\n",
              "<table border=\"1\" class=\"dataframe\">\n",
              "  <thead>\n",
              "    <tr style=\"text-align: right;\">\n",
              "      <th></th>\n",
              "      <th>asin</th>\n",
              "      <th>rating</th>\n",
              "      <th>verified</th>\n",
              "      <th>reviewTime</th>\n",
              "      <th>timeDiff</th>\n",
              "      <th>recentness</th>\n",
              "      <th>reviewerID</th>\n",
              "      <th>reviewText</th>\n",
              "      <th>reviewTextLength</th>\n",
              "      <th>summary</th>\n",
              "      <th>...</th>\n",
              "      <th>rank3</th>\n",
              "      <th>category3</th>\n",
              "      <th>rank4</th>\n",
              "      <th>category4</th>\n",
              "      <th>numImages_y</th>\n",
              "      <th>numHighResImages</th>\n",
              "      <th>numDetails</th>\n",
              "      <th>main_cat</th>\n",
              "      <th>details</th>\n",
              "      <th>feature</th>\n",
              "    </tr>\n",
              "  </thead>\n",
              "  <tbody>\n",
              "    <tr>\n",
              "      <th>0</th>\n",
              "      <td>0439381673</td>\n",
              "      <td>1</td>\n",
              "      <td>True</td>\n",
              "      <td>2014-06-09</td>\n",
              "      <td>1577</td>\n",
              "      <td>17</td>\n",
              "      <td>A21ROB4YDOZA5P</td>\n",
              "      <td>I used to play this game years ago and loved i...</td>\n",
              "      <td>139</td>\n",
              "      <td>Did not like this</td>\n",
              "      <td>...</td>\n",
              "      <td>127</td>\n",
              "      <td>Video Games &gt; PC Games &gt; PC Games</td>\n",
              "      <td>&lt;NA&gt;</td>\n",
              "      <td>None</td>\n",
              "      <td>1</td>\n",
              "      <td>1</td>\n",
              "      <td>0</td>\n",
              "      <td>Video Games</td>\n",
              "      <td>NaN</td>\n",
              "      <td>If you have not opened the item, you can retur...</td>\n",
              "    </tr>\n",
              "    <tr>\n",
              "      <th>1</th>\n",
              "      <td>0439381673</td>\n",
              "      <td>3</td>\n",
              "      <td>True</td>\n",
              "      <td>2014-05-10</td>\n",
              "      <td>1607</td>\n",
              "      <td>17</td>\n",
              "      <td>A3TNZ2Q5E7HTHD</td>\n",
              "      <td>The game itself worked great but the story lin...</td>\n",
              "      <td>145</td>\n",
              "      <td>Almost Perfect</td>\n",
              "      <td>...</td>\n",
              "      <td>127</td>\n",
              "      <td>Video Games &gt; PC Games &gt; PC Games</td>\n",
              "      <td>&lt;NA&gt;</td>\n",
              "      <td>None</td>\n",
              "      <td>1</td>\n",
              "      <td>1</td>\n",
              "      <td>0</td>\n",
              "      <td>Video Games</td>\n",
              "      <td>NaN</td>\n",
              "      <td>If you have not opened the item, you can retur...</td>\n",
              "    </tr>\n",
              "    <tr>\n",
              "      <th>2</th>\n",
              "      <td>0439381673</td>\n",
              "      <td>4</td>\n",
              "      <td>True</td>\n",
              "      <td>2014-02-07</td>\n",
              "      <td>1699</td>\n",
              "      <td>18</td>\n",
              "      <td>A1OKRM3QFEATQO</td>\n",
              "      <td>I had to learn the hard way after ordering thi...</td>\n",
              "      <td>447</td>\n",
              "      <td>DOES NOT WORK WITH MAC OS unless it is 10.3 or...</td>\n",
              "      <td>...</td>\n",
              "      <td>127</td>\n",
              "      <td>Video Games &gt; PC Games &gt; PC Games</td>\n",
              "      <td>&lt;NA&gt;</td>\n",
              "      <td>None</td>\n",
              "      <td>1</td>\n",
              "      <td>1</td>\n",
              "      <td>0</td>\n",
              "      <td>Video Games</td>\n",
              "      <td>NaN</td>\n",
              "      <td>If you have not opened the item, you can retur...</td>\n",
              "    </tr>\n",
              "    <tr>\n",
              "      <th>3</th>\n",
              "      <td>0439381673</td>\n",
              "      <td>1</td>\n",
              "      <td>True</td>\n",
              "      <td>2014-02-07</td>\n",
              "      <td>1699</td>\n",
              "      <td>18</td>\n",
              "      <td>A2XO1JFCNEYV3T</td>\n",
              "      <td>The product description should state this clea...</td>\n",
              "      <td>157</td>\n",
              "      <td>does not work on Mac OSX</td>\n",
              "      <td>...</td>\n",
              "      <td>127</td>\n",
              "      <td>Video Games &gt; PC Games &gt; PC Games</td>\n",
              "      <td>&lt;NA&gt;</td>\n",
              "      <td>None</td>\n",
              "      <td>1</td>\n",
              "      <td>1</td>\n",
              "      <td>0</td>\n",
              "      <td>Video Games</td>\n",
              "      <td>NaN</td>\n",
              "      <td>If you have not opened the item, you can retur...</td>\n",
              "    </tr>\n",
              "    <tr>\n",
              "      <th>4</th>\n",
              "      <td>0439381673</td>\n",
              "      <td>4</td>\n",
              "      <td>True</td>\n",
              "      <td>2014-01-16</td>\n",
              "      <td>1721</td>\n",
              "      <td>19</td>\n",
              "      <td>A19WLPIRHD15TH</td>\n",
              "      <td>I would recommend this learning game for anyon...</td>\n",
              "      <td>120</td>\n",
              "      <td>Roughing it</td>\n",
              "      <td>...</td>\n",
              "      <td>127</td>\n",
              "      <td>Video Games &gt; PC Games &gt; PC Games</td>\n",
              "      <td>&lt;NA&gt;</td>\n",
              "      <td>None</td>\n",
              "      <td>1</td>\n",
              "      <td>1</td>\n",
              "      <td>0</td>\n",
              "      <td>Video Games</td>\n",
              "      <td>NaN</td>\n",
              "      <td>If you have not opened the item, you can retur...</td>\n",
              "    </tr>\n",
              "  </tbody>\n",
              "</table>\n",
              "<p>5 rows × 32 columns</p>\n",
              "</div>\n",
              "      <button class=\"colab-df-convert\" onclick=\"convertToInteractive('df-fcd0dc23-3ffd-4b36-a830-c5fc9898f044')\"\n",
              "              title=\"Convert this dataframe to an interactive table.\"\n",
              "              style=\"display:none;\">\n",
              "        \n",
              "  <svg xmlns=\"http://www.w3.org/2000/svg\" height=\"24px\"viewBox=\"0 0 24 24\"\n",
              "       width=\"24px\">\n",
              "    <path d=\"M0 0h24v24H0V0z\" fill=\"none\"/>\n",
              "    <path d=\"M18.56 5.44l.94 2.06.94-2.06 2.06-.94-2.06-.94-.94-2.06-.94 2.06-2.06.94zm-11 1L8.5 8.5l.94-2.06 2.06-.94-2.06-.94L8.5 2.5l-.94 2.06-2.06.94zm10 10l.94 2.06.94-2.06 2.06-.94-2.06-.94-.94-2.06-.94 2.06-2.06.94z\"/><path d=\"M17.41 7.96l-1.37-1.37c-.4-.4-.92-.59-1.43-.59-.52 0-1.04.2-1.43.59L10.3 9.45l-7.72 7.72c-.78.78-.78 2.05 0 2.83L4 21.41c.39.39.9.59 1.41.59.51 0 1.02-.2 1.41-.59l7.78-7.78 2.81-2.81c.8-.78.8-2.07 0-2.86zM5.41 20L4 18.59l7.72-7.72 1.47 1.35L5.41 20z\"/>\n",
              "  </svg>\n",
              "      </button>\n",
              "      \n",
              "  <style>\n",
              "    .colab-df-container {\n",
              "      display:flex;\n",
              "      flex-wrap:wrap;\n",
              "      gap: 12px;\n",
              "    }\n",
              "\n",
              "    .colab-df-convert {\n",
              "      background-color: #E8F0FE;\n",
              "      border: none;\n",
              "      border-radius: 50%;\n",
              "      cursor: pointer;\n",
              "      display: none;\n",
              "      fill: #1967D2;\n",
              "      height: 32px;\n",
              "      padding: 0 0 0 0;\n",
              "      width: 32px;\n",
              "    }\n",
              "\n",
              "    .colab-df-convert:hover {\n",
              "      background-color: #E2EBFA;\n",
              "      box-shadow: 0px 1px 2px rgba(60, 64, 67, 0.3), 0px 1px 3px 1px rgba(60, 64, 67, 0.15);\n",
              "      fill: #174EA6;\n",
              "    }\n",
              "\n",
              "    [theme=dark] .colab-df-convert {\n",
              "      background-color: #3B4455;\n",
              "      fill: #D2E3FC;\n",
              "    }\n",
              "\n",
              "    [theme=dark] .colab-df-convert:hover {\n",
              "      background-color: #434B5C;\n",
              "      box-shadow: 0px 1px 3px 1px rgba(0, 0, 0, 0.15);\n",
              "      filter: drop-shadow(0px 1px 2px rgba(0, 0, 0, 0.3));\n",
              "      fill: #FFFFFF;\n",
              "    }\n",
              "  </style>\n",
              "\n",
              "      <script>\n",
              "        const buttonEl =\n",
              "          document.querySelector('#df-fcd0dc23-3ffd-4b36-a830-c5fc9898f044 button.colab-df-convert');\n",
              "        buttonEl.style.display =\n",
              "          google.colab.kernel.accessAllowed ? 'block' : 'none';\n",
              "\n",
              "        async function convertToInteractive(key) {\n",
              "          const element = document.querySelector('#df-fcd0dc23-3ffd-4b36-a830-c5fc9898f044');\n",
              "          const dataTable =\n",
              "            await google.colab.kernel.invokeFunction('convertToInteractive',\n",
              "                                                     [key], {});\n",
              "          if (!dataTable) return;\n",
              "\n",
              "          const docLinkHtml = 'Like what you see? Visit the ' +\n",
              "            '<a target=\"_blank\" href=https://colab.research.google.com/notebooks/data_table.ipynb>data table notebook</a>'\n",
              "            + ' to learn more about interactive tables.';\n",
              "          element.innerHTML = '';\n",
              "          dataTable['output_type'] = 'display_data';\n",
              "          await google.colab.output.renderOutput(dataTable, element);\n",
              "          const docLink = document.createElement('div');\n",
              "          docLink.innerHTML = docLinkHtml;\n",
              "          element.appendChild(docLink);\n",
              "        }\n",
              "      </script>\n",
              "    </div>\n",
              "  </div>\n",
              "  "
            ]
          },
          "metadata": {},
          "execution_count": 50
        }
      ]
    },
    {
      "cell_type": "markdown",
      "source": [
        "#### Sentiment Analysis"
      ],
      "metadata": {
        "id": "YIdzT0ZlI4Hx"
      }
    },
    {
      "cell_type": "code",
      "source": [
        "# code help: https://www.kaggle.com/code/robikscube/sentiment-analysis-python-youtube-tutorial/notebook\n",
        "sia = SentimentIntensityAnalyzer()\n",
        "\n",
        "dfMergedReview = dfMerged.copy()\n",
        "dfMergedReview = dfMergedReview[['reviewText']]\n",
        "\n",
        "# get polarity score on dfMerged\n",
        "reviewPolarity = {}\n",
        "for i, row in dfMergedReview.iterrows():\n",
        "    text = str(row['reviewText'])\n",
        "    ps = sia.polarity_scores(text)\n",
        "    ps['text'] = text\n",
        "    reviewPolarity[i] = ps\n",
        "dfReviewSia = pd.DataFrame(reviewPolarity).T"
      ],
      "metadata": {
        "id": "F5Z9JvN3Ybj9"
      },
      "execution_count": 51,
      "outputs": []
    },
    {
      "cell_type": "code",
      "source": [
        "dfMergedBackup = dfMerged.copy()"
      ],
      "metadata": {
        "id": "I8f-7rWzihEa"
      },
      "execution_count": 53,
      "outputs": []
    },
    {
      "cell_type": "code",
      "source": [
        "# merge into dfMerged\n",
        "dfMerged = dfMerged.merge(dfReviewSia, left_index=True, right_index=True)"
      ],
      "metadata": {
        "id": "7_1f209j7t-T"
      },
      "execution_count": 54,
      "outputs": []
    },
    {
      "cell_type": "markdown",
      "source": [
        "### Plots"
      ],
      "metadata": {
        "id": "KKtOX83NIuMR"
      }
    },
    {
      "cell_type": "code",
      "source": [
        "# review recentness\n",
        "dfRecentness = dfMerged['recentness'].value_counts(sort=False).reset_index()\n",
        "dfRecentness = dfRecentness.rename(columns={'index': 'Recentness', 'recentness': 'Frequency'})\n",
        "dfRecentness['Recentness'] = dfRecentness['Recentness'] + 1 # start from 1 instead of 0\n",
        "dfRecentness = dfRecentness.sort_values(by='Recentness')\n",
        "\n",
        "dfRecentness.plot.bar(x='Recentness', y='Frequency', figsize=(15,6), title='Recentness Count', ylabel='Count')"
      ],
      "metadata": {
        "colab": {
          "base_uri": "https://localhost:8080/",
          "height": 425
        },
        "id": "mlxQ3bxkYQK5",
        "outputId": "f1a33c7a-0fad-4254-f394-85ee767b79ac"
      },
      "execution_count": 57,
      "outputs": [
        {
          "output_type": "execute_result",
          "data": {
            "text/plain": [
              "<matplotlib.axes._subplots.AxesSubplot at 0x7f8025f5d610>"
            ]
          },
          "metadata": {},
          "execution_count": 57
        },
        {
          "output_type": "display_data",
          "data": {
            "text/plain": [
              "<Figure size 1080x432 with 1 Axes>"
            ],
            "image/png": "[encoded data removed]"
          },
          "metadata": {
            "needs_background": "light"
          }
        }
      ]
    },
    {
      "cell_type": "code",
      "source": [
        "# rating distribution\n",
        "# dfMerged['rating'].value_counts().sort_index().plot(kind='bar', title='Rating Distribution',\n",
        "#                                                      xlabel='Rating', ylabel='Count')\n",
        "\n",
        "dfRatingsByVerified = dfMerged.groupby('verified', sort=False).rating.value_counts(normalize=False).unstack(0)\n",
        "dfRatingsByVerified.plot.bar(xlabel='Rating', ylabel='Count', title='Overall Rating Counts by Verification Status')\n",
        "\n",
        "dfRatingsByVerified = dfMerged.groupby('verified', sort=False).rating.value_counts(normalize=True).unstack(0)\n",
        "dfRatingsByVerified.plot.bar(xlabel='Rating', ylabel='Percentage', \n",
        "                            title='Overall Rating Distribution Percentage Conditioned on Verification Status')"
      ],
      "metadata": {
        "colab": {
          "base_uri": "https://localhost:8080/",
          "height": 585
        },
        "id": "zYSJJ7GjYTXA",
        "outputId": "7eb34a48-aa37-4e7c-9319-cae8f790e750"
      },
      "execution_count": 58,
      "outputs": [
        {
          "output_type": "execute_result",
          "data": {
            "text/plain": [
              "<matplotlib.axes._subplots.AxesSubplot at 0x7f7ff74ccf10>"
            ]
          },
          "metadata": {},
          "execution_count": 58
        },
        {
          "output_type": "display_data",
          "data": {
            "text/plain": [
              "<Figure size 432x288 with 1 Axes>"
            ],
            "image/png": "[encoded data removed]"
          },
          "metadata": {
            "needs_background": "light"
          }
        },
        {
          "output_type": "display_data",
          "data": {
            "text/plain": [
              "<Figure size 432x288 with 1 Axes>"
            ],
            "image/png": "[encoded data removed]"
          },
          "metadata": {
            "needs_background": "light"
          }
        }
      ]
    },
    {
      "cell_type": "code",
      "source": [
        "dfMerged.boxplot(column='compound', by='rating')"
      ],
      "metadata": {
        "colab": {
          "base_uri": "https://localhost:8080/",
          "height": 375
        },
        "id": "1XU5TcFn_DiZ",
        "outputId": "a30811e8-24db-44e3-8769-4f83788a011d"
      },
      "execution_count": 59,
      "outputs": [
        {
          "output_type": "stream",
          "name": "stderr",
          "text": [
            "/usr/local/lib/python3.7/dist-packages/matplotlib/cbook/__init__.py:1376: VisibleDeprecationWarning: Creating an ndarray from ragged nested sequences (which is a list-or-tuple of lists-or-tuples-or ndarrays with different lengths or shapes) is deprecated. If you meant to do this, you must specify 'dtype=object' when creating the ndarray.\n",
            "  X = np.atleast_1d(X.T if isinstance(X, np.ndarray) else np.asarray(X))\n"
          ]
        },
        {
          "output_type": "execute_result",
          "data": {
            "text/plain": [
              "<matplotlib.axes._subplots.AxesSubplot at 0x7f802ce04810>"
            ]
          },
          "metadata": {},
          "execution_count": 59
        },
        {
          "output_type": "display_data",
          "data": {
            "text/plain": [
              "<Figure size 432x288 with 1 Axes>"
            ],
            "image/png": "[encoded data removed]"
          },
          "metadata": {
            "needs_background": "light"
          }
        }
      ]
    },
    {
      "cell_type": "markdown",
      "source": [
        "### Aggregate Reviews"
      ],
      "metadata": {
        "id": "aJZBQ32hGqVK"
      }
    },
    {
      "cell_type": "code",
      "source": [
        "dfMergedMinTime = dfMerged.groupby(by=['asin']).agg({'timeDiff': 'min', 'recentness': 'max'}).reset_index()"
      ],
      "metadata": {
        "id": "-QpYElCJ-Vp3"
      },
      "execution_count": 107,
      "outputs": []
    },
    {
      "cell_type": "code",
      "source": [
        "dfMerged = dfMerged.merge(dfMergedMinTime, how='left', on='asin', suffixes=('', '_y'))\n",
        "dfMerged['recentnessReverse'] = dfMerged['recentness_y'] - dfMerged['recentness'] + 1\n",
        "dfMerged['recentRating'] = dfMerged['recentnessReverse'] * dfMerged['rating']\n",
        "dfMerged['recentCompound'] = dfMerged['recentnessReverse'] * dfMerged['compound']"
      ],
      "metadata": {
        "id": "JmcoPngzHeFH"
      },
      "execution_count": 113,
      "outputs": []
    },
    {
      "cell_type": "code",
      "source": [
        "# get mean rating, total numbers of reviews, and verified reviews per asin\n",
        "dfAggr = dfMerged.groupby(['asin'], as_index=False).agg({'rating': 'mean', 'reviewerID': 'count', 'verified': [np.sum], \n",
        "                                                         'vote': 'mean', 'compound': 'mean',\n",
        "                                                         'numStyles': 'sum', \n",
        "                                                         'numImages': 'min', 'numHighResImages': 'min',\n",
        "                                                         'numDetails': 'min',\n",
        "                                                         'price': 'min', 'rankVideoGames': 'min',\n",
        "                                                         'recentRating': 'mean', 'recentCompound': 'mean'})\n",
        "dfAggr.columns = ['_'.join(col).strip() for col in dfAggr.columns.values]\n",
        "\n",
        "dfAggr = dfAggr.rename(columns={'asin_': 'asin', 'reviewerID_count': 'reviews_count',\n",
        "                                'numImages_min': 'numImages', 'numHighResImages_min': 'numHighResImages',\n",
        "                                'numDetails_min': 'numDetails', 'price_min': 'price', \n",
        "                                'rankVideoGames_min': 'rankVideoGames'})"
      ],
      "metadata": {
        "id": "d5rD7RegDJZY"
      },
      "execution_count": 173,
      "outputs": []
    },
    {
      "cell_type": "code",
      "source": [
        "dfAggr = dfAggr.astype({'vote_mean': np.float64, 'rankVideoGames': np.int64})"
      ],
      "metadata": {
        "id": "xRRRIsgAM4_M"
      },
      "execution_count": 174,
      "outputs": []
    },
    {
      "cell_type": "code",
      "source": [
        "dfAggr.info(show_counts=True)"
      ],
      "metadata": {
        "colab": {
          "base_uri": "https://localhost:8080/"
        },
        "id": "XAFnnmFM2lBP",
        "outputId": "1d24ff86-c195-429a-ed08-5dd918e8c5d4"
      },
      "execution_count": 175,
      "outputs": [
        {
          "output_type": "stream",
          "name": "stdout",
          "text": [
            "<class 'pandas.core.frame.DataFrame'>\n",
            "RangeIndex: 40941 entries, 0 to 40940\n",
            "Data columns (total 14 columns):\n",
            " #   Column               Non-Null Count  Dtype  \n",
            "---  ------               --------------  -----  \n",
            " 0   asin                 40941 non-null  object \n",
            " 1   rating_mean          40941 non-null  float64\n",
            " 2   reviews_count        40941 non-null  int64  \n",
            " 3   verified_sum         40941 non-null  int64  \n",
            " 4   vote_mean            40941 non-null  float64\n",
            " 5   compound_mean        40941 non-null  float64\n",
            " 6   numStyles_sum        40941 non-null  float64\n",
            " 7   numImages            40941 non-null  uint8  \n",
            " 8   numHighResImages     40941 non-null  uint8  \n",
            " 9   numDetails           40941 non-null  uint8  \n",
            " 10  price                6856 non-null   float64\n",
            " 11  rankVideoGames       40941 non-null  int64  \n",
            " 12  recentRating_mean    40941 non-null  float64\n",
            " 13  recentCompound_mean  40941 non-null  float64\n",
            "dtypes: float64(7), int64(3), object(1), uint8(3)\n",
            "memory usage: 3.6+ MB\n"
          ]
        }
      ]
    },
    {
      "cell_type": "markdown",
      "source": [
        "#### Verified Purchases"
      ],
      "metadata": {
        "id": "p-ER0UNT-KeE"
      }
    },
    {
      "cell_type": "code",
      "source": [
        "dfAggr['verified_percentage'] = dfAggr['verified_sum'] / dfAggr['reviews_count']\n",
        "dfAggr['verified_percentage'].plot.hist(bins=10)"
      ],
      "metadata": {
        "colab": {
          "base_uri": "https://localhost:8080/",
          "height": 283
        },
        "id": "cBWlF1nnCCii",
        "outputId": "54da96d8-db26-4c78-87b9-1d08d26810db"
      },
      "execution_count": 176,
      "outputs": [
        {
          "output_type": "execute_result",
          "data": {
            "text/plain": [
              "<matplotlib.axes._subplots.AxesSubplot at 0x7f8028c36450>"
            ]
          },
          "metadata": {},
          "execution_count": 176
        },
        {
          "output_type": "display_data",
          "data": {
            "text/plain": [
              "<Figure size 432x288 with 1 Axes>"
            ],
            "image/png": "[encoded data removed]"
          },
          "metadata": {
            "needs_background": "light"
          }
        }
      ]
    },
    {
      "cell_type": "markdown",
      "source": [
        "#### Mean Product Rating vs. Number of Reviews"
      ],
      "metadata": {
        "id": "2b7HeHqv0x21"
      }
    },
    {
      "cell_type": "code",
      "source": [
        "# get mean rating and total counts per asin per verified\n",
        "gcAsinVer = dfMerged.groupby(['asin', 'verified'], as_index=False).agg({'rating': 'mean', 'reviewerID': 'count'})\n",
        "gcAsinVer = gcAsinVer.rename(columns={'rating': 'avgRating', 'reviewerID': 'numReviews'})\n",
        "gcAsinVer = gcAsinVer.sort_values(by=['numReviews', 'asin', 'verified'], ascending=[False, True, True], ignore_index=True)"
      ],
      "metadata": {
        "id": "Iskz-yaoYc5b"
      },
      "execution_count": 87,
      "outputs": []
    },
    {
      "cell_type": "code",
      "source": [
        "# plot scatterplot of ratings vs. number of reviews per product for verified and unverified reviews respectively\n",
        "gcVerified = gcAsinVer.loc[gcAsinVer['verified'] == True]\n",
        "gcUnverified = gcAsinVer.loc[gcAsinVer['verified'] == False]\n",
        "\n",
        "plt.figure()\n",
        "plt.plot(gcVerified['numReviews'], gcVerified['avgRating'], '.', markersize=3, label='Verified')\n",
        "plt.plot(gcUnverified['numReviews'], gcUnverified['avgRating'], '.', markersize=3, label='Unverified')\n",
        "plt.title('Mean Product Rating vs. Number of Reviews')\n",
        "plt.xlabel('Number of Reviews')\n",
        "plt.ylabel('Mean Product Rating')\n",
        "plt.legend()\n",
        "plt.show()"
      ],
      "metadata": {
        "colab": {
          "base_uri": "https://localhost:8080/",
          "height": 295
        },
        "id": "-14N7qUhYiOg",
        "outputId": "4f08fc9e-6978-447f-b686-6f8ab2f6621d"
      },
      "execution_count": 88,
      "outputs": [
        {
          "output_type": "display_data",
          "data": {
            "text/plain": [
              "<Figure size 432x288 with 1 Axes>"
            ],
            "image/png": "[encoded data removed]"
          },
          "metadata": {
            "needs_background": "light"
          }
        }
      ]
    },
    {
      "cell_type": "markdown",
      "source": [
        "#### Correlation"
      ],
      "metadata": {
        "id": "ooB5qtds2jGc"
      }
    },
    {
      "cell_type": "code",
      "source": [
        "dfAggrCorr = dfAggr.corr()\n",
        "dfAggrCorr = dfAggrCorr.abs()\n",
        "\n",
        "plt.figure(figsize=(14, 6))\n",
        "sns.heatmap(dfAggrCorr, annot=True)"
      ],
      "metadata": {
        "colab": {
          "base_uri": "https://localhost:8080/",
          "height": 505
        },
        "id": "JprJPT-U3m2P",
        "outputId": "bc5b35d9-5074-40f8-f36d-f96fb5a17b68"
      },
      "execution_count": 177,
      "outputs": [
        {
          "output_type": "execute_result",
          "data": {
            "text/plain": [
              "<matplotlib.axes._subplots.AxesSubplot at 0x7f802f1cf610>"
            ]
          },
          "metadata": {},
          "execution_count": 177
        },
        {
          "output_type": "display_data",
          "data": {
            "text/plain": [
              "<Figure size 1008x432 with 2 Axes>"
            ],
            "image/png": "[encoded data removed]"
          },
          "metadata": {
            "needs_background": "light"
          }
        }
      ]
    },
    {
      "cell_type": "markdown",
      "source": [
        "#### Regression Model"
      ],
      "metadata": {
        "id": "iXU0h5ZMKSHy"
      }
    },
    {
      "cell_type": "code",
      "source": [
        "import statsmodels.formula.api as sm"
      ],
      "metadata": {
        "id": "kK043CUBKZUZ"
      },
      "execution_count": 119,
      "outputs": []
    },
    {
      "cell_type": "code",
      "source": [
        "regResult = sm.ols(formula=\"rankVideoGames ~ rating_mean + reviews_count + verified_percentage + \\\n",
        "                            vote_mean + recentRating_mean + recentCompound_mean\",\n",
        "                   data=dfAggr).fit() # homogeneous regression"
      ],
      "metadata": {
        "id": "d99e0ZppKuN9"
      },
      "execution_count": 185,
      "outputs": []
    },
    {
      "cell_type": "code",
      "source": [
        "regResult.params"
      ],
      "metadata": {
        "colab": {
          "base_uri": "https://localhost:8080/"
        },
        "id": "7grX69NVMt8M",
        "outputId": "2bc5491f-99b0-4208-a3cf-d78adbd49c2a"
      },
      "execution_count": 186,
      "outputs": [
        {
          "output_type": "execute_result",
          "data": {
            "text/plain": [
              "Intercept              128463.729414\n",
              "rating_mean             -4985.955514\n",
              "reviews_count             -83.842559\n",
              "verified_percentage    -27668.708962\n",
              "vote_mean               -1117.980795\n",
              "recentRating_mean        -529.821479\n",
              "recentCompound_mean      -195.461256\n",
              "dtype: float64"
            ]
          },
          "metadata": {},
          "execution_count": 186
        }
      ]
    },
    {
      "cell_type": "code",
      "source": [
        "regResult.summary()"
      ],
      "metadata": {
        "colab": {
          "base_uri": "https://localhost:8080/",
          "height": 558
        },
        "id": "CRLFh7wPK1Cq",
        "outputId": "1b656402-2608-49f9-c884-4c9509e270b5"
      },
      "execution_count": 187,
      "outputs": [
        {
          "output_type": "execute_result",
          "data": {
            "text/plain": [
              "<class 'statsmodels.iolib.summary.Summary'>\n",
              "\"\"\"\n",
              "                            OLS Regression Results                            \n",
              "==============================================================================\n",
              "Dep. Variable:         rankVideoGames   R-squared:                       0.244\n",
              "Model:                            OLS   Adj. R-squared:                  0.244\n",
              "Method:                 Least Squares   F-statistic:                     2206.\n",
              "Date:                Mon, 31 Oct 2022   Prob (F-statistic):               0.00\n",
              "Time:                        04:12:52   Log-Likelihood:            -4.9522e+05\n",
              "No. Observations:               40941   AIC:                         9.905e+05\n",
              "Df Residuals:                   40934   BIC:                         9.905e+05\n",
              "Df Model:                           6                                         \n",
              "Covariance Type:            nonrobust                                         \n",
              "=======================================================================================\n",
              "                          coef    std err          t      P>|t|      [0.025      0.975]\n",
              "---------------------------------------------------------------------------------------\n",
              "Intercept            1.285e+05   1025.994    125.209      0.000    1.26e+05     1.3e+05\n",
              "rating_mean         -4985.9555    222.236    -22.435      0.000   -5421.543   -4550.368\n",
              "reviews_count         -83.8426      1.573    -53.311      0.000     -86.925     -80.760\n",
              "verified_percentage -2.767e+04    723.152    -38.261      0.000   -2.91e+04   -2.63e+04\n",
              "vote_mean           -1117.9808    100.347    -11.141      0.000   -1314.663    -921.299\n",
              "recentRating_mean    -529.8215     10.780    -49.151      0.000    -550.950    -508.693\n",
              "recentCompound_mean  -195.4613     57.993     -3.370      0.001    -309.129     -81.794\n",
              "==============================================================================\n",
              "Omnibus:                     6799.709   Durbin-Watson:                   1.507\n",
              "Prob(Omnibus):                  0.000   Jarque-Bera (JB):            13297.455\n",
              "Skew:                           1.023   Prob(JB):                         0.00\n",
              "Kurtosis:                       4.900   Cond. No.                         752.\n",
              "==============================================================================\n",
              "\n",
              "Notes:\n",
              "[1] Standard Errors assume that the covariance matrix of the errors is correctly specified.\n",
              "\"\"\""
            ],
            "text/html": [
              "<table class=\"simpletable\">\n",
              "<caption>OLS Regression Results</caption>\n",
              "<tr>\n",
              "  <th>Dep. Variable:</th>     <td>rankVideoGames</td>  <th>  R-squared:         </th>  <td>   0.244</td>  \n",
              "</tr>\n",
              "<tr>\n",
              "  <th>Model:</th>                   <td>OLS</td>       <th>  Adj. R-squared:    </th>  <td>   0.244</td>  \n",
              "</tr>\n",
              "<tr>\n",
              "  <th>Method:</th>             <td>Least Squares</td>  <th>  F-statistic:       </th>  <td>   2206.</td>  \n",
              "</tr>\n",
              "<tr>\n",
              "  <th>Date:</th>             <td>Mon, 31 Oct 2022</td> <th>  Prob (F-statistic):</th>   <td>  0.00</td>   \n",
              "</tr>\n",
              "<tr>\n",
              "  <th>Time:</th>                 <td>04:12:52</td>     <th>  Log-Likelihood:    </th> <td>-4.9522e+05</td>\n",
              "</tr>\n",
              "<tr>\n",
              "  <th>No. Observations:</th>      <td> 40941</td>      <th>  AIC:               </th>  <td>9.905e+05</td> \n",
              "</tr>\n",
              "<tr>\n",
              "  <th>Df Residuals:</th>          <td> 40934</td>      <th>  BIC:               </th>  <td>9.905e+05</td> \n",
              "</tr>\n",
              "<tr>\n",
              "  <th>Df Model:</th>              <td>     6</td>      <th>                     </th>      <td> </td>     \n",
              "</tr>\n",
              "<tr>\n",
              "  <th>Covariance Type:</th>      <td>nonrobust</td>    <th>                     </th>      <td> </td>     \n",
              "</tr>\n",
              "</table>\n",
              "<table class=\"simpletable\">\n",
              "<tr>\n",
              "           <td></td>              <th>coef</th>     <th>std err</th>      <th>t</th>      <th>P>|t|</th>  <th>[0.025</th>    <th>0.975]</th>  \n",
              "</tr>\n",
              "<tr>\n",
              "  <th>Intercept</th>           <td> 1.285e+05</td> <td> 1025.994</td> <td>  125.209</td> <td> 0.000</td> <td> 1.26e+05</td> <td>  1.3e+05</td>\n",
              "</tr>\n",
              "<tr>\n",
              "  <th>rating_mean</th>         <td>-4985.9555</td> <td>  222.236</td> <td>  -22.435</td> <td> 0.000</td> <td>-5421.543</td> <td>-4550.368</td>\n",
              "</tr>\n",
              "<tr>\n",
              "  <th>reviews_count</th>       <td>  -83.8426</td> <td>    1.573</td> <td>  -53.311</td> <td> 0.000</td> <td>  -86.925</td> <td>  -80.760</td>\n",
              "</tr>\n",
              "<tr>\n",
              "  <th>verified_percentage</th> <td>-2.767e+04</td> <td>  723.152</td> <td>  -38.261</td> <td> 0.000</td> <td>-2.91e+04</td> <td>-2.63e+04</td>\n",
              "</tr>\n",
              "<tr>\n",
              "  <th>vote_mean</th>           <td>-1117.9808</td> <td>  100.347</td> <td>  -11.141</td> <td> 0.000</td> <td>-1314.663</td> <td> -921.299</td>\n",
              "</tr>\n",
              "<tr>\n",
              "  <th>recentRating_mean</th>   <td> -529.8215</td> <td>   10.780</td> <td>  -49.151</td> <td> 0.000</td> <td> -550.950</td> <td> -508.693</td>\n",
              "</tr>\n",
              "<tr>\n",
              "  <th>recentCompound_mean</th> <td> -195.4613</td> <td>   57.993</td> <td>   -3.370</td> <td> 0.001</td> <td> -309.129</td> <td>  -81.794</td>\n",
              "</tr>\n",
              "</table>\n",
              "<table class=\"simpletable\">\n",
              "<tr>\n",
              "  <th>Omnibus:</th>       <td>6799.709</td> <th>  Durbin-Watson:     </th> <td>   1.507</td> \n",
              "</tr>\n",
              "<tr>\n",
              "  <th>Prob(Omnibus):</th>  <td> 0.000</td>  <th>  Jarque-Bera (JB):  </th> <td>13297.455</td>\n",
              "</tr>\n",
              "<tr>\n",
              "  <th>Skew:</th>           <td> 1.023</td>  <th>  Prob(JB):          </th> <td>    0.00</td> \n",
              "</tr>\n",
              "<tr>\n",
              "  <th>Kurtosis:</th>       <td> 4.900</td>  <th>  Cond. No.          </th> <td>    752.</td> \n",
              "</tr>\n",
              "</table><br/><br/>Notes:<br/>[1] Standard Errors assume that the covariance matrix of the errors is correctly specified."
            ]
          },
          "metadata": {},
          "execution_count": 187
        }
      ]
    },
    {
      "cell_type": "code",
      "source": [
        "heterogeneityReg = sm.ols(formula=\"rankVideoGames ~ rating_mean + reviews_count + verified_percentage + \\\n",
        "                            vote_mean + recentRating_mean + recentCompound_mean + \\\n",
        "                            numImages + numHighResImages + numDetails\",\n",
        "                   data=dfAggr).fit() # heterogeneity test"
      ],
      "metadata": {
        "id": "chMmuhF6s3P3"
      },
      "execution_count": 188,
      "outputs": []
    },
    {
      "cell_type": "code",
      "source": [
        "heterogeneityReg.params"
      ],
      "metadata": {
        "colab": {
          "base_uri": "https://localhost:8080/"
        },
        "id": "Z08SLrvHPWKv",
        "outputId": "74f5a539-ae26-45c7-8665-048dde0ae0a0"
      },
      "execution_count": 189,
      "outputs": [
        {
          "output_type": "execute_result",
          "data": {
            "text/plain": [
              "Intercept              135990.543652\n",
              "rating_mean             -5388.343483\n",
              "reviews_count             -74.529485\n",
              "verified_percentage    -25457.210531\n",
              "vote_mean                -857.041681\n",
              "recentRating_mean        -529.170429\n",
              "recentCompound_mean      -285.912891\n",
              "numImages                7520.944452\n",
              "numHighResImages        -2579.023206\n",
              "numDetails              -1540.278291\n",
              "dtype: float64"
            ]
          },
          "metadata": {},
          "execution_count": 189
        }
      ]
    },
    {
      "cell_type": "code",
      "source": [
        "heterogeneityReg.summary()"
      ],
      "metadata": {
        "colab": {
          "base_uri": "https://localhost:8080/",
          "height": 622
        },
        "id": "WCJGGMCfPXtW",
        "outputId": "b70c770e-7a0f-44ee-cba9-8f4cfa99400e"
      },
      "execution_count": 190,
      "outputs": [
        {
          "output_type": "execute_result",
          "data": {
            "text/plain": [
              "<class 'statsmodels.iolib.summary.Summary'>\n",
              "\"\"\"\n",
              "                            OLS Regression Results                            \n",
              "==============================================================================\n",
              "Dep. Variable:         rankVideoGames   R-squared:                       0.269\n",
              "Model:                            OLS   Adj. R-squared:                  0.269\n",
              "Method:                 Least Squares   F-statistic:                     1675.\n",
              "Date:                Mon, 31 Oct 2022   Prob (F-statistic):               0.00\n",
              "Time:                        04:13:30   Log-Likelihood:            -4.9453e+05\n",
              "No. Observations:               40941   AIC:                         9.891e+05\n",
              "Df Residuals:                   40931   BIC:                         9.892e+05\n",
              "Df Model:                           9                                         \n",
              "Covariance Type:            nonrobust                                         \n",
              "=======================================================================================\n",
              "                          coef    std err          t      P>|t|      [0.025      0.975]\n",
              "---------------------------------------------------------------------------------------\n",
              "Intercept             1.36e+05   1029.746    132.062      0.000    1.34e+05    1.38e+05\n",
              "rating_mean         -5388.3435    218.840    -24.622      0.000   -5817.274   -4959.413\n",
              "reviews_count         -74.5295      1.567    -47.561      0.000     -77.601     -71.458\n",
              "verified_percentage -2.546e+04    713.704    -35.669      0.000   -2.69e+04   -2.41e+04\n",
              "vote_mean            -857.0417     98.940     -8.662      0.000   -1050.967    -663.116\n",
              "recentRating_mean    -529.1704     10.604    -49.905      0.000    -549.954    -508.387\n",
              "recentCompound_mean  -285.9129     57.088     -5.008      0.000    -397.807    -174.019\n",
              "numImages            7520.9445   1426.677      5.272      0.000    4724.626    1.03e+04\n",
              "numHighResImages    -2579.0232     70.090    -36.796      0.000   -2716.402   -2441.644\n",
              "numDetails          -1540.2783   1004.405     -1.534      0.125   -3508.934     428.378\n",
              "==============================================================================\n",
              "Omnibus:                     5969.131   Durbin-Watson:                   1.529\n",
              "Prob(Omnibus):                  0.000   Jarque-Bera (JB):            10385.494\n",
              "Skew:                           0.962   Prob(JB):                         0.00\n",
              "Kurtosis:                       4.544   Cond. No.                         968.\n",
              "==============================================================================\n",
              "\n",
              "Notes:\n",
              "[1] Standard Errors assume that the covariance matrix of the errors is correctly specified.\n",
              "\"\"\""
            ],
            "text/html": [
              "<table class=\"simpletable\">\n",
              "<caption>OLS Regression Results</caption>\n",
              "<tr>\n",
              "  <th>Dep. Variable:</th>     <td>rankVideoGames</td>  <th>  R-squared:         </th>  <td>   0.269</td>  \n",
              "</tr>\n",
              "<tr>\n",
              "  <th>Model:</th>                   <td>OLS</td>       <th>  Adj. R-squared:    </th>  <td>   0.269</td>  \n",
              "</tr>\n",
              "<tr>\n",
              "  <th>Method:</th>             <td>Least Squares</td>  <th>  F-statistic:       </th>  <td>   1675.</td>  \n",
              "</tr>\n",
              "<tr>\n",
              "  <th>Date:</th>             <td>Mon, 31 Oct 2022</td> <th>  Prob (F-statistic):</th>   <td>  0.00</td>   \n",
              "</tr>\n",
              "<tr>\n",
              "  <th>Time:</th>                 <td>04:13:30</td>     <th>  Log-Likelihood:    </th> <td>-4.9453e+05</td>\n",
              "</tr>\n",
              "<tr>\n",
              "  <th>No. Observations:</th>      <td> 40941</td>      <th>  AIC:               </th>  <td>9.891e+05</td> \n",
              "</tr>\n",
              "<tr>\n",
              "  <th>Df Residuals:</th>          <td> 40931</td>      <th>  BIC:               </th>  <td>9.892e+05</td> \n",
              "</tr>\n",
              "<tr>\n",
              "  <th>Df Model:</th>              <td>     9</td>      <th>                     </th>      <td> </td>     \n",
              "</tr>\n",
              "<tr>\n",
              "  <th>Covariance Type:</th>      <td>nonrobust</td>    <th>                     </th>      <td> </td>     \n",
              "</tr>\n",
              "</table>\n",
              "<table class=\"simpletable\">\n",
              "<tr>\n",
              "           <td></td>              <th>coef</th>     <th>std err</th>      <th>t</th>      <th>P>|t|</th>  <th>[0.025</th>    <th>0.975]</th>  \n",
              "</tr>\n",
              "<tr>\n",
              "  <th>Intercept</th>           <td>  1.36e+05</td> <td> 1029.746</td> <td>  132.062</td> <td> 0.000</td> <td> 1.34e+05</td> <td> 1.38e+05</td>\n",
              "</tr>\n",
              "<tr>\n",
              "  <th>rating_mean</th>         <td>-5388.3435</td> <td>  218.840</td> <td>  -24.622</td> <td> 0.000</td> <td>-5817.274</td> <td>-4959.413</td>\n",
              "</tr>\n",
              "<tr>\n",
              "  <th>reviews_count</th>       <td>  -74.5295</td> <td>    1.567</td> <td>  -47.561</td> <td> 0.000</td> <td>  -77.601</td> <td>  -71.458</td>\n",
              "</tr>\n",
              "<tr>\n",
              "  <th>verified_percentage</th> <td>-2.546e+04</td> <td>  713.704</td> <td>  -35.669</td> <td> 0.000</td> <td>-2.69e+04</td> <td>-2.41e+04</td>\n",
              "</tr>\n",
              "<tr>\n",
              "  <th>vote_mean</th>           <td> -857.0417</td> <td>   98.940</td> <td>   -8.662</td> <td> 0.000</td> <td>-1050.967</td> <td> -663.116</td>\n",
              "</tr>\n",
              "<tr>\n",
              "  <th>recentRating_mean</th>   <td> -529.1704</td> <td>   10.604</td> <td>  -49.905</td> <td> 0.000</td> <td> -549.954</td> <td> -508.387</td>\n",
              "</tr>\n",
              "<tr>\n",
              "  <th>recentCompound_mean</th> <td> -285.9129</td> <td>   57.088</td> <td>   -5.008</td> <td> 0.000</td> <td> -397.807</td> <td> -174.019</td>\n",
              "</tr>\n",
              "<tr>\n",
              "  <th>numImages</th>           <td> 7520.9445</td> <td> 1426.677</td> <td>    5.272</td> <td> 0.000</td> <td> 4724.626</td> <td> 1.03e+04</td>\n",
              "</tr>\n",
              "<tr>\n",
              "  <th>numHighResImages</th>    <td>-2579.0232</td> <td>   70.090</td> <td>  -36.796</td> <td> 0.000</td> <td>-2716.402</td> <td>-2441.644</td>\n",
              "</tr>\n",
              "<tr>\n",
              "  <th>numDetails</th>          <td>-1540.2783</td> <td> 1004.405</td> <td>   -1.534</td> <td> 0.125</td> <td>-3508.934</td> <td>  428.378</td>\n",
              "</tr>\n",
              "</table>\n",
              "<table class=\"simpletable\">\n",
              "<tr>\n",
              "  <th>Omnibus:</th>       <td>5969.131</td> <th>  Durbin-Watson:     </th> <td>   1.529</td> \n",
              "</tr>\n",
              "<tr>\n",
              "  <th>Prob(Omnibus):</th>  <td> 0.000</td>  <th>  Jarque-Bera (JB):  </th> <td>10385.494</td>\n",
              "</tr>\n",
              "<tr>\n",
              "  <th>Skew:</th>           <td> 0.962</td>  <th>  Prob(JB):          </th> <td>    0.00</td> \n",
              "</tr>\n",
              "<tr>\n",
              "  <th>Kurtosis:</th>       <td> 4.544</td>  <th>  Cond. No.          </th> <td>    968.</td> \n",
              "</tr>\n",
              "</table><br/><br/>Notes:<br/>[1] Standard Errors assume that the covariance matrix of the errors is correctly specified."
            ]
          },
          "metadata": {},
          "execution_count": 190
        }
      ]
    }
  ]
}