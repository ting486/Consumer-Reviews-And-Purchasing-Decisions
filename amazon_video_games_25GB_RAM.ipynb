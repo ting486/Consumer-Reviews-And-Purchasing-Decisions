{
  "nbformat": 4,
  "nbformat_minor": 0,
  "metadata": {
    "colab": {
      "provenance": [],
      "machine_shape": "hm",
      "toc_visible": true,
      "include_colab_link": true
    },
    "kernelspec": {
      "name": "python3",
      "display_name": "Python 3"
    }
  },
  "cells": [
    {
      "cell_type": "markdown",
      "metadata": {
        "id": "view-in-github",
        "colab_type": "text"
      },
      "source": [
        "<a href=\"https://colab.research.google.com/github/ting486/Consumer-Reviews-And-Purchasing-Decisions/blob/main/amazon_video_games_25GB_RAM.ipynb\" target=\"_parent\"><img src=\"https://colab.research.google.com/assets/colab-badge.svg\" alt=\"Open In Colab\"/></a>"
      ]
    },
    {
      "cell_type": "markdown",
      "source": [
        "# Consumer Reviews Data Analysis"
      ],
      "metadata": {
        "id": "eIHRC7jrHy5G"
      }
    },
    {
      "cell_type": "markdown",
      "source": [
        "## Notebook Setup"
      ],
      "metadata": {
        "id": "n3EsQGHqIARN"
      }
    },
    {
      "cell_type": "code",
      "source": [
        "# check available RAM\n",
        "!free -h"
      ],
      "metadata": {
        "colab": {
          "base_uri": "https://localhost:8080/"
        },
        "id": "8y5jVIQG8B1k",
        "outputId": "d65cba97-b8ea-4b17-82a8-fb46e9d2c877"
      },
      "execution_count": 1,
      "outputs": [
        {
          "output_type": "stream",
          "name": "stdout",
          "text": [
            "              total        used        free      shared  buff/cache   available\n",
            "Mem:            25G        568M         22G        1.2M        2.4G         24G\n",
            "Swap:            0B          0B          0B\n"
          ]
        }
      ]
    },
    {
      "cell_type": "code",
      "metadata": {
        "id": "tAb77yZ9fzMG",
        "colab": {
          "base_uri": "https://localhost:8080/"
        },
        "outputId": "e40fb3d1-758d-4ea1-a9b6-3fc457d5b3bf"
      },
      "source": [
        "# data source: http://deepyeti.ucsd.edu/jianmo/amazon/index.html\n",
        "import pandas as pd\n",
        "import json\n",
        "import numpy as np\n",
        "from matplotlib import pyplot as plt\n",
        "import seaborn as sns\n",
        "import datetime\n",
        "import time\n",
        "import re\n",
        "import statsmodels as sm\n",
        "import nltk\n",
        "from nltk.sentiment import SentimentIntensityAnalyzer\n",
        "nltk.download(['vader_lexicon','stopwords'])"
      ],
      "execution_count": 153,
      "outputs": [
        {
          "output_type": "stream",
          "name": "stderr",
          "text": [
            "[nltk_data] Downloading package vader_lexicon to /root/nltk_data...\n",
            "[nltk_data]   Package vader_lexicon is already up-to-date!\n",
            "[nltk_data] Downloading package stopwords to /root/nltk_data...\n",
            "[nltk_data]   Package stopwords is already up-to-date!\n"
          ]
        },
        {
          "output_type": "execute_result",
          "data": {
            "text/plain": [
              "True"
            ]
          },
          "metadata": {},
          "execution_count": 153
        }
      ]
    },
    {
      "cell_type": "code",
      "metadata": {
        "id": "pafL7Li0jyXW",
        "colab": {
          "base_uri": "https://localhost:8080/"
        },
        "outputId": "ca141c73-ed1f-414a-a1d1-65541ff924af"
      },
      "source": [
        "from google.colab import drive\n",
        "drive.mount('/content/gdrive')"
      ],
      "execution_count": 3,
      "outputs": [
        {
          "output_type": "stream",
          "name": "stdout",
          "text": [
            "Mounted at /content/gdrive\n"
          ]
        }
      ]
    },
    {
      "cell_type": "markdown",
      "source": [
        "## Initial Data"
      ],
      "metadata": {
        "id": "Ub6bpCAhEG07"
      }
    },
    {
      "cell_type": "code",
      "source": [
        "# get products data\n",
        "dfProd = pd.read_json('gdrive/MyDrive/amazon_data/meta_Video_Games.json', lines=True)"
      ],
      "metadata": {
        "id": "QwLa7l1qERuV"
      },
      "execution_count": 4,
      "outputs": []
    },
    {
      "cell_type": "code",
      "source": [
        "print(dfProd.info(show_counts=True))"
      ],
      "metadata": {
        "colab": {
          "base_uri": "https://localhost:8080/"
        },
        "outputId": "7d486818-a6ad-4ba6-f098-f5669c37fcd3",
        "id": "Sn5DSbLjERuW"
      },
      "execution_count": 5,
      "outputs": [
        {
          "output_type": "stream",
          "name": "stdout",
          "text": [
            "<class 'pandas.core.frame.DataFrame'>\n",
            "RangeIndex: 84819 entries, 0 to 84818\n",
            "Data columns (total 19 columns):\n",
            " #   Column           Non-Null Count  Dtype \n",
            "---  ------           --------------  ----- \n",
            " 0   category         84819 non-null  object\n",
            " 1   tech1            84819 non-null  object\n",
            " 2   description      84819 non-null  object\n",
            " 3   fit              84819 non-null  object\n",
            " 4   title            84819 non-null  object\n",
            " 5   also_buy         84819 non-null  object\n",
            " 6   tech2            84819 non-null  object\n",
            " 7   brand            84819 non-null  object\n",
            " 8   feature          84819 non-null  object\n",
            " 9   rank             84819 non-null  object\n",
            " 10  also_view        84819 non-null  object\n",
            " 11  main_cat         84819 non-null  object\n",
            " 12  similar_item     84819 non-null  object\n",
            " 13  date             84819 non-null  object\n",
            " 14  price            84819 non-null  object\n",
            " 15  asin             84819 non-null  object\n",
            " 16  imageURL         84819 non-null  object\n",
            " 17  imageURLHighRes  84819 non-null  object\n",
            " 18  details          84712 non-null  object\n",
            "dtypes: object(19)\n",
            "memory usage: 12.3+ MB\n",
            "None\n"
          ]
        }
      ]
    },
    {
      "cell_type": "code",
      "source": [
        "print(dfProd.head())"
      ],
      "metadata": {
        "colab": {
          "base_uri": "https://localhost:8080/"
        },
        "outputId": "51bfd0f7-6026-4334-b420-491128242d9c",
        "id": "6v6-tBvTERuW"
      },
      "execution_count": 6,
      "outputs": [
        {
          "output_type": "stream",
          "name": "stdout",
          "text": [
            "                                            category tech1  \\\n",
            "0                           [Video Games, PC, Games]         \n",
            "1  [Video Games, Xbox 360, Games, </span></span><...         \n",
            "2  [Video Games, Retro Gaming & Microconsoles, Su...         \n",
            "3  [Video Games, Xbox 360, Accessories, Controlle...         \n",
            "4  [Video Games, PC, Games, </span></span></span>...         \n",
            "\n",
            "                                         description fit  \\\n",
            "0                                                 []       \n",
            "1                                [Brand new sealed!]       \n",
            "2                                                 []       \n",
            "3  [MAS's Pro Xbox 360 Stick (Perfect 360 Stick) ...       \n",
            "4  [Phonics Alive! 3, The Speller teaches student...       \n",
            "\n",
            "                                               title      also_buy tech2  \\\n",
            "0                         Reversi Sensory Challenger            []         \n",
            "1  Medal of Honor: Warfighter - Includes Battlefi...  [B00PADROYW]         \n",
            "2  street fighter 2 II turbo super nintendo snes ...            []         \n",
            "3                                 Xbox 360 MAS STICK            []         \n",
            "4                      Phonics Alive! 3: The Speller            []         \n",
            "\n",
            "                                       brand  \\\n",
            "0                       Fidelity Electronics   \n",
            "1                     by\\n    \\n    EA Games   \n",
            "2                                   Nintendo   \n",
            "3                  by\\n    \\n    MAS SYSTEMS   \n",
            "4  by\\n    \\n    Advanced Software Pty. Ltd.   \n",
            "\n",
            "                                             feature  \\\n",
            "0                                                 []   \n",
            "1                                                 []   \n",
            "2                                                 []   \n",
            "3  [Original PCB used from Xbox 360 Control Pad (...   \n",
            "4  [Grades 2-12, Spelling Program, Teaches Spelli...   \n",
            "\n",
            "                                                rank  \\\n",
            "0  [>#2,623,937 in Toys &amp; Games (See Top 100 ...   \n",
            "1  [>#67,231 in Video Games (See Top 100 in Video...   \n",
            "2  [>#134,433 in Video Games (See Top 100 in Vide...   \n",
            "3  [>#105,263 in Video Games (See Top 100 in Vide...   \n",
            "4  [>#92,397 in Video Games (See Top 100 in Video...   \n",
            "\n",
            "                                           also_view          main_cat  \\\n",
            "0                                                 []  Toys &amp; Games   \n",
            "1  [B0050SY5BM, B072NQJCW5, B000TI836G, B002SRSQ7...       Video Games   \n",
            "2                                                 []       Video Games   \n",
            "3                                                 []       Video Games   \n",
            "4                                       [B000BCZ7U0]       Video Games   \n",
            "\n",
            "  similar_item date                                              price  \\\n",
            "0                                                                        \n",
            "1                    \\n\\t\\t\\t\\t\\t\\t\\t\\t\\t\\t\\t\\t<span class=\"vertica...   \n",
            "2                                                                $0.72   \n",
            "3                                                                        \n",
            "4                                                                        \n",
            "\n",
            "         asin                                           imageURL  \\\n",
            "0  0042000742  [https://images-na.ssl-images-amazon.com/image...   \n",
            "1  0078764343  [https://images-na.ssl-images-amazon.com/image...   \n",
            "2  0276425316                                                 []   \n",
            "3  0324411812  [https://images-na.ssl-images-amazon.com/image...   \n",
            "4  0439335310  [https://images-na.ssl-images-amazon.com/image...   \n",
            "\n",
            "                                     imageURLHighRes details  \n",
            "0  [https://images-na.ssl-images-amazon.com/image...     NaN  \n",
            "1  [https://images-na.ssl-images-amazon.com/image...     NaN  \n",
            "2                                                 []     NaN  \n",
            "3  [https://images-na.ssl-images-amazon.com/image...     NaN  \n",
            "4  [https://images-na.ssl-images-amazon.com/image...     NaN  \n"
          ]
        }
      ]
    },
    {
      "cell_type": "code",
      "source": [
        "# get reviews data\n",
        "dfReviews = pd.read_json(\"gdrive/MyDrive/amazon_data/Video_Games.json\", lines=True)"
      ],
      "metadata": {
        "id": "XJ65gs3EEG07"
      },
      "execution_count": 7,
      "outputs": []
    },
    {
      "cell_type": "code",
      "source": [
        "print(dfReviews.info(show_counts=True))"
      ],
      "metadata": {
        "colab": {
          "base_uri": "https://localhost:8080/"
        },
        "outputId": "6f9ac101-158d-4865-de07-5356113a9444",
        "id": "QYX-M7qJEG07"
      },
      "execution_count": 8,
      "outputs": [
        {
          "output_type": "stream",
          "name": "stdout",
          "text": [
            "<class 'pandas.core.frame.DataFrame'>\n",
            "RangeIndex: 2565349 entries, 0 to 2565348\n",
            "Data columns (total 12 columns):\n",
            " #   Column          Non-Null Count    Dtype \n",
            "---  ------          --------------    ----- \n",
            " 0   overall         2565349 non-null  int64 \n",
            " 1   verified        2565349 non-null  bool  \n",
            " 2   reviewTime      2565349 non-null  object\n",
            " 3   reviewerID      2565349 non-null  object\n",
            " 4   asin            2565349 non-null  object\n",
            " 5   reviewerName    2565096 non-null  object\n",
            " 6   reviewText      2563634 non-null  object\n",
            " 7   summary         2564538 non-null  object\n",
            " 8   unixReviewTime  2565349 non-null  int64 \n",
            " 9   vote            442716 non-null   object\n",
            " 10  style           1319972 non-null  object\n",
            " 11  image           28305 non-null    object\n",
            "dtypes: bool(1), int64(2), object(9)\n",
            "memory usage: 217.7+ MB\n",
            "None\n"
          ]
        }
      ]
    },
    {
      "cell_type": "code",
      "source": [
        "print(dfReviews.head())"
      ],
      "metadata": {
        "colab": {
          "base_uri": "https://localhost:8080/"
        },
        "outputId": "b4f0dfc8-021b-4839-e588-a4d5b145eea0",
        "id": "xCFmn77MEG08"
      },
      "execution_count": 9,
      "outputs": [
        {
          "output_type": "stream",
          "name": "stdout",
          "text": [
            "   overall  verified   reviewTime      reviewerID        asin  \\\n",
            "0        1      True   06 9, 2014  A21ROB4YDOZA5P  0439381673   \n",
            "1        3      True  05 10, 2014  A3TNZ2Q5E7HTHD  0439381673   \n",
            "2        4      True   02 7, 2014  A1OKRM3QFEATQO  0439381673   \n",
            "3        1      True   02 7, 2014  A2XO1JFCNEYV3T  0439381673   \n",
            "4        4      True  01 16, 2014  A19WLPIRHD15TH  0439381673   \n",
            "\n",
            "       reviewerName                                         reviewText  \\\n",
            "0     Mary M. Clark  I used to play this game years ago and loved i...   \n",
            "1         Sarabatya  The game itself worked great but the story lin...   \n",
            "2   Amazon Customer  I had to learn the hard way after ordering thi...   \n",
            "3  ColoradoPartyof5  The product description should state this clea...   \n",
            "4    Karen Robinson  I would recommend this learning game for anyon...   \n",
            "\n",
            "                                             summary  unixReviewTime vote  \\\n",
            "0                                  Did not like this      1402272000  NaN   \n",
            "1                                     Almost Perfect      1399680000  NaN   \n",
            "2  DOES NOT WORK WITH MAC OS unless it is 10.3 or...      1391731200   15   \n",
            "3                           does not work on Mac OSX      1391731200   11   \n",
            "4                                        Roughing it      1389830400  NaN   \n",
            "\n",
            "  style image  \n",
            "0   NaN   NaN  \n",
            "1   NaN   NaN  \n",
            "2   NaN   NaN  \n",
            "3   NaN   NaN  \n",
            "4   NaN   NaN  \n"
          ]
        }
      ]
    },
    {
      "cell_type": "markdown",
      "source": [
        "## Product Data"
      ],
      "metadata": {
        "id": "NOHrBPO6yQEI"
      }
    },
    {
      "cell_type": "markdown",
      "source": [
        "### Data Cleaning"
      ],
      "metadata": {
        "id": "SEuU0wkLyfhJ"
      }
    },
    {
      "cell_type": "code",
      "source": [
        "lenProdOrig = len(dfProd)\n",
        "lenProdUnique = len(dfProd['asin'].unique())\n",
        "print(str(lenProdUnique), 'unique ASIN; ', \n",
        "      str(lenProdOrig-lenProdUnique), 'duplicate rows (', \n",
        "      \"{:5.2f}\".format((lenProdOrig-lenProdUnique)/lenProdOrig*100),\n",
        "      '%) removed from', str(lenProdOrig), 'rows')"
      ],
      "metadata": {
        "colab": {
          "base_uri": "https://localhost:8080/"
        },
        "id": "LrYni2fR-vdP",
        "outputId": "dc97454d-d23a-4bf7-8764-268582ef0984"
      },
      "execution_count": 10,
      "outputs": [
        {
          "output_type": "stream",
          "name": "stdout",
          "text": [
            "71911 unique ASIN;  12908 duplicate rows ( 15.22 %) removed from 84819 rows\n"
          ]
        }
      ]
    },
    {
      "cell_type": "code",
      "source": [
        "# drop duplicates\n",
        "dfProdDup = dfProd.loc[dfProd.duplicated(['asin'])]\n",
        "dfProdDup = dfProd.loc[dfProd['asin'].isin(list(dfProdDup['asin']))]\n",
        "dfProdDup = dfProdDup.sort_values(by='asin')\n",
        "\n",
        "dfProd = dfProd.drop_duplicates(['asin'], ignore_index=True)"
      ],
      "metadata": {
        "id": "D-5z3ACfeAdV"
      },
      "execution_count": 11,
      "outputs": []
    },
    {
      "cell_type": "markdown",
      "source": [
        "#### Rank"
      ],
      "metadata": {
        "id": "hmXhly68c4Br"
      }
    },
    {
      "cell_type": "code",
      "source": [
        "dfProd['rank'] = dfProd['rank'].apply(lambda x: [x] if len(x) > 4 else x)\n",
        "\n",
        "# split rank from list to separate category level & rank number columns\n",
        "def rank_mod(s):\n",
        "  res = [ss.replace(',', '').replace('&amp;', '&').replace('\\n', '').replace('\\t', '').replace('\\\\', '').replace('#',\n",
        "             '').replace('&gt;', '>').lstrip('>').rstrip(' (') for ss in s]\n",
        "  res = [re.sub(\" ([\\(\\[]).*?([\\)\\]])\", \"\", r) for r in res]\n",
        "  res = sorted(res, key=lambda x: x.count('>'))\n",
        "\n",
        "  res = [item.split(' in ', 1) for item in res]\n",
        "  res = [item for l in res for item in l]\n",
        "\n",
        "  return res\n",
        "\n",
        "dfProd['rank'] = dfProd['rank'].apply(lambda x: rank_mod(x))"
      ],
      "metadata": {
        "id": "4Jf846a5ZfPk"
      },
      "execution_count": 12,
      "outputs": []
    },
    {
      "cell_type": "code",
      "source": [
        "dfProdRank = pd.DataFrame(dfProd['rank'].to_list(), columns=['rank1', 'category1', 'rank2', 'category2',\n",
        "                                                              'rank3', 'category3', 'rank4', 'category4'])\n",
        "dfProdRank = dfProdRank.merge(dfProd, left_index=True, right_index=True)\n",
        "dfProdRank = dfProdRank[['rank1', 'category1', 'rank2', 'category2', 'rank3', 'category3', 'rank4', 'category4',\n",
        "                         'asin', 'title', 'main_cat', 'category']]"
      ],
      "metadata": {
        "id": "egWCiAIplDYa"
      },
      "execution_count": 13,
      "outputs": []
    },
    {
      "cell_type": "code",
      "source": [
        "# dfProdRank = dfProdRank.loc[dfProdRank['category1'].notna()]\n",
        "dfProdRank['category1'] = dfProdRank.category1.str.replace(r'^Video Games.*', 'Video Games', regex=True)\n",
        "\n",
        "dfProdRank['category'] = [','.join(map(str, l)) for l in dfProdRank['category']]\n",
        "dfProdRank['category'] = dfProdRank.category.str.replace(r'<.*?>', '', regex=True)\n",
        "dfProdRank['category'] = dfProdRank.category.str.strip(',')\n",
        "\n",
        "# only use the products that have a rank in Video Games category, for unbiased comparison amongst video game products\n",
        "dfProdRank = dfProdRank.loc[dfProdRank['category1'] == 'Video Games']\n",
        "\n",
        "# remove irrelevant products like those under accessories & console subcategories\n",
        "dfProdRank = dfProdRank.loc[(dfProdRank['main_cat'].isin(['Video Games', 'Sports & Outdoors', ''])) & \n",
        "                              (~dfProdRank['category'].str.contains('accessories', case=False))]\n",
        "dfProdRank = dfProdRank.loc[(~dfProdRank['category2'].str.contains('accessories', case=False, na=False)) & \n",
        "                            (~dfProdRank['category3'].str.contains('accessories', case=False, na=False)) &\n",
        "                            (~dfProdRank['category4'].str.contains('accessories', case=False, na=False))]\n",
        "dfProdRank = dfProdRank.loc[(~dfProdRank['category2'].str.contains('console', case=False, na=False)) & \n",
        "                            (~dfProdRank['category3'].str.contains('console', case=False, na=False)) &\n",
        "                            (~dfProdRank['category4'].str.contains('console', case=False, na=False))]"
      ],
      "metadata": {
        "id": "Wm3OrmoqcQFX"
      },
      "execution_count": 14,
      "outputs": []
    },
    {
      "cell_type": "code",
      "source": [
        "# remove products w/out any reviews\n",
        "dfProdRank = dfProdRank.loc[dfProdRank['asin'].isin(dfReviews['asin'].unique())]"
      ],
      "metadata": {
        "id": "-9n-_V6kDuLc"
      },
      "execution_count": 15,
      "outputs": []
    },
    {
      "cell_type": "code",
      "source": [
        "lenProdClean = len(dfProdRank)\n",
        "print('Removing duplicate rows, accessory products, console products, products without a rank at',\n",
        "      'Video Games category, \\nand products without a single review have in total removed',\n",
        "      str(lenProdOrig - lenProdClean), 'rows (', \n",
        "      '{:5.2f}'.format((lenProdOrig - lenProdClean)/lenProdOrig*100), '%) from the original', \n",
        "      str(lenProdOrig), 'rows of data, \\nleaving',\n",
        "      str(lenProdClean), 'data points remaining for analysis')"
      ],
      "metadata": {
        "colab": {
          "base_uri": "https://localhost:8080/"
        },
        "id": "aQPzk0JUCduw",
        "outputId": "6a020507-a504-4889-c930-fd35b5d9a926"
      },
      "execution_count": 16,
      "outputs": [
        {
          "output_type": "stream",
          "name": "stdout",
          "text": [
            "Removing duplicate rows, accessory products, console products, products without a rank at Video Games category, \n",
            "and products without a single review have in total removed 44829 rows ( 52.85 %) from the original 84819 rows of data, \n",
            "leaving 39990 data points remaining for analysis\n"
          ]
        }
      ]
    },
    {
      "cell_type": "code",
      "source": [
        "# merge rank info into original product data\n",
        "dfProd = dfProd.merge(dfProdRank, how='inner', on='asin', suffixes=('', '_y'))\n",
        "\n",
        "dfProd = dfProd.astype({'rank1': 'float64', 'rank2': 'float64', 'rank3': 'float64', 'rank4': 'float64'})\n",
        "dfProd = dfProd.astype({'rank1': 'Int64', 'rank2': 'Int64', 'rank3': 'Int64', 'rank4': 'Int64'})"
      ],
      "metadata": {
        "id": "giMyZ2qKax1_"
      },
      "execution_count": 17,
      "outputs": []
    },
    {
      "cell_type": "markdown",
      "source": [
        "#### Brand"
      ],
      "metadata": {
        "id": "32yN3642hky1"
      }
    },
    {
      "cell_type": "code",
      "source": [
        "dfProd['brand'] = dfProd['brand'].str.replace('by\\n', '', regex=True)\n",
        "dfProd['brand'] = dfProd['brand'].str.replace('\\n', '', regex=True)\n",
        "dfProd['brand'] = dfProd['brand'].str.replace('by ', '', regex=True)\n",
        "dfProd['brand'] = dfProd['brand'].str.replace('.', '', regex=False)\n",
        "dfProd['brand'] = dfProd['brand'].str.lstrip()"
      ],
      "metadata": {
        "id": "V4chRc87G4MJ"
      },
      "execution_count": 18,
      "outputs": []
    },
    {
      "cell_type": "code",
      "source": [
        "dfProd['brand'] = dfProd['brand'].replace({'EA': 'Electronic Arts', 'EA Games': 'Electronic Arts', 'At Electronic Arts': 'Electronic Arts',\n",
        "                         'Electronic Arts Sports': 'EA Sports', 'Electronic Arts, Inc.': 'Electronic Arts',\n",
        "                         'Electronic Arts Inc': 'Electronic Arts', 'Electronic Arts 1001573': 'EA Sports',\n",
        "                         'EA Active': 'EA Sports', 'Electronic Arts UK IMPORT': 'EA Sports'})\n",
        "dfProd['brand'] = dfProd['brand'].replace({'HPS Simulation': 'HPS Simulations'})\n",
        "dfProd['brand'] = dfProd['brand'].replace({'PS1': 'Playstation', 'PS2': 'Playstation', 'PS3': 'Playstation', 'PS4': 'Playstation'})\n",
        "dfProd['brand'] = dfProd.brand.str.replace(r'(^.*PS2.*$)', 'Playstation', regex=True)\n",
        "dfProd['brand'] = dfProd.brand.str.replace(r'(^.*PS 2.*$)', 'Playstation', regex=True)\n",
        "dfProd['brand'] = dfProd.brand.str.replace(r'(^.*PS3.*$)', 'Playstation', regex=True)\n",
        "dfProd['brand'] = dfProd.brand.str.replace(r'(^.*PS 3.*$)', 'Playstation', regex=True)\n",
        "dfProd['brand'] = dfProd.brand.str.replace(r'(^.*PS4.*$)', 'Playstation', regex=True)\n",
        "\n",
        "dfProd['brand'] = dfProd['brand'].replace({'': np.nan, 'Unknown': np.nan}, regex=True)"
      ],
      "metadata": {
        "id": "hz8N-SId5tS4"
      },
      "execution_count": 19,
      "outputs": []
    },
    {
      "cell_type": "code",
      "source": [
        "# dfProd[['brand', 'title']].loc[dfProd['brand'].str.contains('xbox', case=False, na=False)].sort_values(by='brand')"
      ],
      "metadata": {
        "id": "Ru0eTkGa_1Cx"
      },
      "execution_count": null,
      "outputs": []
    },
    {
      "cell_type": "code",
      "source": [
        "# dfProdBrand = dfProd['brand'].value_counts(dropna=False).reset_index()\n",
        "# dfProdBrand"
      ],
      "metadata": {
        "id": "8AQIYxvN5xWe"
      },
      "execution_count": null,
      "outputs": []
    },
    {
      "cell_type": "markdown",
      "source": [
        "#### Price"
      ],
      "metadata": {
        "id": "SuO-2M7CiXca"
      }
    },
    {
      "cell_type": "code",
      "source": [
        "# convert price to float dtype\n",
        "def convert_float(x):\n",
        "    try:\n",
        "        return float(x)\n",
        "    except:\n",
        "        return np.nan\n",
        "dfProd['price'] = dfProd['price'].str.replace('$', '', regex=True)\n",
        "dfProd['price'] = dfProd['price'].str.replace(',', '', regex=True)\n",
        "dfProd['price'] = dfProd['price'].str.replace(r'<.*?>', '', regex=True)\n",
        "dfProd['price'] = dfProd['price'].str.replace('\\n', '', regex=True)\n",
        "dfProd['price'] = dfProd['price'].str.replace('\\t', '', regex=True)\n",
        "dfProd['price'] = dfProd['price'].str.replace(' ', '', regex=True)\n",
        "dfProd['price'] = dfProd['price'].apply(lambda p: convert_float(p))"
      ],
      "metadata": {
        "id": "MDbltqxPZZkI"
      },
      "execution_count": 20,
      "outputs": []
    },
    {
      "cell_type": "code",
      "source": [
        "lenProdValidPrice = dfProd['price'].notna().sum()\n",
        "print(str(lenProdValidPrice), 'products have a valid price')"
      ],
      "metadata": {
        "colab": {
          "base_uri": "https://localhost:8080/"
        },
        "id": "wq4jNXYiJuOz",
        "outputId": "e0365c5f-93bc-4467-e593-77cbf0898b28"
      },
      "execution_count": 21,
      "outputs": [
        {
          "output_type": "stream",
          "name": "stdout",
          "text": [
            "6632 products have a valid price\n"
          ]
        }
      ]
    },
    {
      "cell_type": "markdown",
      "source": [
        "### Data Manipulation"
      ],
      "metadata": {
        "id": "tAg7Ab6vLpb_"
      }
    },
    {
      "cell_type": "code",
      "source": [
        "# count number of images & high resolution images\n",
        "dfProd['NumImages'] = dfProd['imageURL'].str.len()\n",
        "dfProd['NumHighResImages'] = dfProd['imageURLHighRes'].str.len()"
      ],
      "metadata": {
        "id": "ALJn8OTwZWhi"
      },
      "execution_count": 22,
      "outputs": []
    },
    {
      "cell_type": "code",
      "source": [
        "dfProd['Feature'] = dfProd.feature.apply(lambda x: ', '.join([str(i) for i in x]))\n",
        "dfProd['Feature'] = dfProd.Feature.str.replace(r'<.*?>', '', regex=True)\n",
        "dfProd['LenFeature'] = dfProd['Feature'].str.len()"
      ],
      "metadata": {
        "id": "c7hpdBY1PVjA"
      },
      "execution_count": 23,
      "outputs": []
    },
    {
      "cell_type": "code",
      "source": [
        "dfProd['Description'] = dfProd.description.apply(lambda x: ', '.join([str(i) for i in x]))\n",
        "dfProd['Description'] = dfProd.Description.str.replace(r'<.*?>', '', regex=True)\n",
        "dfProd['LenDescription'] = dfProd['Description'].str.len()"
      ],
      "metadata": {
        "id": "EBwejBORuA6q"
      },
      "execution_count": 24,
      "outputs": []
    },
    {
      "cell_type": "code",
      "source": [
        "# extract detail keys\n",
        "dfProdDetails = dfProd.loc[(~dfProd['details'].isna()) & (dfProd['details'].str.len() > 0)]\n",
        "dfProdDetails = dfProdDetails[['details']]\n",
        "\n",
        "dfProdDetails['details'] = [list(d.keys()) for d in dfProdDetails['details']]\n",
        "dfProdDetails['details'] = dfProdDetails.details.apply(lambda x: ', '.join([str(i) for i in x]))\n",
        "dfProdDetails['details'] = dfProdDetails['details'].replace({':': '', '\\n': '', ' ': ''}, regex=True)\n",
        "\n",
        "dfProd = dfProd.merge(dfProdDetails, how='left', left_index=True, right_index=True)"
      ],
      "metadata": {
        "id": "PP-QL57dFVnz"
      },
      "execution_count": 25,
      "outputs": []
    },
    {
      "cell_type": "code",
      "source": [
        "dfProd['NumDetails'] = dfProd['details_x'].str.len()\n",
        "dfProd['NumDetails'] = dfProd['NumDetails'].fillna(0)"
      ],
      "metadata": {
        "id": "-KqnXdb5P77-"
      },
      "execution_count": 26,
      "outputs": []
    },
    {
      "cell_type": "code",
      "source": [
        "dfProd['category_y'] = dfProd.category_y.str.replace(r'<.*?>', '', regex=True)\n",
        "dfProd['category_y'] = dfProd['category_y'].str.strip(',')"
      ],
      "metadata": {
        "id": "QL6WLZMgPF56"
      },
      "execution_count": 27,
      "outputs": []
    },
    {
      "cell_type": "code",
      "source": [
        "# final touch-up\n",
        "dfProd = dfProd.astype({'NumImages': np.uint8, 'NumHighResImages': np.uint8, 'NumDetails': np.uint8})\n",
        "dfProd = dfProd[['asin', 'title', 'brand', 'main_cat', 'category_y', 'price',\n",
        "                 'rank1', 'rank2', 'category2', 'rank3', 'category3', 'rank4', 'category4',\n",
        "                 'NumImages', 'NumHighResImages', 'details_y', 'NumDetails',\n",
        "                 'Feature', 'LenFeature', 'Description', 'LenDescription' #, 'also_buy', 'also_view', 'similar_item'\n",
        "                 ]]\n",
        "dfProd = dfProd.rename(columns={'asin': 'Asin', 'title': 'Title', 'brand': 'Brand', \n",
        "                                'main_cat': 'MainCategory', 'category_y': 'Categories', 'price': 'Price', \n",
        "                                'rank1': 'RankVideoGames', 'rank2': 'RankCategory2', 'category2': 'Category2',\n",
        "                                'rank3': 'RankCategory3', 'category3': 'Category3', \n",
        "                                'rank4': 'RankCategory4', 'category4': 'Category4', \n",
        "                                'details_y': 'Details'})"
      ],
      "metadata": {
        "id": "WcSjtOJYb0-R"
      },
      "execution_count": 28,
      "outputs": []
    },
    {
      "cell_type": "code",
      "source": [
        "dfProd.info(show_counts=True)"
      ],
      "metadata": {
        "colab": {
          "base_uri": "https://localhost:8080/"
        },
        "id": "ffrFIj98b5Jt",
        "outputId": "de476b86-c9e2-4f77-eb3c-1533e54e37d2"
      },
      "execution_count": 29,
      "outputs": [
        {
          "output_type": "stream",
          "name": "stdout",
          "text": [
            "<class 'pandas.core.frame.DataFrame'>\n",
            "Int64Index: 39990 entries, 0 to 39989\n",
            "Data columns (total 21 columns):\n",
            " #   Column            Non-Null Count  Dtype  \n",
            "---  ------            --------------  -----  \n",
            " 0   Asin              39990 non-null  object \n",
            " 1   Title             39990 non-null  object \n",
            " 2   Brand             38086 non-null  object \n",
            " 3   MainCategory      39990 non-null  object \n",
            " 4   Categories        39990 non-null  object \n",
            " 5   Price             6632 non-null   float64\n",
            " 6   RankVideoGames    39990 non-null  Int64  \n",
            " 7   RankCategory2     37686 non-null  Int64  \n",
            " 8   Category2         37686 non-null  object \n",
            " 9   RankCategory3     8135 non-null   Int64  \n",
            " 10  Category3         8135 non-null   object \n",
            " 11  RankCategory4     5277 non-null   Int64  \n",
            " 12  Category4         5277 non-null   object \n",
            " 13  NumImages         39990 non-null  uint8  \n",
            " 14  NumHighResImages  39990 non-null  uint8  \n",
            " 15  Details           63 non-null     object \n",
            " 16  NumDetails        39990 non-null  uint8  \n",
            " 17  Feature           39990 non-null  object \n",
            " 18  LenFeature        39990 non-null  int64  \n",
            " 19  Description       39990 non-null  object \n",
            " 20  LenDescription    39990 non-null  int64  \n",
            "dtypes: Int64(4), float64(1), int64(2), object(11), uint8(3)\n",
            "memory usage: 7.1+ MB\n"
          ]
        }
      ]
    },
    {
      "cell_type": "code",
      "source": [
        "dfProd.describe(include='all')"
      ],
      "metadata": {
        "colab": {
          "base_uri": "https://localhost:8080/",
          "height": 557
        },
        "id": "ym8Sp1RIWHSO",
        "outputId": "d68b5bfc-b15a-4f10-fac2-686d26d52cb2"
      },
      "execution_count": 30,
      "outputs": [
        {
          "output_type": "execute_result",
          "data": {
            "text/plain": [
              "              Asin                     Title            Brand MainCategory  \\\n",
              "count        39990                     39990            38086        39990   \n",
              "unique       39990                     37922             3669            3   \n",
              "top     0078764343  NBA 2K15 - PlayStation 4  Electronic Arts  Video Games   \n",
              "freq             1                         9             2407        39944   \n",
              "mean           NaN                       NaN              NaN          NaN   \n",
              "std            NaN                       NaN              NaN          NaN   \n",
              "min            NaN                       NaN              NaN          NaN   \n",
              "25%            NaN                       NaN              NaN          NaN   \n",
              "50%            NaN                       NaN              NaN          NaN   \n",
              "75%            NaN                       NaN              NaN          NaN   \n",
              "max            NaN                       NaN              NaN          NaN   \n",
              "\n",
              "                  Categories        Price  RankVideoGames  RankCategory2  \\\n",
              "count                  39990  6632.000000    39990.000000   37686.000000   \n",
              "unique                  7654          NaN             NaN            NaN   \n",
              "top     Video Games,PC,Games          NaN             NaN            NaN   \n",
              "freq                    8429          NaN             NaN            NaN   \n",
              "mean                     NaN    48.312666    66102.663491    4449.690124   \n",
              "std                      NaN    73.608438    49716.745976    9252.325222   \n",
              "min                      NaN     0.010000        2.000000       1.000000   \n",
              "25%                      NaN    13.867500    26808.000000     447.000000   \n",
              "50%                      NaN    26.365000    55364.000000    1328.000000   \n",
              "75%                      NaN    54.472500    93495.000000    5526.500000   \n",
              "max                      NaN  1500.000000   241788.000000  510637.000000   \n",
              "\n",
              "                                Category2  RankCategory3  ...  RankCategory4  \\\n",
              "count                               37686    8135.000000  ...    5277.000000   \n",
              "unique                                126            NaN  ...            NaN   \n",
              "top     Video Games > PC Games > PC Games            NaN  ...            NaN   \n",
              "freq                                 7933            NaN  ...            NaN   \n",
              "mean                                  NaN    3476.390904  ...    6798.765966   \n",
              "std                                   NaN    7588.316581  ...    7193.847903   \n",
              "min                                   NaN       1.000000  ...       1.000000   \n",
              "25%                                   NaN     521.500000  ...     702.000000   \n",
              "50%                                   NaN    1920.000000  ...    4684.000000   \n",
              "75%                                   NaN    4404.500000  ...   10916.000000   \n",
              "max                                   NaN  509623.000000  ...  186146.000000   \n",
              "\n",
              "                                Category4     NumImages  NumHighResImages  \\\n",
              "count                                5277  39990.000000      39990.000000   \n",
              "unique                                 70           NaN               NaN   \n",
              "top     Video Games > PC Games > PC Games           NaN               NaN   \n",
              "freq                                 3588           NaN               NaN   \n",
              "mean                                  NaN      3.037209          3.037209   \n",
              "std                                   NaN      3.086411          3.086411   \n",
              "min                                   NaN      0.000000          0.000000   \n",
              "25%                                   NaN      1.000000          1.000000   \n",
              "50%                                   NaN      2.000000          2.000000   \n",
              "75%                                   NaN      6.000000          6.000000   \n",
              "max                                   NaN     14.000000         14.000000   \n",
              "\n",
              "                                                  Details    NumDetails  \\\n",
              "count                                                  63  39990.000000   \n",
              "unique                                                 18           NaN   \n",
              "top     ProductDimensions,ShippingWeight,DomesticShipp...           NaN   \n",
              "freq                                                   12           NaN   \n",
              "mean                                                  NaN      0.008077   \n",
              "std                                                   NaN      0.212302   \n",
              "min                                                   NaN      0.000000   \n",
              "25%                                                   NaN      0.000000   \n",
              "50%                                                   NaN      0.000000   \n",
              "75%                                                   NaN      0.000000   \n",
              "max                                                   NaN      7.000000   \n",
              "\n",
              "        Feature    LenFeature  Description LenDescription  \n",
              "count     39990  39990.000000        39990   39990.000000  \n",
              "unique    23212           NaN        32772            NaN  \n",
              "top                       NaN                         NaN  \n",
              "freq      11362           NaN         3557            NaN  \n",
              "mean        NaN    264.128007          NaN     878.023356  \n",
              "std         NaN    356.849138          NaN    1242.892133  \n",
              "min         NaN      0.000000          NaN       0.000000  \n",
              "25%         NaN      0.000000          NaN      99.000000  \n",
              "50%         NaN    122.000000          NaN     493.000000  \n",
              "75%         NaN    418.000000          NaN    1079.750000  \n",
              "max         NaN   7993.000000          NaN   18788.000000  \n",
              "\n",
              "[11 rows x 21 columns]"
            ],
            "text/html": [
              "\n",
              "  <div id=\"df-2a4238f6-a2e3-421f-93fd-db98e5f173c8\">\n",
              "    <div class=\"colab-df-container\">\n",
              "      <div>\n",
              "<style scoped>\n",
              "    .dataframe tbody tr th:only-of-type {\n",
              "        vertical-align: middle;\n",
              "    }\n",
              "\n",
              "    .dataframe tbody tr th {\n",
              "        vertical-align: top;\n",
              "    }\n",
              "\n",
              "    .dataframe thead th {\n",
              "        text-align: right;\n",
              "    }\n",
              "</style>\n",
              "<table border=\"1\" class=\"dataframe\">\n",
              "  <thead>\n",
              "    <tr style=\"text-align: right;\">\n",
              "      <th></th>\n",
              "      <th>Asin</th>\n",
              "      <th>Title</th>\n",
              "      <th>Brand</th>\n",
              "      <th>MainCategory</th>\n",
              "      <th>Categories</th>\n",
              "      <th>Price</th>\n",
              "      <th>RankVideoGames</th>\n",
              "      <th>RankCategory2</th>\n",
              "      <th>Category2</th>\n",
              "      <th>RankCategory3</th>\n",
              "      <th>...</th>\n",
              "      <th>RankCategory4</th>\n",
              "      <th>Category4</th>\n",
              "      <th>NumImages</th>\n",
              "      <th>NumHighResImages</th>\n",
              "      <th>Details</th>\n",
              "      <th>NumDetails</th>\n",
              "      <th>Feature</th>\n",
              "      <th>LenFeature</th>\n",
              "      <th>Description</th>\n",
              "      <th>LenDescription</th>\n",
              "    </tr>\n",
              "  </thead>\n",
              "  <tbody>\n",
              "    <tr>\n",
              "      <th>count</th>\n",
              "      <td>39990</td>\n",
              "      <td>39990</td>\n",
              "      <td>38086</td>\n",
              "      <td>39990</td>\n",
              "      <td>39990</td>\n",
              "      <td>6632.000000</td>\n",
              "      <td>39990.000000</td>\n",
              "      <td>37686.000000</td>\n",
              "      <td>37686</td>\n",
              "      <td>8135.000000</td>\n",
              "      <td>...</td>\n",
              "      <td>5277.000000</td>\n",
              "      <td>5277</td>\n",
              "      <td>39990.000000</td>\n",
              "      <td>39990.000000</td>\n",
              "      <td>63</td>\n",
              "      <td>39990.000000</td>\n",
              "      <td>39990</td>\n",
              "      <td>39990.000000</td>\n",
              "      <td>39990</td>\n",
              "      <td>39990.000000</td>\n",
              "    </tr>\n",
              "    <tr>\n",
              "      <th>unique</th>\n",
              "      <td>39990</td>\n",
              "      <td>37922</td>\n",
              "      <td>3669</td>\n",
              "      <td>3</td>\n",
              "      <td>7654</td>\n",
              "      <td>NaN</td>\n",
              "      <td>NaN</td>\n",
              "      <td>NaN</td>\n",
              "      <td>126</td>\n",
              "      <td>NaN</td>\n",
              "      <td>...</td>\n",
              "      <td>NaN</td>\n",
              "      <td>70</td>\n",
              "      <td>NaN</td>\n",
              "      <td>NaN</td>\n",
              "      <td>18</td>\n",
              "      <td>NaN</td>\n",
              "      <td>23212</td>\n",
              "      <td>NaN</td>\n",
              "      <td>32772</td>\n",
              "      <td>NaN</td>\n",
              "    </tr>\n",
              "    <tr>\n",
              "      <th>top</th>\n",
              "      <td>0078764343</td>\n",
              "      <td>NBA 2K15 - PlayStation 4</td>\n",
              "      <td>Electronic Arts</td>\n",
              "      <td>Video Games</td>\n",
              "      <td>Video Games,PC,Games</td>\n",
              "      <td>NaN</td>\n",
              "      <td>NaN</td>\n",
              "      <td>NaN</td>\n",
              "      <td>Video Games &gt; PC Games &gt; PC Games</td>\n",
              "      <td>NaN</td>\n",
              "      <td>...</td>\n",
              "      <td>NaN</td>\n",
              "      <td>Video Games &gt; PC Games &gt; PC Games</td>\n",
              "      <td>NaN</td>\n",
              "      <td>NaN</td>\n",
              "      <td>ProductDimensions,ShippingWeight,DomesticShipp...</td>\n",
              "      <td>NaN</td>\n",
              "      <td></td>\n",
              "      <td>NaN</td>\n",
              "      <td></td>\n",
              "      <td>NaN</td>\n",
              "    </tr>\n",
              "    <tr>\n",
              "      <th>freq</th>\n",
              "      <td>1</td>\n",
              "      <td>9</td>\n",
              "      <td>2407</td>\n",
              "      <td>39944</td>\n",
              "      <td>8429</td>\n",
              "      <td>NaN</td>\n",
              "      <td>NaN</td>\n",
              "      <td>NaN</td>\n",
              "      <td>7933</td>\n",
              "      <td>NaN</td>\n",
              "      <td>...</td>\n",
              "      <td>NaN</td>\n",
              "      <td>3588</td>\n",
              "      <td>NaN</td>\n",
              "      <td>NaN</td>\n",
              "      <td>12</td>\n",
              "      <td>NaN</td>\n",
              "      <td>11362</td>\n",
              "      <td>NaN</td>\n",
              "      <td>3557</td>\n",
              "      <td>NaN</td>\n",
              "    </tr>\n",
              "    <tr>\n",
              "      <th>mean</th>\n",
              "      <td>NaN</td>\n",
              "      <td>NaN</td>\n",
              "      <td>NaN</td>\n",
              "      <td>NaN</td>\n",
              "      <td>NaN</td>\n",
              "      <td>48.312666</td>\n",
              "      <td>66102.663491</td>\n",
              "      <td>4449.690124</td>\n",
              "      <td>NaN</td>\n",
              "      <td>3476.390904</td>\n",
              "      <td>...</td>\n",
              "      <td>6798.765966</td>\n",
              "      <td>NaN</td>\n",
              "      <td>3.037209</td>\n",
              "      <td>3.037209</td>\n",
              "      <td>NaN</td>\n",
              "      <td>0.008077</td>\n",
              "      <td>NaN</td>\n",
              "      <td>264.128007</td>\n",
              "      <td>NaN</td>\n",
              "      <td>878.023356</td>\n",
              "    </tr>\n",
              "    <tr>\n",
              "      <th>std</th>\n",
              "      <td>NaN</td>\n",
              "      <td>NaN</td>\n",
              "      <td>NaN</td>\n",
              "      <td>NaN</td>\n",
              "      <td>NaN</td>\n",
              "      <td>73.608438</td>\n",
              "      <td>49716.745976</td>\n",
              "      <td>9252.325222</td>\n",
              "      <td>NaN</td>\n",
              "      <td>7588.316581</td>\n",
              "      <td>...</td>\n",
              "      <td>7193.847903</td>\n",
              "      <td>NaN</td>\n",
              "      <td>3.086411</td>\n",
              "      <td>3.086411</td>\n",
              "      <td>NaN</td>\n",
              "      <td>0.212302</td>\n",
              "      <td>NaN</td>\n",
              "      <td>356.849138</td>\n",
              "      <td>NaN</td>\n",
              "      <td>1242.892133</td>\n",
              "    </tr>\n",
              "    <tr>\n",
              "      <th>min</th>\n",
              "      <td>NaN</td>\n",
              "      <td>NaN</td>\n",
              "      <td>NaN</td>\n",
              "      <td>NaN</td>\n",
              "      <td>NaN</td>\n",
              "      <td>0.010000</td>\n",
              "      <td>2.000000</td>\n",
              "      <td>1.000000</td>\n",
              "      <td>NaN</td>\n",
              "      <td>1.000000</td>\n",
              "      <td>...</td>\n",
              "      <td>1.000000</td>\n",
              "      <td>NaN</td>\n",
              "      <td>0.000000</td>\n",
              "      <td>0.000000</td>\n",
              "      <td>NaN</td>\n",
              "      <td>0.000000</td>\n",
              "      <td>NaN</td>\n",
              "      <td>0.000000</td>\n",
              "      <td>NaN</td>\n",
              "      <td>0.000000</td>\n",
              "    </tr>\n",
              "    <tr>\n",
              "      <th>25%</th>\n",
              "      <td>NaN</td>\n",
              "      <td>NaN</td>\n",
              "      <td>NaN</td>\n",
              "      <td>NaN</td>\n",
              "      <td>NaN</td>\n",
              "      <td>13.867500</td>\n",
              "      <td>26808.000000</td>\n",
              "      <td>447.000000</td>\n",
              "      <td>NaN</td>\n",
              "      <td>521.500000</td>\n",
              "      <td>...</td>\n",
              "      <td>702.000000</td>\n",
              "      <td>NaN</td>\n",
              "      <td>1.000000</td>\n",
              "      <td>1.000000</td>\n",
              "      <td>NaN</td>\n",
              "      <td>0.000000</td>\n",
              "      <td>NaN</td>\n",
              "      <td>0.000000</td>\n",
              "      <td>NaN</td>\n",
              "      <td>99.000000</td>\n",
              "    </tr>\n",
              "    <tr>\n",
              "      <th>50%</th>\n",
              "      <td>NaN</td>\n",
              "      <td>NaN</td>\n",
              "      <td>NaN</td>\n",
              "      <td>NaN</td>\n",
              "      <td>NaN</td>\n",
              "      <td>26.365000</td>\n",
              "      <td>55364.000000</td>\n",
              "      <td>1328.000000</td>\n",
              "      <td>NaN</td>\n",
              "      <td>1920.000000</td>\n",
              "      <td>...</td>\n",
              "      <td>4684.000000</td>\n",
              "      <td>NaN</td>\n",
              "      <td>2.000000</td>\n",
              "      <td>2.000000</td>\n",
              "      <td>NaN</td>\n",
              "      <td>0.000000</td>\n",
              "      <td>NaN</td>\n",
              "      <td>122.000000</td>\n",
              "      <td>NaN</td>\n",
              "      <td>493.000000</td>\n",
              "    </tr>\n",
              "    <tr>\n",
              "      <th>75%</th>\n",
              "      <td>NaN</td>\n",
              "      <td>NaN</td>\n",
              "      <td>NaN</td>\n",
              "      <td>NaN</td>\n",
              "      <td>NaN</td>\n",
              "      <td>54.472500</td>\n",
              "      <td>93495.000000</td>\n",
              "      <td>5526.500000</td>\n",
              "      <td>NaN</td>\n",
              "      <td>4404.500000</td>\n",
              "      <td>...</td>\n",
              "      <td>10916.000000</td>\n",
              "      <td>NaN</td>\n",
              "      <td>6.000000</td>\n",
              "      <td>6.000000</td>\n",
              "      <td>NaN</td>\n",
              "      <td>0.000000</td>\n",
              "      <td>NaN</td>\n",
              "      <td>418.000000</td>\n",
              "      <td>NaN</td>\n",
              "      <td>1079.750000</td>\n",
              "    </tr>\n",
              "    <tr>\n",
              "      <th>max</th>\n",
              "      <td>NaN</td>\n",
              "      <td>NaN</td>\n",
              "      <td>NaN</td>\n",
              "      <td>NaN</td>\n",
              "      <td>NaN</td>\n",
              "      <td>1500.000000</td>\n",
              "      <td>241788.000000</td>\n",
              "      <td>510637.000000</td>\n",
              "      <td>NaN</td>\n",
              "      <td>509623.000000</td>\n",
              "      <td>...</td>\n",
              "      <td>186146.000000</td>\n",
              "      <td>NaN</td>\n",
              "      <td>14.000000</td>\n",
              "      <td>14.000000</td>\n",
              "      <td>NaN</td>\n",
              "      <td>7.000000</td>\n",
              "      <td>NaN</td>\n",
              "      <td>7993.000000</td>\n",
              "      <td>NaN</td>\n",
              "      <td>18788.000000</td>\n",
              "    </tr>\n",
              "  </tbody>\n",
              "</table>\n",
              "<p>11 rows × 21 columns</p>\n",
              "</div>\n",
              "      <button class=\"colab-df-convert\" onclick=\"convertToInteractive('df-2a4238f6-a2e3-421f-93fd-db98e5f173c8')\"\n",
              "              title=\"Convert this dataframe to an interactive table.\"\n",
              "              style=\"display:none;\">\n",
              "        \n",
              "  <svg xmlns=\"http://www.w3.org/2000/svg\" height=\"24px\"viewBox=\"0 0 24 24\"\n",
              "       width=\"24px\">\n",
              "    <path d=\"M0 0h24v24H0V0z\" fill=\"none\"/>\n",
              "    <path d=\"M18.56 5.44l.94 2.06.94-2.06 2.06-.94-2.06-.94-.94-2.06-.94 2.06-2.06.94zm-11 1L8.5 8.5l.94-2.06 2.06-.94-2.06-.94L8.5 2.5l-.94 2.06-2.06.94zm10 10l.94 2.06.94-2.06 2.06-.94-2.06-.94-.94-2.06-.94 2.06-2.06.94z\"/><path d=\"M17.41 7.96l-1.37-1.37c-.4-.4-.92-.59-1.43-.59-.52 0-1.04.2-1.43.59L10.3 9.45l-7.72 7.72c-.78.78-.78 2.05 0 2.83L4 21.41c.39.39.9.59 1.41.59.51 0 1.02-.2 1.41-.59l7.78-7.78 2.81-2.81c.8-.78.8-2.07 0-2.86zM5.41 20L4 18.59l7.72-7.72 1.47 1.35L5.41 20z\"/>\n",
              "  </svg>\n",
              "      </button>\n",
              "      \n",
              "  <style>\n",
              "    .colab-df-container {\n",
              "      display:flex;\n",
              "      flex-wrap:wrap;\n",
              "      gap: 12px;\n",
              "    }\n",
              "\n",
              "    .colab-df-convert {\n",
              "      background-color: #E8F0FE;\n",
              "      border: none;\n",
              "      border-radius: 50%;\n",
              "      cursor: pointer;\n",
              "      display: none;\n",
              "      fill: #1967D2;\n",
              "      height: 32px;\n",
              "      padding: 0 0 0 0;\n",
              "      width: 32px;\n",
              "    }\n",
              "\n",
              "    .colab-df-convert:hover {\n",
              "      background-color: #E2EBFA;\n",
              "      box-shadow: 0px 1px 2px rgba(60, 64, 67, 0.3), 0px 1px 3px 1px rgba(60, 64, 67, 0.15);\n",
              "      fill: #174EA6;\n",
              "    }\n",
              "\n",
              "    [theme=dark] .colab-df-convert {\n",
              "      background-color: #3B4455;\n",
              "      fill: #D2E3FC;\n",
              "    }\n",
              "\n",
              "    [theme=dark] .colab-df-convert:hover {\n",
              "      background-color: #434B5C;\n",
              "      box-shadow: 0px 1px 3px 1px rgba(0, 0, 0, 0.15);\n",
              "      filter: drop-shadow(0px 1px 2px rgba(0, 0, 0, 0.3));\n",
              "      fill: #FFFFFF;\n",
              "    }\n",
              "  </style>\n",
              "\n",
              "      <script>\n",
              "        const buttonEl =\n",
              "          document.querySelector('#df-2a4238f6-a2e3-421f-93fd-db98e5f173c8 button.colab-df-convert');\n",
              "        buttonEl.style.display =\n",
              "          google.colab.kernel.accessAllowed ? 'block' : 'none';\n",
              "\n",
              "        async function convertToInteractive(key) {\n",
              "          const element = document.querySelector('#df-2a4238f6-a2e3-421f-93fd-db98e5f173c8');\n",
              "          const dataTable =\n",
              "            await google.colab.kernel.invokeFunction('convertToInteractive',\n",
              "                                                     [key], {});\n",
              "          if (!dataTable) return;\n",
              "\n",
              "          const docLinkHtml = 'Like what you see? Visit the ' +\n",
              "            '<a target=\"_blank\" href=https://colab.research.google.com/notebooks/data_table.ipynb>data table notebook</a>'\n",
              "            + ' to learn more about interactive tables.';\n",
              "          element.innerHTML = '';\n",
              "          dataTable['output_type'] = 'display_data';\n",
              "          await google.colab.output.renderOutput(dataTable, element);\n",
              "          const docLink = document.createElement('div');\n",
              "          docLink.innerHTML = docLinkHtml;\n",
              "          element.appendChild(docLink);\n",
              "        }\n",
              "      </script>\n",
              "    </div>\n",
              "  </div>\n",
              "  "
            ]
          },
          "metadata": {},
          "execution_count": 30
        }
      ]
    },
    {
      "cell_type": "code",
      "source": [
        "# save dfProd to Drive for easier access later on\n",
        "dfProdJson = dfProd.copy()\n",
        "dfProdJson['Price'] = dfProdJson['Price'].round(2).astype(str)\n",
        "dfProdJson.to_json('gdrive/MyDrive/amazon_data/clean_dfProdJson.json', orient='split')"
      ],
      "metadata": {
        "id": "JPyaK4-MpjkU"
      },
      "execution_count": 115,
      "outputs": []
    },
    {
      "cell_type": "code",
      "source": [
        "# how to retrieve the dfProd json file\n",
        "dfProdDrive = pd.read_json('gdrive/MyDrive/amazon_data/clean_dfProdJson.json', orient='split')"
      ],
      "metadata": {
        "id": "-_Pss0xmpjkU"
      },
      "execution_count": 116,
      "outputs": []
    },
    {
      "cell_type": "markdown",
      "source": [
        "### Plots"
      ],
      "metadata": {
        "id": "mE8QbcyxLt5N"
      }
    },
    {
      "cell_type": "code",
      "source": [
        "dfProd.hist(column='Price', bins=160, figsize=(16,5))"
      ],
      "metadata": {
        "colab": {
          "base_uri": "https://localhost:8080/",
          "height": 372
        },
        "id": "pi1dKC5VkYgu",
        "outputId": "0f2f42c8-9c26-4a08-d6e0-05981be052ae"
      },
      "execution_count": 31,
      "outputs": [
        {
          "output_type": "execute_result",
          "data": {
            "text/plain": [
              "array([[<matplotlib.axes._subplots.AxesSubplot object at 0x7f9736147650>]],\n",
              "      dtype=object)"
            ]
          },
          "metadata": {},
          "execution_count": 31
        },
        {
          "output_type": "display_data",
          "data": {
            "text/plain": [
              "<Figure size 1152x360 with 1 Axes>"
            ],
            "image/png": "[encoded data removed]"
          },
          "metadata": {
            "needs_background": "light"
          }
        }
      ]
    },
    {
      "cell_type": "code",
      "source": [
        "dfProd['Price'].plot.box()"
      ],
      "metadata": {
        "colab": {
          "base_uri": "https://localhost:8080/",
          "height": 283
        },
        "id": "bkpPCh52Doon",
        "outputId": "f83c6942-79f2-4edf-f068-aa5c2cb27bc9"
      },
      "execution_count": 32,
      "outputs": [
        {
          "output_type": "execute_result",
          "data": {
            "text/plain": [
              "<matplotlib.axes._subplots.AxesSubplot at 0x7f9735a727d0>"
            ]
          },
          "metadata": {},
          "execution_count": 32
        },
        {
          "output_type": "display_data",
          "data": {
            "text/plain": [
              "<Figure size 432x288 with 1 Axes>"
            ],
            "image/png": "[encoded data removed]"
          },
          "metadata": {
            "needs_background": "light"
          }
        }
      ]
    },
    {
      "cell_type": "markdown",
      "source": [
        "## Reviews Data"
      ],
      "metadata": {
        "id": "52GEeLPAISuw"
      }
    },
    {
      "cell_type": "markdown",
      "source": [
        "### Data Cleaning"
      ],
      "metadata": {
        "id": "TK1qpsmYIlrP"
      }
    },
    {
      "cell_type": "code",
      "source": [
        "lenRevOrig = len(dfReviews)"
      ],
      "metadata": {
        "id": "HyH7NO4Yb8Wz"
      },
      "execution_count": 33,
      "outputs": []
    },
    {
      "cell_type": "code",
      "source": [
        "# only keep reviews that has a valid product ASIN (ASIN exists in the products data)\n",
        "dfReviews = dfReviews.loc[dfReviews['asin'].isin(dfProd['Asin'])]\n",
        "lenRevClean = len(dfReviews)\n",
        "print(str(lenRevOrig-lenRevClean), 'of', str(lenRevOrig), 'rows (', \n",
        "      '{:5.2f}'.format((lenRevOrig-lenRevClean)/lenRevOrig*100), ' %) are removed,',\n",
        "      str(lenRevClean), 'remaining for analysis')"
      ],
      "metadata": {
        "colab": {
          "base_uri": "https://localhost:8080/"
        },
        "id": "cryYLTMgV04X",
        "outputId": "0a1d8c0c-629e-4514-f7a0-8dd88ceef3c5"
      },
      "execution_count": 34,
      "outputs": [
        {
          "output_type": "stream",
          "name": "stdout",
          "text": [
            "1079485 of 2565349 rows ( 42.08  %) are removed, 1485864 remaining for analysis\n"
          ]
        }
      ]
    },
    {
      "cell_type": "code",
      "source": [
        "dfReviews['ReviewDate'] = pd.to_datetime(dfReviews['reviewTime'])"
      ],
      "metadata": {
        "id": "f9qW3mPFYMgf"
      },
      "execution_count": 35,
      "outputs": []
    },
    {
      "cell_type": "code",
      "source": [
        "# convert vote to int\n",
        "dfReviews['Vote'] = dfReviews['vote'].replace({',': ''}, regex=True)\n",
        "dfReviews['Vote'] = dfReviews['Vote'].fillna(0)\n",
        "dfReviews['Vote'] = dfReviews['Vote'].astype('float32').astype('Int32')"
      ],
      "metadata": {
        "id": "3YVXb84ab5JF"
      },
      "execution_count": 36,
      "outputs": []
    },
    {
      "cell_type": "code",
      "source": [
        "# rename overall to rating as it makes more sense and change data type to uint8 to save memory\n",
        "dfReviews = dfReviews.rename(columns={'overall': 'Rating'})\n",
        "dfReviews = dfReviews.astype({'Rating': np.uint8})"
      ],
      "metadata": {
        "id": "XoG3Cw3gcVGI"
      },
      "execution_count": 37,
      "outputs": []
    },
    {
      "cell_type": "markdown",
      "source": [
        "### Data Manipulation"
      ],
      "metadata": {
        "id": "-E5L3TzrbUHp"
      }
    },
    {
      "cell_type": "markdown",
      "source": [
        "#### Time"
      ],
      "metadata": {
        "id": "oDNhcxlTFjSG"
      }
    },
    {
      "cell_type": "code",
      "source": [
        "# compute review recentness\n",
        "dfReviews['Recentness'] = ((dfReviews['ReviewDate'].max() + datetime.timedelta(days=1)) - dfReviews['ReviewDate']).dt.days\n",
        "# dfReviews['recentness'] = (dfReviews['timeDiff'] / 90).astype(np.uint8) # 90 days = 3 months"
      ],
      "metadata": {
        "id": "tpDKtV3eVUiD"
      },
      "execution_count": 38,
      "outputs": []
    },
    {
      "cell_type": "code",
      "source": [
        "# add dummy: whether before or after the ban of incentivized reviews (Oct 1, 2016)\n",
        "dfReviews['IsAfterBan'] = dfReviews['ReviewDate'] >= pd.to_datetime('2016-10-01')"
      ],
      "metadata": {
        "id": "9QZlvNH0Zdr8"
      },
      "execution_count": 39,
      "outputs": []
    },
    {
      "cell_type": "markdown",
      "source": [
        "#### Style"
      ],
      "metadata": {
        "id": "Z1jjJdeIFpeh"
      }
    },
    {
      "cell_type": "code",
      "source": [
        "# get style keys\n",
        "dfReviewsStyle = dfReviews.loc[(~dfReviews['style'].isna())]\n",
        "\n",
        "dfReviewsStyle['styleStr'] = [list(d.keys()) for d in dfReviewsStyle['style']]\n",
        "dfReviewsStyle['styleStr'] = [','.join(map(str, l)) for l in dfReviewsStyle['styleStr']]\n",
        "dfReviewsStyle['styleStr'] = dfReviewsStyle['styleStr'].replace({':': ''}, regex=True)\n",
        "dfReviewsStyle = dfReviewsStyle[['styleStr']]"
      ],
      "metadata": {
        "colab": {
          "base_uri": "https://localhost:8080/"
        },
        "id": "VywJwsVk7gBH",
        "outputId": "cc498f7f-8b9f-4491-937b-4995ee2a0fc4"
      },
      "execution_count": 40,
      "outputs": [
        {
          "output_type": "stream",
          "name": "stderr",
          "text": [
            "/usr/local/lib/python3.7/dist-packages/ipykernel_launcher.py:4: SettingWithCopyWarning: \n",
            "A value is trying to be set on a copy of a slice from a DataFrame.\n",
            "Try using .loc[row_indexer,col_indexer] = value instead\n",
            "\n",
            "See the caveats in the documentation: https://pandas.pydata.org/pandas-docs/stable/user_guide/indexing.html#returning-a-view-versus-a-copy\n",
            "  after removing the cwd from sys.path.\n",
            "/usr/local/lib/python3.7/dist-packages/ipykernel_launcher.py:5: SettingWithCopyWarning: \n",
            "A value is trying to be set on a copy of a slice from a DataFrame.\n",
            "Try using .loc[row_indexer,col_indexer] = value instead\n",
            "\n",
            "See the caveats in the documentation: https://pandas.pydata.org/pandas-docs/stable/user_guide/indexing.html#returning-a-view-versus-a-copy\n",
            "  \"\"\"\n",
            "/usr/local/lib/python3.7/dist-packages/ipykernel_launcher.py:6: SettingWithCopyWarning: \n",
            "A value is trying to be set on a copy of a slice from a DataFrame.\n",
            "Try using .loc[row_indexer,col_indexer] = value instead\n",
            "\n",
            "See the caveats in the documentation: https://pandas.pydata.org/pandas-docs/stable/user_guide/indexing.html#returning-a-view-versus-a-copy\n",
            "  \n"
          ]
        }
      ]
    },
    {
      "cell_type": "code",
      "source": [
        "# merge with dfReviews\n",
        "dfReviews = dfReviews.merge(dfReviewsStyle, how='left', left_index=True, right_index=True)\n",
        "dfReviews['styleStr'] = dfReviews['styleStr'].fillna('')"
      ],
      "metadata": {
        "id": "6xeKZEDM-Par"
      },
      "execution_count": 41,
      "outputs": []
    },
    {
      "cell_type": "code",
      "source": [
        "# count number of styles\n",
        "dfReviews['NumStyles'] = dfReviews['style'].str.len()\n",
        "dfReviews['NumStyles'] = dfReviews['NumStyles'].fillna(0)"
      ],
      "metadata": {
        "id": "8W4xzeVfF5No"
      },
      "execution_count": 42,
      "outputs": []
    },
    {
      "cell_type": "markdown",
      "source": [
        "#### Sentiment Analysis"
      ],
      "metadata": {
        "id": "YIdzT0ZlI4Hx"
      }
    },
    {
      "cell_type": "code",
      "source": [
        "dfReviewsBackup = dfReviews.copy()"
      ],
      "metadata": {
        "id": "xwdvxChUPosB"
      },
      "execution_count": 43,
      "outputs": []
    },
    {
      "cell_type": "code",
      "source": [
        "# # code help: https://www.kaggle.com/code/robikscube/sentiment-analysis-python-youtube-tutorial/notebook\n",
        "# sia = SentimentIntensityAnalyzer()\n",
        "\n",
        "# dfReviewsCopy = dfReviews.copy()\n",
        "# dfReviewsCopy = dfReviewsCopy[['reviewText']]\n",
        "\n",
        "# # get polarity score on dfMerged\n",
        "# reviewPolarity = {}\n",
        "# for i, row in dfReviewsCopy.iterrows():\n",
        "#     text = str(row['reviewText'])\n",
        "#     ps = sia.polarity_scores(text)\n",
        "#     # ps['text'] = text\n",
        "#     reviewPolarity[i] = ps\n",
        "# dfReviewSia = pd.DataFrame(reviewPolarity).T"
      ],
      "metadata": {
        "id": "F5Z9JvN3Ybj9"
      },
      "execution_count": null,
      "outputs": []
    },
    {
      "cell_type": "code",
      "source": [
        "dfReviews = dfReviews.reset_index(drop=True)\n",
        "\n",
        "dfReviewsSeries = dfReviews.copy()\n",
        "dfReviewsSeries = dfReviewsSeries[['reviewText']]\n",
        "dfReviewsSeries['reviewText'] = dfReviewsSeries['reviewText'].astype(str)\n",
        "dfReviewsSeries = dfReviewsSeries['reviewText'].squeeze()"
      ],
      "metadata": {
        "id": "IfvB67FCv1fq"
      },
      "execution_count": 44,
      "outputs": []
    },
    {
      "cell_type": "code",
      "source": [
        "sia = SentimentIntensityAnalyzer()\n",
        "npReviewPolarity = np.zeros(len(dfReviewsSeries))"
      ],
      "metadata": {
        "id": "diEe3967rPhU"
      },
      "execution_count": 56,
      "outputs": []
    },
    {
      "cell_type": "code",
      "source": [
        "# get polarity score\n",
        "i = 0\n",
        "for text in dfReviewsSeries:\n",
        "  # ps = sia.polarity_scores(text)\n",
        "  npReviewPolarity[i] = sia.polarity_scores(text)['compound']\n",
        "  i += 1"
      ],
      "metadata": {
        "id": "pheXAEI2w0J_"
      },
      "execution_count": 57,
      "outputs": []
    },
    {
      "cell_type": "code",
      "source": [
        "dfReviewSia = pd.DataFrame(npReviewPolarity, columns=['Sentiment'])"
      ],
      "metadata": {
        "id": "MxiF-PWSw1qF"
      },
      "execution_count": 61,
      "outputs": []
    },
    {
      "cell_type": "code",
      "source": [
        "# merge into dfReviews\n",
        "dfReviews = dfReviews.merge(dfReviewSia, left_index=True, right_index=True)"
      ],
      "metadata": {
        "id": "7_1f209j7t-T"
      },
      "execution_count": 64,
      "outputs": []
    },
    {
      "cell_type": "markdown",
      "source": [
        "#### Others"
      ],
      "metadata": {
        "id": "OF3u1BM6F9I4"
      }
    },
    {
      "cell_type": "code",
      "source": [
        "# count number of images\n",
        "dfReviews['NumReviewImages'] = dfReviews['image'].str.len()\n",
        "dfReviews['NumReviewImages'] = dfReviews['NumReviewImages'].fillna(0)\n",
        "\n",
        "# count review summary and review text lengths\n",
        "dfReviews['LenReviewText'] = dfReviews['reviewText'].str.len()\n",
        "dfReviews['LenReviewText'] = dfReviews['LenReviewText'].fillna(0)\n",
        "dfReviews['LenSummary'] = dfReviews['summary'].str.len()\n",
        "dfReviews['LenSummary'] = dfReviews['LenSummary'].fillna(0)"
      ],
      "metadata": {
        "id": "FDlfwcExWacm"
      },
      "execution_count": 66,
      "outputs": []
    },
    {
      "cell_type": "code",
      "source": [
        "# change data types of some columns and select only the useful columns before proceeding to the next step\n",
        "dfReviews = dfReviews.astype({'NumReviewImages': np.uint8, 'LenReviewText': np.int32,\n",
        "                              'LenSummary': np.int32, 'NumStyles': np.uint8})\n",
        "dfReviews = dfReviews[['asin', 'Rating', 'verified', 'ReviewDate', 'Recentness', 'IsAfterBan',\n",
        "                       'reviewerID', 'reviewText', 'LenReviewText', 'summary', 'LenSummary', 'Vote', \n",
        "                       'styleStr', 'NumStyles', 'NumReviewImages', 'Sentiment']]\n",
        "dfReviews = dfReviews.rename(columns={'asin': 'Asin', 'verified': 'IsVerified', 'reviewerID': 'ReviewerId',\n",
        "                                      'reviewText': 'ReviewText', 'summary': 'Summary', 'styleStr': 'Style'})"
      ],
      "metadata": {
        "id": "reyhLR9UccHa"
      },
      "execution_count": 71,
      "outputs": []
    },
    {
      "cell_type": "code",
      "source": [
        "print(dfReviews.info(show_counts=True))"
      ],
      "metadata": {
        "colab": {
          "base_uri": "https://localhost:8080/"
        },
        "id": "XGsod91ndzko",
        "outputId": "0fde38fc-8710-41a8-f3e6-33748a3d73ee"
      },
      "execution_count": 72,
      "outputs": [
        {
          "output_type": "stream",
          "name": "stdout",
          "text": [
            "<class 'pandas.core.frame.DataFrame'>\n",
            "RangeIndex: 1485864 entries, 0 to 1485863\n",
            "Data columns (total 16 columns):\n",
            " #   Column           Non-Null Count    Dtype         \n",
            "---  ------           --------------    -----         \n",
            " 0   Asin             1485864 non-null  object        \n",
            " 1   Rating           1485864 non-null  uint8         \n",
            " 2   IsVerified       1485864 non-null  bool          \n",
            " 3   ReviewDate       1485864 non-null  datetime64[ns]\n",
            " 4   Recentness       1485864 non-null  int64         \n",
            " 5   IsAfterBan       1485864 non-null  bool          \n",
            " 6   ReviewerId       1485864 non-null  object        \n",
            " 7   ReviewText       1484921 non-null  object        \n",
            " 8   LenReviewText    1485864 non-null  int32         \n",
            " 9   Summary          1485469 non-null  object        \n",
            " 10  LenSummary       1485864 non-null  int32         \n",
            " 11  Vote             1485864 non-null  Int32         \n",
            " 12  Style            1485864 non-null  object        \n",
            " 13  NumStyles        1485864 non-null  uint8         \n",
            " 14  NumReviewImages  1485864 non-null  uint8         \n",
            " 15  Sentiment        1485864 non-null  float64       \n",
            "dtypes: Int32(1), bool(2), datetime64[ns](1), float64(1), int32(2), int64(1), object(5), uint8(3)\n",
            "memory usage: 116.2+ MB\n",
            "None\n"
          ]
        }
      ]
    },
    {
      "cell_type": "code",
      "source": [
        "dfReviews.describe(exclude='object', datetime_is_numeric=True)"
      ],
      "metadata": {
        "colab": {
          "base_uri": "https://localhost:8080/",
          "height": 562
        },
        "id": "RxXXgre_d2GP",
        "outputId": "592c0477-7e28-4e96-86a0-de114ccd6598"
      },
      "execution_count": 73,
      "outputs": [
        {
          "output_type": "execute_result",
          "data": {
            "text/plain": [
              "              Rating IsVerified                     ReviewDate    Recentness  \\\n",
              "count   1.485864e+06    1485864                        1485864  1.485864e+06   \n",
              "unique           NaN          2                            NaN           NaN   \n",
              "top              NaN       True                            NaN           NaN   \n",
              "freq             NaN    1015507                            NaN           NaN   \n",
              "mean    4.071494e+00        NaN  2013-03-03 07:22:43.163250688  2.039693e+03   \n",
              "min     1.000000e+00        NaN            1997-11-08 00:00:00  1.000000e+00   \n",
              "25%     4.000000e+00        NaN            2011-05-19 00:00:00  9.950000e+02   \n",
              "50%     5.000000e+00        NaN            2014-07-17 00:00:00  1.539000e+03   \n",
              "75%     5.000000e+00        NaN            2016-01-12 00:00:00  2.694000e+03   \n",
              "max     5.000000e+00        NaN            2018-10-02 00:00:00  7.634000e+03   \n",
              "std     1.363938e+00        NaN                            NaN  1.491643e+03   \n",
              "\n",
              "       IsAfterBan  LenReviewText    LenSummary          Vote     NumStyles  \\\n",
              "count     1485864   1.485864e+06  1.485864e+06  1.485864e+06  1.485864e+06   \n",
              "unique          2            NaN           NaN           NaN           NaN   \n",
              "top         False            NaN           NaN           NaN           NaN   \n",
              "freq      1269926            NaN           NaN           NaN           NaN   \n",
              "mean          NaN   4.756691e+02  2.275516e+01  1.801450e+00  7.889302e-01   \n",
              "min           NaN   0.000000e+00  0.000000e+00  0.000000e+00  0.000000e+00   \n",
              "25%           NaN   5.600000e+01  1.000000e+01  0.000000e+00  0.000000e+00   \n",
              "50%           NaN   1.640000e+02  1.600000e+01  0.000000e+00  1.000000e+00   \n",
              "75%           NaN   4.770000e+02  3.100000e+01  0.000000e+00  1.000000e+00   \n",
              "max           NaN   3.272100e+04  3.000000e+02  5.154000e+03  3.000000e+00   \n",
              "std           NaN   9.524678e+02  1.776876e+01  1.488386e+01  6.921783e-01   \n",
              "\n",
              "        NumReviewImages     Sentiment  \n",
              "count      1.485864e+06  1.485864e+06  \n",
              "unique              NaN           NaN  \n",
              "top                 NaN           NaN  \n",
              "freq                NaN           NaN  \n",
              "mean       1.029637e-02  5.239226e-01  \n",
              "min        0.000000e+00 -1.000000e+00  \n",
              "25%        0.000000e+00  3.446000e-01  \n",
              "50%        0.000000e+00  7.163000e-01  \n",
              "75%        0.000000e+00  9.179000e-01  \n",
              "max        4.800000e+01  1.000000e+00  \n",
              "std        2.220761e-01  5.225631e-01  "
            ],
            "text/html": [
              "\n",
              "  <div id=\"df-c612db5b-859d-4480-a9d2-07e869c8d498\">\n",
              "    <div class=\"colab-df-container\">\n",
              "      <div>\n",
              "<style scoped>\n",
              "    .dataframe tbody tr th:only-of-type {\n",
              "        vertical-align: middle;\n",
              "    }\n",
              "\n",
              "    .dataframe tbody tr th {\n",
              "        vertical-align: top;\n",
              "    }\n",
              "\n",
              "    .dataframe thead th {\n",
              "        text-align: right;\n",
              "    }\n",
              "</style>\n",
              "<table border=\"1\" class=\"dataframe\">\n",
              "  <thead>\n",
              "    <tr style=\"text-align: right;\">\n",
              "      <th></th>\n",
              "      <th>Rating</th>\n",
              "      <th>IsVerified</th>\n",
              "      <th>ReviewDate</th>\n",
              "      <th>Recentness</th>\n",
              "      <th>IsAfterBan</th>\n",
              "      <th>LenReviewText</th>\n",
              "      <th>LenSummary</th>\n",
              "      <th>Vote</th>\n",
              "      <th>NumStyles</th>\n",
              "      <th>NumReviewImages</th>\n",
              "      <th>Sentiment</th>\n",
              "    </tr>\n",
              "  </thead>\n",
              "  <tbody>\n",
              "    <tr>\n",
              "      <th>count</th>\n",
              "      <td>1.485864e+06</td>\n",
              "      <td>1485864</td>\n",
              "      <td>1485864</td>\n",
              "      <td>1.485864e+06</td>\n",
              "      <td>1485864</td>\n",
              "      <td>1.485864e+06</td>\n",
              "      <td>1.485864e+06</td>\n",
              "      <td>1.485864e+06</td>\n",
              "      <td>1.485864e+06</td>\n",
              "      <td>1.485864e+06</td>\n",
              "      <td>1.485864e+06</td>\n",
              "    </tr>\n",
              "    <tr>\n",
              "      <th>unique</th>\n",
              "      <td>NaN</td>\n",
              "      <td>2</td>\n",
              "      <td>NaN</td>\n",
              "      <td>NaN</td>\n",
              "      <td>2</td>\n",
              "      <td>NaN</td>\n",
              "      <td>NaN</td>\n",
              "      <td>NaN</td>\n",
              "      <td>NaN</td>\n",
              "      <td>NaN</td>\n",
              "      <td>NaN</td>\n",
              "    </tr>\n",
              "    <tr>\n",
              "      <th>top</th>\n",
              "      <td>NaN</td>\n",
              "      <td>True</td>\n",
              "      <td>NaN</td>\n",
              "      <td>NaN</td>\n",
              "      <td>False</td>\n",
              "      <td>NaN</td>\n",
              "      <td>NaN</td>\n",
              "      <td>NaN</td>\n",
              "      <td>NaN</td>\n",
              "      <td>NaN</td>\n",
              "      <td>NaN</td>\n",
              "    </tr>\n",
              "    <tr>\n",
              "      <th>freq</th>\n",
              "      <td>NaN</td>\n",
              "      <td>1015507</td>\n",
              "      <td>NaN</td>\n",
              "      <td>NaN</td>\n",
              "      <td>1269926</td>\n",
              "      <td>NaN</td>\n",
              "      <td>NaN</td>\n",
              "      <td>NaN</td>\n",
              "      <td>NaN</td>\n",
              "      <td>NaN</td>\n",
              "      <td>NaN</td>\n",
              "    </tr>\n",
              "    <tr>\n",
              "      <th>mean</th>\n",
              "      <td>4.071494e+00</td>\n",
              "      <td>NaN</td>\n",
              "      <td>2013-03-03 07:22:43.163250688</td>\n",
              "      <td>2.039693e+03</td>\n",
              "      <td>NaN</td>\n",
              "      <td>4.756691e+02</td>\n",
              "      <td>2.275516e+01</td>\n",
              "      <td>1.801450e+00</td>\n",
              "      <td>7.889302e-01</td>\n",
              "      <td>1.029637e-02</td>\n",
              "      <td>5.239226e-01</td>\n",
              "    </tr>\n",
              "    <tr>\n",
              "      <th>min</th>\n",
              "      <td>1.000000e+00</td>\n",
              "      <td>NaN</td>\n",
              "      <td>1997-11-08 00:00:00</td>\n",
              "      <td>1.000000e+00</td>\n",
              "      <td>NaN</td>\n",
              "      <td>0.000000e+00</td>\n",
              "      <td>0.000000e+00</td>\n",
              "      <td>0.000000e+00</td>\n",
              "      <td>0.000000e+00</td>\n",
              "      <td>0.000000e+00</td>\n",
              "      <td>-1.000000e+00</td>\n",
              "    </tr>\n",
              "    <tr>\n",
              "      <th>25%</th>\n",
              "      <td>4.000000e+00</td>\n",
              "      <td>NaN</td>\n",
              "      <td>2011-05-19 00:00:00</td>\n",
              "      <td>9.950000e+02</td>\n",
              "      <td>NaN</td>\n",
              "      <td>5.600000e+01</td>\n",
              "      <td>1.000000e+01</td>\n",
              "      <td>0.000000e+00</td>\n",
              "      <td>0.000000e+00</td>\n",
              "      <td>0.000000e+00</td>\n",
              "      <td>3.446000e-01</td>\n",
              "    </tr>\n",
              "    <tr>\n",
              "      <th>50%</th>\n",
              "      <td>5.000000e+00</td>\n",
              "      <td>NaN</td>\n",
              "      <td>2014-07-17 00:00:00</td>\n",
              "      <td>1.539000e+03</td>\n",
              "      <td>NaN</td>\n",
              "      <td>1.640000e+02</td>\n",
              "      <td>1.600000e+01</td>\n",
              "      <td>0.000000e+00</td>\n",
              "      <td>1.000000e+00</td>\n",
              "      <td>0.000000e+00</td>\n",
              "      <td>7.163000e-01</td>\n",
              "    </tr>\n",
              "    <tr>\n",
              "      <th>75%</th>\n",
              "      <td>5.000000e+00</td>\n",
              "      <td>NaN</td>\n",
              "      <td>2016-01-12 00:00:00</td>\n",
              "      <td>2.694000e+03</td>\n",
              "      <td>NaN</td>\n",
              "      <td>4.770000e+02</td>\n",
              "      <td>3.100000e+01</td>\n",
              "      <td>0.000000e+00</td>\n",
              "      <td>1.000000e+00</td>\n",
              "      <td>0.000000e+00</td>\n",
              "      <td>9.179000e-01</td>\n",
              "    </tr>\n",
              "    <tr>\n",
              "      <th>max</th>\n",
              "      <td>5.000000e+00</td>\n",
              "      <td>NaN</td>\n",
              "      <td>2018-10-02 00:00:00</td>\n",
              "      <td>7.634000e+03</td>\n",
              "      <td>NaN</td>\n",
              "      <td>3.272100e+04</td>\n",
              "      <td>3.000000e+02</td>\n",
              "      <td>5.154000e+03</td>\n",
              "      <td>3.000000e+00</td>\n",
              "      <td>4.800000e+01</td>\n",
              "      <td>1.000000e+00</td>\n",
              "    </tr>\n",
              "    <tr>\n",
              "      <th>std</th>\n",
              "      <td>1.363938e+00</td>\n",
              "      <td>NaN</td>\n",
              "      <td>NaN</td>\n",
              "      <td>1.491643e+03</td>\n",
              "      <td>NaN</td>\n",
              "      <td>9.524678e+02</td>\n",
              "      <td>1.776876e+01</td>\n",
              "      <td>1.488386e+01</td>\n",
              "      <td>6.921783e-01</td>\n",
              "      <td>2.220761e-01</td>\n",
              "      <td>5.225631e-01</td>\n",
              "    </tr>\n",
              "  </tbody>\n",
              "</table>\n",
              "</div>\n",
              "      <button class=\"colab-df-convert\" onclick=\"convertToInteractive('df-c612db5b-859d-4480-a9d2-07e869c8d498')\"\n",
              "              title=\"Convert this dataframe to an interactive table.\"\n",
              "              style=\"display:none;\">\n",
              "        \n",
              "  <svg xmlns=\"http://www.w3.org/2000/svg\" height=\"24px\"viewBox=\"0 0 24 24\"\n",
              "       width=\"24px\">\n",
              "    <path d=\"M0 0h24v24H0V0z\" fill=\"none\"/>\n",
              "    <path d=\"M18.56 5.44l.94 2.06.94-2.06 2.06-.94-2.06-.94-.94-2.06-.94 2.06-2.06.94zm-11 1L8.5 8.5l.94-2.06 2.06-.94-2.06-.94L8.5 2.5l-.94 2.06-2.06.94zm10 10l.94 2.06.94-2.06 2.06-.94-2.06-.94-.94-2.06-.94 2.06-2.06.94z\"/><path d=\"M17.41 7.96l-1.37-1.37c-.4-.4-.92-.59-1.43-.59-.52 0-1.04.2-1.43.59L10.3 9.45l-7.72 7.72c-.78.78-.78 2.05 0 2.83L4 21.41c.39.39.9.59 1.41.59.51 0 1.02-.2 1.41-.59l7.78-7.78 2.81-2.81c.8-.78.8-2.07 0-2.86zM5.41 20L4 18.59l7.72-7.72 1.47 1.35L5.41 20z\"/>\n",
              "  </svg>\n",
              "      </button>\n",
              "      \n",
              "  <style>\n",
              "    .colab-df-container {\n",
              "      display:flex;\n",
              "      flex-wrap:wrap;\n",
              "      gap: 12px;\n",
              "    }\n",
              "\n",
              "    .colab-df-convert {\n",
              "      background-color: #E8F0FE;\n",
              "      border: none;\n",
              "      border-radius: 50%;\n",
              "      cursor: pointer;\n",
              "      display: none;\n",
              "      fill: #1967D2;\n",
              "      height: 32px;\n",
              "      padding: 0 0 0 0;\n",
              "      width: 32px;\n",
              "    }\n",
              "\n",
              "    .colab-df-convert:hover {\n",
              "      background-color: #E2EBFA;\n",
              "      box-shadow: 0px 1px 2px rgba(60, 64, 67, 0.3), 0px 1px 3px 1px rgba(60, 64, 67, 0.15);\n",
              "      fill: #174EA6;\n",
              "    }\n",
              "\n",
              "    [theme=dark] .colab-df-convert {\n",
              "      background-color: #3B4455;\n",
              "      fill: #D2E3FC;\n",
              "    }\n",
              "\n",
              "    [theme=dark] .colab-df-convert:hover {\n",
              "      background-color: #434B5C;\n",
              "      box-shadow: 0px 1px 3px 1px rgba(0, 0, 0, 0.15);\n",
              "      filter: drop-shadow(0px 1px 2px rgba(0, 0, 0, 0.3));\n",
              "      fill: #FFFFFF;\n",
              "    }\n",
              "  </style>\n",
              "\n",
              "      <script>\n",
              "        const buttonEl =\n",
              "          document.querySelector('#df-c612db5b-859d-4480-a9d2-07e869c8d498 button.colab-df-convert');\n",
              "        buttonEl.style.display =\n",
              "          google.colab.kernel.accessAllowed ? 'block' : 'none';\n",
              "\n",
              "        async function convertToInteractive(key) {\n",
              "          const element = document.querySelector('#df-c612db5b-859d-4480-a9d2-07e869c8d498');\n",
              "          const dataTable =\n",
              "            await google.colab.kernel.invokeFunction('convertToInteractive',\n",
              "                                                     [key], {});\n",
              "          if (!dataTable) return;\n",
              "\n",
              "          const docLinkHtml = 'Like what you see? Visit the ' +\n",
              "            '<a target=\"_blank\" href=https://colab.research.google.com/notebooks/data_table.ipynb>data table notebook</a>'\n",
              "            + ' to learn more about interactive tables.';\n",
              "          element.innerHTML = '';\n",
              "          dataTable['output_type'] = 'display_data';\n",
              "          await google.colab.output.renderOutput(dataTable, element);\n",
              "          const docLink = document.createElement('div');\n",
              "          docLink.innerHTML = docLinkHtml;\n",
              "          element.appendChild(docLink);\n",
              "        }\n",
              "      </script>\n",
              "    </div>\n",
              "  </div>\n",
              "  "
            ]
          },
          "metadata": {},
          "execution_count": 73
        }
      ]
    },
    {
      "cell_type": "code",
      "source": [
        "dfReviews.head()"
      ],
      "metadata": {
        "colab": {
          "base_uri": "https://localhost:8080/",
          "height": 617
        },
        "id": "Yy9-6xfTS1qB",
        "outputId": "5efa886e-bee9-476a-92a0-f855c53ee6bc"
      },
      "execution_count": 74,
      "outputs": [
        {
          "output_type": "execute_result",
          "data": {
            "text/plain": [
              "         Asin  Rating  IsVerified ReviewDate  Recentness  IsAfterBan  \\\n",
              "0  0439381673       1        True 2014-06-09        1577       False   \n",
              "1  0439381673       3        True 2014-05-10        1607       False   \n",
              "2  0439381673       4        True 2014-02-07        1699       False   \n",
              "3  0439381673       1        True 2014-02-07        1699       False   \n",
              "4  0439381673       4        True 2014-01-16        1721       False   \n",
              "\n",
              "       ReviewerId                                         ReviewText  \\\n",
              "0  A21ROB4YDOZA5P  I used to play this game years ago and loved i...   \n",
              "1  A3TNZ2Q5E7HTHD  The game itself worked great but the story lin...   \n",
              "2  A1OKRM3QFEATQO  I had to learn the hard way after ordering thi...   \n",
              "3  A2XO1JFCNEYV3T  The product description should state this clea...   \n",
              "4  A19WLPIRHD15TH  I would recommend this learning game for anyon...   \n",
              "\n",
              "   LenReviewText                                            Summary  \\\n",
              "0            139                                  Did not like this   \n",
              "1            145                                     Almost Perfect   \n",
              "2            447  DOES NOT WORK WITH MAC OS unless it is 10.3 or...   \n",
              "3            157                           does not work on Mac OSX   \n",
              "4            120                                        Roughing it   \n",
              "\n",
              "   LenSummary  Vote Style  NumStyles  NumReviewImages  Sentiment  \n",
              "0          17     0                0                0     0.7430  \n",
              "1          14     0                0                0     0.3603  \n",
              "2          59    15                0                0     0.7579  \n",
              "3          24    11                0                0     0.4810  \n",
              "4          11     0                0                0     0.8470  "
            ],
            "text/html": [
              "\n",
              "  <div id=\"df-73a95a9d-6553-4f70-9ef9-df5aba1de5f5\">\n",
              "    <div class=\"colab-df-container\">\n",
              "      <div>\n",
              "<style scoped>\n",
              "    .dataframe tbody tr th:only-of-type {\n",
              "        vertical-align: middle;\n",
              "    }\n",
              "\n",
              "    .dataframe tbody tr th {\n",
              "        vertical-align: top;\n",
              "    }\n",
              "\n",
              "    .dataframe thead th {\n",
              "        text-align: right;\n",
              "    }\n",
              "</style>\n",
              "<table border=\"1\" class=\"dataframe\">\n",
              "  <thead>\n",
              "    <tr style=\"text-align: right;\">\n",
              "      <th></th>\n",
              "      <th>Asin</th>\n",
              "      <th>Rating</th>\n",
              "      <th>IsVerified</th>\n",
              "      <th>ReviewDate</th>\n",
              "      <th>Recentness</th>\n",
              "      <th>IsAfterBan</th>\n",
              "      <th>ReviewerId</th>\n",
              "      <th>ReviewText</th>\n",
              "      <th>LenReviewText</th>\n",
              "      <th>Summary</th>\n",
              "      <th>LenSummary</th>\n",
              "      <th>Vote</th>\n",
              "      <th>Style</th>\n",
              "      <th>NumStyles</th>\n",
              "      <th>NumReviewImages</th>\n",
              "      <th>Sentiment</th>\n",
              "    </tr>\n",
              "  </thead>\n",
              "  <tbody>\n",
              "    <tr>\n",
              "      <th>0</th>\n",
              "      <td>0439381673</td>\n",
              "      <td>1</td>\n",
              "      <td>True</td>\n",
              "      <td>2014-06-09</td>\n",
              "      <td>1577</td>\n",
              "      <td>False</td>\n",
              "      <td>A21ROB4YDOZA5P</td>\n",
              "      <td>I used to play this game years ago and loved i...</td>\n",
              "      <td>139</td>\n",
              "      <td>Did not like this</td>\n",
              "      <td>17</td>\n",
              "      <td>0</td>\n",
              "      <td></td>\n",
              "      <td>0</td>\n",
              "      <td>0</td>\n",
              "      <td>0.7430</td>\n",
              "    </tr>\n",
              "    <tr>\n",
              "      <th>1</th>\n",
              "      <td>0439381673</td>\n",
              "      <td>3</td>\n",
              "      <td>True</td>\n",
              "      <td>2014-05-10</td>\n",
              "      <td>1607</td>\n",
              "      <td>False</td>\n",
              "      <td>A3TNZ2Q5E7HTHD</td>\n",
              "      <td>The game itself worked great but the story lin...</td>\n",
              "      <td>145</td>\n",
              "      <td>Almost Perfect</td>\n",
              "      <td>14</td>\n",
              "      <td>0</td>\n",
              "      <td></td>\n",
              "      <td>0</td>\n",
              "      <td>0</td>\n",
              "      <td>0.3603</td>\n",
              "    </tr>\n",
              "    <tr>\n",
              "      <th>2</th>\n",
              "      <td>0439381673</td>\n",
              "      <td>4</td>\n",
              "      <td>True</td>\n",
              "      <td>2014-02-07</td>\n",
              "      <td>1699</td>\n",
              "      <td>False</td>\n",
              "      <td>A1OKRM3QFEATQO</td>\n",
              "      <td>I had to learn the hard way after ordering thi...</td>\n",
              "      <td>447</td>\n",
              "      <td>DOES NOT WORK WITH MAC OS unless it is 10.3 or...</td>\n",
              "      <td>59</td>\n",
              "      <td>15</td>\n",
              "      <td></td>\n",
              "      <td>0</td>\n",
              "      <td>0</td>\n",
              "      <td>0.7579</td>\n",
              "    </tr>\n",
              "    <tr>\n",
              "      <th>3</th>\n",
              "      <td>0439381673</td>\n",
              "      <td>1</td>\n",
              "      <td>True</td>\n",
              "      <td>2014-02-07</td>\n",
              "      <td>1699</td>\n",
              "      <td>False</td>\n",
              "      <td>A2XO1JFCNEYV3T</td>\n",
              "      <td>The product description should state this clea...</td>\n",
              "      <td>157</td>\n",
              "      <td>does not work on Mac OSX</td>\n",
              "      <td>24</td>\n",
              "      <td>11</td>\n",
              "      <td></td>\n",
              "      <td>0</td>\n",
              "      <td>0</td>\n",
              "      <td>0.4810</td>\n",
              "    </tr>\n",
              "    <tr>\n",
              "      <th>4</th>\n",
              "      <td>0439381673</td>\n",
              "      <td>4</td>\n",
              "      <td>True</td>\n",
              "      <td>2014-01-16</td>\n",
              "      <td>1721</td>\n",
              "      <td>False</td>\n",
              "      <td>A19WLPIRHD15TH</td>\n",
              "      <td>I would recommend this learning game for anyon...</td>\n",
              "      <td>120</td>\n",
              "      <td>Roughing it</td>\n",
              "      <td>11</td>\n",
              "      <td>0</td>\n",
              "      <td></td>\n",
              "      <td>0</td>\n",
              "      <td>0</td>\n",
              "      <td>0.8470</td>\n",
              "    </tr>\n",
              "  </tbody>\n",
              "</table>\n",
              "</div>\n",
              "      <button class=\"colab-df-convert\" onclick=\"convertToInteractive('df-73a95a9d-6553-4f70-9ef9-df5aba1de5f5')\"\n",
              "              title=\"Convert this dataframe to an interactive table.\"\n",
              "              style=\"display:none;\">\n",
              "        \n",
              "  <svg xmlns=\"http://www.w3.org/2000/svg\" height=\"24px\"viewBox=\"0 0 24 24\"\n",
              "       width=\"24px\">\n",
              "    <path d=\"M0 0h24v24H0V0z\" fill=\"none\"/>\n",
              "    <path d=\"M18.56 5.44l.94 2.06.94-2.06 2.06-.94-2.06-.94-.94-2.06-.94 2.06-2.06.94zm-11 1L8.5 8.5l.94-2.06 2.06-.94-2.06-.94L8.5 2.5l-.94 2.06-2.06.94zm10 10l.94 2.06.94-2.06 2.06-.94-2.06-.94-.94-2.06-.94 2.06-2.06.94z\"/><path d=\"M17.41 7.96l-1.37-1.37c-.4-.4-.92-.59-1.43-.59-.52 0-1.04.2-1.43.59L10.3 9.45l-7.72 7.72c-.78.78-.78 2.05 0 2.83L4 21.41c.39.39.9.59 1.41.59.51 0 1.02-.2 1.41-.59l7.78-7.78 2.81-2.81c.8-.78.8-2.07 0-2.86zM5.41 20L4 18.59l7.72-7.72 1.47 1.35L5.41 20z\"/>\n",
              "  </svg>\n",
              "      </button>\n",
              "      \n",
              "  <style>\n",
              "    .colab-df-container {\n",
              "      display:flex;\n",
              "      flex-wrap:wrap;\n",
              "      gap: 12px;\n",
              "    }\n",
              "\n",
              "    .colab-df-convert {\n",
              "      background-color: #E8F0FE;\n",
              "      border: none;\n",
              "      border-radius: 50%;\n",
              "      cursor: pointer;\n",
              "      display: none;\n",
              "      fill: #1967D2;\n",
              "      height: 32px;\n",
              "      padding: 0 0 0 0;\n",
              "      width: 32px;\n",
              "    }\n",
              "\n",
              "    .colab-df-convert:hover {\n",
              "      background-color: #E2EBFA;\n",
              "      box-shadow: 0px 1px 2px rgba(60, 64, 67, 0.3), 0px 1px 3px 1px rgba(60, 64, 67, 0.15);\n",
              "      fill: #174EA6;\n",
              "    }\n",
              "\n",
              "    [theme=dark] .colab-df-convert {\n",
              "      background-color: #3B4455;\n",
              "      fill: #D2E3FC;\n",
              "    }\n",
              "\n",
              "    [theme=dark] .colab-df-convert:hover {\n",
              "      background-color: #434B5C;\n",
              "      box-shadow: 0px 1px 3px 1px rgba(0, 0, 0, 0.15);\n",
              "      filter: drop-shadow(0px 1px 2px rgba(0, 0, 0, 0.3));\n",
              "      fill: #FFFFFF;\n",
              "    }\n",
              "  </style>\n",
              "\n",
              "      <script>\n",
              "        const buttonEl =\n",
              "          document.querySelector('#df-73a95a9d-6553-4f70-9ef9-df5aba1de5f5 button.colab-df-convert');\n",
              "        buttonEl.style.display =\n",
              "          google.colab.kernel.accessAllowed ? 'block' : 'none';\n",
              "\n",
              "        async function convertToInteractive(key) {\n",
              "          const element = document.querySelector('#df-73a95a9d-6553-4f70-9ef9-df5aba1de5f5');\n",
              "          const dataTable =\n",
              "            await google.colab.kernel.invokeFunction('convertToInteractive',\n",
              "                                                     [key], {});\n",
              "          if (!dataTable) return;\n",
              "\n",
              "          const docLinkHtml = 'Like what you see? Visit the ' +\n",
              "            '<a target=\"_blank\" href=https://colab.research.google.com/notebooks/data_table.ipynb>data table notebook</a>'\n",
              "            + ' to learn more about interactive tables.';\n",
              "          element.innerHTML = '';\n",
              "          dataTable['output_type'] = 'display_data';\n",
              "          await google.colab.output.renderOutput(dataTable, element);\n",
              "          const docLink = document.createElement('div');\n",
              "          docLink.innerHTML = docLinkHtml;\n",
              "          element.appendChild(docLink);\n",
              "        }\n",
              "      </script>\n",
              "    </div>\n",
              "  </div>\n",
              "  "
            ]
          },
          "metadata": {},
          "execution_count": 74
        }
      ]
    },
    {
      "cell_type": "code",
      "source": [
        "# save dfReviews to Drive for easier access later on\n",
        "dfReviewsJson = dfReviews.copy()\n",
        "dfReviewsJson['ReviewDate'] = dfReviewsJson['ReviewDate'].dt.strftime('%Y-%m-%d')\n",
        "dfReviewsJson['Sentiment'] = dfReviewsJson['Sentiment'].round(4).astype(str)\n",
        "dfReviewsJson.to_json('gdrive/MyDrive/amazon_data/clean_dfReviews.json', orient='split')"
      ],
      "metadata": {
        "id": "OgWjK839XJVU"
      },
      "execution_count": 120,
      "outputs": []
    },
    {
      "cell_type": "code",
      "source": [
        "# how to retrieve the dfReviews json file\n",
        "dfReviewsDrive = pd.read_json('gdrive/MyDrive/amazon_data/clean_dfReviews.json', orient='split')\n",
        "dfReviewsDrive['ReviewDate'] = pd.to_datetime(dfReviewsDrive['ReviewDate'])"
      ],
      "metadata": {
        "id": "jQ1WEomFi-Zl"
      },
      "execution_count": 121,
      "outputs": []
    },
    {
      "cell_type": "markdown",
      "source": [
        "### Summary & Plots"
      ],
      "metadata": {
        "id": "MWq7z1a7al5W"
      }
    },
    {
      "cell_type": "code",
      "source": [
        "# rating distribution by verified vs. unverified, and before vs. after ban\n",
        "dfRevRatingDistbSum = pd.concat([dfReviews.groupby(['Rating', 'IsVerified']).size(),\n",
        "                                 dfReviews.groupby(['Rating', 'IsAfterBan']).size()],\n",
        "                                axis=1).unstack().reset_index()\n",
        "dfRevRatingDistbSum = dfRevRatingDistbSum.rename(columns={0: 'Verification Status', 1: 'Before or After Ban'}, level=0)\n",
        "\n",
        "# rating distribution of all samples\n",
        "dfRevRatingDistb = dfReviews['Rating'].value_counts().sort_index().to_frame()\n",
        "dfRevRatingDistb = dfRevRatingDistb.rename(columns={'Rating': 'Full Sample'})\n",
        "dfRevRatingDistb.columns = pd.MultiIndex.from_product([dfRevRatingDistb.columns, ['Size']])\n",
        "dfRevRatingDistb = dfRevRatingDistb.reset_index()\n",
        "dfRevRatingDistb = dfRevRatingDistb.rename(columns={'index': 'Rating'})\n",
        "\n",
        "dfRevRatingDistbSum = dfRevRatingDistb.merge(dfRevRatingDistbSum, on='Rating')\n",
        "\n",
        "# calculate percentage\n",
        "dfRevRatingDistbSum['Full Sample','Percentage'] = dfRevRatingDistbSum['Full Sample','Size']\\\n",
        "                                              /dfRevRatingDistbSum['Full Sample','Size'].sum()*100\n",
        "dfRevRatingDistbSum['Verification Status', 'TruePercentage'] = dfRevRatingDistbSum['Verification Status', True]\\\n",
        "                                            /dfRevRatingDistbSum['Verification Status', True].sum()*100\n",
        "dfRevRatingDistbSum['Verification Status', 'FalsePercentage'] = dfRevRatingDistbSum['Verification Status', False]\\\n",
        "                                            /dfRevRatingDistbSum['Verification Status', False].sum()*100\n",
        "dfRevRatingDistbSum['Before or After Ban', 'TruePercentage'] = dfRevRatingDistbSum['Before or After Ban', True]\\\n",
        "                                            /dfRevRatingDistbSum['Before or After Ban', True].sum()*100\n",
        "dfRevRatingDistbSum['Before or After Ban', 'FalsePercentage'] = dfRevRatingDistbSum['Before or After Ban', False]\\\n",
        "                                            /dfRevRatingDistbSum['Before or After Ban', False].sum()*100\n",
        "\n",
        "dfRevRatingDistbSum = dfRevRatingDistbSum[['Rating', 'Full Sample', 'Verification Status', 'Before or After Ban']]\n",
        "dfRevRatingDistbSum = dfRevRatingDistbSum.append(dfRevRatingDistbSum.sum(), ignore_index=True)\n",
        "dfRevRatingDistbSum['Rating', ''][5] = ''\n",
        "\n",
        "dfRevRatingDistbSum"
      ],
      "metadata": {
        "colab": {
          "base_uri": "https://localhost:8080/",
          "height": 369
        },
        "id": "bRxRVQJ2be7W",
        "outputId": "5f53bd2e-26bc-44aa-8d66-83c703447845"
      },
      "execution_count": 125,
      "outputs": [
        {
          "output_type": "stream",
          "name": "stderr",
          "text": [
            "/usr/local/lib/python3.7/dist-packages/pandas/core/generic.py:4150: PerformanceWarning: dropping on a non-lexsorted multi-index without a level parameter may impact performance.\n",
            "  obj = obj._drop_axis(labels, axis, level=level, errors=errors)\n"
          ]
        },
        {
          "output_type": "execute_result",
          "data": {
            "text/plain": [
              "  Rating Full Sample             Verification Status             \\\n",
              "                Size  Percentage               False       True   \n",
              "0    1.0    163285.0   10.989229             68090.0    95195.0   \n",
              "1    2.0     76056.0    5.118638             35024.0    41032.0   \n",
              "2    3.0    124899.0    8.405816             48357.0    76542.0   \n",
              "3    4.0    248527.0   16.726093             94991.0   153536.0   \n",
              "4    5.0    873097.0   58.760223            223895.0   649202.0   \n",
              "5          1485864.0  100.000000            470357.0  1015507.0   \n",
              "\n",
              "                                 Before or After Ban                           \\\n",
              "  TruePercentage FalsePercentage               False      True TruePercentage   \n",
              "0       9.374135       14.476238            135048.0   28237.0      13.076439   \n",
              "1       4.040543        7.446259             67410.0    8646.0       4.003927   \n",
              "2       7.537319       10.280914            111329.0   13570.0       6.284211   \n",
              "3      15.119147       20.195511            224555.0   23972.0      11.101335   \n",
              "4      63.928855       47.601077            731584.0  141513.0      65.534088   \n",
              "5     100.000000      100.000000           1269926.0  215938.0     100.000000   \n",
              "\n",
              "                   \n",
              "  FalsePercentage  \n",
              "0       10.634320  \n",
              "1        5.308183  \n",
              "2        8.766574  \n",
              "3       17.682526  \n",
              "4       57.608396  \n",
              "5      100.000000  "
            ],
            "text/html": [
              "\n",
              "  <div id=\"df-2e58e3eb-f7fb-4665-9ded-21ee18653b57\">\n",
              "    <div class=\"colab-df-container\">\n",
              "      <div>\n",
              "<style scoped>\n",
              "    .dataframe tbody tr th:only-of-type {\n",
              "        vertical-align: middle;\n",
              "    }\n",
              "\n",
              "    .dataframe tbody tr th {\n",
              "        vertical-align: top;\n",
              "    }\n",
              "\n",
              "    .dataframe thead tr th {\n",
              "        text-align: left;\n",
              "    }\n",
              "</style>\n",
              "<table border=\"1\" class=\"dataframe\">\n",
              "  <thead>\n",
              "    <tr>\n",
              "      <th></th>\n",
              "      <th>Rating</th>\n",
              "      <th colspan=\"2\" halign=\"left\">Full Sample</th>\n",
              "      <th colspan=\"4\" halign=\"left\">Verification Status</th>\n",
              "      <th colspan=\"4\" halign=\"left\">Before or After Ban</th>\n",
              "    </tr>\n",
              "    <tr>\n",
              "      <th></th>\n",
              "      <th></th>\n",
              "      <th>Size</th>\n",
              "      <th>Percentage</th>\n",
              "      <th>False</th>\n",
              "      <th>True</th>\n",
              "      <th>TruePercentage</th>\n",
              "      <th>FalsePercentage</th>\n",
              "      <th>False</th>\n",
              "      <th>True</th>\n",
              "      <th>TruePercentage</th>\n",
              "      <th>FalsePercentage</th>\n",
              "    </tr>\n",
              "  </thead>\n",
              "  <tbody>\n",
              "    <tr>\n",
              "      <th>0</th>\n",
              "      <td>1.0</td>\n",
              "      <td>163285.0</td>\n",
              "      <td>10.989229</td>\n",
              "      <td>68090.0</td>\n",
              "      <td>95195.0</td>\n",
              "      <td>9.374135</td>\n",
              "      <td>14.476238</td>\n",
              "      <td>135048.0</td>\n",
              "      <td>28237.0</td>\n",
              "      <td>13.076439</td>\n",
              "      <td>10.634320</td>\n",
              "    </tr>\n",
              "    <tr>\n",
              "      <th>1</th>\n",
              "      <td>2.0</td>\n",
              "      <td>76056.0</td>\n",
              "      <td>5.118638</td>\n",
              "      <td>35024.0</td>\n",
              "      <td>41032.0</td>\n",
              "      <td>4.040543</td>\n",
              "      <td>7.446259</td>\n",
              "      <td>67410.0</td>\n",
              "      <td>8646.0</td>\n",
              "      <td>4.003927</td>\n",
              "      <td>5.308183</td>\n",
              "    </tr>\n",
              "    <tr>\n",
              "      <th>2</th>\n",
              "      <td>3.0</td>\n",
              "      <td>124899.0</td>\n",
              "      <td>8.405816</td>\n",
              "      <td>48357.0</td>\n",
              "      <td>76542.0</td>\n",
              "      <td>7.537319</td>\n",
              "      <td>10.280914</td>\n",
              "      <td>111329.0</td>\n",
              "      <td>13570.0</td>\n",
              "      <td>6.284211</td>\n",
              "      <td>8.766574</td>\n",
              "    </tr>\n",
              "    <tr>\n",
              "      <th>3</th>\n",
              "      <td>4.0</td>\n",
              "      <td>248527.0</td>\n",
              "      <td>16.726093</td>\n",
              "      <td>94991.0</td>\n",
              "      <td>153536.0</td>\n",
              "      <td>15.119147</td>\n",
              "      <td>20.195511</td>\n",
              "      <td>224555.0</td>\n",
              "      <td>23972.0</td>\n",
              "      <td>11.101335</td>\n",
              "      <td>17.682526</td>\n",
              "    </tr>\n",
              "    <tr>\n",
              "      <th>4</th>\n",
              "      <td>5.0</td>\n",
              "      <td>873097.0</td>\n",
              "      <td>58.760223</td>\n",
              "      <td>223895.0</td>\n",
              "      <td>649202.0</td>\n",
              "      <td>63.928855</td>\n",
              "      <td>47.601077</td>\n",
              "      <td>731584.0</td>\n",
              "      <td>141513.0</td>\n",
              "      <td>65.534088</td>\n",
              "      <td>57.608396</td>\n",
              "    </tr>\n",
              "    <tr>\n",
              "      <th>5</th>\n",
              "      <td></td>\n",
              "      <td>1485864.0</td>\n",
              "      <td>100.000000</td>\n",
              "      <td>470357.0</td>\n",
              "      <td>1015507.0</td>\n",
              "      <td>100.000000</td>\n",
              "      <td>100.000000</td>\n",
              "      <td>1269926.0</td>\n",
              "      <td>215938.0</td>\n",
              "      <td>100.000000</td>\n",
              "      <td>100.000000</td>\n",
              "    </tr>\n",
              "  </tbody>\n",
              "</table>\n",
              "</div>\n",
              "      <button class=\"colab-df-convert\" onclick=\"convertToInteractive('df-2e58e3eb-f7fb-4665-9ded-21ee18653b57')\"\n",
              "              title=\"Convert this dataframe to an interactive table.\"\n",
              "              style=\"display:none;\">\n",
              "        \n",
              "  <svg xmlns=\"http://www.w3.org/2000/svg\" height=\"24px\"viewBox=\"0 0 24 24\"\n",
              "       width=\"24px\">\n",
              "    <path d=\"M0 0h24v24H0V0z\" fill=\"none\"/>\n",
              "    <path d=\"M18.56 5.44l.94 2.06.94-2.06 2.06-.94-2.06-.94-.94-2.06-.94 2.06-2.06.94zm-11 1L8.5 8.5l.94-2.06 2.06-.94-2.06-.94L8.5 2.5l-.94 2.06-2.06.94zm10 10l.94 2.06.94-2.06 2.06-.94-2.06-.94-.94-2.06-.94 2.06-2.06.94z\"/><path d=\"M17.41 7.96l-1.37-1.37c-.4-.4-.92-.59-1.43-.59-.52 0-1.04.2-1.43.59L10.3 9.45l-7.72 7.72c-.78.78-.78 2.05 0 2.83L4 21.41c.39.39.9.59 1.41.59.51 0 1.02-.2 1.41-.59l7.78-7.78 2.81-2.81c.8-.78.8-2.07 0-2.86zM5.41 20L4 18.59l7.72-7.72 1.47 1.35L5.41 20z\"/>\n",
              "  </svg>\n",
              "      </button>\n",
              "      \n",
              "  <style>\n",
              "    .colab-df-container {\n",
              "      display:flex;\n",
              "      flex-wrap:wrap;\n",
              "      gap: 12px;\n",
              "    }\n",
              "\n",
              "    .colab-df-convert {\n",
              "      background-color: #E8F0FE;\n",
              "      border: none;\n",
              "      border-radius: 50%;\n",
              "      cursor: pointer;\n",
              "      display: none;\n",
              "      fill: #1967D2;\n",
              "      height: 32px;\n",
              "      padding: 0 0 0 0;\n",
              "      width: 32px;\n",
              "    }\n",
              "\n",
              "    .colab-df-convert:hover {\n",
              "      background-color: #E2EBFA;\n",
              "      box-shadow: 0px 1px 2px rgba(60, 64, 67, 0.3), 0px 1px 3px 1px rgba(60, 64, 67, 0.15);\n",
              "      fill: #174EA6;\n",
              "    }\n",
              "\n",
              "    [theme=dark] .colab-df-convert {\n",
              "      background-color: #3B4455;\n",
              "      fill: #D2E3FC;\n",
              "    }\n",
              "\n",
              "    [theme=dark] .colab-df-convert:hover {\n",
              "      background-color: #434B5C;\n",
              "      box-shadow: 0px 1px 3px 1px rgba(0, 0, 0, 0.15);\n",
              "      filter: drop-shadow(0px 1px 2px rgba(0, 0, 0, 0.3));\n",
              "      fill: #FFFFFF;\n",
              "    }\n",
              "  </style>\n",
              "\n",
              "      <script>\n",
              "        const buttonEl =\n",
              "          document.querySelector('#df-2e58e3eb-f7fb-4665-9ded-21ee18653b57 button.colab-df-convert');\n",
              "        buttonEl.style.display =\n",
              "          google.colab.kernel.accessAllowed ? 'block' : 'none';\n",
              "\n",
              "        async function convertToInteractive(key) {\n",
              "          const element = document.querySelector('#df-2e58e3eb-f7fb-4665-9ded-21ee18653b57');\n",
              "          const dataTable =\n",
              "            await google.colab.kernel.invokeFunction('convertToInteractive',\n",
              "                                                     [key], {});\n",
              "          if (!dataTable) return;\n",
              "\n",
              "          const docLinkHtml = 'Like what you see? Visit the ' +\n",
              "            '<a target=\"_blank\" href=https://colab.research.google.com/notebooks/data_table.ipynb>data table notebook</a>'\n",
              "            + ' to learn more about interactive tables.';\n",
              "          element.innerHTML = '';\n",
              "          dataTable['output_type'] = 'display_data';\n",
              "          await google.colab.output.renderOutput(dataTable, element);\n",
              "          const docLink = document.createElement('div');\n",
              "          docLink.innerHTML = docLinkHtml;\n",
              "          element.appendChild(docLink);\n",
              "        }\n",
              "      </script>\n",
              "    </div>\n",
              "  </div>\n",
              "  "
            ]
          },
          "metadata": {},
          "execution_count": 125
        }
      ]
    },
    {
      "cell_type": "code",
      "source": [
        "dfRevRatingDistbSum.to_latex(index=False, \n",
        "                             columns=[('Rating', ''), ('Full Sample', 'Percentage'),\n",
        "                                      ('Verification Status', 'TruePercentage'), ('Verification Status', 'FalsePercentage'),\n",
        "                                      ('Before or After Ban', 'TruePercentage'), ('Before or After Ban', 'FalsePercentage')],\n",
        "                             float_format=\"{:0.2f}\\%\".format,\n",
        "                             escape=False)"
      ],
      "metadata": {
        "colab": {
          "base_uri": "https://localhost:8080/",
          "height": 178
        },
        "id": "6L7GpVmlGjiO",
        "outputId": "6bd8ea46-1502-4221-bf17-4be4be9dfbc2"
      },
      "execution_count": 126,
      "outputs": [
        {
          "output_type": "execute_result",
          "data": {
            "text/plain": [
              "'\\\\begin{tabular}{lrrrrr}\\n\\\\toprule\\nRating & Full Sample & \\\\multicolumn{2}{l}{Verification Status} & \\\\multicolumn{2}{l}{Before or After Ban} \\\\\\\\\\n       &  Percentage &      TruePercentage & FalsePercentage &      TruePercentage & FalsePercentage \\\\\\\\\\n\\\\midrule\\n1.00\\\\% &     10.99\\\\% &              9.37\\\\% &         14.48\\\\% &             13.08\\\\% &         10.63\\\\% \\\\\\\\\\n2.00\\\\% &      5.12\\\\% &              4.04\\\\% &          7.45\\\\% &              4.00\\\\% &          5.31\\\\% \\\\\\\\\\n3.00\\\\% &      8.41\\\\% &              7.54\\\\% &         10.28\\\\% &              6.28\\\\% &          8.77\\\\% \\\\\\\\\\n4.00\\\\% &     16.73\\\\% &             15.12\\\\% &         20.20\\\\% &             11.10\\\\% &         17.68\\\\% \\\\\\\\\\n5.00\\\\% &     58.76\\\\% &             63.93\\\\% &         47.60\\\\% &             65.53\\\\% &         57.61\\\\% \\\\\\\\\\n       &    100.00\\\\% &            100.00\\\\% &        100.00\\\\% &            100.00\\\\% &        100.00\\\\% \\\\\\\\\\n\\\\bottomrule\\n\\\\end{tabular}\\n'"
            ],
            "application/vnd.google.colaboratory.intrinsic+json": {
              "type": "string"
            }
          },
          "metadata": {},
          "execution_count": 126
        }
      ]
    },
    {
      "cell_type": "code",
      "source": [
        "# rating distribution - graph\n",
        "dfRatingsByVerified = dfReviews.groupby('IsVerified', sort=False).Rating.value_counts(normalize=False).unstack(0)\n",
        "dfRatingsByVerified.plot.bar(xlabel='Rating', ylabel='Count', title='Overall Rating Counts by Verification Status')\n",
        "\n",
        "dfRatingsByVerified = dfReviews.groupby('IsVerified', sort=False).Rating.value_counts(normalize=True).unstack(0)\n",
        "dfRatingsByVerified.plot.bar(xlabel='Rating', ylabel='Percentage', \n",
        "                            title='Overall Rating Distribution Percentage Conditioned on Verification Status')"
      ],
      "metadata": {
        "colab": {
          "base_uri": "https://localhost:8080/",
          "height": 585
        },
        "id": "zYSJJ7GjYTXA",
        "outputId": "2f165235-eaad-44c4-c11c-1566a5082207"
      },
      "execution_count": 128,
      "outputs": [
        {
          "output_type": "execute_result",
          "data": {
            "text/plain": [
              "<matplotlib.axes._subplots.AxesSubplot at 0x7f963ae43c10>"
            ]
          },
          "metadata": {},
          "execution_count": 128
        },
        {
          "output_type": "display_data",
          "data": {
            "text/plain": [
              "<Figure size 432x288 with 1 Axes>"
            ],
            "image/png": "[encoded data removed]"
          },
          "metadata": {
            "needs_background": "light"
          }
        },
        {
          "output_type": "display_data",
          "data": {
            "text/plain": [
              "<Figure size 432x288 with 1 Axes>"
            ],
            "image/png": "[encoded data removed]"
          },
          "metadata": {
            "needs_background": "light"
          }
        }
      ]
    },
    {
      "cell_type": "code",
      "source": [
        "# review recentness\n",
        "dfReviews.hist(column='Recentness', bins=100)"
      ],
      "metadata": {
        "colab": {
          "base_uri": "https://localhost:8080/",
          "height": 317
        },
        "id": "R_BSvdxqaBZh",
        "outputId": "46ea88b7-988b-45e0-c992-b33ef5bcef1e"
      },
      "execution_count": 130,
      "outputs": [
        {
          "output_type": "execute_result",
          "data": {
            "text/plain": [
              "array([[<matplotlib.axes._subplots.AxesSubplot object at 0x7f963af28590>]],\n",
              "      dtype=object)"
            ]
          },
          "metadata": {},
          "execution_count": 130
        },
        {
          "output_type": "display_data",
          "data": {
            "text/plain": [
              "<Figure size 432x288 with 1 Axes>"
            ],
            "image/png": "[encoded data removed]"
          },
          "metadata": {
            "needs_background": "light"
          }
        }
      ]
    },
    {
      "cell_type": "code",
      "source": [
        "dfReviews.boxplot(column='Sentiment', by='Rating', figsize=(10,6)) #, flierprops=dict(markersize=3, marker='+')"
      ],
      "metadata": {
        "colab": {
          "base_uri": "https://localhost:8080/",
          "height": 494
        },
        "id": "1XU5TcFn_DiZ",
        "outputId": "70351474-f2ba-4e9f-885c-e10f31baa332"
      },
      "execution_count": 136,
      "outputs": [
        {
          "output_type": "stream",
          "name": "stderr",
          "text": [
            "/usr/local/lib/python3.7/dist-packages/matplotlib/cbook/__init__.py:1376: VisibleDeprecationWarning: Creating an ndarray from ragged nested sequences (which is a list-or-tuple of lists-or-tuples-or ndarrays with different lengths or shapes) is deprecated. If you meant to do this, you must specify 'dtype=object' when creating the ndarray.\n",
            "  X = np.atleast_1d(X.T if isinstance(X, np.ndarray) else np.asarray(X))\n"
          ]
        },
        {
          "output_type": "execute_result",
          "data": {
            "text/plain": [
              "<matplotlib.axes._subplots.AxesSubplot at 0x7f963b267650>"
            ]
          },
          "metadata": {},
          "execution_count": 136
        },
        {
          "output_type": "display_data",
          "data": {
            "text/plain": [
              "<Figure size 720x432 with 1 Axes>"
            ],
            "image/png": "[encoded data removed]"
          },
          "metadata": {
            "needs_background": "light"
          }
        }
      ]
    },
    {
      "cell_type": "markdown",
      "source": [
        "## Merged Data"
      ],
      "metadata": {
        "id": "eiQ7-fk-yoaN"
      }
    },
    {
      "cell_type": "code",
      "source": [
        "# merge reviews data and metadata together\n",
        "dfMerged = dfReviews.merge(dfProd, how='inner', on='Asin')"
      ],
      "metadata": {
        "id": "tMneL2tFckXN"
      },
      "execution_count": 137,
      "outputs": []
    },
    {
      "cell_type": "code",
      "source": [
        "dfMerged.info(show_counts=True)"
      ],
      "metadata": {
        "colab": {
          "base_uri": "https://localhost:8080/"
        },
        "id": "GihhKNi5cpLf",
        "outputId": "245f4501-d2f8-413a-b236-d783818bcf1f"
      },
      "execution_count": 138,
      "outputs": [
        {
          "output_type": "stream",
          "name": "stdout",
          "text": [
            "<class 'pandas.core.frame.DataFrame'>\n",
            "Int64Index: 1485864 entries, 0 to 1485863\n",
            "Data columns (total 36 columns):\n",
            " #   Column            Non-Null Count    Dtype         \n",
            "---  ------            --------------    -----         \n",
            " 0   Asin              1485864 non-null  object        \n",
            " 1   Rating            1485864 non-null  uint8         \n",
            " 2   IsVerified        1485864 non-null  bool          \n",
            " 3   ReviewDate        1485864 non-null  datetime64[ns]\n",
            " 4   Recentness        1485864 non-null  int64         \n",
            " 5   IsAfterBan        1485864 non-null  bool          \n",
            " 6   ReviewerId        1485864 non-null  object        \n",
            " 7   ReviewText        1484921 non-null  object        \n",
            " 8   LenReviewText     1485864 non-null  int32         \n",
            " 9   Summary           1485469 non-null  object        \n",
            " 10  LenSummary        1485864 non-null  int32         \n",
            " 11  Vote              1485864 non-null  Int32         \n",
            " 12  Style             1485864 non-null  object        \n",
            " 13  NumStyles         1485864 non-null  uint8         \n",
            " 14  NumReviewImages   1485864 non-null  uint8         \n",
            " 15  Sentiment         1485864 non-null  float64       \n",
            " 16  Title             1485864 non-null  object        \n",
            " 17  Brand             1477808 non-null  object        \n",
            " 18  MainCategory      1485864 non-null  object        \n",
            " 19  Categories        1485864 non-null  object        \n",
            " 20  Price             131166 non-null   float64       \n",
            " 21  RankVideoGames    1485864 non-null  Int64         \n",
            " 22  RankCategory2     1457371 non-null  Int64         \n",
            " 23  Category2         1457371 non-null  object        \n",
            " 24  RankCategory3     231331 non-null   Int64         \n",
            " 25  Category3         231331 non-null   object        \n",
            " 26  RankCategory4     122376 non-null   Int64         \n",
            " 27  Category4         122376 non-null   object        \n",
            " 28  NumImages         1485864 non-null  uint8         \n",
            " 29  NumHighResImages  1485864 non-null  uint8         \n",
            " 30  Details           2929 non-null     object        \n",
            " 31  NumDetails        1485864 non-null  uint8         \n",
            " 32  Feature           1485864 non-null  object        \n",
            " 33  LenFeature        1485864 non-null  int64         \n",
            " 34  Description       1485864 non-null  object        \n",
            " 35  LenDescription    1485864 non-null  int64         \n",
            "dtypes: Int32(1), Int64(4), bool(2), datetime64[ns](1), float64(2), int32(2), int64(3), object(15), uint8(6)\n",
            "memory usage: 330.2+ MB\n"
          ]
        }
      ]
    },
    {
      "cell_type": "code",
      "source": [
        "dfMerged.describe(exclude='object', datetime_is_numeric=True)"
      ],
      "metadata": {
        "colab": {
          "base_uri": "https://localhost:8080/",
          "height": 592
        },
        "id": "-okiu7sNCB_A",
        "outputId": "1c28ee4b-b7f4-4d10-fbb8-50fb79958fa8"
      },
      "execution_count": 139,
      "outputs": [
        {
          "output_type": "execute_result",
          "data": {
            "text/plain": [
              "              Rating IsVerified                     ReviewDate    Recentness  \\\n",
              "count   1.485864e+06    1485864                        1485864  1.485864e+06   \n",
              "unique           NaN          2                            NaN           NaN   \n",
              "top              NaN       True                            NaN           NaN   \n",
              "freq             NaN    1015507                            NaN           NaN   \n",
              "mean    4.071494e+00        NaN  2013-03-03 07:22:43.163250944  2.039693e+03   \n",
              "min     1.000000e+00        NaN            1997-11-08 00:00:00  1.000000e+00   \n",
              "25%     4.000000e+00        NaN            2011-05-19 00:00:00  9.950000e+02   \n",
              "50%     5.000000e+00        NaN            2014-07-17 00:00:00  1.539000e+03   \n",
              "75%     5.000000e+00        NaN            2016-01-12 00:00:00  2.694000e+03   \n",
              "max     5.000000e+00        NaN            2018-10-02 00:00:00  7.634000e+03   \n",
              "std     1.363938e+00        NaN                            NaN  1.491643e+03   \n",
              "\n",
              "       IsAfterBan  LenReviewText    LenSummary          Vote     NumStyles  \\\n",
              "count     1485864   1.485864e+06  1.485864e+06  1.485864e+06  1.485864e+06   \n",
              "unique          2            NaN           NaN           NaN           NaN   \n",
              "top         False            NaN           NaN           NaN           NaN   \n",
              "freq      1269926            NaN           NaN           NaN           NaN   \n",
              "mean          NaN   4.756691e+02  2.275516e+01  1.801450e+00  7.889302e-01   \n",
              "min           NaN   0.000000e+00  0.000000e+00  0.000000e+00  0.000000e+00   \n",
              "25%           NaN   5.600000e+01  1.000000e+01  0.000000e+00  0.000000e+00   \n",
              "50%           NaN   1.640000e+02  1.600000e+01  0.000000e+00  1.000000e+00   \n",
              "75%           NaN   4.770000e+02  3.100000e+01  0.000000e+00  1.000000e+00   \n",
              "max           NaN   3.272100e+04  3.000000e+02  5.154000e+03  3.000000e+00   \n",
              "std           NaN   9.524678e+02  1.776876e+01  1.488386e+01  6.921783e-01   \n",
              "\n",
              "        NumReviewImages  ...          Price  RankVideoGames  RankCategory2  \\\n",
              "count      1.485864e+06  ...  131166.000000    1.485864e+06   1.457371e+06   \n",
              "unique              NaN  ...            NaN             NaN            NaN   \n",
              "top                 NaN  ...            NaN             NaN            NaN   \n",
              "freq                NaN  ...            NaN             NaN            NaN   \n",
              "mean       1.029637e-02  ...      72.214501    1.920373e+04   1.236860e+03   \n",
              "min        0.000000e+00  ...       0.010000    2.000000e+00   1.000000e+00   \n",
              "25%        0.000000e+00  ...      15.000000    3.978000e+03   1.120000e+02   \n",
              "50%        0.000000e+00  ...      28.900000    1.091800e+04   3.920000e+02   \n",
              "75%        0.000000e+00  ...      66.940000    2.508500e+04   1.069000e+03   \n",
              "max        4.800000e+01  ...    1500.000000    2.417880e+05   5.106370e+05   \n",
              "std        2.220761e-01  ...     128.786529    2.393057e+04   3.689674e+03   \n",
              "\n",
              "        RankCategory3  RankCategory4     NumImages  NumHighResImages  \\\n",
              "count   231331.000000  122376.000000  1.485864e+06      1.485864e+06   \n",
              "unique            NaN            NaN           NaN               NaN   \n",
              "top               NaN            NaN           NaN               NaN   \n",
              "freq              NaN            NaN           NaN               NaN   \n",
              "mean      1322.184364    1867.057675  4.804897e+00      4.804897e+00   \n",
              "min          1.000000       1.000000  0.000000e+00      0.000000e+00   \n",
              "25%         75.000000      68.000000  1.000000e+00      1.000000e+00   \n",
              "50%        487.000000     521.000000  5.000000e+00      5.000000e+00   \n",
              "75%       1478.000000    2322.000000  8.000000e+00      8.000000e+00   \n",
              "max     509623.000000  186146.000000  1.400000e+01      1.400000e+01   \n",
              "std       4062.091474    3447.931632  3.246401e+00      3.246401e+00   \n",
              "\n",
              "          NumDetails    LenFeature  LenDescription  \n",
              "count   1.485864e+06  1.485864e+06    1.485864e+06  \n",
              "unique           NaN           NaN             NaN  \n",
              "top              NaN           NaN             NaN  \n",
              "freq             NaN           NaN             NaN  \n",
              "mean    1.180794e-02  5.062602e+02    1.539573e+03  \n",
              "min     0.000000e+00  0.000000e+00    0.000000e+00  \n",
              "25%     0.000000e+00  1.660000e+02    4.150000e+02  \n",
              "50%     0.000000e+00  4.600000e+02    9.200000e+02  \n",
              "75%     0.000000e+00  7.220000e+02    2.058000e+03  \n",
              "max     7.000000e+00  7.993000e+03    1.878800e+04  \n",
              "std     2.704911e-01  4.324739e+02    1.677109e+03  \n",
              "\n",
              "[11 rows x 21 columns]"
            ],
            "text/html": [
              "\n",
              "  <div id=\"df-58c46356-8a05-4289-9125-59ff0e42ac51\">\n",
              "    <div class=\"colab-df-container\">\n",
              "      <div>\n",
              "<style scoped>\n",
              "    .dataframe tbody tr th:only-of-type {\n",
              "        vertical-align: middle;\n",
              "    }\n",
              "\n",
              "    .dataframe tbody tr th {\n",
              "        vertical-align: top;\n",
              "    }\n",
              "\n",
              "    .dataframe thead th {\n",
              "        text-align: right;\n",
              "    }\n",
              "</style>\n",
              "<table border=\"1\" class=\"dataframe\">\n",
              "  <thead>\n",
              "    <tr style=\"text-align: right;\">\n",
              "      <th></th>\n",
              "      <th>Rating</th>\n",
              "      <th>IsVerified</th>\n",
              "      <th>ReviewDate</th>\n",
              "      <th>Recentness</th>\n",
              "      <th>IsAfterBan</th>\n",
              "      <th>LenReviewText</th>\n",
              "      <th>LenSummary</th>\n",
              "      <th>Vote</th>\n",
              "      <th>NumStyles</th>\n",
              "      <th>NumReviewImages</th>\n",
              "      <th>...</th>\n",
              "      <th>Price</th>\n",
              "      <th>RankVideoGames</th>\n",
              "      <th>RankCategory2</th>\n",
              "      <th>RankCategory3</th>\n",
              "      <th>RankCategory4</th>\n",
              "      <th>NumImages</th>\n",
              "      <th>NumHighResImages</th>\n",
              "      <th>NumDetails</th>\n",
              "      <th>LenFeature</th>\n",
              "      <th>LenDescription</th>\n",
              "    </tr>\n",
              "  </thead>\n",
              "  <tbody>\n",
              "    <tr>\n",
              "      <th>count</th>\n",
              "      <td>1.485864e+06</td>\n",
              "      <td>1485864</td>\n",
              "      <td>1485864</td>\n",
              "      <td>1.485864e+06</td>\n",
              "      <td>1485864</td>\n",
              "      <td>1.485864e+06</td>\n",
              "      <td>1.485864e+06</td>\n",
              "      <td>1.485864e+06</td>\n",
              "      <td>1.485864e+06</td>\n",
              "      <td>1.485864e+06</td>\n",
              "      <td>...</td>\n",
              "      <td>131166.000000</td>\n",
              "      <td>1.485864e+06</td>\n",
              "      <td>1.457371e+06</td>\n",
              "      <td>231331.000000</td>\n",
              "      <td>122376.000000</td>\n",
              "      <td>1.485864e+06</td>\n",
              "      <td>1.485864e+06</td>\n",
              "      <td>1.485864e+06</td>\n",
              "      <td>1.485864e+06</td>\n",
              "      <td>1.485864e+06</td>\n",
              "    </tr>\n",
              "    <tr>\n",
              "      <th>unique</th>\n",
              "      <td>NaN</td>\n",
              "      <td>2</td>\n",
              "      <td>NaN</td>\n",
              "      <td>NaN</td>\n",
              "      <td>2</td>\n",
              "      <td>NaN</td>\n",
              "      <td>NaN</td>\n",
              "      <td>NaN</td>\n",
              "      <td>NaN</td>\n",
              "      <td>NaN</td>\n",
              "      <td>...</td>\n",
              "      <td>NaN</td>\n",
              "      <td>NaN</td>\n",
              "      <td>NaN</td>\n",
              "      <td>NaN</td>\n",
              "      <td>NaN</td>\n",
              "      <td>NaN</td>\n",
              "      <td>NaN</td>\n",
              "      <td>NaN</td>\n",
              "      <td>NaN</td>\n",
              "      <td>NaN</td>\n",
              "    </tr>\n",
              "    <tr>\n",
              "      <th>top</th>\n",
              "      <td>NaN</td>\n",
              "      <td>True</td>\n",
              "      <td>NaN</td>\n",
              "      <td>NaN</td>\n",
              "      <td>False</td>\n",
              "      <td>NaN</td>\n",
              "      <td>NaN</td>\n",
              "      <td>NaN</td>\n",
              "      <td>NaN</td>\n",
              "      <td>NaN</td>\n",
              "      <td>...</td>\n",
              "      <td>NaN</td>\n",
              "      <td>NaN</td>\n",
              "      <td>NaN</td>\n",
              "      <td>NaN</td>\n",
              "      <td>NaN</td>\n",
              "      <td>NaN</td>\n",
              "      <td>NaN</td>\n",
              "      <td>NaN</td>\n",
              "      <td>NaN</td>\n",
              "      <td>NaN</td>\n",
              "    </tr>\n",
              "    <tr>\n",
              "      <th>freq</th>\n",
              "      <td>NaN</td>\n",
              "      <td>1015507</td>\n",
              "      <td>NaN</td>\n",
              "      <td>NaN</td>\n",
              "      <td>1269926</td>\n",
              "      <td>NaN</td>\n",
              "      <td>NaN</td>\n",
              "      <td>NaN</td>\n",
              "      <td>NaN</td>\n",
              "      <td>NaN</td>\n",
              "      <td>...</td>\n",
              "      <td>NaN</td>\n",
              "      <td>NaN</td>\n",
              "      <td>NaN</td>\n",
              "      <td>NaN</td>\n",
              "      <td>NaN</td>\n",
              "      <td>NaN</td>\n",
              "      <td>NaN</td>\n",
              "      <td>NaN</td>\n",
              "      <td>NaN</td>\n",
              "      <td>NaN</td>\n",
              "    </tr>\n",
              "    <tr>\n",
              "      <th>mean</th>\n",
              "      <td>4.071494e+00</td>\n",
              "      <td>NaN</td>\n",
              "      <td>2013-03-03 07:22:43.163250944</td>\n",
              "      <td>2.039693e+03</td>\n",
              "      <td>NaN</td>\n",
              "      <td>4.756691e+02</td>\n",
              "      <td>2.275516e+01</td>\n",
              "      <td>1.801450e+00</td>\n",
              "      <td>7.889302e-01</td>\n",
              "      <td>1.029637e-02</td>\n",
              "      <td>...</td>\n",
              "      <td>72.214501</td>\n",
              "      <td>1.920373e+04</td>\n",
              "      <td>1.236860e+03</td>\n",
              "      <td>1322.184364</td>\n",
              "      <td>1867.057675</td>\n",
              "      <td>4.804897e+00</td>\n",
              "      <td>4.804897e+00</td>\n",
              "      <td>1.180794e-02</td>\n",
              "      <td>5.062602e+02</td>\n",
              "      <td>1.539573e+03</td>\n",
              "    </tr>\n",
              "    <tr>\n",
              "      <th>min</th>\n",
              "      <td>1.000000e+00</td>\n",
              "      <td>NaN</td>\n",
              "      <td>1997-11-08 00:00:00</td>\n",
              "      <td>1.000000e+00</td>\n",
              "      <td>NaN</td>\n",
              "      <td>0.000000e+00</td>\n",
              "      <td>0.000000e+00</td>\n",
              "      <td>0.000000e+00</td>\n",
              "      <td>0.000000e+00</td>\n",
              "      <td>0.000000e+00</td>\n",
              "      <td>...</td>\n",
              "      <td>0.010000</td>\n",
              "      <td>2.000000e+00</td>\n",
              "      <td>1.000000e+00</td>\n",
              "      <td>1.000000</td>\n",
              "      <td>1.000000</td>\n",
              "      <td>0.000000e+00</td>\n",
              "      <td>0.000000e+00</td>\n",
              "      <td>0.000000e+00</td>\n",
              "      <td>0.000000e+00</td>\n",
              "      <td>0.000000e+00</td>\n",
              "    </tr>\n",
              "    <tr>\n",
              "      <th>25%</th>\n",
              "      <td>4.000000e+00</td>\n",
              "      <td>NaN</td>\n",
              "      <td>2011-05-19 00:00:00</td>\n",
              "      <td>9.950000e+02</td>\n",
              "      <td>NaN</td>\n",
              "      <td>5.600000e+01</td>\n",
              "      <td>1.000000e+01</td>\n",
              "      <td>0.000000e+00</td>\n",
              "      <td>0.000000e+00</td>\n",
              "      <td>0.000000e+00</td>\n",
              "      <td>...</td>\n",
              "      <td>15.000000</td>\n",
              "      <td>3.978000e+03</td>\n",
              "      <td>1.120000e+02</td>\n",
              "      <td>75.000000</td>\n",
              "      <td>68.000000</td>\n",
              "      <td>1.000000e+00</td>\n",
              "      <td>1.000000e+00</td>\n",
              "      <td>0.000000e+00</td>\n",
              "      <td>1.660000e+02</td>\n",
              "      <td>4.150000e+02</td>\n",
              "    </tr>\n",
              "    <tr>\n",
              "      <th>50%</th>\n",
              "      <td>5.000000e+00</td>\n",
              "      <td>NaN</td>\n",
              "      <td>2014-07-17 00:00:00</td>\n",
              "      <td>1.539000e+03</td>\n",
              "      <td>NaN</td>\n",
              "      <td>1.640000e+02</td>\n",
              "      <td>1.600000e+01</td>\n",
              "      <td>0.000000e+00</td>\n",
              "      <td>1.000000e+00</td>\n",
              "      <td>0.000000e+00</td>\n",
              "      <td>...</td>\n",
              "      <td>28.900000</td>\n",
              "      <td>1.091800e+04</td>\n",
              "      <td>3.920000e+02</td>\n",
              "      <td>487.000000</td>\n",
              "      <td>521.000000</td>\n",
              "      <td>5.000000e+00</td>\n",
              "      <td>5.000000e+00</td>\n",
              "      <td>0.000000e+00</td>\n",
              "      <td>4.600000e+02</td>\n",
              "      <td>9.200000e+02</td>\n",
              "    </tr>\n",
              "    <tr>\n",
              "      <th>75%</th>\n",
              "      <td>5.000000e+00</td>\n",
              "      <td>NaN</td>\n",
              "      <td>2016-01-12 00:00:00</td>\n",
              "      <td>2.694000e+03</td>\n",
              "      <td>NaN</td>\n",
              "      <td>4.770000e+02</td>\n",
              "      <td>3.100000e+01</td>\n",
              "      <td>0.000000e+00</td>\n",
              "      <td>1.000000e+00</td>\n",
              "      <td>0.000000e+00</td>\n",
              "      <td>...</td>\n",
              "      <td>66.940000</td>\n",
              "      <td>2.508500e+04</td>\n",
              "      <td>1.069000e+03</td>\n",
              "      <td>1478.000000</td>\n",
              "      <td>2322.000000</td>\n",
              "      <td>8.000000e+00</td>\n",
              "      <td>8.000000e+00</td>\n",
              "      <td>0.000000e+00</td>\n",
              "      <td>7.220000e+02</td>\n",
              "      <td>2.058000e+03</td>\n",
              "    </tr>\n",
              "    <tr>\n",
              "      <th>max</th>\n",
              "      <td>5.000000e+00</td>\n",
              "      <td>NaN</td>\n",
              "      <td>2018-10-02 00:00:00</td>\n",
              "      <td>7.634000e+03</td>\n",
              "      <td>NaN</td>\n",
              "      <td>3.272100e+04</td>\n",
              "      <td>3.000000e+02</td>\n",
              "      <td>5.154000e+03</td>\n",
              "      <td>3.000000e+00</td>\n",
              "      <td>4.800000e+01</td>\n",
              "      <td>...</td>\n",
              "      <td>1500.000000</td>\n",
              "      <td>2.417880e+05</td>\n",
              "      <td>5.106370e+05</td>\n",
              "      <td>509623.000000</td>\n",
              "      <td>186146.000000</td>\n",
              "      <td>1.400000e+01</td>\n",
              "      <td>1.400000e+01</td>\n",
              "      <td>7.000000e+00</td>\n",
              "      <td>7.993000e+03</td>\n",
              "      <td>1.878800e+04</td>\n",
              "    </tr>\n",
              "    <tr>\n",
              "      <th>std</th>\n",
              "      <td>1.363938e+00</td>\n",
              "      <td>NaN</td>\n",
              "      <td>NaN</td>\n",
              "      <td>1.491643e+03</td>\n",
              "      <td>NaN</td>\n",
              "      <td>9.524678e+02</td>\n",
              "      <td>1.776876e+01</td>\n",
              "      <td>1.488386e+01</td>\n",
              "      <td>6.921783e-01</td>\n",
              "      <td>2.220761e-01</td>\n",
              "      <td>...</td>\n",
              "      <td>128.786529</td>\n",
              "      <td>2.393057e+04</td>\n",
              "      <td>3.689674e+03</td>\n",
              "      <td>4062.091474</td>\n",
              "      <td>3447.931632</td>\n",
              "      <td>3.246401e+00</td>\n",
              "      <td>3.246401e+00</td>\n",
              "      <td>2.704911e-01</td>\n",
              "      <td>4.324739e+02</td>\n",
              "      <td>1.677109e+03</td>\n",
              "    </tr>\n",
              "  </tbody>\n",
              "</table>\n",
              "<p>11 rows × 21 columns</p>\n",
              "</div>\n",
              "      <button class=\"colab-df-convert\" onclick=\"convertToInteractive('df-58c46356-8a05-4289-9125-59ff0e42ac51')\"\n",
              "              title=\"Convert this dataframe to an interactive table.\"\n",
              "              style=\"display:none;\">\n",
              "        \n",
              "  <svg xmlns=\"http://www.w3.org/2000/svg\" height=\"24px\"viewBox=\"0 0 24 24\"\n",
              "       width=\"24px\">\n",
              "    <path d=\"M0 0h24v24H0V0z\" fill=\"none\"/>\n",
              "    <path d=\"M18.56 5.44l.94 2.06.94-2.06 2.06-.94-2.06-.94-.94-2.06-.94 2.06-2.06.94zm-11 1L8.5 8.5l.94-2.06 2.06-.94-2.06-.94L8.5 2.5l-.94 2.06-2.06.94zm10 10l.94 2.06.94-2.06 2.06-.94-2.06-.94-.94-2.06-.94 2.06-2.06.94z\"/><path d=\"M17.41 7.96l-1.37-1.37c-.4-.4-.92-.59-1.43-.59-.52 0-1.04.2-1.43.59L10.3 9.45l-7.72 7.72c-.78.78-.78 2.05 0 2.83L4 21.41c.39.39.9.59 1.41.59.51 0 1.02-.2 1.41-.59l7.78-7.78 2.81-2.81c.8-.78.8-2.07 0-2.86zM5.41 20L4 18.59l7.72-7.72 1.47 1.35L5.41 20z\"/>\n",
              "  </svg>\n",
              "      </button>\n",
              "      \n",
              "  <style>\n",
              "    .colab-df-container {\n",
              "      display:flex;\n",
              "      flex-wrap:wrap;\n",
              "      gap: 12px;\n",
              "    }\n",
              "\n",
              "    .colab-df-convert {\n",
              "      background-color: #E8F0FE;\n",
              "      border: none;\n",
              "      border-radius: 50%;\n",
              "      cursor: pointer;\n",
              "      display: none;\n",
              "      fill: #1967D2;\n",
              "      height: 32px;\n",
              "      padding: 0 0 0 0;\n",
              "      width: 32px;\n",
              "    }\n",
              "\n",
              "    .colab-df-convert:hover {\n",
              "      background-color: #E2EBFA;\n",
              "      box-shadow: 0px 1px 2px rgba(60, 64, 67, 0.3), 0px 1px 3px 1px rgba(60, 64, 67, 0.15);\n",
              "      fill: #174EA6;\n",
              "    }\n",
              "\n",
              "    [theme=dark] .colab-df-convert {\n",
              "      background-color: #3B4455;\n",
              "      fill: #D2E3FC;\n",
              "    }\n",
              "\n",
              "    [theme=dark] .colab-df-convert:hover {\n",
              "      background-color: #434B5C;\n",
              "      box-shadow: 0px 1px 3px 1px rgba(0, 0, 0, 0.15);\n",
              "      filter: drop-shadow(0px 1px 2px rgba(0, 0, 0, 0.3));\n",
              "      fill: #FFFFFF;\n",
              "    }\n",
              "  </style>\n",
              "\n",
              "      <script>\n",
              "        const buttonEl =\n",
              "          document.querySelector('#df-58c46356-8a05-4289-9125-59ff0e42ac51 button.colab-df-convert');\n",
              "        buttonEl.style.display =\n",
              "          google.colab.kernel.accessAllowed ? 'block' : 'none';\n",
              "\n",
              "        async function convertToInteractive(key) {\n",
              "          const element = document.querySelector('#df-58c46356-8a05-4289-9125-59ff0e42ac51');\n",
              "          const dataTable =\n",
              "            await google.colab.kernel.invokeFunction('convertToInteractive',\n",
              "                                                     [key], {});\n",
              "          if (!dataTable) return;\n",
              "\n",
              "          const docLinkHtml = 'Like what you see? Visit the ' +\n",
              "            '<a target=\"_blank\" href=https://colab.research.google.com/notebooks/data_table.ipynb>data table notebook</a>'\n",
              "            + ' to learn more about interactive tables.';\n",
              "          element.innerHTML = '';\n",
              "          dataTable['output_type'] = 'display_data';\n",
              "          await google.colab.output.renderOutput(dataTable, element);\n",
              "          const docLink = document.createElement('div');\n",
              "          docLink.innerHTML = docLinkHtml;\n",
              "          element.appendChild(docLink);\n",
              "        }\n",
              "      </script>\n",
              "    </div>\n",
              "  </div>\n",
              "  "
            ]
          },
          "metadata": {},
          "execution_count": 139
        }
      ]
    },
    {
      "cell_type": "markdown",
      "source": [
        "### Aggregate Values"
      ],
      "metadata": {
        "id": "aJZBQ32hGqVK"
      }
    },
    {
      "cell_type": "code",
      "source": [
        "dfMergedMinTime = dfMerged.groupby(by=['Asin']).agg({'Recentness': 'max'}).reset_index()\n",
        "dfMergedMinTime = dfMergedMinTime.rename(columns={'Recentness': 'MaxRecentness'})"
      ],
      "metadata": {
        "id": "-QpYElCJ-Vp3"
      },
      "execution_count": 140,
      "outputs": []
    },
    {
      "cell_type": "code",
      "source": [
        "dfMerged = dfMerged.merge(dfMergedMinTime, how='left', on='Asin')\n",
        "dfMerged['MAXRecentness'] = dfMerged['Recentness'].max() + 1 \n",
        "# MAXRecentness is absolute max recentness of all asin, MaxRecentness is local max recentness of each asin\n",
        "dfMerged['ReverseRecentness'] = dfMerged['MAXRecentness'] - dfMerged['Recentness'] + 1\n",
        "dfMerged['RatingByRecentness'] = dfMerged['ReverseRecentness'] * dfMerged['Rating']\n",
        "dfMerged['SentimentByRecentness'] = dfMerged['ReverseRecentness'] * dfMerged['Sentiment']"
      ],
      "metadata": {
        "id": "JmcoPngzHeFH"
      },
      "execution_count": 143,
      "outputs": []
    },
    {
      "cell_type": "code",
      "source": [
        "dfAggr = dfMerged.groupby(['Asin'], as_index=False).agg({'Rating': 'mean', \n",
        "                                                         'ReviewerId': 'count', \n",
        "                                                         'IsVerified': [np.sum], \n",
        "                                                         'Vote': 'mean', \n",
        "                                                         'Sentiment': 'mean',\n",
        "                                                        #  'NumStyles': 'mean', \n",
        "                                                         'NumReviewImages': 'mean',\n",
        "                                                         'NumImages': 'min', \n",
        "                                                         'NumHighResImages': 'min',\n",
        "                                                         'NumDetails': 'min',\n",
        "                                                         'Price': 'min', \n",
        "                                                         'RankVideoGames': 'min',\n",
        "                                                         'RatingByRecentness': 'mean', \n",
        "                                                         'SentimentByRecentness': 'mean'})\n",
        "dfAggr.columns = ['_'.join(col).strip() for col in dfAggr.columns.values]\n",
        "\n",
        "dfAggr = dfAggr.rename(columns={'Asin_': 'Asin', 'Rating_mean': 'MeanRating', 'ReviewerId_count': 'NumReviews',\n",
        "                                'IsVerified_sum': 'NumVerifiedReviews', 'Vote_mean': 'MeanVote',\n",
        "                                'Sentiment_mean': 'MeanSentiment',\n",
        "                                # 'NumStyles_Mean': 'MeanNumStyles', \n",
        "                                'NumReviewImages_mean': 'MeanNumReviewImages',\n",
        "                                'NumImages_min': 'NumImages', 'NumHighResImages_min': 'NumHighResImages',\n",
        "                                'NumDetails_min': 'NumDetails', 'Price_min': 'Price', \n",
        "                                'RankVideoGames_min': 'RankVideoGames', \n",
        "                                'RatingByRecentness_mean': 'MeanRatingByRecentness',\n",
        "                                'SentimentByRecentness_mean': 'MeanSentimentByRecentness'})"
      ],
      "metadata": {
        "id": "d5rD7RegDJZY"
      },
      "execution_count": 146,
      "outputs": []
    },
    {
      "cell_type": "code",
      "source": [
        "dfAggr = dfAggr.astype({'MeanVote': np.float64, 'RankVideoGames': np.int64})"
      ],
      "metadata": {
        "id": "7NHqsBjWXTr3"
      },
      "execution_count": 162,
      "outputs": []
    },
    {
      "cell_type": "code",
      "source": [
        "dfAggr.info(show_counts=True)"
      ],
      "metadata": {
        "colab": {
          "base_uri": "https://localhost:8080/"
        },
        "id": "XAFnnmFM2lBP",
        "outputId": "7a934185-379c-43fb-922c-5bad1e68dd93"
      },
      "execution_count": 163,
      "outputs": [
        {
          "output_type": "stream",
          "name": "stdout",
          "text": [
            "<class 'pandas.core.frame.DataFrame'>\n",
            "RangeIndex: 39990 entries, 0 to 39989\n",
            "Data columns (total 15 columns):\n",
            " #   Column                     Non-Null Count  Dtype  \n",
            "---  ------                     --------------  -----  \n",
            " 0   Asin                       39990 non-null  object \n",
            " 1   MeanRating                 39990 non-null  float64\n",
            " 2   NumReviews                 39990 non-null  int64  \n",
            " 3   NumVerifiedReviews         39990 non-null  int64  \n",
            " 4   MeanVote                   39990 non-null  float64\n",
            " 5   MeanSentiment              39990 non-null  float64\n",
            " 6   MeanNumReviewImages        39990 non-null  float64\n",
            " 7   NumImages                  39990 non-null  uint8  \n",
            " 8   NumHighResImages           39990 non-null  uint8  \n",
            " 9   NumDetails                 39990 non-null  uint8  \n",
            " 10  Price                      6632 non-null   float64\n",
            " 11  RankVideoGames             39990 non-null  int64  \n",
            " 12  MeanRatingByRecentness     39990 non-null  float64\n",
            " 13  MeanSentimentByRecentness  39990 non-null  float64\n",
            " 14  VerifiedPercentage         39990 non-null  float64\n",
            "dtypes: float64(8), int64(3), object(1), uint8(3)\n",
            "memory usage: 3.8+ MB\n"
          ]
        }
      ]
    },
    {
      "cell_type": "markdown",
      "source": [
        "### Verified Purchases"
      ],
      "metadata": {
        "id": "p-ER0UNT-KeE"
      }
    },
    {
      "cell_type": "code",
      "source": [
        "dfAggr['VerifiedPercentage'] = dfAggr['NumVerifiedReviews'] / dfAggr['NumReviews']\n",
        "dfAggr.boxplot(column='VerifiedPercentage')"
      ],
      "metadata": {
        "colab": {
          "base_uri": "https://localhost:8080/",
          "height": 283
        },
        "id": "cBWlF1nnCCii",
        "outputId": "080c759b-8d6e-4b3a-daf9-f3618b3ea163"
      },
      "execution_count": 148,
      "outputs": [
        {
          "output_type": "execute_result",
          "data": {
            "text/plain": [
              "<matplotlib.axes._subplots.AxesSubplot at 0x7f963b3d8ed0>"
            ]
          },
          "metadata": {},
          "execution_count": 148
        },
        {
          "output_type": "display_data",
          "data": {
            "text/plain": [
              "<Figure size 432x288 with 1 Axes>"
            ],
            "image/png": "[encoded data removed]"
          },
          "metadata": {
            "needs_background": "light"
          }
        }
      ]
    },
    {
      "cell_type": "markdown",
      "source": [
        "### Mean Product Rating vs. Number of Reviews"
      ],
      "metadata": {
        "id": "2b7HeHqv0x21"
      }
    },
    {
      "cell_type": "code",
      "source": [
        "# get mean rating and total counts per asin per verified\n",
        "gcAsinVer = dfMerged.groupby(['Asin', 'IsVerified'], as_index=False).agg({'Rating': 'mean', 'ReviewerId': 'count'})\n",
        "gcAsinVer = gcAsinVer.rename(columns={'Rating': 'MeanRating', 'ReviewerId': 'NumReviews'})\n",
        "# gcAsinVer = gcAsinVer.sort_values(by=['NumReviews', 'asin', 'verified'], ascending=[False, True, True], ignore_index=True)"
      ],
      "metadata": {
        "id": "Iskz-yaoYc5b"
      },
      "execution_count": 149,
      "outputs": []
    },
    {
      "cell_type": "code",
      "source": [
        "# plot scatterplot of ratings vs. number of reviews per product for verified and unverified reviews respectively\n",
        "gcVerified = gcAsinVer.loc[gcAsinVer['IsVerified'] == True]\n",
        "gcUnverified = gcAsinVer.loc[gcAsinVer['IsVerified'] == False]\n",
        "\n",
        "plt.figure()\n",
        "plt.plot(gcVerified['NumReviews'], gcVerified['MeanRating'], '.', markersize=3, label='Verified')\n",
        "plt.plot(gcUnverified['NumReviews'], gcUnverified['MeanRating'], '.', markersize=3, label='Unverified')\n",
        "plt.title('Mean Product Rating vs. Number of Reviews')\n",
        "plt.xlabel('Number of Reviews')\n",
        "plt.ylabel('Mean Product Rating')\n",
        "plt.legend()\n",
        "plt.show()"
      ],
      "metadata": {
        "colab": {
          "base_uri": "https://localhost:8080/",
          "height": 295
        },
        "id": "-14N7qUhYiOg",
        "outputId": "cc26ee48-3417-45b0-f2e7-3d6d8b2d3364"
      },
      "execution_count": 150,
      "outputs": [
        {
          "output_type": "display_data",
          "data": {
            "text/plain": [
              "<Figure size 432x288 with 1 Axes>"
            ],
            "image/png": "[encoded data removed]"
          },
          "metadata": {
            "needs_background": "light"
          }
        }
      ]
    },
    {
      "cell_type": "markdown",
      "source": [
        "### Correlation & Multicollinearity"
      ],
      "metadata": {
        "id": "ooB5qtds2jGc"
      }
    },
    {
      "cell_type": "code",
      "source": [
        "dfAggrCorr = dfAggr.corr()\n",
        "dfAggrCorr = dfAggrCorr.abs()\n",
        "\n",
        "plt.figure(figsize=(14, 6))\n",
        "sns.heatmap(dfAggrCorr, annot=True)"
      ],
      "metadata": {
        "colab": {
          "base_uri": "https://localhost:8080/",
          "height": 535
        },
        "id": "JprJPT-U3m2P",
        "outputId": "34dca935-700c-4814-f8b5-ede1a9560cf4"
      },
      "execution_count": 164,
      "outputs": [
        {
          "output_type": "execute_result",
          "data": {
            "text/plain": [
              "<matplotlib.axes._subplots.AxesSubplot at 0x7f963bdbded0>"
            ]
          },
          "metadata": {},
          "execution_count": 164
        },
        {
          "output_type": "display_data",
          "data": {
            "text/plain": [
              "<Figure size 1008x432 with 2 Axes>"
            ],
            "image/png": "[encoded data removed]"
          },
          "metadata": {
            "needs_background": "light"
          }
        }
      ]
    },
    {
      "cell_type": "code",
      "source": [
        "# multicollinearity\n"
      ],
      "metadata": {
        "id": "VUXjqzk3-Ayt"
      },
      "execution_count": null,
      "outputs": []
    },
    {
      "cell_type": "markdown",
      "source": [
        "### Regression Model"
      ],
      "metadata": {
        "id": "iXU0h5ZMKSHy"
      }
    },
    {
      "cell_type": "code",
      "source": [
        "from statsmodels.formula.api import ols\n",
        "regResult = ols(formula=\"RankVideoGames ~ MeanRating + NumReviews + VerifiedPercentage + \\\n",
        "                          MeanVote + MeanRatingByRecentness + MeanSentimentByRecentness\",\n",
        "                data=dfAggr).fit() # homogeneous regression"
      ],
      "metadata": {
        "id": "u0ZZq8URW2qV"
      },
      "execution_count": 165,
      "outputs": []
    },
    {
      "cell_type": "code",
      "source": [
        "regResult.params"
      ],
      "metadata": {
        "colab": {
          "base_uri": "https://localhost:8080/"
        },
        "id": "7grX69NVMt8M",
        "outputId": "09c2ee04-2547-43f6-85e2-5cab69b3ffe3"
      },
      "execution_count": 166,
      "outputs": [
        {
          "output_type": "execute_result",
          "data": {
            "text/plain": [
              "Intercept                    111471.435271\n",
              "MeanRating                    -2865.819987\n",
              "NumReviews                      -92.214675\n",
              "VerifiedPercentage            -5677.823045\n",
              "MeanVote                      -2046.312098\n",
              "MeanRatingByRecentness           -1.146825\n",
              "MeanSentimentByRecentness         0.030298\n",
              "dtype: float64"
            ]
          },
          "metadata": {},
          "execution_count": 166
        }
      ]
    },
    {
      "cell_type": "code",
      "source": [
        "regResult.summary()#.as_latex()\n",
        "# for table in results.summary().tables:\n",
        "    # print(table.as_latex_tabular())"
      ],
      "metadata": {
        "colab": {
          "base_uri": "https://localhost:8080/",
          "height": 593
        },
        "id": "CRLFh7wPK1Cq",
        "outputId": "b8590fa7-4055-43a1-bbd0-5a0981097c5f"
      },
      "execution_count": 167,
      "outputs": [
        {
          "output_type": "execute_result",
          "data": {
            "text/plain": [
              "<class 'statsmodels.iolib.summary.Summary'>\n",
              "\"\"\"\n",
              "                            OLS Regression Results                            \n",
              "==============================================================================\n",
              "Dep. Variable:         RankVideoGames   R-squared:                       0.124\n",
              "Model:                            OLS   Adj. R-squared:                  0.124\n",
              "Method:                 Least Squares   F-statistic:                     944.1\n",
              "Date:                Tue, 22 Nov 2022   Prob (F-statistic):               0.00\n",
              "Time:                        22:05:40   Log-Likelihood:            -4.8655e+05\n",
              "No. Observations:               39990   AIC:                         9.731e+05\n",
              "Df Residuals:                   39983   BIC:                         9.732e+05\n",
              "Df Model:                           6                                         \n",
              "Covariance Type:            nonrobust                                         \n",
              "=============================================================================================\n",
              "                                coef    std err          t      P>|t|      [0.025      0.975]\n",
              "---------------------------------------------------------------------------------------------\n",
              "Intercept                  1.115e+05   1205.920     92.437      0.000    1.09e+05    1.14e+05\n",
              "MeanRating                -2865.8200    436.396     -6.567      0.000   -3721.166   -2010.474\n",
              "NumReviews                  -92.2147      1.767    -52.178      0.000     -95.679     -88.751\n",
              "VerifiedPercentage        -5677.8230    990.889     -5.730      0.000   -7619.988   -3735.658\n",
              "MeanVote                  -2046.3121    114.192    -17.920      0.000   -2270.131   -1822.493\n",
              "MeanRatingByRecentness       -1.1468      0.065    -17.735      0.000      -1.274      -1.020\n",
              "MeanSentimentByRecentness     0.0303      0.156      0.194      0.846      -0.276       0.337\n",
              "==============================================================================\n",
              "Omnibus:                     8624.116   Durbin-Watson:                   1.509\n",
              "Prob(Omnibus):                  0.000   Jarque-Bera (JB):            19184.085\n",
              "Skew:                           1.239   Prob(JB):                         0.00\n",
              "Kurtosis:                       5.317   Cond. No.                     1.41e+05\n",
              "==============================================================================\n",
              "\n",
              "Notes:\n",
              "[1] Standard Errors assume that the covariance matrix of the errors is correctly specified.\n",
              "[2] The condition number is large, 1.41e+05. This might indicate that there are\n",
              "strong multicollinearity or other numerical problems.\n",
              "\"\"\""
            ],
            "text/html": [
              "<table class=\"simpletable\">\n",
              "<caption>OLS Regression Results</caption>\n",
              "<tr>\n",
              "  <th>Dep. Variable:</th>     <td>RankVideoGames</td>  <th>  R-squared:         </th>  <td>   0.124</td>  \n",
              "</tr>\n",
              "<tr>\n",
              "  <th>Model:</th>                   <td>OLS</td>       <th>  Adj. R-squared:    </th>  <td>   0.124</td>  \n",
              "</tr>\n",
              "<tr>\n",
              "  <th>Method:</th>             <td>Least Squares</td>  <th>  F-statistic:       </th>  <td>   944.1</td>  \n",
              "</tr>\n",
              "<tr>\n",
              "  <th>Date:</th>             <td>Tue, 22 Nov 2022</td> <th>  Prob (F-statistic):</th>   <td>  0.00</td>   \n",
              "</tr>\n",
              "<tr>\n",
              "  <th>Time:</th>                 <td>22:05:40</td>     <th>  Log-Likelihood:    </th> <td>-4.8655e+05</td>\n",
              "</tr>\n",
              "<tr>\n",
              "  <th>No. Observations:</th>      <td> 39990</td>      <th>  AIC:               </th>  <td>9.731e+05</td> \n",
              "</tr>\n",
              "<tr>\n",
              "  <th>Df Residuals:</th>          <td> 39983</td>      <th>  BIC:               </th>  <td>9.732e+05</td> \n",
              "</tr>\n",
              "<tr>\n",
              "  <th>Df Model:</th>              <td>     6</td>      <th>                     </th>      <td> </td>     \n",
              "</tr>\n",
              "<tr>\n",
              "  <th>Covariance Type:</th>      <td>nonrobust</td>    <th>                     </th>      <td> </td>     \n",
              "</tr>\n",
              "</table>\n",
              "<table class=\"simpletable\">\n",
              "<tr>\n",
              "              <td></td>                 <th>coef</th>     <th>std err</th>      <th>t</th>      <th>P>|t|</th>  <th>[0.025</th>    <th>0.975]</th>  \n",
              "</tr>\n",
              "<tr>\n",
              "  <th>Intercept</th>                 <td> 1.115e+05</td> <td> 1205.920</td> <td>   92.437</td> <td> 0.000</td> <td> 1.09e+05</td> <td> 1.14e+05</td>\n",
              "</tr>\n",
              "<tr>\n",
              "  <th>MeanRating</th>                <td>-2865.8200</td> <td>  436.396</td> <td>   -6.567</td> <td> 0.000</td> <td>-3721.166</td> <td>-2010.474</td>\n",
              "</tr>\n",
              "<tr>\n",
              "  <th>NumReviews</th>                <td>  -92.2147</td> <td>    1.767</td> <td>  -52.178</td> <td> 0.000</td> <td>  -95.679</td> <td>  -88.751</td>\n",
              "</tr>\n",
              "<tr>\n",
              "  <th>VerifiedPercentage</th>        <td>-5677.8230</td> <td>  990.889</td> <td>   -5.730</td> <td> 0.000</td> <td>-7619.988</td> <td>-3735.658</td>\n",
              "</tr>\n",
              "<tr>\n",
              "  <th>MeanVote</th>                  <td>-2046.3121</td> <td>  114.192</td> <td>  -17.920</td> <td> 0.000</td> <td>-2270.131</td> <td>-1822.493</td>\n",
              "</tr>\n",
              "<tr>\n",
              "  <th>MeanRatingByRecentness</th>    <td>   -1.1468</td> <td>    0.065</td> <td>  -17.735</td> <td> 0.000</td> <td>   -1.274</td> <td>   -1.020</td>\n",
              "</tr>\n",
              "<tr>\n",
              "  <th>MeanSentimentByRecentness</th> <td>    0.0303</td> <td>    0.156</td> <td>    0.194</td> <td> 0.846</td> <td>   -0.276</td> <td>    0.337</td>\n",
              "</tr>\n",
              "</table>\n",
              "<table class=\"simpletable\">\n",
              "<tr>\n",
              "  <th>Omnibus:</th>       <td>8624.116</td> <th>  Durbin-Watson:     </th> <td>   1.509</td> \n",
              "</tr>\n",
              "<tr>\n",
              "  <th>Prob(Omnibus):</th>  <td> 0.000</td>  <th>  Jarque-Bera (JB):  </th> <td>19184.085</td>\n",
              "</tr>\n",
              "<tr>\n",
              "  <th>Skew:</th>           <td> 1.239</td>  <th>  Prob(JB):          </th> <td>    0.00</td> \n",
              "</tr>\n",
              "<tr>\n",
              "  <th>Kurtosis:</th>       <td> 5.317</td>  <th>  Cond. No.          </th> <td>1.41e+05</td> \n",
              "</tr>\n",
              "</table><br/><br/>Notes:<br/>[1] Standard Errors assume that the covariance matrix of the errors is correctly specified.<br/>[2] The condition number is large, 1.41e+05. This might indicate that there are<br/>strong multicollinearity or other numerical problems."
            ]
          },
          "metadata": {},
          "execution_count": 167
        }
      ]
    },
    {
      "cell_type": "code",
      "source": [
        "heterogeneityReg = sm.ols(formula=\"rankVideoGames ~ rating_mean + reviews_count + verified_percentage + \\\n",
        "                            vote_mean + recentRating_mean + recentCompound_mean + \\\n",
        "                            numImages + numHighResImages + numDetails\",\n",
        "                   data=dfAggr).fit() # heterogeneity test"
      ],
      "metadata": {
        "id": "chMmuhF6s3P3"
      },
      "execution_count": null,
      "outputs": []
    },
    {
      "cell_type": "code",
      "source": [
        "heterogeneityReg.params"
      ],
      "metadata": {
        "colab": {
          "base_uri": "https://localhost:8080/"
        },
        "id": "Z08SLrvHPWKv",
        "outputId": "74f5a539-ae26-45c7-8665-048dde0ae0a0"
      },
      "execution_count": null,
      "outputs": [
        {
          "output_type": "execute_result",
          "data": {
            "text/plain": [
              "Intercept              135990.543652\n",
              "rating_mean             -5388.343483\n",
              "reviews_count             -74.529485\n",
              "verified_percentage    -25457.210531\n",
              "vote_mean                -857.041681\n",
              "recentRating_mean        -529.170429\n",
              "recentCompound_mean      -285.912891\n",
              "numImages                7520.944452\n",
              "numHighResImages        -2579.023206\n",
              "numDetails              -1540.278291\n",
              "dtype: float64"
            ]
          },
          "metadata": {},
          "execution_count": 189
        }
      ]
    },
    {
      "cell_type": "code",
      "source": [
        "heterogeneityReg.summary()"
      ],
      "metadata": {
        "colab": {
          "base_uri": "https://localhost:8080/",
          "height": 622
        },
        "id": "WCJGGMCfPXtW",
        "outputId": "b70c770e-7a0f-44ee-cba9-8f4cfa99400e"
      },
      "execution_count": null,
      "outputs": [
        {
          "output_type": "execute_result",
          "data": {
            "text/plain": [
              "<class 'statsmodels.iolib.summary.Summary'>\n",
              "\"\"\"\n",
              "                            OLS Regression Results                            \n",
              "==============================================================================\n",
              "Dep. Variable:         rankVideoGames   R-squared:                       0.269\n",
              "Model:                            OLS   Adj. R-squared:                  0.269\n",
              "Method:                 Least Squares   F-statistic:                     1675.\n",
              "Date:                Mon, 31 Oct 2022   Prob (F-statistic):               0.00\n",
              "Time:                        04:13:30   Log-Likelihood:            -4.9453e+05\n",
              "No. Observations:               40941   AIC:                         9.891e+05\n",
              "Df Residuals:                   40931   BIC:                         9.892e+05\n",
              "Df Model:                           9                                         \n",
              "Covariance Type:            nonrobust                                         \n",
              "=======================================================================================\n",
              "                          coef    std err          t      P>|t|      [0.025      0.975]\n",
              "---------------------------------------------------------------------------------------\n",
              "Intercept             1.36e+05   1029.746    132.062      0.000    1.34e+05    1.38e+05\n",
              "rating_mean         -5388.3435    218.840    -24.622      0.000   -5817.274   -4959.413\n",
              "reviews_count         -74.5295      1.567    -47.561      0.000     -77.601     -71.458\n",
              "verified_percentage -2.546e+04    713.704    -35.669      0.000   -2.69e+04   -2.41e+04\n",
              "vote_mean            -857.0417     98.940     -8.662      0.000   -1050.967    -663.116\n",
              "recentRating_mean    -529.1704     10.604    -49.905      0.000    -549.954    -508.387\n",
              "recentCompound_mean  -285.9129     57.088     -5.008      0.000    -397.807    -174.019\n",
              "numImages            7520.9445   1426.677      5.272      0.000    4724.626    1.03e+04\n",
              "numHighResImages    -2579.0232     70.090    -36.796      0.000   -2716.402   -2441.644\n",
              "numDetails          -1540.2783   1004.405     -1.534      0.125   -3508.934     428.378\n",
              "==============================================================================\n",
              "Omnibus:                     5969.131   Durbin-Watson:                   1.529\n",
              "Prob(Omnibus):                  0.000   Jarque-Bera (JB):            10385.494\n",
              "Skew:                           0.962   Prob(JB):                         0.00\n",
              "Kurtosis:                       4.544   Cond. No.                         968.\n",
              "==============================================================================\n",
              "\n",
              "Notes:\n",
              "[1] Standard Errors assume that the covariance matrix of the errors is correctly specified.\n",
              "\"\"\""
            ],
            "text/html": [
              "<table class=\"simpletable\">\n",
              "<caption>OLS Regression Results</caption>\n",
              "<tr>\n",
              "  <th>Dep. Variable:</th>     <td>rankVideoGames</td>  <th>  R-squared:         </th>  <td>   0.269</td>  \n",
              "</tr>\n",
              "<tr>\n",
              "  <th>Model:</th>                   <td>OLS</td>       <th>  Adj. R-squared:    </th>  <td>   0.269</td>  \n",
              "</tr>\n",
              "<tr>\n",
              "  <th>Method:</th>             <td>Least Squares</td>  <th>  F-statistic:       </th>  <td>   1675.</td>  \n",
              "</tr>\n",
              "<tr>\n",
              "  <th>Date:</th>             <td>Mon, 31 Oct 2022</td> <th>  Prob (F-statistic):</th>   <td>  0.00</td>   \n",
              "</tr>\n",
              "<tr>\n",
              "  <th>Time:</th>                 <td>04:13:30</td>     <th>  Log-Likelihood:    </th> <td>-4.9453e+05</td>\n",
              "</tr>\n",
              "<tr>\n",
              "  <th>No. Observations:</th>      <td> 40941</td>      <th>  AIC:               </th>  <td>9.891e+05</td> \n",
              "</tr>\n",
              "<tr>\n",
              "  <th>Df Residuals:</th>          <td> 40931</td>      <th>  BIC:               </th>  <td>9.892e+05</td> \n",
              "</tr>\n",
              "<tr>\n",
              "  <th>Df Model:</th>              <td>     9</td>      <th>                     </th>      <td> </td>     \n",
              "</tr>\n",
              "<tr>\n",
              "  <th>Covariance Type:</th>      <td>nonrobust</td>    <th>                     </th>      <td> </td>     \n",
              "</tr>\n",
              "</table>\n",
              "<table class=\"simpletable\">\n",
              "<tr>\n",
              "           <td></td>              <th>coef</th>     <th>std err</th>      <th>t</th>      <th>P>|t|</th>  <th>[0.025</th>    <th>0.975]</th>  \n",
              "</tr>\n",
              "<tr>\n",
              "  <th>Intercept</th>           <td>  1.36e+05</td> <td> 1029.746</td> <td>  132.062</td> <td> 0.000</td> <td> 1.34e+05</td> <td> 1.38e+05</td>\n",
              "</tr>\n",
              "<tr>\n",
              "  <th>rating_mean</th>         <td>-5388.3435</td> <td>  218.840</td> <td>  -24.622</td> <td> 0.000</td> <td>-5817.274</td> <td>-4959.413</td>\n",
              "</tr>\n",
              "<tr>\n",
              "  <th>reviews_count</th>       <td>  -74.5295</td> <td>    1.567</td> <td>  -47.561</td> <td> 0.000</td> <td>  -77.601</td> <td>  -71.458</td>\n",
              "</tr>\n",
              "<tr>\n",
              "  <th>verified_percentage</th> <td>-2.546e+04</td> <td>  713.704</td> <td>  -35.669</td> <td> 0.000</td> <td>-2.69e+04</td> <td>-2.41e+04</td>\n",
              "</tr>\n",
              "<tr>\n",
              "  <th>vote_mean</th>           <td> -857.0417</td> <td>   98.940</td> <td>   -8.662</td> <td> 0.000</td> <td>-1050.967</td> <td> -663.116</td>\n",
              "</tr>\n",
              "<tr>\n",
              "  <th>recentRating_mean</th>   <td> -529.1704</td> <td>   10.604</td> <td>  -49.905</td> <td> 0.000</td> <td> -549.954</td> <td> -508.387</td>\n",
              "</tr>\n",
              "<tr>\n",
              "  <th>recentCompound_mean</th> <td> -285.9129</td> <td>   57.088</td> <td>   -5.008</td> <td> 0.000</td> <td> -397.807</td> <td> -174.019</td>\n",
              "</tr>\n",
              "<tr>\n",
              "  <th>numImages</th>           <td> 7520.9445</td> <td> 1426.677</td> <td>    5.272</td> <td> 0.000</td> <td> 4724.626</td> <td> 1.03e+04</td>\n",
              "</tr>\n",
              "<tr>\n",
              "  <th>numHighResImages</th>    <td>-2579.0232</td> <td>   70.090</td> <td>  -36.796</td> <td> 0.000</td> <td>-2716.402</td> <td>-2441.644</td>\n",
              "</tr>\n",
              "<tr>\n",
              "  <th>numDetails</th>          <td>-1540.2783</td> <td> 1004.405</td> <td>   -1.534</td> <td> 0.125</td> <td>-3508.934</td> <td>  428.378</td>\n",
              "</tr>\n",
              "</table>\n",
              "<table class=\"simpletable\">\n",
              "<tr>\n",
              "  <th>Omnibus:</th>       <td>5969.131</td> <th>  Durbin-Watson:     </th> <td>   1.529</td> \n",
              "</tr>\n",
              "<tr>\n",
              "  <th>Prob(Omnibus):</th>  <td> 0.000</td>  <th>  Jarque-Bera (JB):  </th> <td>10385.494</td>\n",
              "</tr>\n",
              "<tr>\n",
              "  <th>Skew:</th>           <td> 0.962</td>  <th>  Prob(JB):          </th> <td>    0.00</td> \n",
              "</tr>\n",
              "<tr>\n",
              "  <th>Kurtosis:</th>       <td> 4.544</td>  <th>  Cond. No.          </th> <td>    968.</td> \n",
              "</tr>\n",
              "</table><br/><br/>Notes:<br/>[1] Standard Errors assume that the covariance matrix of the errors is correctly specified."
            ]
          },
          "metadata": {},
          "execution_count": 190
        }
      ]
    }
  ]
}